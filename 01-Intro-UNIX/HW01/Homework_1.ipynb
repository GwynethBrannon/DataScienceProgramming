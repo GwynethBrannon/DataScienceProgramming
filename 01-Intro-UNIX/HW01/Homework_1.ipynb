{
 "cells": [
  {
   "cell_type": "markdown",
   "metadata": {},
   "source": [
    "# Homework 1"
   ]
  },
  {
   "cell_type": "markdown",
   "metadata": {},
   "source": [
    "## 1.1 Create directory for this assignment\n",
    "\n",
    "1. create a directory name `IFI8410F23` in your home directory\n",
    "2. create a sub-directory in `IFI8410F23` named `HW01` (you can also do this in one command). We refere to this directory as **\"assignment directory\"**.\n",
    "3. navigate to this directory, and make sure that your notebooks creates everything in this directory (`~/IFI8410F23/HW01`).\n"
   ]
  },
  {
   "cell_type": "code",
   "execution_count": 3,
   "metadata": {},
   "outputs": [
    {
     "name": "stdout",
     "output_type": "stream",
     "text": [
      "/home/pmolnar/IFI8410F23/HW01\n"
     ]
    }
   ],
   "source": [
    "%%sh\n",
    "# add your code here\n",
    "mkdir -p ~/IFI8410F23/HW01\n",
    "cd ~/IFI8410F23/HW01\n",
    "pwd"
   ]
  },
  {
   "cell_type": "markdown",
   "metadata": {},
   "source": [
    "### Test 1.1\n",
    "- the directory exists"
   ]
  },
  {
   "cell_type": "markdown",
   "metadata": {},
   "source": [
    "## 1.2 List all files in your home directory, including hidden files\n",
    "1. Apply the `ls` command with the apprpriate option to show *hidden files* on your home directory\n",
    "2. Direct the output to a file named `output_1_2.txt` in your assignment directory "
   ]
  },
  {
   "cell_type": "code",
   "execution_count": 10,
   "metadata": {},
   "outputs": [
    {
     "name": "stdout",
     "output_type": "stream",
     "text": [
      "/home/pmolnar/GITHUB/DataScienceProgramming/01-Intro-UNIX/HW01\n"
     ]
    }
   ],
   "source": [
    "%%sh\n",
    "pwd\n",
    "ls -a ~ > output_1_2.txt"
   ]
  },
  {
   "cell_type": "markdown",
   "metadata": {},
   "source": [
    "### Test 1.2\n",
    "- checking content of the output file"
   ]
  },
  {
   "cell_type": "markdown",
   "metadata": {},
   "source": [
    "## 1.3 List the files and subdirectories in the `/data/IFI8410/` directory\n",
    "1. Use the *recursive* option and the *long* option of the `ls` command to list all the files in the `/data/IFI8410/` folder. You don't need to include hidden files.\n",
    "2. Most of the data for this class will be in this directory. You have only read access to these files.\n",
    "3. Direct the output to a file named output_1_3.txt in your assignment directory"
   ]
  },
  {
   "cell_type": "code",
   "execution_count": 12,
   "metadata": {},
   "outputs": [
    {
     "name": "stdout",
     "output_type": "stream",
     "text": [
      "/data/IFI8410/:\n",
      "total 0\n",
      "drwxr-xr-x. 3 pmolnar pmolnar 77 Aug 23 11:11 sess01\n",
      "\n",
      "/data/IFI8410/sess01:\n",
      "total 20\n",
      "-rw-r--r--. 1 pmolnar pmolnar 18531 Aug 23 10:46 legalnotice.txt\n",
      "drwxr-xr-x. 2 pmolnar pmolnar   148 Jul  5  2016 sentiment_labelled_sentences\n",
      "\n",
      "/data/IFI8410/sess01/sentiment_labelled_sentences:\n",
      "total 208\n",
      "-rw-r--r--. 1 pmolnar pmolnar 58226 Jul  5  2016 amazon_cells_labelled.txt\n",
      "-rw-r--r--. 1 pmolnar pmolnar 85285 Feb 14  2015 imdb_labelled.txt\n",
      "-rw-r--r--. 1 pmolnar pmolnar  1070 May 30  2015 readme.txt\n",
      "-rw-r--r--. 1 pmolnar pmolnar 61320 Jul  5  2016 yelp_labelled.txt\n"
     ]
    }
   ],
   "source": [
    "%%sh\n",
    "ls -lR /data/IFI8410/"
   ]
  },
  {
   "cell_type": "markdown",
   "metadata": {},
   "source": [
    "### Test 1.3\n",
    "- checking content of the output file"
   ]
  },
  {
   "cell_type": "markdown",
   "metadata": {},
   "source": [
    "## 1.4 List the data files with for sentiment analysis in the **data directory**\n",
    "1. There are three text files with labeled sentences for sentiment analysis in the data directory `/data/IFI8410`.\n",
    "2. Find where they are and list those files with their full path, date and file size in **human friendly** form.\n",
    "3. You can use the `-l` option for long format. (Hint: another option is required for human friendly output)\n",
    "4. Only list those three files. Don't include the 'read-me' file.\n",
    "5. Direct the output to a file named `output_1_4.txt` in your assignment directory\n"
   ]
  },
  {
   "cell_type": "code",
   "execution_count": 18,
   "metadata": {},
   "outputs": [
    {
     "name": "stdout",
     "output_type": "stream",
     "text": [
      "-rw-r--r--. 1 pmolnar pmolnar 57K Jul  5  2016 /data/IFI8410/sess01/sentiment_labelled_sentences/amazon_cells_labelled.txt\n",
      "-rw-r--r--. 1 pmolnar pmolnar 84K Feb 14  2015 /data/IFI8410/sess01/sentiment_labelled_sentences/imdb_labelled.txt\n",
      "-rw-r--r--. 1 pmolnar pmolnar 60K Jul  5  2016 /data/IFI8410/sess01/sentiment_labelled_sentences/yelp_labelled.txt\n"
     ]
    }
   ],
   "source": [
    "%%sh\n",
    "ls -lh /data/IFI8410/sess01/sentiment_labelled_sentences/*labelled.txt"
   ]
  },
  {
   "cell_type": "markdown",
   "metadata": {},
   "source": [
    "### Test 1.4\n",
    "- checking content of the output file `output_1_4.txt`."
   ]
  },
  {
   "cell_type": "markdown",
   "metadata": {},
   "source": [
    "## 1.5 List the first 20 lines of the data file \n",
    "1. List the first 20 lines of the data file `/data/IFI8410/sess01/sentiment_labelled_sentences/amazon_cells_labelled.txt`\n",
    "2. Direct the output to a file named `output_1_5.txt` in your assignment directory"
   ]
  },
  {
   "cell_type": "code",
   "execution_count": 5,
   "metadata": {},
   "outputs": [
    {
     "name": "stdout",
     "output_type": "stream",
     "text": [
      "So there is no way for me to plug it in here in the US unless I go by a converter.\t0\n",
      "Good case, Excellent value.\t1\n",
      "Great for the jawbone.\t1\n",
      "Tied to charger for conversations lasting more than 45 minutes.MAJOR PROBLEMS!!\t0\n",
      "The mic is great.\t1\n",
      "I have to jiggle the plug to get it to line up right to get decent volume.\t0\n",
      "If you have several dozen or several hundred contacts, then imagine the fun of sending each of them one by one.\t0\n",
      "If you are Razr owner...you must have this!\t1\n",
      "Needless to say, I wasted my money.\t0\n",
      "What a waste of money and time!.\t0\n",
      "And the sound quality is great.\t1\n",
      "He was very impressed when going from the original battery to the extended battery.\t1\n",
      "If the two were seperated by a mere 5+ ft I started to notice excessive static and garbled sound from the headset.\t0\n",
      "Very good quality though\t1\n",
      "The design is very odd, as the ear \"clip\" is not very comfortable at all.\t0\n",
      "Highly recommend for any one who has a blue tooth phone.\t1\n",
      "I advise EVERYONE DO NOT BE FOOLED!\t0\n",
      "So Far So Good!.\t1\n",
      "Works great!.\t1\n",
      "It clicks into place in a way that makes you wonder how long that mechanism would last.\t0\n"
     ]
    }
   ],
   "source": [
    "%%sh\n",
    "head -20 /data/IFI8410/sess01/sentiment_labelled_sentences/amazon_cells_labelled.txt"
   ]
  },
  {
   "cell_type": "markdown",
   "metadata": {},
   "source": [
    "### Test 1.5\n",
    "- Checking content of `output_1_5.txt`"
   ]
  },
  {
   "cell_type": "markdown",
   "metadata": {},
   "source": [
    "## 1.6 List the last 20 lines of the data file\n",
    "1. List the last 20 lines of the data file `/data/IFI8410/sess01/sentiment_labelled_sentences/amazon_cells_labelled.txt`\n",
    "2. Direct the output to a file named `output_1_6.txt` in your assignment directory"
   ]
  },
  {
   "cell_type": "code",
   "execution_count": 16,
   "metadata": {},
   "outputs": [
    {
     "name": "stdout",
     "output_type": "stream",
     "text": [
      "Echo Problem....Very unsatisfactory\t0\n",
      "you could only take 2 videos at a time and the quality was very poor.\t0\n",
      "don't waste your money.\t0\n",
      "I am going to have to be the first to negatively review this product.\t0\n",
      "Adapter does not provide enough charging current.\t0\n",
      "There was so much hype over this phone that I assumed it was the best, my mistake.\t0\n",
      "You also cannot take pictures with it in the case because the lense is covered.\t0\n",
      "Phone falls out easily.\t0\n",
      "It didn't work, people can not hear me when I talk.\t0\n",
      "The text messaging feature is really tricky to use.\t0\n",
      "I'm really disappointed all I have now is a charger that doesn't work.\t0\n",
      "Painful on the ear.\t0\n",
      "Lasted one day and then blew up.\t0\n",
      "disappointed.\t0\n",
      "Kind of flops around.\t0\n",
      "The screen does get smudged easily because it touches your ear and face.\t0\n",
      "What a piece of junk.. I lose more calls on this phone.\t0\n",
      "Item Does Not Match Picture.\t0\n",
      "The only thing that disappoint me is the infra red port (irda).\t0\n",
      "You can not answer calls with the unit, never worked once!\t0\n"
     ]
    }
   ],
   "source": [
    "%%sh\n",
    "tail -20 /data/IFI8410/sess01/sentiment_labelled_sentences/amazon_cells_labelled.txt"
   ]
  },
  {
   "cell_type": "markdown",
   "metadata": {},
   "source": [
    "### Test 1.6\n",
    "- Checking content of `output_1_6.txt`"
   ]
  },
  {
   "cell_type": "markdown",
   "metadata": {},
   "source": [
    "## 1.7 Count lines, words, and characters of each of the three sentiment data files\n",
    "\n",
    "1. Instructions\n",
    "2. Direct the output to a file named `output_1_7.txt` in your assignment directory\n",
    "\n",
    "(Hint: you may have to execute multiple commands; use the *append* operator to add the output to an existing file.)"
   ]
  },
  {
   "cell_type": "code",
   "execution_count": 8,
   "metadata": {},
   "outputs": [
    {
     "name": "stdout",
     "output_type": "stream",
     "text": [
      " 1000 11246 58226 /data/IFI8410/sess01/sentiment_labelled_sentences/amazon_cells_labelled.txt\n",
      " 1000 15349 85285 /data/IFI8410/sess01/sentiment_labelled_sentences/imdb_labelled.txt\n",
      " 1000 11894 61320 /data/IFI8410/sess01/sentiment_labelled_sentences/yelp_labelled.txt\n"
     ]
    }
   ],
   "source": [
    "%%sh\n",
    "cat /dev/null > output_1_7.txt\n",
    "wc /data/IFI8410/sess01/sentiment_labelled_sentences/amazon_cells_labelled.txt >> output_1_7.txt\n",
    "wc /data/IFI8410/sess01/sentiment_labelled_sentences/imdb_labelled.txt >> output_1_7.txt\n",
    "wc /data/IFI8410/sess01/sentiment_labelled_sentences/yelp_labelled.txt >> output_1_7.txt\n",
    "cat output_1_7.txt"
   ]
  },
  {
   "cell_type": "markdown",
   "metadata": {},
   "source": [
    "### Test 1.7\n",
    "- Checking content of `output_1_7.txt`"
   ]
  },
  {
   "cell_type": "markdown",
   "metadata": {},
   "source": [
    "## 1.8 Create a combined file for to analyze sentiment data\n",
    "1. Combine the three data file (Amazon, IDMB, Yelp) into a single stream, and\n",
    "2. Replace the TAB chacter `\\t` with the \"Pipe\" character '|'. (Data tables may use different characters to separate values with a row. \n",
    "   The \"Pipe\" symbol is a popular alternative to the comma ','. Files that use the pipe symbol often use the file extension `.psv`, pipe-seperated values.) \n",
    "2. Direct the output to a file named `combined_sentiment_data.psv` in your assignment directory"
   ]
  },
  {
   "cell_type": "code",
   "execution_count": 15,
   "metadata": {},
   "outputs": [],
   "source": [
    "%%sh\n",
    "cat /data/IFI8410/sess01/sentiment_labelled_sentences/*_labelled.txt | tr '\\t' '|' > combined_sentiment_data.psv"
   ]
  },
  {
   "cell_type": "markdown",
   "metadata": {},
   "source": [
    "### Test 1.8- Checking content of `output_1_8.txt`"
   ]
  },
  {
   "cell_type": "markdown",
   "metadata": {},
   "source": [
    "## 1.91. Instructions2. Direct the output to a file named `output_1_9.txt` in your assignment directory"
   ]
  },
  {
   "cell_type": "code",
   "execution_count": null,
   "metadata": {},
   "outputs": [],
   "source": [
    "%%sh"
   ]
  },
  {
   "cell_type": "markdown",
   "metadata": {},
   "source": [
    "### Test 1.9- Checking content of `output_1_9.txt`"
   ]
  },
  {
   "cell_type": "markdown",
   "metadata": {},
   "source": [
    "## 1.101. Instructions2. Direct the output to a file named `output_1_10.txt` in your assignment directory"
   ]
  },
  {
   "cell_type": "code",
   "execution_count": null,
   "metadata": {},
   "outputs": [],
   "source": [
    "%%sh"
   ]
  },
  {
   "cell_type": "markdown",
   "metadata": {},
   "source": [
    "### Test 1.10- Checking content of `output_1_10.txt`"
   ]
  },
  {
   "cell_type": "markdown",
   "metadata": {},
   "source": [
    "## 1.111. Instructions2. Direct the output to a file named `output_1_11.txt` in your assignment directory"
   ]
  },
  {
   "cell_type": "code",
   "execution_count": null,
   "metadata": {},
   "outputs": [],
   "source": [
    "%%sh"
   ]
  },
  {
   "cell_type": "markdown",
   "metadata": {},
   "source": [
    "### Test 1.11- Checking content of `output_1_11.txt`"
   ]
  },
  {
   "cell_type": "markdown",
   "metadata": {},
   "source": [
    "## 1.121. Instructions2. Direct the output to a file named `output_1_12.txt` in your assignment directory"
   ]
  },
  {
   "cell_type": "code",
   "execution_count": null,
   "metadata": {},
   "outputs": [],
   "source": [
    "%%sh"
   ]
  },
  {
   "cell_type": "markdown",
   "metadata": {},
   "source": [
    "### Test 1.12- Checking content of `output_1_12.txt`"
   ]
  },
  {
   "cell_type": "markdown",
   "metadata": {},
   "source": [
    "## 1.131. Instructions2. Direct the output to a file named `output_1_13.txt` in your assignment directory"
   ]
  },
  {
   "cell_type": "code",
   "execution_count": null,
   "metadata": {},
   "outputs": [],
   "source": [
    "%%sh"
   ]
  },
  {
   "cell_type": "markdown",
   "metadata": {},
   "source": [
    "### Test 1.13- Checking content of `output_1_13.txt`"
   ]
  },
  {
   "cell_type": "markdown",
   "metadata": {},
   "source": [
    "## 1.141. Instructions2. Direct the output to a file named `output_1_14.txt` in your assignment directory"
   ]
  },
  {
   "cell_type": "code",
   "execution_count": null,
   "metadata": {},
   "outputs": [],
   "source": [
    "%%sh"
   ]
  },
  {
   "cell_type": "markdown",
   "metadata": {},
   "source": [
    "### Test 1.14- Checking content of `output_1_14.txt`"
   ]
  },
  {
   "cell_type": "markdown",
   "metadata": {},
   "source": [
    "## 1.151. Instructions2. Direct the output to a file named `output_1_15.txt` in your assignment directory"
   ]
  },
  {
   "cell_type": "code",
   "execution_count": null,
   "metadata": {},
   "outputs": [],
   "source": [
    "%%sh"
   ]
  },
  {
   "cell_type": "markdown",
   "metadata": {},
   "source": [
    "### Test 1.15- Checking content of `output_1_15.txt`"
   ]
  },
  {
   "cell_type": "markdown",
   "metadata": {},
   "source": [
    "## 1.161. Instructions2. Direct the output to a file named `output_1_16.txt` in your assignment directory"
   ]
  },
  {
   "cell_type": "code",
   "execution_count": null,
   "metadata": {},
   "outputs": [],
   "source": [
    "%%sh"
   ]
  },
  {
   "cell_type": "markdown",
   "metadata": {},
   "source": [
    "### Test 1.16- Checking content of `output_1_16.txt`"
   ]
  },
  {
   "cell_type": "markdown",
   "metadata": {},
   "source": [
    "## 1.171. Instructions2. Direct the output to a file named `output_1_17.txt` in your assignment directory"
   ]
  },
  {
   "cell_type": "code",
   "execution_count": null,
   "metadata": {},
   "outputs": [],
   "source": [
    "%%sh"
   ]
  },
  {
   "cell_type": "markdown",
   "metadata": {},
   "source": [
    "### Test 1.17- Checking content of `output_1_17.txt`"
   ]
  },
  {
   "cell_type": "markdown",
   "metadata": {},
   "source": [
    "## 1.181. Instructions2. Direct the output to a file named `output_1_18.txt` in your assignment directory"
   ]
  },
  {
   "cell_type": "code",
   "execution_count": null,
   "metadata": {},
   "outputs": [],
   "source": [
    "%%sh"
   ]
  },
  {
   "cell_type": "markdown",
   "metadata": {},
   "source": [
    "### Test 1.18- Checking content of `output_1_18.txt`"
   ]
  },
  {
   "cell_type": "markdown",
   "metadata": {},
   "source": [
    "## 1.191. Instructions2. Direct the output to a file named `output_1_19.txt` in your assignment directory"
   ]
  },
  {
   "cell_type": "code",
   "execution_count": null,
   "metadata": {},
   "outputs": [],
   "source": [
    "%%sh"
   ]
  },
  {
   "cell_type": "markdown",
   "metadata": {},
   "source": [
    "### Test 1.19- Checking content of `output_1_19.txt`"
   ]
  },
  {
   "cell_type": "markdown",
   "metadata": {},
   "source": [
    "## 1.201. Instructions2. Direct the output to a file named `output_1_20.txt` in your assignment directory"
   ]
  },
  {
   "cell_type": "code",
   "execution_count": null,
   "metadata": {},
   "outputs": [],
   "source": [
    "%%sh"
   ]
  },
  {
   "cell_type": "markdown",
   "metadata": {},
   "source": [
    "### Test 1.20- Checking content of `output_1_20.txt`"
   ]
  },
  {
   "cell_type": "markdown",
   "metadata": {},
   "source": [
    "## 1.211. Instructions2. Direct the output to a file named `output_1_21.txt` in your assignment directory"
   ]
  },
  {
   "cell_type": "code",
   "execution_count": null,
   "metadata": {},
   "outputs": [],
   "source": [
    "%%sh"
   ]
  },
  {
   "cell_type": "markdown",
   "metadata": {},
   "source": [
    "### Test 1.21- Checking content of `output_1_21.txt`"
   ]
  },
  {
   "cell_type": "markdown",
   "metadata": {},
   "source": [
    "## 1.221. Instructions2. Direct the output to a file named `output_1_22.txt` in your assignment directory"
   ]
  },
  {
   "cell_type": "code",
   "execution_count": null,
   "metadata": {},
   "outputs": [],
   "source": [
    "%%sh"
   ]
  },
  {
   "cell_type": "markdown",
   "metadata": {},
   "source": [
    "### Test 1.22- Checking content of `output_1_22.txt`"
   ]
  },
  {
   "cell_type": "markdown",
   "metadata": {},
   "source": [
    "## 1.231. Instructions2. Direct the output to a file named `output_1_23.txt` in your assignment directory"
   ]
  },
  {
   "cell_type": "code",
   "execution_count": null,
   "metadata": {},
   "outputs": [],
   "source": [
    "%%sh"
   ]
  },
  {
   "cell_type": "markdown",
   "metadata": {},
   "source": [
    "### Test 1.23- Checking content of `output_1_23.txt`"
   ]
  },
  {
   "cell_type": "markdown",
   "metadata": {},
   "source": [
    "## 1.241. Instructions2. Direct the output to a file named `output_1_24.txt` in your assignment directory"
   ]
  },
  {
   "cell_type": "code",
   "execution_count": null,
   "metadata": {},
   "outputs": [],
   "source": [
    "%%sh"
   ]
  },
  {
   "cell_type": "markdown",
   "metadata": {},
   "source": [
    "### Test 1.24- Checking content of `output_1_24.txt`"
   ]
  },
  {
   "cell_type": "markdown",
   "metadata": {},
   "source": [
    "## 1.251. Instructions2. Direct the output to a file named `output_1_25.txt` in your assignment directory"
   ]
  },
  {
   "cell_type": "code",
   "execution_count": null,
   "metadata": {},
   "outputs": [],
   "source": [
    "%%sh"
   ]
  },
  {
   "cell_type": "markdown",
   "metadata": {},
   "source": [
    "### Test 1.25- Checking content of `output_1_25.txt`"
   ]
  },
  {
   "cell_type": "code",
   "execution_count": null,
   "metadata": {},
   "outputs": [],
   "source": []
  },
  {
   "cell_type": "code",
   "execution_count": null,
   "metadata": {},
   "outputs": [],
   "source": []
  }
 ],
 "metadata": {
  "kernelspec": {
   "display_name": "Python 3",
   "language": "python",
   "name": "python3"
  },
  "language_info": {
   "codemirror_mode": {
    "name": "ipython",
    "version": 3
   },
   "file_extension": ".py",
   "mimetype": "text/x-python",
   "name": "python",
   "nbconvert_exporter": "python",
   "pygments_lexer": "ipython3",
   "version": "3.8.6"
  }
 },
 "nbformat": 4,
 "nbformat_minor": 4
}
