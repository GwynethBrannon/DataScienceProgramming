{
 "cells": [
  {
   "cell_type": "markdown",
   "metadata": {},
   "source": [
    "# Atlanta Police Department ![APD Logo](https://atlantapd.galls.com/photos/partners/atlantapd/logo.jpg)\n",
    "\n",
    "\n",
    "The Atlanta Police Department provides Part 1 crime data at http://www.atlantapd.org/crimedatadownloads.aspx\n",
    "\n",
    "A recent copy of the data file is stored in the cluster. <span style=\"color: red; font-weight: bold;\">Please, do not copy this data file into your home directory!</span>"
   ]
  },
  {
   "cell_type": "code",
   "execution_count": 94,
   "metadata": {
    "collapsed": true
   },
   "outputs": [],
   "source": [
    "### Load libraries\n",
    "import numpy as np\n",
    "import pandas as pd\n",
    "import matplotlib.pyplot as plt"
   ]
  },
  {
   "cell_type": "markdown",
   "metadata": {},
   "source": [
    "Load data (don't change this if you're running the notebook on the cluster)\n",
    "\n",
    "We have two files\n",
    "- `/home/data/APD/COBRA083016_2015.xlsx` for 2015\n",
    "- `/home/data/APD/COBRA083016.xlsx` from 2009 to current date"
   ]
  },
  {
   "cell_type": "code",
   "execution_count": 36,
   "metadata": {
    "collapsed": false
   },
   "outputs": [
    {
     "name": "stdout",
     "output_type": "stream",
     "text": [
      "CPU times: user 6.89 s, sys: 28.7 ms, total: 6.92 s\n",
      "Wall time: 6.92 s\n"
     ]
    }
   ],
   "source": [
    "%%time\n",
    "df = pd.read_excel('/home/data/APD/COBRA083016_2015.xlsx', sheetname='Query')"
   ]
  },
  {
   "cell_type": "code",
   "execution_count": 26,
   "metadata": {
    "collapsed": false
   },
   "outputs": [
    {
     "data": {
      "text/plain": [
       "Index(['MI_PRINX', 'offense_id', 'rpt_date', 'occur_date', 'occur_time',\n",
       "       'poss_date', 'poss_time', 'beat', 'apt_office_prefix', 'apt_office_num',\n",
       "       'location', 'MinOfucr', 'MinOfibr_code', 'dispo_code',\n",
       "       'MaxOfnum_victims', 'Shift', 'Avg Day', 'loc_type', 'UC2 Literal',\n",
       "       'neighborhood', 'npu', 'x', 'y'],\n",
       "      dtype='object')"
      ]
     },
     "execution_count": 26,
     "metadata": {},
     "output_type": "execute_result"
    }
   ],
   "source": [
    "df.columns"
   ]
  },
  {
   "cell_type": "code",
   "execution_count": 27,
   "metadata": {
    "collapsed": false
   },
   "outputs": [
    {
     "name": "stderr",
     "output_type": "stream",
     "text": [
      "/usr/lib64/python3.4/site-packages/numpy/lib/function_base.py:3834: RuntimeWarning: Invalid value encountered in percentile\n",
      "  RuntimeWarning)\n"
     ]
    },
    {
     "data": {
      "text/html": [
       "<div>\n",
       "<table border=\"1\" class=\"dataframe\">\n",
       "  <thead>\n",
       "    <tr style=\"text-align: right;\">\n",
       "      <th></th>\n",
       "      <th>MI_PRINX</th>\n",
       "      <th>offense_id</th>\n",
       "      <th>beat</th>\n",
       "      <th>MinOfucr</th>\n",
       "      <th>MaxOfnum_victims</th>\n",
       "      <th>loc_type</th>\n",
       "      <th>x</th>\n",
       "      <th>y</th>\n",
       "    </tr>\n",
       "  </thead>\n",
       "  <tbody>\n",
       "    <tr>\n",
       "      <th>count</th>\n",
       "      <td>3.001100e+04</td>\n",
       "      <td>3.001100e+04</td>\n",
       "      <td>30011.000000</td>\n",
       "      <td>30011.000000</td>\n",
       "      <td>30011.000000</td>\n",
       "      <td>26903.000000</td>\n",
       "      <td>30011.000000</td>\n",
       "      <td>30011.000000</td>\n",
       "    </tr>\n",
       "    <tr>\n",
       "      <th>mean</th>\n",
       "      <td>4.361347e+06</td>\n",
       "      <td>1.518675e+08</td>\n",
       "      <td>359.417813</td>\n",
       "      <td>594.219886</td>\n",
       "      <td>1.194695</td>\n",
       "      <td>21.109356</td>\n",
       "      <td>-84.408346</td>\n",
       "      <td>33.756058</td>\n",
       "    </tr>\n",
       "    <tr>\n",
       "      <th>std</th>\n",
       "      <td>1.931052e+04</td>\n",
       "      <td>1.029128e+06</td>\n",
       "      <td>169.563281</td>\n",
       "      <td>114.321851</td>\n",
       "      <td>0.799062</td>\n",
       "      <td>16.579831</td>\n",
       "      <td>0.046894</td>\n",
       "      <td>0.045981</td>\n",
       "    </tr>\n",
       "    <tr>\n",
       "      <th>min</th>\n",
       "      <td>1.371687e+06</td>\n",
       "      <td>1.500101e+08</td>\n",
       "      <td>101.000000</td>\n",
       "      <td>210.000000</td>\n",
       "      <td>0.000000</td>\n",
       "      <td>1.000000</td>\n",
       "      <td>-84.546070</td>\n",
       "      <td>33.637450</td>\n",
       "    </tr>\n",
       "    <tr>\n",
       "      <th>25%</th>\n",
       "      <td>4.353944e+06</td>\n",
       "      <td>1.510128e+08</td>\n",
       "      <td>208.000000</td>\n",
       "      <td>512.000000</td>\n",
       "      <td>1.000000</td>\n",
       "      <td>NaN</td>\n",
       "      <td>-84.432445</td>\n",
       "      <td>33.729060</td>\n",
       "    </tr>\n",
       "    <tr>\n",
       "      <th>50%</th>\n",
       "      <td>4.361446e+06</td>\n",
       "      <td>1.518913e+08</td>\n",
       "      <td>401.000000</td>\n",
       "      <td>640.000000</td>\n",
       "      <td>1.000000</td>\n",
       "      <td>NaN</td>\n",
       "      <td>-84.398210</td>\n",
       "      <td>33.756000</td>\n",
       "    </tr>\n",
       "    <tr>\n",
       "      <th>75%</th>\n",
       "      <td>4.368948e+06</td>\n",
       "      <td>1.527329e+08</td>\n",
       "      <td>505.000000</td>\n",
       "      <td>670.000000</td>\n",
       "      <td>1.000000</td>\n",
       "      <td>NaN</td>\n",
       "      <td>-84.374420</td>\n",
       "      <td>33.781470</td>\n",
       "    </tr>\n",
       "    <tr>\n",
       "      <th>max</th>\n",
       "      <td>4.376451e+06</td>\n",
       "      <td>1.536580e+08</td>\n",
       "      <td>709.000000</td>\n",
       "      <td>730.000000</td>\n",
       "      <td>44.000000</td>\n",
       "      <td>99.000000</td>\n",
       "      <td>-84.290480</td>\n",
       "      <td>33.883250</td>\n",
       "    </tr>\n",
       "  </tbody>\n",
       "</table>\n",
       "</div>"
      ],
      "text/plain": [
       "           MI_PRINX    offense_id          beat      MinOfucr  \\\n",
       "count  3.001100e+04  3.001100e+04  30011.000000  30011.000000   \n",
       "mean   4.361347e+06  1.518675e+08    359.417813    594.219886   \n",
       "std    1.931052e+04  1.029128e+06    169.563281    114.321851   \n",
       "min    1.371687e+06  1.500101e+08    101.000000    210.000000   \n",
       "25%    4.353944e+06  1.510128e+08    208.000000    512.000000   \n",
       "50%    4.361446e+06  1.518913e+08    401.000000    640.000000   \n",
       "75%    4.368948e+06  1.527329e+08    505.000000    670.000000   \n",
       "max    4.376451e+06  1.536580e+08    709.000000    730.000000   \n",
       "\n",
       "       MaxOfnum_victims      loc_type             x             y  \n",
       "count      30011.000000  26903.000000  30011.000000  30011.000000  \n",
       "mean           1.194695     21.109356    -84.408346     33.756058  \n",
       "std            0.799062     16.579831      0.046894      0.045981  \n",
       "min            0.000000      1.000000    -84.546070     33.637450  \n",
       "25%            1.000000           NaN    -84.432445     33.729060  \n",
       "50%            1.000000           NaN    -84.398210     33.756000  \n",
       "75%            1.000000           NaN    -84.374420     33.781470  \n",
       "max           44.000000     99.000000    -84.290480     33.883250  "
      ]
     },
     "execution_count": 27,
     "metadata": {},
     "output_type": "execute_result"
    }
   ],
   "source": [
    "df.describe()"
   ]
  },
  {
   "cell_type": "code",
   "execution_count": 38,
   "metadata": {
    "collapsed": false
   },
   "outputs": [
    {
     "data": {
      "text/plain": [
       "(150010052, 153658045)"
      ]
     },
     "execution_count": 38,
     "metadata": {},
     "output_type": "execute_result"
    }
   ],
   "source": [
    "df.offense_id.min(), df.offense_id.max()"
   ]
  },
  {
   "cell_type": "code",
   "execution_count": 77,
   "metadata": {
    "collapsed": false
   },
   "outputs": [
    {
     "data": {
      "text/plain": [
       "UC2 Literal\n",
       "AGG ASSAULT             2111\n",
       "AUTO THEFT              4234\n",
       "BURGLARY-NONRES          817\n",
       "BURGLARY-RESIDENCE      3921\n",
       "LARCENY-FROM VEHICLE    9539\n",
       "LARCENY-NON VEHICLE     7092\n",
       "RAPE                     154\n",
       "ROBBERY-COMMERCIAL       235\n",
       "ROBBERY-PEDESTRIAN      1721\n",
       "ROBBERY-RESIDENCE        187\n",
       "Name: offense_id, dtype: int64"
      ]
     },
     "execution_count": 77,
     "metadata": {},
     "output_type": "execute_result"
    }
   ],
   "source": [
    "df.groupby(['UC2 Literal']).offense_id.count()"
   ]
  },
  {
   "cell_type": "markdown",
   "metadata": {},
   "source": [
    "## Exploring Dates"
   ]
  },
  {
   "cell_type": "code",
   "execution_count": 44,
   "metadata": {
    "collapsed": false
   },
   "outputs": [
    {
     "data": {
      "text/html": [
       "<div>\n",
       "<table border=\"1\" class=\"dataframe\">\n",
       "  <thead>\n",
       "    <tr style=\"text-align: right;\">\n",
       "      <th></th>\n",
       "      <th>offense_id</th>\n",
       "      <th>occur_date</th>\n",
       "      <th>occur_time</th>\n",
       "      <th>rpt_date</th>\n",
       "    </tr>\n",
       "  </thead>\n",
       "  <tbody>\n",
       "    <tr>\n",
       "      <th>207443</th>\n",
       "      <td>150010052</td>\n",
       "      <td>12/31/2014</td>\n",
       "      <td>22:00:00</td>\n",
       "      <td>01/01/2015</td>\n",
       "    </tr>\n",
       "    <tr>\n",
       "      <th>207444</th>\n",
       "      <td>150010079</td>\n",
       "      <td>01/01/2015</td>\n",
       "      <td>00:03:00</td>\n",
       "      <td>01/01/2015</td>\n",
       "    </tr>\n",
       "    <tr>\n",
       "      <th>207445</th>\n",
       "      <td>150010151</td>\n",
       "      <td>12/31/2014</td>\n",
       "      <td>23:45:00</td>\n",
       "      <td>01/01/2015</td>\n",
       "    </tr>\n",
       "    <tr>\n",
       "      <th>207446</th>\n",
       "      <td>150010214</td>\n",
       "      <td>01/01/2015</td>\n",
       "      <td>00:30:00</td>\n",
       "      <td>01/01/2015</td>\n",
       "    </tr>\n",
       "    <tr>\n",
       "      <th>207447</th>\n",
       "      <td>150010359</td>\n",
       "      <td>12/31/2014</td>\n",
       "      <td>21:00:00</td>\n",
       "      <td>01/01/2015</td>\n",
       "    </tr>\n",
       "    <tr>\n",
       "      <th>207448</th>\n",
       "      <td>150010370</td>\n",
       "      <td>12/31/2014</td>\n",
       "      <td>23:15:00</td>\n",
       "      <td>01/01/2015</td>\n",
       "    </tr>\n",
       "    <tr>\n",
       "      <th>207449</th>\n",
       "      <td>150010413</td>\n",
       "      <td>12/31/2014</td>\n",
       "      <td>23:00:00</td>\n",
       "      <td>01/01/2015</td>\n",
       "    </tr>\n",
       "    <tr>\n",
       "      <th>207450</th>\n",
       "      <td>150010417</td>\n",
       "      <td>01/01/2015</td>\n",
       "      <td>02:00:00</td>\n",
       "      <td>01/01/2015</td>\n",
       "    </tr>\n",
       "    <tr>\n",
       "      <th>207451</th>\n",
       "      <td>150010419</td>\n",
       "      <td>01/01/2015</td>\n",
       "      <td>01:50:00</td>\n",
       "      <td>01/01/2015</td>\n",
       "    </tr>\n",
       "  </tbody>\n",
       "</table>\n",
       "</div>"
      ],
      "text/plain": [
       "        offense_id  occur_date occur_time    rpt_date\n",
       "207443   150010052  12/31/2014   22:00:00  01/01/2015\n",
       "207444   150010079  01/01/2015   00:03:00  01/01/2015\n",
       "207445   150010151  12/31/2014   23:45:00  01/01/2015\n",
       "207446   150010214  01/01/2015   00:30:00  01/01/2015\n",
       "207447   150010359  12/31/2014   21:00:00  01/01/2015\n",
       "207448   150010370  12/31/2014   23:15:00  01/01/2015\n",
       "207449   150010413  12/31/2014   23:00:00  01/01/2015\n",
       "207450   150010417  01/01/2015   02:00:00  01/01/2015\n",
       "207451   150010419  01/01/2015   01:50:00  01/01/2015"
      ]
     },
     "execution_count": 44,
     "metadata": {},
     "output_type": "execute_result"
    }
   ],
   "source": [
    "df[['offense_id', 'occur_date', 'occur_time', 'rpt_date']][1:10]"
   ]
  },
  {
   "cell_type": "markdown",
   "metadata": {},
   "source": [
    "Convert into date-time type"
   ]
  },
  {
   "cell_type": "code",
   "execution_count": 65,
   "metadata": {
    "collapsed": false
   },
   "outputs": [],
   "source": [
    "df['occur_ts'] = pd.to_datetime(df.occur_date+' '+df.occur_time)"
   ]
  },
  {
   "cell_type": "code",
   "execution_count": 70,
   "metadata": {
    "collapsed": false,
    "scrolled": true
   },
   "outputs": [
    {
     "data": {
      "text/html": [
       "<div>\n",
       "<table border=\"1\" class=\"dataframe\">\n",
       "  <thead>\n",
       "    <tr style=\"text-align: right;\">\n",
       "      <th></th>\n",
       "      <th>offense_id</th>\n",
       "      <th>occur_date</th>\n",
       "      <th>occur_time</th>\n",
       "      <th>occur_ts</th>\n",
       "      <th>rpt_date</th>\n",
       "    </tr>\n",
       "  </thead>\n",
       "  <tbody>\n",
       "    <tr>\n",
       "      <th>207443</th>\n",
       "      <td>150010052</td>\n",
       "      <td>12/31/2014</td>\n",
       "      <td>22:00:00</td>\n",
       "      <td>2014-12-31 22:00:00</td>\n",
       "      <td>01/01/2015</td>\n",
       "    </tr>\n",
       "    <tr>\n",
       "      <th>207444</th>\n",
       "      <td>150010079</td>\n",
       "      <td>01/01/2015</td>\n",
       "      <td>00:03:00</td>\n",
       "      <td>2015-01-01 00:03:00</td>\n",
       "      <td>01/01/2015</td>\n",
       "    </tr>\n",
       "    <tr>\n",
       "      <th>207445</th>\n",
       "      <td>150010151</td>\n",
       "      <td>12/31/2014</td>\n",
       "      <td>23:45:00</td>\n",
       "      <td>2014-12-31 23:45:00</td>\n",
       "      <td>01/01/2015</td>\n",
       "    </tr>\n",
       "    <tr>\n",
       "      <th>207446</th>\n",
       "      <td>150010214</td>\n",
       "      <td>01/01/2015</td>\n",
       "      <td>00:30:00</td>\n",
       "      <td>2015-01-01 00:30:00</td>\n",
       "      <td>01/01/2015</td>\n",
       "    </tr>\n",
       "    <tr>\n",
       "      <th>207447</th>\n",
       "      <td>150010359</td>\n",
       "      <td>12/31/2014</td>\n",
       "      <td>21:00:00</td>\n",
       "      <td>2014-12-31 21:00:00</td>\n",
       "      <td>01/01/2015</td>\n",
       "    </tr>\n",
       "    <tr>\n",
       "      <th>207448</th>\n",
       "      <td>150010370</td>\n",
       "      <td>12/31/2014</td>\n",
       "      <td>23:15:00</td>\n",
       "      <td>2014-12-31 23:15:00</td>\n",
       "      <td>01/01/2015</td>\n",
       "    </tr>\n",
       "    <tr>\n",
       "      <th>207449</th>\n",
       "      <td>150010413</td>\n",
       "      <td>12/31/2014</td>\n",
       "      <td>23:00:00</td>\n",
       "      <td>2014-12-31 23:00:00</td>\n",
       "      <td>01/01/2015</td>\n",
       "    </tr>\n",
       "    <tr>\n",
       "      <th>207450</th>\n",
       "      <td>150010417</td>\n",
       "      <td>01/01/2015</td>\n",
       "      <td>02:00:00</td>\n",
       "      <td>2015-01-01 02:00:00</td>\n",
       "      <td>01/01/2015</td>\n",
       "    </tr>\n",
       "    <tr>\n",
       "      <th>207451</th>\n",
       "      <td>150010419</td>\n",
       "      <td>01/01/2015</td>\n",
       "      <td>01:50:00</td>\n",
       "      <td>2015-01-01 01:50:00</td>\n",
       "      <td>01/01/2015</td>\n",
       "    </tr>\n",
       "  </tbody>\n",
       "</table>\n",
       "</div>"
      ],
      "text/plain": [
       "        offense_id  occur_date occur_time            occur_ts    rpt_date\n",
       "207443   150010052  12/31/2014   22:00:00 2014-12-31 22:00:00  01/01/2015\n",
       "207444   150010079  01/01/2015   00:03:00 2015-01-01 00:03:00  01/01/2015\n",
       "207445   150010151  12/31/2014   23:45:00 2014-12-31 23:45:00  01/01/2015\n",
       "207446   150010214  01/01/2015   00:30:00 2015-01-01 00:30:00  01/01/2015\n",
       "207447   150010359  12/31/2014   21:00:00 2014-12-31 21:00:00  01/01/2015\n",
       "207448   150010370  12/31/2014   23:15:00 2014-12-31 23:15:00  01/01/2015\n",
       "207449   150010413  12/31/2014   23:00:00 2014-12-31 23:00:00  01/01/2015\n",
       "207450   150010417  01/01/2015   02:00:00 2015-01-01 02:00:00  01/01/2015\n",
       "207451   150010419  01/01/2015   01:50:00 2015-01-01 01:50:00  01/01/2015"
      ]
     },
     "execution_count": 70,
     "metadata": {},
     "output_type": "execute_result"
    }
   ],
   "source": [
    "df[['offense_id', 'occur_date', 'occur_time', 'occur_ts', 'rpt_date']][1:10]"
   ]
  },
  {
   "cell_type": "code",
   "execution_count": 76,
   "metadata": {
    "collapsed": false
   },
   "outputs": [],
   "source": [
    "df['occur_month'] = df['occur_ts'].map(lambda x: x.month)\n",
    "df['occur_woy'] = df.occur_ts.dt.weekofyear"
   ]
  },
  {
   "cell_type": "code",
   "execution_count": 80,
   "metadata": {
    "collapsed": false
   },
   "outputs": [
    {
     "data": {
      "text/plain": [
       "UC2 Literal         occur_month\n",
       "AGG ASSAULT         1.0            156\n",
       "                    2.0            139\n",
       "                    3.0            189\n",
       "                    4.0            191\n",
       "                    5.0            182\n",
       "                    6.0            205\n",
       "                    7.0            201\n",
       "                    8.0            209\n",
       "                    9.0            176\n",
       "                    10.0           172\n",
       "                    11.0           142\n",
       "                    12.0           149\n",
       "AUTO THEFT          1.0            351\n",
       "                    2.0            279\n",
       "                    3.0            359\n",
       "                    4.0            332\n",
       "                    5.0            408\n",
       "                    6.0            452\n",
       "                    7.0            396\n",
       "                    8.0            405\n",
       "                    9.0            334\n",
       "                    10.0           369\n",
       "                    11.0           262\n",
       "                    12.0           284\n",
       "BURGLARY-NONRES     1.0             69\n",
       "                    2.0             41\n",
       "                    3.0             45\n",
       "                    4.0             68\n",
       "                    5.0             61\n",
       "                    6.0             71\n",
       "                                  ... \n",
       "ROBBERY-COMMERCIAL  7.0             23\n",
       "                    8.0             16\n",
       "                    9.0             20\n",
       "                    10.0            26\n",
       "                    11.0            21\n",
       "                    12.0            22\n",
       "ROBBERY-PEDESTRIAN  1.0            137\n",
       "                    2.0            108\n",
       "                    3.0            133\n",
       "                    4.0            116\n",
       "                    5.0            152\n",
       "                    6.0            151\n",
       "                    7.0            175\n",
       "                    8.0            151\n",
       "                    9.0            163\n",
       "                    10.0           171\n",
       "                    11.0           135\n",
       "                    12.0           129\n",
       "ROBBERY-RESIDENCE   1.0             19\n",
       "                    2.0             12\n",
       "                    3.0             20\n",
       "                    4.0             19\n",
       "                    5.0             18\n",
       "                    6.0              8\n",
       "                    7.0             17\n",
       "                    8.0             23\n",
       "                    9.0             17\n",
       "                    10.0            10\n",
       "                    11.0            11\n",
       "                    12.0            13\n",
       "Name: offense_id, dtype: int64"
      ]
     },
     "execution_count": 80,
     "metadata": {},
     "output_type": "execute_result"
    }
   ],
   "source": [
    "resdf = df.groupby(['UC2 Literal', 'occur_month']).offense_id.count()\n",
    "resdf"
   ]
  },
  {
   "cell_type": "code",
   "execution_count": 89,
   "metadata": {
    "collapsed": false
   },
   "outputs": [
    {
     "data": {
      "text/plain": [
       "array([357, 232, 303, 311, 375, 323, 316, 292, 298, 340, 340, 432])"
      ]
     },
     "execution_count": 89,
     "metadata": {},
     "output_type": "execute_result"
    }
   ],
   "source": [
    "resdf['BURGLARY-RESIDENCE'].as_matrix()"
   ]
  },
  {
   "cell_type": "code",
   "execution_count": 85,
   "metadata": {
    "collapsed": false
   },
   "outputs": [
    {
     "data": {
      "text/plain": [
       "<pandas.core.indexing._iLocIndexer at 0x7f3f27fd1d68>"
      ]
     },
     "execution_count": 85,
     "metadata": {},
     "output_type": "execute_result"
    }
   ],
   "source": [
    "resdf['BURGLARY-RESIDENCE'].iloc(0)"
   ]
  },
  {
   "cell_type": "code",
   "execution_count": 113,
   "metadata": {
    "collapsed": false
   },
   "outputs": [
    {
     "data": {
      "text/plain": [
       "'done'"
      ]
     },
     "execution_count": 113,
     "metadata": {},
     "output_type": "execute_result"
    },
    {
     "data": {
      "image/png": "[encoded data removed]",
      "text/plain": [
       "<matplotlib.figure.Figure at 0x7f3f27d74d30>"
      ]
     },
     "metadata": {},
     "output_type": "display_data"
    }
   ],
   "source": [
    "%matplotlib inline\n",
    "fig = plt.figure(figsize=(10,10))\n",
    "plt.plot(resdf['BURGLARY-RESIDENCE'].index, resdf['BURGLARY-RESIDENCE'])\n",
    "plt.scatter(resdf['BURGLARY-RESIDENCE'].index, resdf['BURGLARY-RESIDENCE'])\n",
    "plt.ylim(0, 500)\n",
    "plt.title('BURGLARY-RESIDENCE')\n",
    "plt.xticks(range(13), ['', 'Jan', 'Feb', 'Mar', 'Apr', 'May', 'Jun', 'Jul', 'Aug', 'Sep', 'Oct', 'Nov', 'Dec'])\n",
    "fig.savefig('BurglaryResidence_over_month.svg')\n",
    "'done'"
   ]
  },
  {
   "cell_type": "code",
   "execution_count": null,
   "metadata": {
    "collapsed": true
   },
   "outputs": [],
   "source": []
  },
  {
   "cell_type": "code",
   "execution_count": null,
   "metadata": {
    "collapsed": true
   },
   "outputs": [],
   "source": []
  },
  {
   "cell_type": "code",
   "execution_count": null,
   "metadata": {
    "collapsed": true
   },
   "outputs": [],
   "source": []
  },
  {
   "cell_type": "code",
   "execution_count": null,
   "metadata": {
    "collapsed": true
   },
   "outputs": [],
   "source": []
  },
  {
   "cell_type": "code",
   "execution_count": null,
   "metadata": {
    "collapsed": true
   },
   "outputs": [],
   "source": []
  },
  {
   "cell_type": "code",
   "execution_count": null,
   "metadata": {
    "collapsed": true
   },
   "outputs": [],
   "source": []
  },
  {
   "cell_type": "code",
   "execution_count": null,
   "metadata": {
    "collapsed": true
   },
   "outputs": [],
   "source": []
  },
  {
   "cell_type": "code",
   "execution_count": null,
   "metadata": {
    "collapsed": true
   },
   "outputs": [],
   "source": []
  },
  {
   "cell_type": "code",
   "execution_count": null,
   "metadata": {
    "collapsed": true
   },
   "outputs": [],
   "source": []
  },
  {
   "cell_type": "code",
   "execution_count": 23,
   "metadata": {
    "collapsed": false
   },
   "outputs": [],
   "source": [
    "### in case we want to save a DataFrame\n",
    "#writer = pd.ExcelWriter('myresults.xlsx')\n",
    "#df.to_excel(writer,'Results')\n",
    "#writer.save()"
   ]
  },
  {
   "cell_type": "code",
   "execution_count": null,
   "metadata": {
    "collapsed": true
   },
   "outputs": [],
   "source": []
  },
  {
   "cell_type": "code",
   "execution_count": null,
   "metadata": {
    "collapsed": true
   },
   "outputs": [],
   "source": []
  },
  {
   "cell_type": "code",
   "execution_count": null,
   "metadata": {
    "collapsed": true
   },
   "outputs": [],
   "source": []
  }
 ],
 "metadata": {
  "kernelspec": {
   "display_name": "Python 3",
   "language": "python",
   "name": "python3"
  },
  "language_info": {
   "codemirror_mode": {
    "name": "ipython",
    "version": 3
   },
   "file_extension": ".py",
   "mimetype": "text/x-python",
   "name": "python",
   "nbconvert_exporter": "python",
   "pygments_lexer": "ipython3",
   "version": "3.4.3"
  }
 },
 "nbformat": 4,
 "nbformat_minor": 0
}
