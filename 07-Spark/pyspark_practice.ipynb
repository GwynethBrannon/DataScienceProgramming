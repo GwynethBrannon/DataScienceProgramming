{
 "cells": [
  {
   "cell_type": "code",
   "execution_count": 1,
   "metadata": {
    "collapsed": false
   },
   "outputs": [
    {
     "data": {
      "text/plain": [
       "'3.4.3'"
      ]
     },
     "execution_count": 1,
     "metadata": {},
     "output_type": "execute_result"
    }
   ],
   "source": [
    "#Documentation -- https://spark.apache.org/docs/latest/sql-programming-guide.html\n",
    "import platform\n",
    "platform.python_version()"
   ]
  },
  {
   "cell_type": "code",
   "execution_count": 7,
   "metadata": {
    "collapsed": false
   },
   "outputs": [
    {
     "ename": "ImportError",
     "evalue": "No module named 'pyspark'",
     "output_type": "error",
     "traceback": [
      "\u001b[1;31m---------------------------------------------------------------------------\u001b[0m",
      "\u001b[1;31mImportError\u001b[0m                               Traceback (most recent call last)",
      "\u001b[1;32m<ipython-input-7-50e1693edbdd>\u001b[0m in \u001b[0;36m<module>\u001b[1;34m()\u001b[0m\n\u001b[0;32m     12\u001b[0m \u001b[1;33m\u001b[0m\u001b[0m\n\u001b[0;32m     13\u001b[0m \u001b[1;31m#import py4j\u001b[0m\u001b[1;33m\u001b[0m\u001b[1;33m\u001b[0m\u001b[0m\n\u001b[1;32m---> 14\u001b[1;33m \u001b[1;32mimport\u001b[0m \u001b[0mpyspark\u001b[0m\u001b[1;33m\u001b[0m\u001b[0m\n\u001b[0m\u001b[0;32m     15\u001b[0m \u001b[1;32mfrom\u001b[0m \u001b[0mpyspark\u001b[0m\u001b[1;33m.\u001b[0m\u001b[0msql\u001b[0m \u001b[1;32mimport\u001b[0m \u001b[0mSQLContext\u001b[0m\u001b[1;33m,\u001b[0m \u001b[0mRow\u001b[0m\u001b[1;33m\u001b[0m\u001b[0m\n\u001b[0;32m     16\u001b[0m \u001b[1;32mfrom\u001b[0m \u001b[0mpyspark\u001b[0m \u001b[1;32mimport\u001b[0m \u001b[0mSparkConf\u001b[0m\u001b[1;33m,\u001b[0m \u001b[0mSparkContext\u001b[0m\u001b[1;33m\u001b[0m\u001b[0m\n",
      "\u001b[1;31mImportError\u001b[0m: No module named 'pyspark'"
     ]
    }
   ],
   "source": [
    "import os\n",
    "import sys\n",
    "\n",
    "###os.environ['SPARK_PREPEND_CLASSES']='/opt/sqljdbc_4.0/enu/sqljdbc4.jar'\n",
    "##os.environ['SPARK_CLASSPATH']='/opt/sqljdbc_4.0/enu/sqljdbc4.jar'\n",
    "os.environ['SPARK_HOME']='/usr/hdp/2.4.2.0-258/spark'\n",
    "os.environ['PYSPARK_SUBMIT_ARGS'] = '--packages com.databricks:spark-csv_2.11:1.2.0 pyspark-shell'\n",
    "\n",
    "#import findspark\n",
    "\n",
    "#findspark.init()\n",
    "\n",
    "import py4j\n",
    "import pyspark\n",
    "from pyspark.sql import SQLContext, Row\n",
    "from pyspark import SparkConf, SparkContext"
   ]
  },
  {
   "cell_type": "code",
   "execution_count": 3,
   "metadata": {
    "collapsed": false
   },
   "outputs": [],
   "source": [
    "conf = SparkConf().setMaster(\"local\").setAppName(\"My App\")\n",
    "# sc = SparkContext()\n",
    "sc = SparkContext(conf = conf)"
   ]
  },
  {
   "cell_type": "code",
   "execution_count": 4,
   "metadata": {
    "collapsed": false
   },
   "outputs": [
    {
     "data": {
      "text/plain": [
       "u'1.6.1'"
      ]
     },
     "execution_count": 4,
     "metadata": {},
     "output_type": "execute_result"
    }
   ],
   "source": [
    "sc.version"
   ]
  },
  {
   "cell_type": "code",
   "execution_count": 5,
   "metadata": {
    "collapsed": true
   },
   "outputs": [],
   "source": [
    "sqlctx = SQLContext(sc)"
   ]
  },
  {
   "cell_type": "code",
   "execution_count": 6,
   "metadata": {
    "collapsed": false
   },
   "outputs": [],
   "source": [
    "from pyspark.sql.types import StringType\n",
    "from pyspark import SQLContext\n",
    "sqlContext = SQLContext(sc)\n",
    "\n",
    "Employee_rdd = sc.textFile(\"/user/psahadevan1/donor_summary_sample.csv\").map(lambda line: line.split(\",\"))\n",
    "\n",
    "Employee_df = Employee_rdd.toDF(['arc_id','zip4'])\n",
    "\n",
    "#Employee_df.show()"
   ]
  },
  {
   "cell_type": "code",
   "execution_count": 7,
   "metadata": {
    "collapsed": false
   },
   "outputs": [],
   "source": [
    "df = sqlContext.read.format('com.databricks.spark.csv').options(header='true', inferschema='true').load('/user/psahadevan1/donor_summary_sample.csv')"
   ]
  },
  {
   "cell_type": "code",
   "execution_count": 10,
   "metadata": {
    "collapsed": false
   },
   "outputs": [
    {
     "data": {
      "text/plain": [
       "[('bzd_assessedhomevalue', 'string'),\n",
       " ('bzd_avg_bank_credit6', 'string'),\n",
       " ('bzd_avg_inq_all12', 'string'),\n",
       " ('bzd_avg_maxcred_install6', 'string'),\n",
       " ('bzd_avg_mos_autopay', 'string'),\n",
       " ('bzd_avg_numauto12', 'string'),\n",
       " ('bzd_descretionary_spend', 'string'),\n",
       " ('bzd_income', 'string'),\n",
       " ('bzd_lengthofresidence', 'string'),\n",
       " ('bzd_mortg_equity', 'string'),\n",
       " ('bzd_numberadultsinhh', 'string'),\n",
       " ('bzd_numberofchildrenhh', 'string'),\n",
       " ('bzd_realty_mortgremain', 'string'),\n",
       " ('bzd_realty_mospay', 'string'),\n",
       " ('bzd_tt_all_in_name', 'string'),\n",
       " ('bzd_tt_buy_am', 'string'),\n",
       " ('bzd_tt_go_flow', 'string'),\n",
       " ('bzd_tt_look_now', 'string'),\n",
       " ('bzd_tt_nsueh', 'string'),\n",
       " ('bzd_tt_penny', 'string'),\n",
       " ('bzd_tt_road_again', 'string'),\n",
       " ('bzd_tt_show_money', 'string'),\n",
       " ('bzd_tt_smell_roses', 'string'),\n",
       " ('bzd_tt_time_like_pres', 'string'),\n",
       " ('bzd_tt_whph', 'string'),\n",
       " ('bzd_bb_affinity_ind', 'string'),\n",
       " ('bzd_bb_aff_demparty', 'string'),\n",
       " ('bzd_bb_aff_ind', 'string'),\n",
       " ('bzd_bb_aff_republican', 'string'),\n",
       " ('bzd_bb_cause_animal', 'string'),\n",
       " ('bzd_bb_cause_children', 'string'),\n",
       " ('bzd_bb_cause_env', 'string'),\n",
       " ('bzd_bb_cause_health', 'string'),\n",
       " ('bzd_bb_cause_polcons', 'string'),\n",
       " ('bzd_bb_cause_pollib', 'string'),\n",
       " ('bzd_bb_cause_rel', 'string'),\n",
       " ('bzd_bb_cause_vet', 'string'),\n",
       " ('bzd_bb_cause_volunt', 'string'),\n",
       " ('bzd_bb_cont_animal', 'string'),\n",
       " ('bzd_bb_cont_childwel', 'string'),\n",
       " ('bzd_bb_cont_conspoli', 'string'),\n",
       " ('bzd_bb_cont_culture', 'string'),\n",
       " ('bzd_bb_cont_env', 'string'),\n",
       " ('bzd_bb_cont_health', 'string'),\n",
       " ('bzd_bb_cont_humanitarian', 'string'),\n",
       " ('bzd_bb_cont_liberal', 'string'),\n",
       " ('bzd_bb_cont_pol', 'string'),\n",
       " ('bzd_bb_cont_relcont', 'string'),\n",
       " ('bzd_bb_cont_social', 'string'),\n",
       " ('bzd_bb_fin_ira', 'string'),\n",
       " ('bzd_bb_fin_lifeins', 'string'),\n",
       " ('bzd_bb_fin_monetmkt', 'string'),\n",
       " ('bzd_bb_fin_mutual', 'string'),\n",
       " ('bzd_bb_fin_real', 'string'),\n",
       " ('bzd_bb_fin_stock', 'string'),\n",
       " ('bzd_bb_inactivemil', 'string'),\n",
       " ('bzd_bb_activemil', 'string'),\n",
       " ('bzd_bb_int_affluence', 'string'),\n",
       " ('bzd_bb_int_politics', 'string'),\n",
       " ('bzd_bb_int_relig', 'string'),\n",
       " ('bzd_childrenage0_18', 'string'),\n",
       " ('bzd_homeowner', 'string'),\n",
       " ('bzd_householdoccupation1', 'string'),\n",
       " ('bzd_maritalstatus1', 'string'),\n",
       " ('bzd_mosaic_hh', 'string'),\n",
       " ('bzd_occ_model1', 'string'),\n",
       " ('bzd_person_type1', 'string'),\n",
       " ('bzd_political', 'string'),\n",
       " ('bzd_religion', 'string'),\n",
       " ('bzd_education', 'string'),\n",
       " ('blood_type', 'string'),\n",
       " ('no_show_cnt', 'int'),\n",
       " ('last_no_show_dt', 'string'),\n",
       " ('fst_no_show_dt', 'string'),\n",
       " ('arc_id', 'int'),\n",
       " ('birth_dt', 'string'),\n",
       " ('fr_fst_dntn_dt', 'string'),\n",
       " ('fr_last_dntn_dt', 'string'),\n",
       " ('fr_lftm_dntn_amt', 'string'),\n",
       " ('fr_lftm_dntn_cnt', 'string'),\n",
       " ('fr_lftm_max_dntn_amt', 'string'),\n",
       " ('fr_lftm_min_dntn_amt', 'string'),\n",
       " ('lftm_crs_complt_cnt', 'string'),\n",
       " ('fst_crs_cmptn_dt', 'string'),\n",
       " ('last_crs_cmptn_dt', 'string'),\n",
       " ('lftm_hrs_vol_cnt', 'string'),\n",
       " ('last_vol_dt', 'string'),\n",
       " ('first_vol_dt', 'string'),\n",
       " ('zip5', 'int'),\n",
       " ('zip4', 'int'),\n",
       " ('gender', 'string'),\n",
       " ('race', 'string'),\n",
       " ('zip5c', 'int')]"
      ]
     },
     "execution_count": 10,
     "metadata": {},
     "output_type": "execute_result"
    }
   ],
   "source": [
    "#sc.stop()\n",
    "#df.show()\n",
    "df.dtypes"
   ]
  },
  {
   "cell_type": "code",
   "execution_count": null,
   "metadata": {
    "collapsed": true
   },
   "outputs": [],
   "source": []
  }
 ],
 "metadata": {
  "kernelspec": {
   "display_name": "Python 3",
   "language": "python",
   "name": "python3"
  },
  "language_info": {
   "codemirror_mode": {
    "name": "ipython",
    "version": 3
   },
   "file_extension": ".py",
   "mimetype": "text/x-python",
   "name": "python",
   "nbconvert_exporter": "python",
   "pygments_lexer": "ipython3",
   "version": "3.4.3"
  }
 },
 "nbformat": 4,
 "nbformat_minor": 0
}
