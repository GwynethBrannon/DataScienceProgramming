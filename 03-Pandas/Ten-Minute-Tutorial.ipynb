{
 "cells": [
  {
   "cell_type": "markdown",
   "metadata": {},
   "source": [
    "# Pandas\n",
    "***pandas*** is a Python package providing fast, flexible, and expressive data structures designed to make working with “relational” or “labeled” data both easy and intuitive. It aims to be the fundamental high-level building block for doing practical, real world data analysis in Python. Additionally, it has the broader goal of becoming the most powerful and flexible open source data analysis / manipulation tool available in any language. It is already well on its way toward this goal.\n",
    "\n",
    "Source: http://pandas.pydata.org/pandas-docs/stable/"
   ]
  },
  {
   "cell_type": "markdown",
   "metadata": {},
   "source": [
    "# 10 Minutes to pandas\n",
    "This is a short introduction to pandas, geared mainly for new users. You can see more complex recipes in the Cookbook\n",
    "The original document is posted at http://pandas.pydata.org/pandas-docs/stable/10min.html\n",
    "\n",
    "Customarily, we import as follows:"
   ]
  },
  {
   "cell_type": "code",
   "execution_count": 109,
   "metadata": {
    "collapsed": false
   },
   "outputs": [],
   "source": [
    "import pandas as pd\n",
    "import numpy as np\n",
    "import matplotlib.pyplot as plt"
   ]
  },
  {
   "cell_type": "markdown",
   "metadata": {},
   "source": [
    "## Object Creation\n",
    "See the [Data Structure Intro section](http://pandas.pydata.org/pandas-docs/stable/dsintro.html#dsintro)\n",
    "\n",
    "Creating a `Series` by passing a list of values, letting pandas create a default integer index:"
   ]
  },
  {
   "cell_type": "code",
   "execution_count": 2,
   "metadata": {
    "collapsed": false
   },
   "outputs": [
    {
     "data": {
      "text/plain": [
       "0    1.0\n",
       "1    3.0\n",
       "2    5.0\n",
       "3    NaN\n",
       "4    6.0\n",
       "5    8.0\n",
       "dtype: float64"
      ]
     },
     "execution_count": 2,
     "metadata": {},
     "output_type": "execute_result"
    }
   ],
   "source": [
    "s = pd.Series([1,3,5,np.nan,6,8])\n",
    "s"
   ]
  },
  {
   "cell_type": "markdown",
   "metadata": {},
   "source": [
    "Creating a `DataFrame` by passing a numpy array, with a datetime index and labeled columns:"
   ]
  },
  {
   "cell_type": "code",
   "execution_count": 3,
   "metadata": {
    "collapsed": false
   },
   "outputs": [
    {
     "data": {
      "text/plain": [
       "DatetimeIndex(['2013-01-01', '2013-01-02', '2013-01-03', '2013-01-04',\n",
       "               '2013-01-05', '2013-01-06'],\n",
       "              dtype='datetime64[ns]', freq='D')"
      ]
     },
     "execution_count": 3,
     "metadata": {},
     "output_type": "execute_result"
    }
   ],
   "source": [
    "dates = pd.date_range('20130101', periods=6)\n",
    "dates"
   ]
  },
  {
   "cell_type": "code",
   "execution_count": 4,
   "metadata": {
    "collapsed": false
   },
   "outputs": [
    {
     "data": {
      "text/html": [
       "<div>\n",
       "<table border=\"1\" class=\"dataframe\">\n",
       "  <thead>\n",
       "    <tr style=\"text-align: right;\">\n",
       "      <th></th>\n",
       "      <th>A</th>\n",
       "      <th>B</th>\n",
       "      <th>C</th>\n",
       "      <th>D</th>\n",
       "    </tr>\n",
       "  </thead>\n",
       "  <tbody>\n",
       "    <tr>\n",
       "      <th>2013-01-01</th>\n",
       "      <td>-1.963394</td>\n",
       "      <td>0.308091</td>\n",
       "      <td>-1.549268</td>\n",
       "      <td>0.659767</td>\n",
       "    </tr>\n",
       "    <tr>\n",
       "      <th>2013-01-02</th>\n",
       "      <td>1.778638</td>\n",
       "      <td>-1.338972</td>\n",
       "      <td>0.572253</td>\n",
       "      <td>0.550902</td>\n",
       "    </tr>\n",
       "    <tr>\n",
       "      <th>2013-01-03</th>\n",
       "      <td>0.847391</td>\n",
       "      <td>0.133701</td>\n",
       "      <td>-0.718947</td>\n",
       "      <td>-0.876682</td>\n",
       "    </tr>\n",
       "    <tr>\n",
       "      <th>2013-01-04</th>\n",
       "      <td>-1.071039</td>\n",
       "      <td>0.442848</td>\n",
       "      <td>-0.576122</td>\n",
       "      <td>-0.339758</td>\n",
       "    </tr>\n",
       "    <tr>\n",
       "      <th>2013-01-05</th>\n",
       "      <td>0.414881</td>\n",
       "      <td>-1.061210</td>\n",
       "      <td>-0.549216</td>\n",
       "      <td>-0.096576</td>\n",
       "    </tr>\n",
       "    <tr>\n",
       "      <th>2013-01-06</th>\n",
       "      <td>1.778033</td>\n",
       "      <td>-0.302979</td>\n",
       "      <td>-0.320203</td>\n",
       "      <td>-0.431450</td>\n",
       "    </tr>\n",
       "  </tbody>\n",
       "</table>\n",
       "</div>"
      ],
      "text/plain": [
       "                   A         B         C         D\n",
       "2013-01-01 -1.963394  0.308091 -1.549268  0.659767\n",
       "2013-01-02  1.778638 -1.338972  0.572253  0.550902\n",
       "2013-01-03  0.847391  0.133701 -0.718947 -0.876682\n",
       "2013-01-04 -1.071039  0.442848 -0.576122 -0.339758\n",
       "2013-01-05  0.414881 -1.061210 -0.549216 -0.096576\n",
       "2013-01-06  1.778033 -0.302979 -0.320203 -0.431450"
      ]
     },
     "execution_count": 4,
     "metadata": {},
     "output_type": "execute_result"
    }
   ],
   "source": [
    "df = pd.DataFrame(np.random.randn(6,4), index=dates, columns=list('ABCD'))\n",
    "df"
   ]
  },
  {
   "cell_type": "code",
   "execution_count": 5,
   "metadata": {
    "collapsed": false
   },
   "outputs": [
    {
     "data": {
      "text/html": [
       "<div>\n",
       "<table border=\"1\" class=\"dataframe\">\n",
       "  <thead>\n",
       "    <tr style=\"text-align: right;\">\n",
       "      <th></th>\n",
       "      <th>A</th>\n",
       "      <th>B</th>\n",
       "      <th>C</th>\n",
       "      <th>D</th>\n",
       "      <th>E</th>\n",
       "      <th>F</th>\n",
       "    </tr>\n",
       "  </thead>\n",
       "  <tbody>\n",
       "    <tr>\n",
       "      <th>0</th>\n",
       "      <td>1.0</td>\n",
       "      <td>2013-01-02</td>\n",
       "      <td>1.0</td>\n",
       "      <td>3</td>\n",
       "      <td>test</td>\n",
       "      <td>foo</td>\n",
       "    </tr>\n",
       "    <tr>\n",
       "      <th>1</th>\n",
       "      <td>1.0</td>\n",
       "      <td>2013-01-02</td>\n",
       "      <td>1.0</td>\n",
       "      <td>3</td>\n",
       "      <td>train</td>\n",
       "      <td>foo</td>\n",
       "    </tr>\n",
       "    <tr>\n",
       "      <th>2</th>\n",
       "      <td>1.0</td>\n",
       "      <td>2013-01-02</td>\n",
       "      <td>1.0</td>\n",
       "      <td>3</td>\n",
       "      <td>test</td>\n",
       "      <td>foo</td>\n",
       "    </tr>\n",
       "    <tr>\n",
       "      <th>3</th>\n",
       "      <td>1.0</td>\n",
       "      <td>2013-01-02</td>\n",
       "      <td>1.0</td>\n",
       "      <td>3</td>\n",
       "      <td>train</td>\n",
       "      <td>foo</td>\n",
       "    </tr>\n",
       "  </tbody>\n",
       "</table>\n",
       "</div>"
      ],
      "text/plain": [
       "     A          B    C  D      E    F\n",
       "0  1.0 2013-01-02  1.0  3   test  foo\n",
       "1  1.0 2013-01-02  1.0  3  train  foo\n",
       "2  1.0 2013-01-02  1.0  3   test  foo\n",
       "3  1.0 2013-01-02  1.0  3  train  foo"
      ]
     },
     "execution_count": 5,
     "metadata": {},
     "output_type": "execute_result"
    }
   ],
   "source": [
    "df2 = pd.DataFrame({ 'A' : 1.,\n",
    "   ....:                      'B' : pd.Timestamp('20130102'),\n",
    "   ....:                      'C' : pd.Series(1,index=list(range(4)),dtype='float32'),\n",
    "   ....:                      'D' : np.array([3] * 4,dtype='int32'),\n",
    "   ....:                      'E' : pd.Categorical([\"test\",\"train\",\"test\",\"train\"]),\n",
    "   ....:                      'F' : 'foo' })\n",
    "   ....: \n",
    "\n",
    "df2"
   ]
  },
  {
   "cell_type": "markdown",
   "metadata": {},
   "source": [
    "Having specific `dtypes`"
   ]
  },
  {
   "cell_type": "code",
   "execution_count": 6,
   "metadata": {
    "collapsed": false
   },
   "outputs": [
    {
     "data": {
      "text/plain": [
       "A           float64\n",
       "B    datetime64[ns]\n",
       "C           float32\n",
       "D             int32\n",
       "E          category\n",
       "F            object\n",
       "dtype: object"
      ]
     },
     "execution_count": 6,
     "metadata": {},
     "output_type": "execute_result"
    }
   ],
   "source": [
    "df2.dtypes"
   ]
  },
  {
   "cell_type": "code",
   "execution_count": null,
   "metadata": {
    "collapsed": true
   },
   "outputs": [],
   "source": [
    "Out[12]: \n",
    "A           float64\n",
    "B    datetime64[ns]\n",
    "C           float32\n",
    "D             int32\n",
    "E          category\n",
    "F            object\n",
    "dtype: object"
   ]
  },
  {
   "cell_type": "markdown",
   "metadata": {},
   "source": [
    "If you’re using IPython, tab completion for column names (as well as public attributes) is automatically enabled. Here’s a subset of the attributes that will be completed:\n",
    "<pre>\n",
    "In [13]: df2.&lt;TAB&gt;\n",
    "df2.A                  df2.boxplot\n",
    "df2.abs                df2.C\n",
    "df2.add                df2.clip\n",
    "df2.add_prefix         df2.clip_lower\n",
    "df2.add_suffix         df2.clip_upper\n",
    "df2.align              df2.columns\n",
    "df2.all                df2.combine\n",
    "df2.any                df2.combineAdd\n",
    "df2.append             df2.combine_first\n",
    "df2.apply              df2.combineMult\n",
    "df2.applymap           df2.compound\n",
    "df2.as_blocks          df2.consolidate\n",
    "df2.asfreq             df2.convert_objects\n",
    "df2.as_matrix          df2.copy\n",
    "df2.astype             df2.corr\n",
    "df2.at                 df2.corrwith\n",
    "df2.at_time            df2.count\n",
    "df2.axes               df2.cov\n",
    "df2.B                  df2.cummax\n",
    "df2.between_time       df2.cummin\n",
    "df2.bfill              df2.cumprod\n",
    "df2.blocks             df2.cumsum\n",
    "df2.bool               df2.D\n",
    "</pre>\n",
    "As you can see, the columns A, B, C, and D are automatically tab completed. E is there as well; the rest of the attributes have been truncated for brevity."
   ]
  },
  {
   "cell_type": "markdown",
   "metadata": {},
   "source": [
    "# Viewing Data\n",
    "See the [Basics section](http://pandas.pydata.org/pandas-docs/stable/basics.html#basics)\n",
    "\n",
    "See the top & bottom rows of the frame"
   ]
  },
  {
   "cell_type": "code",
   "execution_count": 8,
   "metadata": {
    "collapsed": false
   },
   "outputs": [
    {
     "data": {
      "text/html": [
       "<div>\n",
       "<table border=\"1\" class=\"dataframe\">\n",
       "  <thead>\n",
       "    <tr style=\"text-align: right;\">\n",
       "      <th></th>\n",
       "      <th>A</th>\n",
       "      <th>B</th>\n",
       "      <th>C</th>\n",
       "      <th>D</th>\n",
       "    </tr>\n",
       "  </thead>\n",
       "  <tbody>\n",
       "    <tr>\n",
       "      <th>2013-01-01</th>\n",
       "      <td>-1.963394</td>\n",
       "      <td>0.308091</td>\n",
       "      <td>-1.549268</td>\n",
       "      <td>0.659767</td>\n",
       "    </tr>\n",
       "    <tr>\n",
       "      <th>2013-01-02</th>\n",
       "      <td>1.778638</td>\n",
       "      <td>-1.338972</td>\n",
       "      <td>0.572253</td>\n",
       "      <td>0.550902</td>\n",
       "    </tr>\n",
       "    <tr>\n",
       "      <th>2013-01-03</th>\n",
       "      <td>0.847391</td>\n",
       "      <td>0.133701</td>\n",
       "      <td>-0.718947</td>\n",
       "      <td>-0.876682</td>\n",
       "    </tr>\n",
       "    <tr>\n",
       "      <th>2013-01-04</th>\n",
       "      <td>-1.071039</td>\n",
       "      <td>0.442848</td>\n",
       "      <td>-0.576122</td>\n",
       "      <td>-0.339758</td>\n",
       "    </tr>\n",
       "    <tr>\n",
       "      <th>2013-01-05</th>\n",
       "      <td>0.414881</td>\n",
       "      <td>-1.061210</td>\n",
       "      <td>-0.549216</td>\n",
       "      <td>-0.096576</td>\n",
       "    </tr>\n",
       "  </tbody>\n",
       "</table>\n",
       "</div>"
      ],
      "text/plain": [
       "                   A         B         C         D\n",
       "2013-01-01 -1.963394  0.308091 -1.549268  0.659767\n",
       "2013-01-02  1.778638 -1.338972  0.572253  0.550902\n",
       "2013-01-03  0.847391  0.133701 -0.718947 -0.876682\n",
       "2013-01-04 -1.071039  0.442848 -0.576122 -0.339758\n",
       "2013-01-05  0.414881 -1.061210 -0.549216 -0.096576"
      ]
     },
     "execution_count": 8,
     "metadata": {},
     "output_type": "execute_result"
    }
   ],
   "source": [
    "df.head()"
   ]
  },
  {
   "cell_type": "code",
   "execution_count": 9,
   "metadata": {
    "collapsed": false
   },
   "outputs": [
    {
     "data": {
      "text/html": [
       "<div>\n",
       "<table border=\"1\" class=\"dataframe\">\n",
       "  <thead>\n",
       "    <tr style=\"text-align: right;\">\n",
       "      <th></th>\n",
       "      <th>A</th>\n",
       "      <th>B</th>\n",
       "      <th>C</th>\n",
       "      <th>D</th>\n",
       "    </tr>\n",
       "  </thead>\n",
       "  <tbody>\n",
       "    <tr>\n",
       "      <th>2013-01-04</th>\n",
       "      <td>-1.071039</td>\n",
       "      <td>0.442848</td>\n",
       "      <td>-0.576122</td>\n",
       "      <td>-0.339758</td>\n",
       "    </tr>\n",
       "    <tr>\n",
       "      <th>2013-01-05</th>\n",
       "      <td>0.414881</td>\n",
       "      <td>-1.061210</td>\n",
       "      <td>-0.549216</td>\n",
       "      <td>-0.096576</td>\n",
       "    </tr>\n",
       "    <tr>\n",
       "      <th>2013-01-06</th>\n",
       "      <td>1.778033</td>\n",
       "      <td>-0.302979</td>\n",
       "      <td>-0.320203</td>\n",
       "      <td>-0.431450</td>\n",
       "    </tr>\n",
       "  </tbody>\n",
       "</table>\n",
       "</div>"
      ],
      "text/plain": [
       "                   A         B         C         D\n",
       "2013-01-04 -1.071039  0.442848 -0.576122 -0.339758\n",
       "2013-01-05  0.414881 -1.061210 -0.549216 -0.096576\n",
       "2013-01-06  1.778033 -0.302979 -0.320203 -0.431450"
      ]
     },
     "execution_count": 9,
     "metadata": {},
     "output_type": "execute_result"
    }
   ],
   "source": [
    "df.tail(3)"
   ]
  },
  {
   "cell_type": "code",
   "execution_count": 10,
   "metadata": {
    "collapsed": false
   },
   "outputs": [
    {
     "data": {
      "text/plain": [
       "DatetimeIndex(['2013-01-01', '2013-01-02', '2013-01-03', '2013-01-04',\n",
       "               '2013-01-05', '2013-01-06'],\n",
       "              dtype='datetime64[ns]', freq='D')"
      ]
     },
     "execution_count": 10,
     "metadata": {},
     "output_type": "execute_result"
    }
   ],
   "source": [
    "df.index"
   ]
  },
  {
   "cell_type": "code",
   "execution_count": 11,
   "metadata": {
    "collapsed": false
   },
   "outputs": [
    {
     "data": {
      "text/plain": [
       "Index(['A', 'B', 'C', 'D'], dtype='object')"
      ]
     },
     "execution_count": 11,
     "metadata": {},
     "output_type": "execute_result"
    }
   ],
   "source": [
    "df.columns"
   ]
  },
  {
   "cell_type": "code",
   "execution_count": 12,
   "metadata": {
    "collapsed": false
   },
   "outputs": [
    {
     "data": {
      "text/plain": [
       "array([[-1.96339396,  0.30809147, -1.54926833,  0.65976666],\n",
       "       [ 1.77863781, -1.33897158,  0.572253  ,  0.55090191],\n",
       "       [ 0.84739149,  0.13370052, -0.71894681, -0.87668207],\n",
       "       [-1.07103911,  0.44284818, -0.57612176, -0.33975755],\n",
       "       [ 0.41488125, -1.06121031, -0.5492159 , -0.0965764 ],\n",
       "       [ 1.77803347, -0.30297865, -0.32020278, -0.43144989]])"
      ]
     },
     "execution_count": 12,
     "metadata": {},
     "output_type": "execute_result"
    }
   ],
   "source": [
    "df.values"
   ]
  },
  {
   "cell_type": "code",
   "execution_count": 13,
   "metadata": {
    "collapsed": false
   },
   "outputs": [
    {
     "data": {
      "text/html": [
       "<div>\n",
       "<table border=\"1\" class=\"dataframe\">\n",
       "  <thead>\n",
       "    <tr style=\"text-align: right;\">\n",
       "      <th></th>\n",
       "      <th>A</th>\n",
       "      <th>B</th>\n",
       "      <th>C</th>\n",
       "      <th>D</th>\n",
       "    </tr>\n",
       "  </thead>\n",
       "  <tbody>\n",
       "    <tr>\n",
       "      <th>count</th>\n",
       "      <td>6.000000</td>\n",
       "      <td>6.000000</td>\n",
       "      <td>6.000000</td>\n",
       "      <td>6.000000</td>\n",
       "    </tr>\n",
       "    <tr>\n",
       "      <th>mean</th>\n",
       "      <td>0.297418</td>\n",
       "      <td>-0.303087</td>\n",
       "      <td>-0.523584</td>\n",
       "      <td>-0.088966</td>\n",
       "    </tr>\n",
       "    <tr>\n",
       "      <th>std</th>\n",
       "      <td>1.528820</td>\n",
       "      <td>0.744117</td>\n",
       "      <td>0.683496</td>\n",
       "      <td>0.595110</td>\n",
       "    </tr>\n",
       "    <tr>\n",
       "      <th>min</th>\n",
       "      <td>-1.963394</td>\n",
       "      <td>-1.338972</td>\n",
       "      <td>-1.549268</td>\n",
       "      <td>-0.876682</td>\n",
       "    </tr>\n",
       "    <tr>\n",
       "      <th>25%</th>\n",
       "      <td>-0.699559</td>\n",
       "      <td>-0.871652</td>\n",
       "      <td>-0.683241</td>\n",
       "      <td>-0.408527</td>\n",
       "    </tr>\n",
       "    <tr>\n",
       "      <th>50%</th>\n",
       "      <td>0.631136</td>\n",
       "      <td>-0.084639</td>\n",
       "      <td>-0.562669</td>\n",
       "      <td>-0.218167</td>\n",
       "    </tr>\n",
       "    <tr>\n",
       "      <th>75%</th>\n",
       "      <td>1.545373</td>\n",
       "      <td>0.264494</td>\n",
       "      <td>-0.377456</td>\n",
       "      <td>0.389032</td>\n",
       "    </tr>\n",
       "    <tr>\n",
       "      <th>max</th>\n",
       "      <td>1.778638</td>\n",
       "      <td>0.442848</td>\n",
       "      <td>0.572253</td>\n",
       "      <td>0.659767</td>\n",
       "    </tr>\n",
       "  </tbody>\n",
       "</table>\n",
       "</div>"
      ],
      "text/plain": [
       "              A         B         C         D\n",
       "count  6.000000  6.000000  6.000000  6.000000\n",
       "mean   0.297418 -0.303087 -0.523584 -0.088966\n",
       "std    1.528820  0.744117  0.683496  0.595110\n",
       "min   -1.963394 -1.338972 -1.549268 -0.876682\n",
       "25%   -0.699559 -0.871652 -0.683241 -0.408527\n",
       "50%    0.631136 -0.084639 -0.562669 -0.218167\n",
       "75%    1.545373  0.264494 -0.377456  0.389032\n",
       "max    1.778638  0.442848  0.572253  0.659767"
      ]
     },
     "execution_count": 13,
     "metadata": {},
     "output_type": "execute_result"
    }
   ],
   "source": [
    "df.describe()"
   ]
  },
  {
   "cell_type": "markdown",
   "metadata": {},
   "source": [
    "Transposing your data"
   ]
  },
  {
   "cell_type": "code",
   "execution_count": 14,
   "metadata": {
    "collapsed": false
   },
   "outputs": [
    {
     "data": {
      "text/html": [
       "<div>\n",
       "<table border=\"1\" class=\"dataframe\">\n",
       "  <thead>\n",
       "    <tr style=\"text-align: right;\">\n",
       "      <th></th>\n",
       "      <th>2013-01-01 00:00:00</th>\n",
       "      <th>2013-01-02 00:00:00</th>\n",
       "      <th>2013-01-03 00:00:00</th>\n",
       "      <th>2013-01-04 00:00:00</th>\n",
       "      <th>2013-01-05 00:00:00</th>\n",
       "      <th>2013-01-06 00:00:00</th>\n",
       "    </tr>\n",
       "  </thead>\n",
       "  <tbody>\n",
       "    <tr>\n",
       "      <th>A</th>\n",
       "      <td>-1.963394</td>\n",
       "      <td>1.778638</td>\n",
       "      <td>0.847391</td>\n",
       "      <td>-1.071039</td>\n",
       "      <td>0.414881</td>\n",
       "      <td>1.778033</td>\n",
       "    </tr>\n",
       "    <tr>\n",
       "      <th>B</th>\n",
       "      <td>0.308091</td>\n",
       "      <td>-1.338972</td>\n",
       "      <td>0.133701</td>\n",
       "      <td>0.442848</td>\n",
       "      <td>-1.061210</td>\n",
       "      <td>-0.302979</td>\n",
       "    </tr>\n",
       "    <tr>\n",
       "      <th>C</th>\n",
       "      <td>-1.549268</td>\n",
       "      <td>0.572253</td>\n",
       "      <td>-0.718947</td>\n",
       "      <td>-0.576122</td>\n",
       "      <td>-0.549216</td>\n",
       "      <td>-0.320203</td>\n",
       "    </tr>\n",
       "    <tr>\n",
       "      <th>D</th>\n",
       "      <td>0.659767</td>\n",
       "      <td>0.550902</td>\n",
       "      <td>-0.876682</td>\n",
       "      <td>-0.339758</td>\n",
       "      <td>-0.096576</td>\n",
       "      <td>-0.431450</td>\n",
       "    </tr>\n",
       "  </tbody>\n",
       "</table>\n",
       "</div>"
      ],
      "text/plain": [
       "   2013-01-01  2013-01-02  2013-01-03  2013-01-04  2013-01-05  2013-01-06\n",
       "A   -1.963394    1.778638    0.847391   -1.071039    0.414881    1.778033\n",
       "B    0.308091   -1.338972    0.133701    0.442848   -1.061210   -0.302979\n",
       "C   -1.549268    0.572253   -0.718947   -0.576122   -0.549216   -0.320203\n",
       "D    0.659767    0.550902   -0.876682   -0.339758   -0.096576   -0.431450"
      ]
     },
     "execution_count": 14,
     "metadata": {},
     "output_type": "execute_result"
    }
   ],
   "source": [
    "df.T"
   ]
  },
  {
   "cell_type": "markdown",
   "metadata": {},
   "source": [
    "Sorting by an axis"
   ]
  },
  {
   "cell_type": "code",
   "execution_count": 15,
   "metadata": {
    "collapsed": false
   },
   "outputs": [
    {
     "data": {
      "text/html": [
       "<div>\n",
       "<table border=\"1\" class=\"dataframe\">\n",
       "  <thead>\n",
       "    <tr style=\"text-align: right;\">\n",
       "      <th></th>\n",
       "      <th>D</th>\n",
       "      <th>C</th>\n",
       "      <th>B</th>\n",
       "      <th>A</th>\n",
       "    </tr>\n",
       "  </thead>\n",
       "  <tbody>\n",
       "    <tr>\n",
       "      <th>2013-01-01</th>\n",
       "      <td>0.659767</td>\n",
       "      <td>-1.549268</td>\n",
       "      <td>0.308091</td>\n",
       "      <td>-1.963394</td>\n",
       "    </tr>\n",
       "    <tr>\n",
       "      <th>2013-01-02</th>\n",
       "      <td>0.550902</td>\n",
       "      <td>0.572253</td>\n",
       "      <td>-1.338972</td>\n",
       "      <td>1.778638</td>\n",
       "    </tr>\n",
       "    <tr>\n",
       "      <th>2013-01-03</th>\n",
       "      <td>-0.876682</td>\n",
       "      <td>-0.718947</td>\n",
       "      <td>0.133701</td>\n",
       "      <td>0.847391</td>\n",
       "    </tr>\n",
       "    <tr>\n",
       "      <th>2013-01-04</th>\n",
       "      <td>-0.339758</td>\n",
       "      <td>-0.576122</td>\n",
       "      <td>0.442848</td>\n",
       "      <td>-1.071039</td>\n",
       "    </tr>\n",
       "    <tr>\n",
       "      <th>2013-01-05</th>\n",
       "      <td>-0.096576</td>\n",
       "      <td>-0.549216</td>\n",
       "      <td>-1.061210</td>\n",
       "      <td>0.414881</td>\n",
       "    </tr>\n",
       "    <tr>\n",
       "      <th>2013-01-06</th>\n",
       "      <td>-0.431450</td>\n",
       "      <td>-0.320203</td>\n",
       "      <td>-0.302979</td>\n",
       "      <td>1.778033</td>\n",
       "    </tr>\n",
       "  </tbody>\n",
       "</table>\n",
       "</div>"
      ],
      "text/plain": [
       "                   D         C         B         A\n",
       "2013-01-01  0.659767 -1.549268  0.308091 -1.963394\n",
       "2013-01-02  0.550902  0.572253 -1.338972  1.778638\n",
       "2013-01-03 -0.876682 -0.718947  0.133701  0.847391\n",
       "2013-01-04 -0.339758 -0.576122  0.442848 -1.071039\n",
       "2013-01-05 -0.096576 -0.549216 -1.061210  0.414881\n",
       "2013-01-06 -0.431450 -0.320203 -0.302979  1.778033"
      ]
     },
     "execution_count": 15,
     "metadata": {},
     "output_type": "execute_result"
    }
   ],
   "source": [
    "df.sort_index(axis=1, ascending=False)"
   ]
  },
  {
   "cell_type": "markdown",
   "metadata": {},
   "source": [
    "Sorting by values"
   ]
  },
  {
   "cell_type": "code",
   "execution_count": 27,
   "metadata": {
    "collapsed": false
   },
   "outputs": [
    {
     "data": {
      "text/html": [
       "<div>\n",
       "<table border=\"1\" class=\"dataframe\">\n",
       "  <thead>\n",
       "    <tr style=\"text-align: right;\">\n",
       "      <th></th>\n",
       "      <th>A</th>\n",
       "      <th>B</th>\n",
       "      <th>C</th>\n",
       "      <th>D</th>\n",
       "    </tr>\n",
       "  </thead>\n",
       "  <tbody>\n",
       "    <tr>\n",
       "      <th>2013-01-02</th>\n",
       "      <td>1.778638</td>\n",
       "      <td>-1.338972</td>\n",
       "      <td>0.572253</td>\n",
       "      <td>0.550902</td>\n",
       "    </tr>\n",
       "    <tr>\n",
       "      <th>2013-01-05</th>\n",
       "      <td>0.414881</td>\n",
       "      <td>-1.061210</td>\n",
       "      <td>-0.549216</td>\n",
       "      <td>-0.096576</td>\n",
       "    </tr>\n",
       "    <tr>\n",
       "      <th>2013-01-06</th>\n",
       "      <td>1.778033</td>\n",
       "      <td>-0.302979</td>\n",
       "      <td>-0.320203</td>\n",
       "      <td>-0.431450</td>\n",
       "    </tr>\n",
       "    <tr>\n",
       "      <th>2013-01-03</th>\n",
       "      <td>0.847391</td>\n",
       "      <td>0.133701</td>\n",
       "      <td>-0.718947</td>\n",
       "      <td>-0.876682</td>\n",
       "    </tr>\n",
       "    <tr>\n",
       "      <th>2013-01-01</th>\n",
       "      <td>-1.963394</td>\n",
       "      <td>0.308091</td>\n",
       "      <td>-1.549268</td>\n",
       "      <td>0.659767</td>\n",
       "    </tr>\n",
       "    <tr>\n",
       "      <th>2013-01-04</th>\n",
       "      <td>-1.071039</td>\n",
       "      <td>0.442848</td>\n",
       "      <td>-0.576122</td>\n",
       "      <td>-0.339758</td>\n",
       "    </tr>\n",
       "  </tbody>\n",
       "</table>\n",
       "</div>"
      ],
      "text/plain": [
       "                   A         B         C         D\n",
       "2013-01-02  1.778638 -1.338972  0.572253  0.550902\n",
       "2013-01-05  0.414881 -1.061210 -0.549216 -0.096576\n",
       "2013-01-06  1.778033 -0.302979 -0.320203 -0.431450\n",
       "2013-01-03  0.847391  0.133701 -0.718947 -0.876682\n",
       "2013-01-01 -1.963394  0.308091 -1.549268  0.659767\n",
       "2013-01-04 -1.071039  0.442848 -0.576122 -0.339758"
      ]
     },
     "execution_count": 27,
     "metadata": {},
     "output_type": "execute_result"
    }
   ],
   "source": [
    "df.sort_values(by='B', ascending=True)"
   ]
  },
  {
   "cell_type": "markdown",
   "metadata": {},
   "source": [
    "# Selection\n",
    "***Note:*** While standard Python / Numpy expressions for selecting and setting are intuitive and come in handy for interactive work, for production code, we recommend the optimized pandas data access methods, `.at`, .`iat`, `.loc`, `.iloc` and `.ix`.\n",
    "\n",
    "See the indexing documentation [Indexing and Selecting Data](http://pandas.pydata.org/pandas-docs/stable/indexing.html#indexing) and [MultiIndex / Advanced Indexing](http://pandas.pydata.org/pandas-docs/stable/advanced.html#advanced)\n",
    "\n",
    "## Getting\n",
    "\n",
    "Selecting a single column, which yields a `Series`, equivalent to `df.A`"
   ]
  },
  {
   "cell_type": "code",
   "execution_count": 18,
   "metadata": {
    "collapsed": false
   },
   "outputs": [
    {
     "data": {
      "text/plain": [
       "2013-01-01   -1.963394\n",
       "2013-01-02    1.778638\n",
       "2013-01-03    0.847391\n",
       "2013-01-04   -1.071039\n",
       "2013-01-05    0.414881\n",
       "2013-01-06    1.778033\n",
       "Freq: D, Name: A, dtype: float64"
      ]
     },
     "execution_count": 18,
     "metadata": {},
     "output_type": "execute_result"
    }
   ],
   "source": [
    "df['A']"
   ]
  },
  {
   "cell_type": "markdown",
   "metadata": {},
   "source": [
    "Out[23]: \n",
    "2013-01-01    0.469112\n",
    "2013-01-02    1.212112\n",
    "2013-01-03   -0.861849\n",
    "2013-01-04    0.721555\n",
    "2013-01-05   -0.424972\n",
    "2013-01-06   -0.673690\n",
    "Freq: D, Name: A, dtype: float64\n",
    "Selecting via [], which slices the rows."
   ]
  },
  {
   "cell_type": "code",
   "execution_count": 19,
   "metadata": {
    "collapsed": false
   },
   "outputs": [
    {
     "data": {
      "text/html": [
       "<div>\n",
       "<table border=\"1\" class=\"dataframe\">\n",
       "  <thead>\n",
       "    <tr style=\"text-align: right;\">\n",
       "      <th></th>\n",
       "      <th>A</th>\n",
       "      <th>B</th>\n",
       "      <th>C</th>\n",
       "      <th>D</th>\n",
       "    </tr>\n",
       "  </thead>\n",
       "  <tbody>\n",
       "    <tr>\n",
       "      <th>2013-01-01</th>\n",
       "      <td>-1.963394</td>\n",
       "      <td>0.308091</td>\n",
       "      <td>-1.549268</td>\n",
       "      <td>0.659767</td>\n",
       "    </tr>\n",
       "    <tr>\n",
       "      <th>2013-01-02</th>\n",
       "      <td>1.778638</td>\n",
       "      <td>-1.338972</td>\n",
       "      <td>0.572253</td>\n",
       "      <td>0.550902</td>\n",
       "    </tr>\n",
       "    <tr>\n",
       "      <th>2013-01-03</th>\n",
       "      <td>0.847391</td>\n",
       "      <td>0.133701</td>\n",
       "      <td>-0.718947</td>\n",
       "      <td>-0.876682</td>\n",
       "    </tr>\n",
       "  </tbody>\n",
       "</table>\n",
       "</div>"
      ],
      "text/plain": [
       "                   A         B         C         D\n",
       "2013-01-01 -1.963394  0.308091 -1.549268  0.659767\n",
       "2013-01-02  1.778638 -1.338972  0.572253  0.550902\n",
       "2013-01-03  0.847391  0.133701 -0.718947 -0.876682"
      ]
     },
     "execution_count": 19,
     "metadata": {},
     "output_type": "execute_result"
    }
   ],
   "source": [
    "df[0:3]"
   ]
  },
  {
   "cell_type": "code",
   "execution_count": 20,
   "metadata": {
    "collapsed": false
   },
   "outputs": [
    {
     "data": {
      "text/html": [
       "<div>\n",
       "<table border=\"1\" class=\"dataframe\">\n",
       "  <thead>\n",
       "    <tr style=\"text-align: right;\">\n",
       "      <th></th>\n",
       "      <th>A</th>\n",
       "      <th>B</th>\n",
       "      <th>C</th>\n",
       "      <th>D</th>\n",
       "    </tr>\n",
       "  </thead>\n",
       "  <tbody>\n",
       "    <tr>\n",
       "      <th>2013-01-02</th>\n",
       "      <td>1.778638</td>\n",
       "      <td>-1.338972</td>\n",
       "      <td>0.572253</td>\n",
       "      <td>0.550902</td>\n",
       "    </tr>\n",
       "    <tr>\n",
       "      <th>2013-01-03</th>\n",
       "      <td>0.847391</td>\n",
       "      <td>0.133701</td>\n",
       "      <td>-0.718947</td>\n",
       "      <td>-0.876682</td>\n",
       "    </tr>\n",
       "    <tr>\n",
       "      <th>2013-01-04</th>\n",
       "      <td>-1.071039</td>\n",
       "      <td>0.442848</td>\n",
       "      <td>-0.576122</td>\n",
       "      <td>-0.339758</td>\n",
       "    </tr>\n",
       "  </tbody>\n",
       "</table>\n",
       "</div>"
      ],
      "text/plain": [
       "                   A         B         C         D\n",
       "2013-01-02  1.778638 -1.338972  0.572253  0.550902\n",
       "2013-01-03  0.847391  0.133701 -0.718947 -0.876682\n",
       "2013-01-04 -1.071039  0.442848 -0.576122 -0.339758"
      ]
     },
     "execution_count": 20,
     "metadata": {},
     "output_type": "execute_result"
    }
   ],
   "source": [
    "df['20130102':'20130104']"
   ]
  },
  {
   "cell_type": "markdown",
   "metadata": {},
   "source": [
    "## Selection by Label\n",
    "\n",
    "See more in [Selection by Label](http://pandas.pydata.org/pandas-docs/stable/indexing.html#indexing-label)\n",
    "\n",
    "For getting a cross section using a label"
   ]
  },
  {
   "cell_type": "code",
   "execution_count": 22,
   "metadata": {
    "collapsed": false
   },
   "outputs": [
    {
     "data": {
      "text/plain": [
       "Timestamp('2013-01-01 00:00:00', offset='D')"
      ]
     },
     "execution_count": 22,
     "metadata": {},
     "output_type": "execute_result"
    }
   ],
   "source": [
    "dates[0]"
   ]
  },
  {
   "cell_type": "code",
   "execution_count": 21,
   "metadata": {
    "collapsed": false
   },
   "outputs": [
    {
     "data": {
      "text/plain": [
       "A   -1.963394\n",
       "B    0.308091\n",
       "C   -1.549268\n",
       "D    0.659767\n",
       "Name: 2013-01-01 00:00:00, dtype: float64"
      ]
     },
     "execution_count": 21,
     "metadata": {},
     "output_type": "execute_result"
    }
   ],
   "source": [
    "df.loc[dates[0]]"
   ]
  },
  {
   "cell_type": "markdown",
   "metadata": {},
   "source": [
    "Selecting on a multi-axis by label"
   ]
  },
  {
   "cell_type": "code",
   "execution_count": 28,
   "metadata": {
    "collapsed": false
   },
   "outputs": [
    {
     "data": {
      "text/html": [
       "<div>\n",
       "<table border=\"1\" class=\"dataframe\">\n",
       "  <thead>\n",
       "    <tr style=\"text-align: right;\">\n",
       "      <th></th>\n",
       "      <th>A</th>\n",
       "      <th>B</th>\n",
       "    </tr>\n",
       "  </thead>\n",
       "  <tbody>\n",
       "    <tr>\n",
       "      <th>2013-01-01</th>\n",
       "      <td>-1.963394</td>\n",
       "      <td>0.308091</td>\n",
       "    </tr>\n",
       "    <tr>\n",
       "      <th>2013-01-02</th>\n",
       "      <td>1.778638</td>\n",
       "      <td>-1.338972</td>\n",
       "    </tr>\n",
       "    <tr>\n",
       "      <th>2013-01-03</th>\n",
       "      <td>0.847391</td>\n",
       "      <td>0.133701</td>\n",
       "    </tr>\n",
       "    <tr>\n",
       "      <th>2013-01-04</th>\n",
       "      <td>-1.071039</td>\n",
       "      <td>0.442848</td>\n",
       "    </tr>\n",
       "    <tr>\n",
       "      <th>2013-01-05</th>\n",
       "      <td>0.414881</td>\n",
       "      <td>-1.061210</td>\n",
       "    </tr>\n",
       "    <tr>\n",
       "      <th>2013-01-06</th>\n",
       "      <td>1.778033</td>\n",
       "      <td>-0.302979</td>\n",
       "    </tr>\n",
       "  </tbody>\n",
       "</table>\n",
       "</div>"
      ],
      "text/plain": [
       "                   A         B\n",
       "2013-01-01 -1.963394  0.308091\n",
       "2013-01-02  1.778638 -1.338972\n",
       "2013-01-03  0.847391  0.133701\n",
       "2013-01-04 -1.071039  0.442848\n",
       "2013-01-05  0.414881 -1.061210\n",
       "2013-01-06  1.778033 -0.302979"
      ]
     },
     "execution_count": 28,
     "metadata": {},
     "output_type": "execute_result"
    }
   ],
   "source": [
    "df.loc[:,['A','B']]"
   ]
  },
  {
   "cell_type": "markdown",
   "metadata": {},
   "source": [
    "Showing label slicing, both endpoints are *included*"
   ]
  },
  {
   "cell_type": "code",
   "execution_count": 29,
   "metadata": {
    "collapsed": false
   },
   "outputs": [
    {
     "data": {
      "text/html": [
       "<div>\n",
       "<table border=\"1\" class=\"dataframe\">\n",
       "  <thead>\n",
       "    <tr style=\"text-align: right;\">\n",
       "      <th></th>\n",
       "      <th>A</th>\n",
       "      <th>B</th>\n",
       "    </tr>\n",
       "  </thead>\n",
       "  <tbody>\n",
       "    <tr>\n",
       "      <th>2013-01-02</th>\n",
       "      <td>1.778638</td>\n",
       "      <td>-1.338972</td>\n",
       "    </tr>\n",
       "    <tr>\n",
       "      <th>2013-01-03</th>\n",
       "      <td>0.847391</td>\n",
       "      <td>0.133701</td>\n",
       "    </tr>\n",
       "    <tr>\n",
       "      <th>2013-01-04</th>\n",
       "      <td>-1.071039</td>\n",
       "      <td>0.442848</td>\n",
       "    </tr>\n",
       "  </tbody>\n",
       "</table>\n",
       "</div>"
      ],
      "text/plain": [
       "                   A         B\n",
       "2013-01-02  1.778638 -1.338972\n",
       "2013-01-03  0.847391  0.133701\n",
       "2013-01-04 -1.071039  0.442848"
      ]
     },
     "execution_count": 29,
     "metadata": {},
     "output_type": "execute_result"
    }
   ],
   "source": [
    "df.loc['20130102':'20130104',['A','B']]"
   ]
  },
  {
   "cell_type": "markdown",
   "metadata": {},
   "source": [
    "Reduction in the dimensions of the returned object"
   ]
  },
  {
   "cell_type": "code",
   "execution_count": 31,
   "metadata": {
    "collapsed": false
   },
   "outputs": [
    {
     "data": {
      "text/plain": [
       "A    1.778638\n",
       "B   -1.338972\n",
       "Name: 2013-01-02 00:00:00, dtype: float64"
      ]
     },
     "execution_count": 31,
     "metadata": {},
     "output_type": "execute_result"
    }
   ],
   "source": [
    "df.loc['20130102',['A','B']]"
   ]
  },
  {
   "cell_type": "markdown",
   "metadata": {},
   "source": [
    "For getting a scalar value"
   ]
  },
  {
   "cell_type": "code",
   "execution_count": 32,
   "metadata": {
    "collapsed": false
   },
   "outputs": [
    {
     "data": {
      "text/plain": [
       "-1.9633939641019942"
      ]
     },
     "execution_count": 32,
     "metadata": {},
     "output_type": "execute_result"
    }
   ],
   "source": [
    "df.loc[dates[0],'A']"
   ]
  },
  {
   "cell_type": "markdown",
   "metadata": {},
   "source": [
    "For getting fast access to a scalar (equiv to the prior method)"
   ]
  },
  {
   "cell_type": "code",
   "execution_count": 33,
   "metadata": {
    "collapsed": false
   },
   "outputs": [
    {
     "data": {
      "text/plain": [
       "-1.9633939641019942"
      ]
     },
     "execution_count": 33,
     "metadata": {},
     "output_type": "execute_result"
    }
   ],
   "source": [
    "df.at[dates[0],'A']"
   ]
  },
  {
   "cell_type": "markdown",
   "metadata": {},
   "source": [
    "## Selection by Position\n",
    "\n",
    "See more in [Selection by Position](http://pandas.pydata.org/pandas-docs/stable/indexing.html#indexing-integer)\n",
    "\n",
    "Select via the position of the passed integers"
   ]
  },
  {
   "cell_type": "code",
   "execution_count": 34,
   "metadata": {
    "collapsed": false
   },
   "outputs": [
    {
     "data": {
      "text/plain": [
       "A   -1.071039\n",
       "B    0.442848\n",
       "C   -0.576122\n",
       "D   -0.339758\n",
       "Name: 2013-01-04 00:00:00, dtype: float64"
      ]
     },
     "execution_count": 34,
     "metadata": {},
     "output_type": "execute_result"
    }
   ],
   "source": [
    "df.iloc[3]"
   ]
  },
  {
   "cell_type": "markdown",
   "metadata": {},
   "source": [
    "By integer slices, acting similar to numpy/python"
   ]
  },
  {
   "cell_type": "code",
   "execution_count": 35,
   "metadata": {
    "collapsed": false
   },
   "outputs": [
    {
     "data": {
      "text/html": [
       "<div>\n",
       "<table border=\"1\" class=\"dataframe\">\n",
       "  <thead>\n",
       "    <tr style=\"text-align: right;\">\n",
       "      <th></th>\n",
       "      <th>A</th>\n",
       "      <th>B</th>\n",
       "    </tr>\n",
       "  </thead>\n",
       "  <tbody>\n",
       "    <tr>\n",
       "      <th>2013-01-04</th>\n",
       "      <td>-1.071039</td>\n",
       "      <td>0.442848</td>\n",
       "    </tr>\n",
       "    <tr>\n",
       "      <th>2013-01-05</th>\n",
       "      <td>0.414881</td>\n",
       "      <td>-1.061210</td>\n",
       "    </tr>\n",
       "  </tbody>\n",
       "</table>\n",
       "</div>"
      ],
      "text/plain": [
       "                   A         B\n",
       "2013-01-04 -1.071039  0.442848\n",
       "2013-01-05  0.414881 -1.061210"
      ]
     },
     "execution_count": 35,
     "metadata": {},
     "output_type": "execute_result"
    }
   ],
   "source": [
    "df.iloc[3:5,0:2]"
   ]
  },
  {
   "cell_type": "markdown",
   "metadata": {},
   "source": [
    "By lists of integer position locations, similar to the numpy/python style"
   ]
  },
  {
   "cell_type": "code",
   "execution_count": 36,
   "metadata": {
    "collapsed": false
   },
   "outputs": [
    {
     "data": {
      "text/html": [
       "<div>\n",
       "<table border=\"1\" class=\"dataframe\">\n",
       "  <thead>\n",
       "    <tr style=\"text-align: right;\">\n",
       "      <th></th>\n",
       "      <th>A</th>\n",
       "      <th>C</th>\n",
       "    </tr>\n",
       "  </thead>\n",
       "  <tbody>\n",
       "    <tr>\n",
       "      <th>2013-01-02</th>\n",
       "      <td>1.778638</td>\n",
       "      <td>0.572253</td>\n",
       "    </tr>\n",
       "    <tr>\n",
       "      <th>2013-01-03</th>\n",
       "      <td>0.847391</td>\n",
       "      <td>-0.718947</td>\n",
       "    </tr>\n",
       "    <tr>\n",
       "      <th>2013-01-05</th>\n",
       "      <td>0.414881</td>\n",
       "      <td>-0.549216</td>\n",
       "    </tr>\n",
       "  </tbody>\n",
       "</table>\n",
       "</div>"
      ],
      "text/plain": [
       "                   A         C\n",
       "2013-01-02  1.778638  0.572253\n",
       "2013-01-03  0.847391 -0.718947\n",
       "2013-01-05  0.414881 -0.549216"
      ]
     },
     "execution_count": 36,
     "metadata": {},
     "output_type": "execute_result"
    }
   ],
   "source": [
    "df.iloc[[1,2,4],[0,2]]"
   ]
  },
  {
   "cell_type": "markdown",
   "metadata": {},
   "source": [
    "For slicing rows explicitly"
   ]
  },
  {
   "cell_type": "code",
   "execution_count": 37,
   "metadata": {
    "collapsed": false
   },
   "outputs": [
    {
     "data": {
      "text/html": [
       "<div>\n",
       "<table border=\"1\" class=\"dataframe\">\n",
       "  <thead>\n",
       "    <tr style=\"text-align: right;\">\n",
       "      <th></th>\n",
       "      <th>A</th>\n",
       "      <th>B</th>\n",
       "      <th>C</th>\n",
       "      <th>D</th>\n",
       "    </tr>\n",
       "  </thead>\n",
       "  <tbody>\n",
       "    <tr>\n",
       "      <th>2013-01-02</th>\n",
       "      <td>1.778638</td>\n",
       "      <td>-1.338972</td>\n",
       "      <td>0.572253</td>\n",
       "      <td>0.550902</td>\n",
       "    </tr>\n",
       "    <tr>\n",
       "      <th>2013-01-03</th>\n",
       "      <td>0.847391</td>\n",
       "      <td>0.133701</td>\n",
       "      <td>-0.718947</td>\n",
       "      <td>-0.876682</td>\n",
       "    </tr>\n",
       "  </tbody>\n",
       "</table>\n",
       "</div>"
      ],
      "text/plain": [
       "                   A         B         C         D\n",
       "2013-01-02  1.778638 -1.338972  0.572253  0.550902\n",
       "2013-01-03  0.847391  0.133701 -0.718947 -0.876682"
      ]
     },
     "execution_count": 37,
     "metadata": {},
     "output_type": "execute_result"
    }
   ],
   "source": [
    "df.iloc[1:3,:]"
   ]
  },
  {
   "cell_type": "markdown",
   "metadata": {},
   "source": [
    "Out[35]: \n",
    "                   A         B         C         D\n",
    "2013-01-02  1.212112 -0.173215  0.119209 -1.044236\n",
    "2013-01-03 -0.861849 -2.104569 -0.494929  1.071804"
   ]
  },
  {
   "cell_type": "markdown",
   "metadata": {},
   "source": [
    "For slicing columns explicitly"
   ]
  },
  {
   "cell_type": "code",
   "execution_count": 38,
   "metadata": {
    "collapsed": false
   },
   "outputs": [
    {
     "data": {
      "text/html": [
       "<div>\n",
       "<table border=\"1\" class=\"dataframe\">\n",
       "  <thead>\n",
       "    <tr style=\"text-align: right;\">\n",
       "      <th></th>\n",
       "      <th>B</th>\n",
       "      <th>C</th>\n",
       "    </tr>\n",
       "  </thead>\n",
       "  <tbody>\n",
       "    <tr>\n",
       "      <th>2013-01-01</th>\n",
       "      <td>0.308091</td>\n",
       "      <td>-1.549268</td>\n",
       "    </tr>\n",
       "    <tr>\n",
       "      <th>2013-01-02</th>\n",
       "      <td>-1.338972</td>\n",
       "      <td>0.572253</td>\n",
       "    </tr>\n",
       "    <tr>\n",
       "      <th>2013-01-03</th>\n",
       "      <td>0.133701</td>\n",
       "      <td>-0.718947</td>\n",
       "    </tr>\n",
       "    <tr>\n",
       "      <th>2013-01-04</th>\n",
       "      <td>0.442848</td>\n",
       "      <td>-0.576122</td>\n",
       "    </tr>\n",
       "    <tr>\n",
       "      <th>2013-01-05</th>\n",
       "      <td>-1.061210</td>\n",
       "      <td>-0.549216</td>\n",
       "    </tr>\n",
       "    <tr>\n",
       "      <th>2013-01-06</th>\n",
       "      <td>-0.302979</td>\n",
       "      <td>-0.320203</td>\n",
       "    </tr>\n",
       "  </tbody>\n",
       "</table>\n",
       "</div>"
      ],
      "text/plain": [
       "                   B         C\n",
       "2013-01-01  0.308091 -1.549268\n",
       "2013-01-02 -1.338972  0.572253\n",
       "2013-01-03  0.133701 -0.718947\n",
       "2013-01-04  0.442848 -0.576122\n",
       "2013-01-05 -1.061210 -0.549216\n",
       "2013-01-06 -0.302979 -0.320203"
      ]
     },
     "execution_count": 38,
     "metadata": {},
     "output_type": "execute_result"
    }
   ],
   "source": [
    "df.iloc[:,1:3]"
   ]
  },
  {
   "cell_type": "markdown",
   "metadata": {},
   "source": [
    "For getting a value explicitly"
   ]
  },
  {
   "cell_type": "code",
   "execution_count": null,
   "metadata": {
    "collapsed": true
   },
   "outputs": [],
   "source": [
    "In [37]: df.iloc[1,1]\n",
    "Out[37]: -0.17321464905330858\n",
    "For getting fast access to a scalar (equiv to the prior method)\n",
    "\n",
    "In [38]: df.iat[1,1]\n",
    "Out[38]: -0.17321464905330858"
   ]
  },
  {
   "cell_type": "markdown",
   "metadata": {},
   "source": [
    "## Boolean Indexing\n",
    "\n",
    "Using a single column’s values to select data."
   ]
  },
  {
   "cell_type": "code",
   "execution_count": 48,
   "metadata": {
    "collapsed": false
   },
   "outputs": [
    {
     "data": {
      "text/html": [
       "<div>\n",
       "<table border=\"1\" class=\"dataframe\">\n",
       "  <thead>\n",
       "    <tr style=\"text-align: right;\">\n",
       "      <th></th>\n",
       "      <th>A</th>\n",
       "      <th>B</th>\n",
       "      <th>C</th>\n",
       "      <th>D</th>\n",
       "      <th>F</th>\n",
       "    </tr>\n",
       "  </thead>\n",
       "  <tbody>\n",
       "    <tr>\n",
       "      <th>2013-01-02</th>\n",
       "      <td>1.778638</td>\n",
       "      <td>-1.338972</td>\n",
       "      <td>0.572253</td>\n",
       "      <td>0.550902</td>\n",
       "      <td>1.0</td>\n",
       "    </tr>\n",
       "    <tr>\n",
       "      <th>2013-01-03</th>\n",
       "      <td>0.847391</td>\n",
       "      <td>0.133701</td>\n",
       "      <td>-0.718947</td>\n",
       "      <td>-0.876682</td>\n",
       "      <td>2.0</td>\n",
       "    </tr>\n",
       "    <tr>\n",
       "      <th>2013-01-05</th>\n",
       "      <td>0.414881</td>\n",
       "      <td>-1.061210</td>\n",
       "      <td>-0.549216</td>\n",
       "      <td>-0.096576</td>\n",
       "      <td>4.0</td>\n",
       "    </tr>\n",
       "    <tr>\n",
       "      <th>2013-01-06</th>\n",
       "      <td>1.778033</td>\n",
       "      <td>-0.302979</td>\n",
       "      <td>-0.320203</td>\n",
       "      <td>-0.431450</td>\n",
       "      <td>5.0</td>\n",
       "    </tr>\n",
       "  </tbody>\n",
       "</table>\n",
       "</div>"
      ],
      "text/plain": [
       "                   A         B         C         D    F\n",
       "2013-01-02  1.778638 -1.338972  0.572253  0.550902  1.0\n",
       "2013-01-03  0.847391  0.133701 -0.718947 -0.876682  2.0\n",
       "2013-01-05  0.414881 -1.061210 -0.549216 -0.096576  4.0\n",
       "2013-01-06  1.778033 -0.302979 -0.320203 -0.431450  5.0"
      ]
     },
     "execution_count": 48,
     "metadata": {},
     "output_type": "execute_result"
    }
   ],
   "source": [
    "In [39]: df[df.A > 0]"
   ]
  },
  {
   "cell_type": "markdown",
   "metadata": {},
   "source": [
    "A `where` operation for getting."
   ]
  },
  {
   "cell_type": "code",
   "execution_count": 49,
   "metadata": {
    "collapsed": false
   },
   "outputs": [
    {
     "data": {
      "text/html": [
       "<div>\n",
       "<table border=\"1\" class=\"dataframe\">\n",
       "  <thead>\n",
       "    <tr style=\"text-align: right;\">\n",
       "      <th></th>\n",
       "      <th>A</th>\n",
       "      <th>B</th>\n",
       "      <th>C</th>\n",
       "      <th>D</th>\n",
       "      <th>F</th>\n",
       "    </tr>\n",
       "  </thead>\n",
       "  <tbody>\n",
       "    <tr>\n",
       "      <th>2013-01-01</th>\n",
       "      <td>NaN</td>\n",
       "      <td>0.308091</td>\n",
       "      <td>NaN</td>\n",
       "      <td>0.659767</td>\n",
       "      <td>NaN</td>\n",
       "    </tr>\n",
       "    <tr>\n",
       "      <th>2013-01-02</th>\n",
       "      <td>1.778638</td>\n",
       "      <td>NaN</td>\n",
       "      <td>0.572253</td>\n",
       "      <td>0.550902</td>\n",
       "      <td>1.0</td>\n",
       "    </tr>\n",
       "    <tr>\n",
       "      <th>2013-01-03</th>\n",
       "      <td>0.847391</td>\n",
       "      <td>0.133701</td>\n",
       "      <td>NaN</td>\n",
       "      <td>NaN</td>\n",
       "      <td>2.0</td>\n",
       "    </tr>\n",
       "    <tr>\n",
       "      <th>2013-01-04</th>\n",
       "      <td>NaN</td>\n",
       "      <td>0.442848</td>\n",
       "      <td>NaN</td>\n",
       "      <td>NaN</td>\n",
       "      <td>3.0</td>\n",
       "    </tr>\n",
       "    <tr>\n",
       "      <th>2013-01-05</th>\n",
       "      <td>0.414881</td>\n",
       "      <td>NaN</td>\n",
       "      <td>NaN</td>\n",
       "      <td>NaN</td>\n",
       "      <td>4.0</td>\n",
       "    </tr>\n",
       "    <tr>\n",
       "      <th>2013-01-06</th>\n",
       "      <td>1.778033</td>\n",
       "      <td>NaN</td>\n",
       "      <td>NaN</td>\n",
       "      <td>NaN</td>\n",
       "      <td>5.0</td>\n",
       "    </tr>\n",
       "  </tbody>\n",
       "</table>\n",
       "</div>"
      ],
      "text/plain": [
       "                   A         B         C         D    F\n",
       "2013-01-01       NaN  0.308091       NaN  0.659767  NaN\n",
       "2013-01-02  1.778638       NaN  0.572253  0.550902  1.0\n",
       "2013-01-03  0.847391  0.133701       NaN       NaN  2.0\n",
       "2013-01-04       NaN  0.442848       NaN       NaN  3.0\n",
       "2013-01-05  0.414881       NaN       NaN       NaN  4.0\n",
       "2013-01-06  1.778033       NaN       NaN       NaN  5.0"
      ]
     },
     "execution_count": 49,
     "metadata": {},
     "output_type": "execute_result"
    }
   ],
   "source": [
    "df[df > 0]"
   ]
  },
  {
   "cell_type": "markdown",
   "metadata": {},
   "source": [
    "Using the `isin()` method for filtering:"
   ]
  },
  {
   "cell_type": "code",
   "execution_count": 39,
   "metadata": {
    "collapsed": false
   },
   "outputs": [
    {
     "data": {
      "text/html": [
       "<div>\n",
       "<table border=\"1\" class=\"dataframe\">\n",
       "  <thead>\n",
       "    <tr style=\"text-align: right;\">\n",
       "      <th></th>\n",
       "      <th>A</th>\n",
       "      <th>B</th>\n",
       "      <th>C</th>\n",
       "      <th>D</th>\n",
       "      <th>E</th>\n",
       "    </tr>\n",
       "  </thead>\n",
       "  <tbody>\n",
       "    <tr>\n",
       "      <th>2013-01-01</th>\n",
       "      <td>-1.963394</td>\n",
       "      <td>0.308091</td>\n",
       "      <td>-1.549268</td>\n",
       "      <td>0.659767</td>\n",
       "      <td>one</td>\n",
       "    </tr>\n",
       "    <tr>\n",
       "      <th>2013-01-02</th>\n",
       "      <td>1.778638</td>\n",
       "      <td>-1.338972</td>\n",
       "      <td>0.572253</td>\n",
       "      <td>0.550902</td>\n",
       "      <td>one</td>\n",
       "    </tr>\n",
       "    <tr>\n",
       "      <th>2013-01-03</th>\n",
       "      <td>0.847391</td>\n",
       "      <td>0.133701</td>\n",
       "      <td>-0.718947</td>\n",
       "      <td>-0.876682</td>\n",
       "      <td>two</td>\n",
       "    </tr>\n",
       "    <tr>\n",
       "      <th>2013-01-04</th>\n",
       "      <td>-1.071039</td>\n",
       "      <td>0.442848</td>\n",
       "      <td>-0.576122</td>\n",
       "      <td>-0.339758</td>\n",
       "      <td>three</td>\n",
       "    </tr>\n",
       "    <tr>\n",
       "      <th>2013-01-05</th>\n",
       "      <td>0.414881</td>\n",
       "      <td>-1.061210</td>\n",
       "      <td>-0.549216</td>\n",
       "      <td>-0.096576</td>\n",
       "      <td>four</td>\n",
       "    </tr>\n",
       "    <tr>\n",
       "      <th>2013-01-06</th>\n",
       "      <td>1.778033</td>\n",
       "      <td>-0.302979</td>\n",
       "      <td>-0.320203</td>\n",
       "      <td>-0.431450</td>\n",
       "      <td>three</td>\n",
       "    </tr>\n",
       "  </tbody>\n",
       "</table>\n",
       "</div>"
      ],
      "text/plain": [
       "                   A         B         C         D      E\n",
       "2013-01-01 -1.963394  0.308091 -1.549268  0.659767    one\n",
       "2013-01-02  1.778638 -1.338972  0.572253  0.550902    one\n",
       "2013-01-03  0.847391  0.133701 -0.718947 -0.876682    two\n",
       "2013-01-04 -1.071039  0.442848 -0.576122 -0.339758  three\n",
       "2013-01-05  0.414881 -1.061210 -0.549216 -0.096576   four\n",
       "2013-01-06  1.778033 -0.302979 -0.320203 -0.431450  three"
      ]
     },
     "execution_count": 39,
     "metadata": {},
     "output_type": "execute_result"
    }
   ],
   "source": [
    "df2 = df.copy()\n",
    "df2['E'] = ['one', 'one','two','three','four','three']\n",
    "df2"
   ]
  },
  {
   "cell_type": "code",
   "execution_count": 40,
   "metadata": {
    "collapsed": false
   },
   "outputs": [
    {
     "data": {
      "text/html": [
       "<div>\n",
       "<table border=\"1\" class=\"dataframe\">\n",
       "  <thead>\n",
       "    <tr style=\"text-align: right;\">\n",
       "      <th></th>\n",
       "      <th>A</th>\n",
       "      <th>B</th>\n",
       "      <th>C</th>\n",
       "      <th>D</th>\n",
       "      <th>E</th>\n",
       "    </tr>\n",
       "  </thead>\n",
       "  <tbody>\n",
       "    <tr>\n",
       "      <th>2013-01-03</th>\n",
       "      <td>0.847391</td>\n",
       "      <td>0.133701</td>\n",
       "      <td>-0.718947</td>\n",
       "      <td>-0.876682</td>\n",
       "      <td>two</td>\n",
       "    </tr>\n",
       "    <tr>\n",
       "      <th>2013-01-05</th>\n",
       "      <td>0.414881</td>\n",
       "      <td>-1.061210</td>\n",
       "      <td>-0.549216</td>\n",
       "      <td>-0.096576</td>\n",
       "      <td>four</td>\n",
       "    </tr>\n",
       "  </tbody>\n",
       "</table>\n",
       "</div>"
      ],
      "text/plain": [
       "                   A         B         C         D     E\n",
       "2013-01-03  0.847391  0.133701 -0.718947 -0.876682   two\n",
       "2013-01-05  0.414881 -1.061210 -0.549216 -0.096576  four"
      ]
     },
     "execution_count": 40,
     "metadata": {},
     "output_type": "execute_result"
    }
   ],
   "source": [
    "df2[df2['E'].isin(['two','four'])]"
   ]
  },
  {
   "cell_type": "markdown",
   "metadata": {},
   "source": [
    "## Setting\n",
    "\n",
    "Setting a new column automatically aligns the data by the indexes"
   ]
  },
  {
   "cell_type": "code",
   "execution_count": 42,
   "metadata": {
    "collapsed": false
   },
   "outputs": [
    {
     "data": {
      "text/plain": [
       "2013-01-02    1\n",
       "2013-01-03    2\n",
       "2013-01-04    3\n",
       "2013-01-05    4\n",
       "2013-01-06    5\n",
       "2013-01-07    6\n",
       "Freq: D, dtype: int64"
      ]
     },
     "execution_count": 42,
     "metadata": {},
     "output_type": "execute_result"
    }
   ],
   "source": [
    "s1 = pd.Series([1,2,3,4,5,6], index=pd.date_range('20130102', periods=6))\n",
    "s1"
   ]
  },
  {
   "cell_type": "code",
   "execution_count": 44,
   "metadata": {
    "collapsed": false
   },
   "outputs": [
    {
     "data": {
      "text/html": [
       "<div>\n",
       "<table border=\"1\" class=\"dataframe\">\n",
       "  <thead>\n",
       "    <tr style=\"text-align: right;\">\n",
       "      <th></th>\n",
       "      <th>A</th>\n",
       "      <th>B</th>\n",
       "      <th>C</th>\n",
       "      <th>D</th>\n",
       "      <th>F</th>\n",
       "    </tr>\n",
       "  </thead>\n",
       "  <tbody>\n",
       "    <tr>\n",
       "      <th>2013-01-01</th>\n",
       "      <td>-1.963394</td>\n",
       "      <td>0.308091</td>\n",
       "      <td>-1.549268</td>\n",
       "      <td>0.659767</td>\n",
       "      <td>NaN</td>\n",
       "    </tr>\n",
       "    <tr>\n",
       "      <th>2013-01-02</th>\n",
       "      <td>1.778638</td>\n",
       "      <td>-1.338972</td>\n",
       "      <td>0.572253</td>\n",
       "      <td>0.550902</td>\n",
       "      <td>1.0</td>\n",
       "    </tr>\n",
       "    <tr>\n",
       "      <th>2013-01-03</th>\n",
       "      <td>0.847391</td>\n",
       "      <td>0.133701</td>\n",
       "      <td>-0.718947</td>\n",
       "      <td>-0.876682</td>\n",
       "      <td>2.0</td>\n",
       "    </tr>\n",
       "    <tr>\n",
       "      <th>2013-01-04</th>\n",
       "      <td>-1.071039</td>\n",
       "      <td>0.442848</td>\n",
       "      <td>-0.576122</td>\n",
       "      <td>-0.339758</td>\n",
       "      <td>3.0</td>\n",
       "    </tr>\n",
       "    <tr>\n",
       "      <th>2013-01-05</th>\n",
       "      <td>0.414881</td>\n",
       "      <td>-1.061210</td>\n",
       "      <td>-0.549216</td>\n",
       "      <td>-0.096576</td>\n",
       "      <td>4.0</td>\n",
       "    </tr>\n",
       "    <tr>\n",
       "      <th>2013-01-06</th>\n",
       "      <td>1.778033</td>\n",
       "      <td>-0.302979</td>\n",
       "      <td>-0.320203</td>\n",
       "      <td>-0.431450</td>\n",
       "      <td>5.0</td>\n",
       "    </tr>\n",
       "  </tbody>\n",
       "</table>\n",
       "</div>"
      ],
      "text/plain": [
       "                   A         B         C         D    F\n",
       "2013-01-01 -1.963394  0.308091 -1.549268  0.659767  NaN\n",
       "2013-01-02  1.778638 -1.338972  0.572253  0.550902  1.0\n",
       "2013-01-03  0.847391  0.133701 -0.718947 -0.876682  2.0\n",
       "2013-01-04 -1.071039  0.442848 -0.576122 -0.339758  3.0\n",
       "2013-01-05  0.414881 -1.061210 -0.549216 -0.096576  4.0\n",
       "2013-01-06  1.778033 -0.302979 -0.320203 -0.431450  5.0"
      ]
     },
     "execution_count": 44,
     "metadata": {},
     "output_type": "execute_result"
    }
   ],
   "source": [
    "df['F'] = s1\n",
    "df"
   ]
  },
  {
   "cell_type": "markdown",
   "metadata": {},
   "source": [
    "Setting values by label"
   ]
  },
  {
   "cell_type": "code",
   "execution_count": 46,
   "metadata": {
    "collapsed": false
   },
   "outputs": [
    {
     "data": {
      "text/html": [
       "<div>\n",
       "<table border=\"1\" class=\"dataframe\">\n",
       "  <thead>\n",
       "    <tr style=\"text-align: right;\">\n",
       "      <th></th>\n",
       "      <th>A</th>\n",
       "      <th>B</th>\n",
       "      <th>C</th>\n",
       "      <th>D</th>\n",
       "      <th>F</th>\n",
       "    </tr>\n",
       "  </thead>\n",
       "  <tbody>\n",
       "    <tr>\n",
       "      <th>2013-01-01</th>\n",
       "      <td>0.000000</td>\n",
       "      <td>0.308091</td>\n",
       "      <td>-1.549268</td>\n",
       "      <td>0.659767</td>\n",
       "      <td>NaN</td>\n",
       "    </tr>\n",
       "    <tr>\n",
       "      <th>2013-01-02</th>\n",
       "      <td>1.778638</td>\n",
       "      <td>-1.338972</td>\n",
       "      <td>0.572253</td>\n",
       "      <td>0.550902</td>\n",
       "      <td>1.0</td>\n",
       "    </tr>\n",
       "    <tr>\n",
       "      <th>2013-01-03</th>\n",
       "      <td>0.847391</td>\n",
       "      <td>0.133701</td>\n",
       "      <td>-0.718947</td>\n",
       "      <td>-0.876682</td>\n",
       "      <td>2.0</td>\n",
       "    </tr>\n",
       "    <tr>\n",
       "      <th>2013-01-04</th>\n",
       "      <td>-1.071039</td>\n",
       "      <td>0.442848</td>\n",
       "      <td>-0.576122</td>\n",
       "      <td>-0.339758</td>\n",
       "      <td>3.0</td>\n",
       "    </tr>\n",
       "    <tr>\n",
       "      <th>2013-01-05</th>\n",
       "      <td>0.414881</td>\n",
       "      <td>-1.061210</td>\n",
       "      <td>-0.549216</td>\n",
       "      <td>-0.096576</td>\n",
       "      <td>4.0</td>\n",
       "    </tr>\n",
       "    <tr>\n",
       "      <th>2013-01-06</th>\n",
       "      <td>1.778033</td>\n",
       "      <td>-0.302979</td>\n",
       "      <td>-0.320203</td>\n",
       "      <td>-0.431450</td>\n",
       "      <td>5.0</td>\n",
       "    </tr>\n",
       "  </tbody>\n",
       "</table>\n",
       "</div>"
      ],
      "text/plain": [
       "                   A         B         C         D    F\n",
       "2013-01-01  0.000000  0.308091 -1.549268  0.659767  NaN\n",
       "2013-01-02  1.778638 -1.338972  0.572253  0.550902  1.0\n",
       "2013-01-03  0.847391  0.133701 -0.718947 -0.876682  2.0\n",
       "2013-01-04 -1.071039  0.442848 -0.576122 -0.339758  3.0\n",
       "2013-01-05  0.414881 -1.061210 -0.549216 -0.096576  4.0\n",
       "2013-01-06  1.778033 -0.302979 -0.320203 -0.431450  5.0"
      ]
     },
     "execution_count": 46,
     "metadata": {},
     "output_type": "execute_result"
    }
   ],
   "source": [
    "df.at[dates[0],'A'] = 0\n",
    "df"
   ]
  },
  {
   "cell_type": "markdown",
   "metadata": {},
   "source": [
    "Setting values by position"
   ]
  },
  {
   "cell_type": "code",
   "execution_count": null,
   "metadata": {
    "collapsed": true
   },
   "outputs": [],
   "source": [
    "df.iat[0,1] = 0"
   ]
  },
  {
   "cell_type": "markdown",
   "metadata": {},
   "source": [
    "Setting by assigning with a numpy array"
   ]
  },
  {
   "cell_type": "code",
   "execution_count": null,
   "metadata": {
    "collapsed": true
   },
   "outputs": [],
   "source": [
    "df.loc[:,'D'] = np.array([5] * len(df))"
   ]
  },
  {
   "cell_type": "markdown",
   "metadata": {},
   "source": [
    "The result of the prior setting operations"
   ]
  },
  {
   "cell_type": "code",
   "execution_count": 47,
   "metadata": {
    "collapsed": false
   },
   "outputs": [
    {
     "data": {
      "text/html": [
       "<div>\n",
       "<table border=\"1\" class=\"dataframe\">\n",
       "  <thead>\n",
       "    <tr style=\"text-align: right;\">\n",
       "      <th></th>\n",
       "      <th>A</th>\n",
       "      <th>B</th>\n",
       "      <th>C</th>\n",
       "      <th>D</th>\n",
       "      <th>F</th>\n",
       "    </tr>\n",
       "  </thead>\n",
       "  <tbody>\n",
       "    <tr>\n",
       "      <th>2013-01-01</th>\n",
       "      <td>0.000000</td>\n",
       "      <td>0.308091</td>\n",
       "      <td>-1.549268</td>\n",
       "      <td>0.659767</td>\n",
       "      <td>NaN</td>\n",
       "    </tr>\n",
       "    <tr>\n",
       "      <th>2013-01-02</th>\n",
       "      <td>1.778638</td>\n",
       "      <td>-1.338972</td>\n",
       "      <td>0.572253</td>\n",
       "      <td>0.550902</td>\n",
       "      <td>1.0</td>\n",
       "    </tr>\n",
       "    <tr>\n",
       "      <th>2013-01-03</th>\n",
       "      <td>0.847391</td>\n",
       "      <td>0.133701</td>\n",
       "      <td>-0.718947</td>\n",
       "      <td>-0.876682</td>\n",
       "      <td>2.0</td>\n",
       "    </tr>\n",
       "    <tr>\n",
       "      <th>2013-01-04</th>\n",
       "      <td>-1.071039</td>\n",
       "      <td>0.442848</td>\n",
       "      <td>-0.576122</td>\n",
       "      <td>-0.339758</td>\n",
       "      <td>3.0</td>\n",
       "    </tr>\n",
       "    <tr>\n",
       "      <th>2013-01-05</th>\n",
       "      <td>0.414881</td>\n",
       "      <td>-1.061210</td>\n",
       "      <td>-0.549216</td>\n",
       "      <td>-0.096576</td>\n",
       "      <td>4.0</td>\n",
       "    </tr>\n",
       "    <tr>\n",
       "      <th>2013-01-06</th>\n",
       "      <td>1.778033</td>\n",
       "      <td>-0.302979</td>\n",
       "      <td>-0.320203</td>\n",
       "      <td>-0.431450</td>\n",
       "      <td>5.0</td>\n",
       "    </tr>\n",
       "  </tbody>\n",
       "</table>\n",
       "</div>"
      ],
      "text/plain": [
       "                   A         B         C         D    F\n",
       "2013-01-01  0.000000  0.308091 -1.549268  0.659767  NaN\n",
       "2013-01-02  1.778638 -1.338972  0.572253  0.550902  1.0\n",
       "2013-01-03  0.847391  0.133701 -0.718947 -0.876682  2.0\n",
       "2013-01-04 -1.071039  0.442848 -0.576122 -0.339758  3.0\n",
       "2013-01-05  0.414881 -1.061210 -0.549216 -0.096576  4.0\n",
       "2013-01-06  1.778033 -0.302979 -0.320203 -0.431450  5.0"
      ]
     },
     "execution_count": 47,
     "metadata": {},
     "output_type": "execute_result"
    }
   ],
   "source": [
    "df"
   ]
  },
  {
   "cell_type": "markdown",
   "metadata": {},
   "source": [
    "A `where` operation with setting."
   ]
  },
  {
   "cell_type": "code",
   "execution_count": 50,
   "metadata": {
    "collapsed": false
   },
   "outputs": [
    {
     "data": {
      "text/html": [
       "<div>\n",
       "<table border=\"1\" class=\"dataframe\">\n",
       "  <thead>\n",
       "    <tr style=\"text-align: right;\">\n",
       "      <th></th>\n",
       "      <th>A</th>\n",
       "      <th>B</th>\n",
       "      <th>C</th>\n",
       "      <th>D</th>\n",
       "      <th>F</th>\n",
       "    </tr>\n",
       "  </thead>\n",
       "  <tbody>\n",
       "    <tr>\n",
       "      <th>2013-01-01</th>\n",
       "      <td>0.000000</td>\n",
       "      <td>-0.308091</td>\n",
       "      <td>-1.549268</td>\n",
       "      <td>-0.659767</td>\n",
       "      <td>NaN</td>\n",
       "    </tr>\n",
       "    <tr>\n",
       "      <th>2013-01-02</th>\n",
       "      <td>-1.778638</td>\n",
       "      <td>-1.338972</td>\n",
       "      <td>-0.572253</td>\n",
       "      <td>-0.550902</td>\n",
       "      <td>-1.0</td>\n",
       "    </tr>\n",
       "    <tr>\n",
       "      <th>2013-01-03</th>\n",
       "      <td>-0.847391</td>\n",
       "      <td>-0.133701</td>\n",
       "      <td>-0.718947</td>\n",
       "      <td>-0.876682</td>\n",
       "      <td>-2.0</td>\n",
       "    </tr>\n",
       "    <tr>\n",
       "      <th>2013-01-04</th>\n",
       "      <td>-1.071039</td>\n",
       "      <td>-0.442848</td>\n",
       "      <td>-0.576122</td>\n",
       "      <td>-0.339758</td>\n",
       "      <td>-3.0</td>\n",
       "    </tr>\n",
       "    <tr>\n",
       "      <th>2013-01-05</th>\n",
       "      <td>-0.414881</td>\n",
       "      <td>-1.061210</td>\n",
       "      <td>-0.549216</td>\n",
       "      <td>-0.096576</td>\n",
       "      <td>-4.0</td>\n",
       "    </tr>\n",
       "    <tr>\n",
       "      <th>2013-01-06</th>\n",
       "      <td>-1.778033</td>\n",
       "      <td>-0.302979</td>\n",
       "      <td>-0.320203</td>\n",
       "      <td>-0.431450</td>\n",
       "      <td>-5.0</td>\n",
       "    </tr>\n",
       "  </tbody>\n",
       "</table>\n",
       "</div>"
      ],
      "text/plain": [
       "                   A         B         C         D    F\n",
       "2013-01-01  0.000000 -0.308091 -1.549268 -0.659767  NaN\n",
       "2013-01-02 -1.778638 -1.338972 -0.572253 -0.550902 -1.0\n",
       "2013-01-03 -0.847391 -0.133701 -0.718947 -0.876682 -2.0\n",
       "2013-01-04 -1.071039 -0.442848 -0.576122 -0.339758 -3.0\n",
       "2013-01-05 -0.414881 -1.061210 -0.549216 -0.096576 -4.0\n",
       "2013-01-06 -1.778033 -0.302979 -0.320203 -0.431450 -5.0"
      ]
     },
     "execution_count": 50,
     "metadata": {},
     "output_type": "execute_result"
    }
   ],
   "source": [
    "df2 = df.copy()\n",
    "df2[df2 > 0] = -df2\n",
    "df2"
   ]
  },
  {
   "cell_type": "markdown",
   "metadata": {},
   "source": [
    "# Missing Data\n",
    "pandas primarily uses the value `np.nan` to represent missing data. It is by default not included in computations.\n",
    "See the [Missing Data section]()\n",
    "\n",
    "Reindexing allows you to change/add/delete the index on a specified axis. This returns a copy of the data."
   ]
  },
  {
   "cell_type": "code",
   "execution_count": 51,
   "metadata": {
    "collapsed": false
   },
   "outputs": [
    {
     "data": {
      "text/html": [
       "<div>\n",
       "<table border=\"1\" class=\"dataframe\">\n",
       "  <thead>\n",
       "    <tr style=\"text-align: right;\">\n",
       "      <th></th>\n",
       "      <th>A</th>\n",
       "      <th>B</th>\n",
       "      <th>C</th>\n",
       "      <th>D</th>\n",
       "      <th>F</th>\n",
       "      <th>E</th>\n",
       "    </tr>\n",
       "  </thead>\n",
       "  <tbody>\n",
       "    <tr>\n",
       "      <th>2013-01-01</th>\n",
       "      <td>0.000000</td>\n",
       "      <td>0.308091</td>\n",
       "      <td>-1.549268</td>\n",
       "      <td>0.659767</td>\n",
       "      <td>NaN</td>\n",
       "      <td>1.0</td>\n",
       "    </tr>\n",
       "    <tr>\n",
       "      <th>2013-01-02</th>\n",
       "      <td>1.778638</td>\n",
       "      <td>-1.338972</td>\n",
       "      <td>0.572253</td>\n",
       "      <td>0.550902</td>\n",
       "      <td>1.0</td>\n",
       "      <td>1.0</td>\n",
       "    </tr>\n",
       "    <tr>\n",
       "      <th>2013-01-03</th>\n",
       "      <td>0.847391</td>\n",
       "      <td>0.133701</td>\n",
       "      <td>-0.718947</td>\n",
       "      <td>-0.876682</td>\n",
       "      <td>2.0</td>\n",
       "      <td>NaN</td>\n",
       "    </tr>\n",
       "    <tr>\n",
       "      <th>2013-01-04</th>\n",
       "      <td>-1.071039</td>\n",
       "      <td>0.442848</td>\n",
       "      <td>-0.576122</td>\n",
       "      <td>-0.339758</td>\n",
       "      <td>3.0</td>\n",
       "      <td>NaN</td>\n",
       "    </tr>\n",
       "  </tbody>\n",
       "</table>\n",
       "</div>"
      ],
      "text/plain": [
       "                   A         B         C         D    F    E\n",
       "2013-01-01  0.000000  0.308091 -1.549268  0.659767  NaN  1.0\n",
       "2013-01-02  1.778638 -1.338972  0.572253  0.550902  1.0  1.0\n",
       "2013-01-03  0.847391  0.133701 -0.718947 -0.876682  2.0  NaN\n",
       "2013-01-04 -1.071039  0.442848 -0.576122 -0.339758  3.0  NaN"
      ]
     },
     "execution_count": 51,
     "metadata": {},
     "output_type": "execute_result"
    }
   ],
   "source": [
    "df1 = df.reindex(index=dates[0:4], columns=list(df.columns) + ['E'])\n",
    "df1.loc[dates[0]:dates[1],'E'] = 1\n",
    "df1"
   ]
  },
  {
   "cell_type": "markdown",
   "metadata": {},
   "source": [
    "To drop any rows that have missing data."
   ]
  },
  {
   "cell_type": "code",
   "execution_count": 52,
   "metadata": {
    "collapsed": false
   },
   "outputs": [
    {
     "data": {
      "text/html": [
       "<div>\n",
       "<table border=\"1\" class=\"dataframe\">\n",
       "  <thead>\n",
       "    <tr style=\"text-align: right;\">\n",
       "      <th></th>\n",
       "      <th>A</th>\n",
       "      <th>B</th>\n",
       "      <th>C</th>\n",
       "      <th>D</th>\n",
       "      <th>F</th>\n",
       "      <th>E</th>\n",
       "    </tr>\n",
       "  </thead>\n",
       "  <tbody>\n",
       "    <tr>\n",
       "      <th>2013-01-02</th>\n",
       "      <td>1.778638</td>\n",
       "      <td>-1.338972</td>\n",
       "      <td>0.572253</td>\n",
       "      <td>0.550902</td>\n",
       "      <td>1.0</td>\n",
       "      <td>1.0</td>\n",
       "    </tr>\n",
       "  </tbody>\n",
       "</table>\n",
       "</div>"
      ],
      "text/plain": [
       "                   A         B         C         D    F    E\n",
       "2013-01-02  1.778638 -1.338972  0.572253  0.550902  1.0  1.0"
      ]
     },
     "execution_count": 52,
     "metadata": {},
     "output_type": "execute_result"
    }
   ],
   "source": [
    "df1.dropna(how='any')"
   ]
  },
  {
   "cell_type": "markdown",
   "metadata": {},
   "source": [
    "Filling missing data"
   ]
  },
  {
   "cell_type": "code",
   "execution_count": 53,
   "metadata": {
    "collapsed": false
   },
   "outputs": [
    {
     "data": {
      "text/html": [
       "<div>\n",
       "<table border=\"1\" class=\"dataframe\">\n",
       "  <thead>\n",
       "    <tr style=\"text-align: right;\">\n",
       "      <th></th>\n",
       "      <th>A</th>\n",
       "      <th>B</th>\n",
       "      <th>C</th>\n",
       "      <th>D</th>\n",
       "      <th>F</th>\n",
       "      <th>E</th>\n",
       "    </tr>\n",
       "  </thead>\n",
       "  <tbody>\n",
       "    <tr>\n",
       "      <th>2013-01-01</th>\n",
       "      <td>0.000000</td>\n",
       "      <td>0.308091</td>\n",
       "      <td>-1.549268</td>\n",
       "      <td>0.659767</td>\n",
       "      <td>5.0</td>\n",
       "      <td>1.0</td>\n",
       "    </tr>\n",
       "    <tr>\n",
       "      <th>2013-01-02</th>\n",
       "      <td>1.778638</td>\n",
       "      <td>-1.338972</td>\n",
       "      <td>0.572253</td>\n",
       "      <td>0.550902</td>\n",
       "      <td>1.0</td>\n",
       "      <td>1.0</td>\n",
       "    </tr>\n",
       "    <tr>\n",
       "      <th>2013-01-03</th>\n",
       "      <td>0.847391</td>\n",
       "      <td>0.133701</td>\n",
       "      <td>-0.718947</td>\n",
       "      <td>-0.876682</td>\n",
       "      <td>2.0</td>\n",
       "      <td>5.0</td>\n",
       "    </tr>\n",
       "    <tr>\n",
       "      <th>2013-01-04</th>\n",
       "      <td>-1.071039</td>\n",
       "      <td>0.442848</td>\n",
       "      <td>-0.576122</td>\n",
       "      <td>-0.339758</td>\n",
       "      <td>3.0</td>\n",
       "      <td>5.0</td>\n",
       "    </tr>\n",
       "  </tbody>\n",
       "</table>\n",
       "</div>"
      ],
      "text/plain": [
       "                   A         B         C         D    F    E\n",
       "2013-01-01  0.000000  0.308091 -1.549268  0.659767  5.0  1.0\n",
       "2013-01-02  1.778638 -1.338972  0.572253  0.550902  1.0  1.0\n",
       "2013-01-03  0.847391  0.133701 -0.718947 -0.876682  2.0  5.0\n",
       "2013-01-04 -1.071039  0.442848 -0.576122 -0.339758  3.0  5.0"
      ]
     },
     "execution_count": 53,
     "metadata": {},
     "output_type": "execute_result"
    }
   ],
   "source": [
    "df1.fillna(value=5)"
   ]
  },
  {
   "cell_type": "markdown",
   "metadata": {},
   "source": [
    "To get the boolean mask where values are `nan`"
   ]
  },
  {
   "cell_type": "code",
   "execution_count": 54,
   "metadata": {
    "collapsed": false
   },
   "outputs": [
    {
     "data": {
      "text/html": [
       "<div>\n",
       "<table border=\"1\" class=\"dataframe\">\n",
       "  <thead>\n",
       "    <tr style=\"text-align: right;\">\n",
       "      <th></th>\n",
       "      <th>A</th>\n",
       "      <th>B</th>\n",
       "      <th>C</th>\n",
       "      <th>D</th>\n",
       "      <th>F</th>\n",
       "      <th>E</th>\n",
       "    </tr>\n",
       "  </thead>\n",
       "  <tbody>\n",
       "    <tr>\n",
       "      <th>2013-01-01</th>\n",
       "      <td>False</td>\n",
       "      <td>False</td>\n",
       "      <td>False</td>\n",
       "      <td>False</td>\n",
       "      <td>True</td>\n",
       "      <td>False</td>\n",
       "    </tr>\n",
       "    <tr>\n",
       "      <th>2013-01-02</th>\n",
       "      <td>False</td>\n",
       "      <td>False</td>\n",
       "      <td>False</td>\n",
       "      <td>False</td>\n",
       "      <td>False</td>\n",
       "      <td>False</td>\n",
       "    </tr>\n",
       "    <tr>\n",
       "      <th>2013-01-03</th>\n",
       "      <td>False</td>\n",
       "      <td>False</td>\n",
       "      <td>False</td>\n",
       "      <td>False</td>\n",
       "      <td>False</td>\n",
       "      <td>True</td>\n",
       "    </tr>\n",
       "    <tr>\n",
       "      <th>2013-01-04</th>\n",
       "      <td>False</td>\n",
       "      <td>False</td>\n",
       "      <td>False</td>\n",
       "      <td>False</td>\n",
       "      <td>False</td>\n",
       "      <td>True</td>\n",
       "    </tr>\n",
       "  </tbody>\n",
       "</table>\n",
       "</div>"
      ],
      "text/plain": [
       "                A      B      C      D      F      E\n",
       "2013-01-01  False  False  False  False   True  False\n",
       "2013-01-02  False  False  False  False  False  False\n",
       "2013-01-03  False  False  False  False  False   True\n",
       "2013-01-04  False  False  False  False  False   True"
      ]
     },
     "execution_count": 54,
     "metadata": {},
     "output_type": "execute_result"
    }
   ],
   "source": [
    "pd.isnull(df1)"
   ]
  },
  {
   "cell_type": "markdown",
   "metadata": {},
   "source": [
    "# Operations\n",
    "See the [Basic section on Binary Ops]()\n",
    "\n",
    "## Stats\n",
    "\n",
    "Operations in general exclude missing data.\n",
    "\n",
    "Performing a descriptive statistic\n"
   ]
  },
  {
   "cell_type": "code",
   "execution_count": 55,
   "metadata": {
    "collapsed": false
   },
   "outputs": [
    {
     "data": {
      "text/plain": [
       "A    0.624651\n",
       "B   -0.303087\n",
       "C   -0.523584\n",
       "D   -0.088966\n",
       "F    3.000000\n",
       "dtype: float64"
      ]
     },
     "execution_count": 55,
     "metadata": {},
     "output_type": "execute_result"
    }
   ],
   "source": [
    "df.mean()"
   ]
  },
  {
   "cell_type": "markdown",
   "metadata": {},
   "source": [
    "Same operation on the other axis"
   ]
  },
  {
   "cell_type": "code",
   "execution_count": 56,
   "metadata": {
    "collapsed": false
   },
   "outputs": [
    {
     "data": {
      "text/plain": [
       "2013-01-01   -0.145353\n",
       "2013-01-02    0.512564\n",
       "2013-01-03    0.277093\n",
       "2013-01-04    0.291186\n",
       "2013-01-05    0.541576\n",
       "2013-01-06    1.144680\n",
       "Freq: D, dtype: float64"
      ]
     },
     "execution_count": 56,
     "metadata": {},
     "output_type": "execute_result"
    }
   ],
   "source": [
    "df.mean(1)"
   ]
  },
  {
   "cell_type": "markdown",
   "metadata": {},
   "source": [
    "Operating with objects that have different dimensionality and need alignment. In addition, pandas automatically broadcasts along the specified dimension."
   ]
  },
  {
   "cell_type": "code",
   "execution_count": 57,
   "metadata": {
    "collapsed": false
   },
   "outputs": [
    {
     "data": {
      "text/plain": [
       "2013-01-01    NaN\n",
       "2013-01-02    NaN\n",
       "2013-01-03    1.0\n",
       "2013-01-04    3.0\n",
       "2013-01-05    5.0\n",
       "2013-01-06    NaN\n",
       "Freq: D, dtype: float64"
      ]
     },
     "execution_count": 57,
     "metadata": {},
     "output_type": "execute_result"
    }
   ],
   "source": [
    "s = pd.Series([1,3,5,np.nan,6,8], index=dates).shift(2)\n",
    "s"
   ]
  },
  {
   "cell_type": "code",
   "execution_count": 58,
   "metadata": {
    "collapsed": false
   },
   "outputs": [
    {
     "data": {
      "text/html": [
       "<div>\n",
       "<table border=\"1\" class=\"dataframe\">\n",
       "  <thead>\n",
       "    <tr style=\"text-align: right;\">\n",
       "      <th></th>\n",
       "      <th>A</th>\n",
       "      <th>B</th>\n",
       "      <th>C</th>\n",
       "      <th>D</th>\n",
       "      <th>F</th>\n",
       "    </tr>\n",
       "  </thead>\n",
       "  <tbody>\n",
       "    <tr>\n",
       "      <th>2013-01-01</th>\n",
       "      <td>NaN</td>\n",
       "      <td>NaN</td>\n",
       "      <td>NaN</td>\n",
       "      <td>NaN</td>\n",
       "      <td>NaN</td>\n",
       "    </tr>\n",
       "    <tr>\n",
       "      <th>2013-01-02</th>\n",
       "      <td>NaN</td>\n",
       "      <td>NaN</td>\n",
       "      <td>NaN</td>\n",
       "      <td>NaN</td>\n",
       "      <td>NaN</td>\n",
       "    </tr>\n",
       "    <tr>\n",
       "      <th>2013-01-03</th>\n",
       "      <td>-0.152609</td>\n",
       "      <td>-0.866299</td>\n",
       "      <td>-1.718947</td>\n",
       "      <td>-1.876682</td>\n",
       "      <td>1.0</td>\n",
       "    </tr>\n",
       "    <tr>\n",
       "      <th>2013-01-04</th>\n",
       "      <td>-4.071039</td>\n",
       "      <td>-2.557152</td>\n",
       "      <td>-3.576122</td>\n",
       "      <td>-3.339758</td>\n",
       "      <td>0.0</td>\n",
       "    </tr>\n",
       "    <tr>\n",
       "      <th>2013-01-05</th>\n",
       "      <td>-4.585119</td>\n",
       "      <td>-6.061210</td>\n",
       "      <td>-5.549216</td>\n",
       "      <td>-5.096576</td>\n",
       "      <td>-1.0</td>\n",
       "    </tr>\n",
       "    <tr>\n",
       "      <th>2013-01-06</th>\n",
       "      <td>NaN</td>\n",
       "      <td>NaN</td>\n",
       "      <td>NaN</td>\n",
       "      <td>NaN</td>\n",
       "      <td>NaN</td>\n",
       "    </tr>\n",
       "  </tbody>\n",
       "</table>\n",
       "</div>"
      ],
      "text/plain": [
       "                   A         B         C         D    F\n",
       "2013-01-01       NaN       NaN       NaN       NaN  NaN\n",
       "2013-01-02       NaN       NaN       NaN       NaN  NaN\n",
       "2013-01-03 -0.152609 -0.866299 -1.718947 -1.876682  1.0\n",
       "2013-01-04 -4.071039 -2.557152 -3.576122 -3.339758  0.0\n",
       "2013-01-05 -4.585119 -6.061210 -5.549216 -5.096576 -1.0\n",
       "2013-01-06       NaN       NaN       NaN       NaN  NaN"
      ]
     },
     "execution_count": 58,
     "metadata": {},
     "output_type": "execute_result"
    }
   ],
   "source": [
    "df.sub(s, axis='index')"
   ]
  },
  {
   "cell_type": "markdown",
   "metadata": {},
   "source": [
    "## Apply\n",
    "\n",
    "Applying functions to the data"
   ]
  },
  {
   "cell_type": "code",
   "execution_count": 59,
   "metadata": {
    "collapsed": false
   },
   "outputs": [
    {
     "data": {
      "text/html": [
       "<div>\n",
       "<table border=\"1\" class=\"dataframe\">\n",
       "  <thead>\n",
       "    <tr style=\"text-align: right;\">\n",
       "      <th></th>\n",
       "      <th>A</th>\n",
       "      <th>B</th>\n",
       "      <th>C</th>\n",
       "      <th>D</th>\n",
       "      <th>F</th>\n",
       "    </tr>\n",
       "  </thead>\n",
       "  <tbody>\n",
       "    <tr>\n",
       "      <th>2013-01-01</th>\n",
       "      <td>0.000000</td>\n",
       "      <td>0.308091</td>\n",
       "      <td>-1.549268</td>\n",
       "      <td>0.659767</td>\n",
       "      <td>NaN</td>\n",
       "    </tr>\n",
       "    <tr>\n",
       "      <th>2013-01-02</th>\n",
       "      <td>1.778638</td>\n",
       "      <td>-1.030880</td>\n",
       "      <td>-0.977015</td>\n",
       "      <td>1.210669</td>\n",
       "      <td>1.0</td>\n",
       "    </tr>\n",
       "    <tr>\n",
       "      <th>2013-01-03</th>\n",
       "      <td>2.626029</td>\n",
       "      <td>-0.897180</td>\n",
       "      <td>-1.695962</td>\n",
       "      <td>0.333987</td>\n",
       "      <td>3.0</td>\n",
       "    </tr>\n",
       "    <tr>\n",
       "      <th>2013-01-04</th>\n",
       "      <td>1.554990</td>\n",
       "      <td>-0.454331</td>\n",
       "      <td>-2.272084</td>\n",
       "      <td>-0.005771</td>\n",
       "      <td>6.0</td>\n",
       "    </tr>\n",
       "    <tr>\n",
       "      <th>2013-01-05</th>\n",
       "      <td>1.969871</td>\n",
       "      <td>-1.515542</td>\n",
       "      <td>-2.821300</td>\n",
       "      <td>-0.102347</td>\n",
       "      <td>10.0</td>\n",
       "    </tr>\n",
       "    <tr>\n",
       "      <th>2013-01-06</th>\n",
       "      <td>3.747905</td>\n",
       "      <td>-1.818520</td>\n",
       "      <td>-3.141503</td>\n",
       "      <td>-0.533797</td>\n",
       "      <td>15.0</td>\n",
       "    </tr>\n",
       "  </tbody>\n",
       "</table>\n",
       "</div>"
      ],
      "text/plain": [
       "                   A         B         C         D     F\n",
       "2013-01-01  0.000000  0.308091 -1.549268  0.659767   NaN\n",
       "2013-01-02  1.778638 -1.030880 -0.977015  1.210669   1.0\n",
       "2013-01-03  2.626029 -0.897180 -1.695962  0.333987   3.0\n",
       "2013-01-04  1.554990 -0.454331 -2.272084 -0.005771   6.0\n",
       "2013-01-05  1.969871 -1.515542 -2.821300 -0.102347  10.0\n",
       "2013-01-06  3.747905 -1.818520 -3.141503 -0.533797  15.0"
      ]
     },
     "execution_count": 59,
     "metadata": {},
     "output_type": "execute_result"
    }
   ],
   "source": [
    "df.apply(np.cumsum)"
   ]
  },
  {
   "cell_type": "code",
   "execution_count": 60,
   "metadata": {
    "collapsed": false
   },
   "outputs": [
    {
     "data": {
      "text/plain": [
       "A    2.849677\n",
       "B    1.781820\n",
       "C    2.121521\n",
       "D    1.536449\n",
       "F    4.000000\n",
       "dtype: float64"
      ]
     },
     "execution_count": 60,
     "metadata": {},
     "output_type": "execute_result"
    }
   ],
   "source": [
    "df.apply(lambda x: x.max() - x.min())"
   ]
  },
  {
   "cell_type": "markdown",
   "metadata": {},
   "source": [
    "## Histogramming\n",
    "\n",
    "See more at [Histogramming and Discretization](http://pandas.pydata.org/pandas-docs/stable/basics.html#basics-discretization)"
   ]
  },
  {
   "cell_type": "code",
   "execution_count": 61,
   "metadata": {
    "collapsed": false
   },
   "outputs": [
    {
     "data": {
      "text/plain": [
       "0    6\n",
       "1    3\n",
       "2    3\n",
       "3    0\n",
       "4    6\n",
       "5    2\n",
       "6    5\n",
       "7    3\n",
       "8    5\n",
       "9    3\n",
       "dtype: int64"
      ]
     },
     "execution_count": 61,
     "metadata": {},
     "output_type": "execute_result"
    }
   ],
   "source": [
    "s = pd.Series(np.random.randint(0, 7, size=10))\n",
    "s"
   ]
  },
  {
   "cell_type": "code",
   "execution_count": 62,
   "metadata": {
    "collapsed": false
   },
   "outputs": [
    {
     "data": {
      "text/plain": [
       "3    4\n",
       "6    2\n",
       "5    2\n",
       "2    1\n",
       "0    1\n",
       "dtype: int64"
      ]
     },
     "execution_count": 62,
     "metadata": {},
     "output_type": "execute_result"
    }
   ],
   "source": [
    "s.value_counts()"
   ]
  },
  {
   "cell_type": "markdown",
   "metadata": {},
   "source": [
    "Series is equipped with a set of string processing methods in the str attribute that make it easy to operate on each element of the array, as in the code snippet below. Note that pattern-matching in str generally uses [regular expressions](https://docs.python.org/2/library/re.html) by default (and in some cases always uses them). See more at [Vectorized String Methods](http://pandas.pydata.org/pandas-docs/stable/text.html#text-string-methods)."
   ]
  },
  {
   "cell_type": "code",
   "execution_count": 63,
   "metadata": {
    "collapsed": false
   },
   "outputs": [
    {
     "data": {
      "text/plain": [
       "0       a\n",
       "1       b\n",
       "2       c\n",
       "3    aaba\n",
       "4    baca\n",
       "5     NaN\n",
       "6    caba\n",
       "7     dog\n",
       "8     cat\n",
       "dtype: object"
      ]
     },
     "execution_count": 63,
     "metadata": {},
     "output_type": "execute_result"
    }
   ],
   "source": [
    "s = pd.Series(['A', 'B', 'C', 'Aaba', 'Baca', np.nan, 'CABA', 'dog', 'cat'])\n",
    "s.str.lower()"
   ]
  },
  {
   "cell_type": "markdown",
   "metadata": {},
   "source": [
    "# Merge\n",
    "## Concat\n",
    "\n",
    "pandas provides various facilities for easily combining together Series, DataFrame, and Panel objects with various kinds of set logic for the indexes and relational algebra functionality in the case of join / merge-type operations.\n",
    "\n",
    "See the [Merging section](http://pandas.pydata.org/pandas-docs/stable/merging.html#merging)\n",
    "\n",
    "Concatenating pandas objects together with `concat()`:"
   ]
  },
  {
   "cell_type": "code",
   "execution_count": 64,
   "metadata": {
    "collapsed": false
   },
   "outputs": [
    {
     "data": {
      "text/html": [
       "<div>\n",
       "<table border=\"1\" class=\"dataframe\">\n",
       "  <thead>\n",
       "    <tr style=\"text-align: right;\">\n",
       "      <th></th>\n",
       "      <th>0</th>\n",
       "      <th>1</th>\n",
       "      <th>2</th>\n",
       "      <th>3</th>\n",
       "    </tr>\n",
       "  </thead>\n",
       "  <tbody>\n",
       "    <tr>\n",
       "      <th>0</th>\n",
       "      <td>-0.130509</td>\n",
       "      <td>-2.604124</td>\n",
       "      <td>0.027616</td>\n",
       "      <td>-0.821968</td>\n",
       "    </tr>\n",
       "    <tr>\n",
       "      <th>1</th>\n",
       "      <td>-0.176070</td>\n",
       "      <td>-1.986024</td>\n",
       "      <td>-0.490693</td>\n",
       "      <td>0.029532</td>\n",
       "    </tr>\n",
       "    <tr>\n",
       "      <th>2</th>\n",
       "      <td>0.963221</td>\n",
       "      <td>0.835471</td>\n",
       "      <td>-0.798573</td>\n",
       "      <td>-0.851261</td>\n",
       "    </tr>\n",
       "    <tr>\n",
       "      <th>3</th>\n",
       "      <td>-0.002985</td>\n",
       "      <td>-0.199293</td>\n",
       "      <td>0.128608</td>\n",
       "      <td>-0.066615</td>\n",
       "    </tr>\n",
       "    <tr>\n",
       "      <th>4</th>\n",
       "      <td>0.538951</td>\n",
       "      <td>-2.722110</td>\n",
       "      <td>-0.052032</td>\n",
       "      <td>0.780796</td>\n",
       "    </tr>\n",
       "    <tr>\n",
       "      <th>5</th>\n",
       "      <td>0.322941</td>\n",
       "      <td>-1.036370</td>\n",
       "      <td>0.220932</td>\n",
       "      <td>-0.779096</td>\n",
       "    </tr>\n",
       "    <tr>\n",
       "      <th>6</th>\n",
       "      <td>0.073308</td>\n",
       "      <td>-0.494124</td>\n",
       "      <td>0.536048</td>\n",
       "      <td>-1.040171</td>\n",
       "    </tr>\n",
       "    <tr>\n",
       "      <th>7</th>\n",
       "      <td>0.855705</td>\n",
       "      <td>-1.237751</td>\n",
       "      <td>0.056262</td>\n",
       "      <td>1.283854</td>\n",
       "    </tr>\n",
       "    <tr>\n",
       "      <th>8</th>\n",
       "      <td>0.714434</td>\n",
       "      <td>1.442418</td>\n",
       "      <td>-0.841397</td>\n",
       "      <td>0.530934</td>\n",
       "    </tr>\n",
       "    <tr>\n",
       "      <th>9</th>\n",
       "      <td>-0.603831</td>\n",
       "      <td>-0.311791</td>\n",
       "      <td>-1.317725</td>\n",
       "      <td>-0.494577</td>\n",
       "    </tr>\n",
       "  </tbody>\n",
       "</table>\n",
       "</div>"
      ],
      "text/plain": [
       "          0         1         2         3\n",
       "0 -0.130509 -2.604124  0.027616 -0.821968\n",
       "1 -0.176070 -1.986024 -0.490693  0.029532\n",
       "2  0.963221  0.835471 -0.798573 -0.851261\n",
       "3 -0.002985 -0.199293  0.128608 -0.066615\n",
       "4  0.538951 -2.722110 -0.052032  0.780796\n",
       "5  0.322941 -1.036370  0.220932 -0.779096\n",
       "6  0.073308 -0.494124  0.536048 -1.040171\n",
       "7  0.855705 -1.237751  0.056262  1.283854\n",
       "8  0.714434  1.442418 -0.841397  0.530934\n",
       "9 -0.603831 -0.311791 -1.317725 -0.494577"
      ]
     },
     "execution_count": 64,
     "metadata": {},
     "output_type": "execute_result"
    }
   ],
   "source": [
    "df = pd.DataFrame(np.random.randn(10, 4))\n",
    "df"
   ]
  },
  {
   "cell_type": "code",
   "execution_count": 65,
   "metadata": {
    "collapsed": false
   },
   "outputs": [
    {
     "data": {
      "text/html": [
       "<div>\n",
       "<table border=\"1\" class=\"dataframe\">\n",
       "  <thead>\n",
       "    <tr style=\"text-align: right;\">\n",
       "      <th></th>\n",
       "      <th>0</th>\n",
       "      <th>1</th>\n",
       "      <th>2</th>\n",
       "      <th>3</th>\n",
       "    </tr>\n",
       "  </thead>\n",
       "  <tbody>\n",
       "    <tr>\n",
       "      <th>0</th>\n",
       "      <td>-0.130509</td>\n",
       "      <td>-2.604124</td>\n",
       "      <td>0.027616</td>\n",
       "      <td>-0.821968</td>\n",
       "    </tr>\n",
       "    <tr>\n",
       "      <th>1</th>\n",
       "      <td>-0.176070</td>\n",
       "      <td>-1.986024</td>\n",
       "      <td>-0.490693</td>\n",
       "      <td>0.029532</td>\n",
       "    </tr>\n",
       "    <tr>\n",
       "      <th>2</th>\n",
       "      <td>0.963221</td>\n",
       "      <td>0.835471</td>\n",
       "      <td>-0.798573</td>\n",
       "      <td>-0.851261</td>\n",
       "    </tr>\n",
       "    <tr>\n",
       "      <th>3</th>\n",
       "      <td>-0.002985</td>\n",
       "      <td>-0.199293</td>\n",
       "      <td>0.128608</td>\n",
       "      <td>-0.066615</td>\n",
       "    </tr>\n",
       "    <tr>\n",
       "      <th>4</th>\n",
       "      <td>0.538951</td>\n",
       "      <td>-2.722110</td>\n",
       "      <td>-0.052032</td>\n",
       "      <td>0.780796</td>\n",
       "    </tr>\n",
       "    <tr>\n",
       "      <th>5</th>\n",
       "      <td>0.322941</td>\n",
       "      <td>-1.036370</td>\n",
       "      <td>0.220932</td>\n",
       "      <td>-0.779096</td>\n",
       "    </tr>\n",
       "    <tr>\n",
       "      <th>6</th>\n",
       "      <td>0.073308</td>\n",
       "      <td>-0.494124</td>\n",
       "      <td>0.536048</td>\n",
       "      <td>-1.040171</td>\n",
       "    </tr>\n",
       "    <tr>\n",
       "      <th>7</th>\n",
       "      <td>0.855705</td>\n",
       "      <td>-1.237751</td>\n",
       "      <td>0.056262</td>\n",
       "      <td>1.283854</td>\n",
       "    </tr>\n",
       "    <tr>\n",
       "      <th>8</th>\n",
       "      <td>0.714434</td>\n",
       "      <td>1.442418</td>\n",
       "      <td>-0.841397</td>\n",
       "      <td>0.530934</td>\n",
       "    </tr>\n",
       "    <tr>\n",
       "      <th>9</th>\n",
       "      <td>-0.603831</td>\n",
       "      <td>-0.311791</td>\n",
       "      <td>-1.317725</td>\n",
       "      <td>-0.494577</td>\n",
       "    </tr>\n",
       "  </tbody>\n",
       "</table>\n",
       "</div>"
      ],
      "text/plain": [
       "          0         1         2         3\n",
       "0 -0.130509 -2.604124  0.027616 -0.821968\n",
       "1 -0.176070 -1.986024 -0.490693  0.029532\n",
       "2  0.963221  0.835471 -0.798573 -0.851261\n",
       "3 -0.002985 -0.199293  0.128608 -0.066615\n",
       "4  0.538951 -2.722110 -0.052032  0.780796\n",
       "5  0.322941 -1.036370  0.220932 -0.779096\n",
       "6  0.073308 -0.494124  0.536048 -1.040171\n",
       "7  0.855705 -1.237751  0.056262  1.283854\n",
       "8  0.714434  1.442418 -0.841397  0.530934\n",
       "9 -0.603831 -0.311791 -1.317725 -0.494577"
      ]
     },
     "execution_count": 65,
     "metadata": {},
     "output_type": "execute_result"
    }
   ],
   "source": [
    "# break it into pieces\n",
    "pieces = [df[:3], df[3:7], df[7:]]\n",
    "pd.concat(pieces)"
   ]
  },
  {
   "cell_type": "markdown",
   "metadata": {},
   "source": [
    "## Join\n",
    "\n",
    "SQL style merges. See the [Database style joining](http://pandas.pydata.org/pandas-docs/stable/merging.html#merging-join)"
   ]
  },
  {
   "cell_type": "code",
   "execution_count": 66,
   "metadata": {
    "collapsed": true
   },
   "outputs": [],
   "source": [
    "left = pd.DataFrame({'key': ['foo', 'foo'], 'lval': [1, 2]})\n",
    "right = pd.DataFrame({'key': ['foo', 'foo'], 'rval': [4, 5]})"
   ]
  },
  {
   "cell_type": "code",
   "execution_count": 67,
   "metadata": {
    "collapsed": false
   },
   "outputs": [
    {
     "data": {
      "text/html": [
       "<div>\n",
       "<table border=\"1\" class=\"dataframe\">\n",
       "  <thead>\n",
       "    <tr style=\"text-align: right;\">\n",
       "      <th></th>\n",
       "      <th>key</th>\n",
       "      <th>lval</th>\n",
       "    </tr>\n",
       "  </thead>\n",
       "  <tbody>\n",
       "    <tr>\n",
       "      <th>0</th>\n",
       "      <td>foo</td>\n",
       "      <td>1</td>\n",
       "    </tr>\n",
       "    <tr>\n",
       "      <th>1</th>\n",
       "      <td>foo</td>\n",
       "      <td>2</td>\n",
       "    </tr>\n",
       "  </tbody>\n",
       "</table>\n",
       "</div>"
      ],
      "text/plain": [
       "   key  lval\n",
       "0  foo     1\n",
       "1  foo     2"
      ]
     },
     "execution_count": 67,
     "metadata": {},
     "output_type": "execute_result"
    }
   ],
   "source": [
    "left"
   ]
  },
  {
   "cell_type": "code",
   "execution_count": null,
   "metadata": {
    "collapsed": true
   },
   "outputs": [],
   "source": [
    "Out[79]: \n",
    "   key  lval\n",
    "0  foo     1\n",
    "1  foo     2\n",
    "\n",
    "In [80]: "
   ]
  },
  {
   "cell_type": "code",
   "execution_count": 68,
   "metadata": {
    "collapsed": false
   },
   "outputs": [
    {
     "data": {
      "text/html": [
       "<div>\n",
       "<table border=\"1\" class=\"dataframe\">\n",
       "  <thead>\n",
       "    <tr style=\"text-align: right;\">\n",
       "      <th></th>\n",
       "      <th>key</th>\n",
       "      <th>rval</th>\n",
       "    </tr>\n",
       "  </thead>\n",
       "  <tbody>\n",
       "    <tr>\n",
       "      <th>0</th>\n",
       "      <td>foo</td>\n",
       "      <td>4</td>\n",
       "    </tr>\n",
       "    <tr>\n",
       "      <th>1</th>\n",
       "      <td>foo</td>\n",
       "      <td>5</td>\n",
       "    </tr>\n",
       "  </tbody>\n",
       "</table>\n",
       "</div>"
      ],
      "text/plain": [
       "   key  rval\n",
       "0  foo     4\n",
       "1  foo     5"
      ]
     },
     "execution_count": 68,
     "metadata": {},
     "output_type": "execute_result"
    }
   ],
   "source": [
    "right"
   ]
  },
  {
   "cell_type": "code",
   "execution_count": null,
   "metadata": {
    "collapsed": true
   },
   "outputs": [],
   "source": [
    "Out[80]: \n",
    "   key  rval\n",
    "0  foo     4\n",
    "1  foo     5"
   ]
  },
  {
   "cell_type": "code",
   "execution_count": 69,
   "metadata": {
    "collapsed": false
   },
   "outputs": [
    {
     "data": {
      "text/html": [
       "<div>\n",
       "<table border=\"1\" class=\"dataframe\">\n",
       "  <thead>\n",
       "    <tr style=\"text-align: right;\">\n",
       "      <th></th>\n",
       "      <th>key</th>\n",
       "      <th>lval</th>\n",
       "      <th>rval</th>\n",
       "    </tr>\n",
       "  </thead>\n",
       "  <tbody>\n",
       "    <tr>\n",
       "      <th>0</th>\n",
       "      <td>foo</td>\n",
       "      <td>1</td>\n",
       "      <td>4</td>\n",
       "    </tr>\n",
       "    <tr>\n",
       "      <th>1</th>\n",
       "      <td>foo</td>\n",
       "      <td>1</td>\n",
       "      <td>5</td>\n",
       "    </tr>\n",
       "    <tr>\n",
       "      <th>2</th>\n",
       "      <td>foo</td>\n",
       "      <td>2</td>\n",
       "      <td>4</td>\n",
       "    </tr>\n",
       "    <tr>\n",
       "      <th>3</th>\n",
       "      <td>foo</td>\n",
       "      <td>2</td>\n",
       "      <td>5</td>\n",
       "    </tr>\n",
       "  </tbody>\n",
       "</table>\n",
       "</div>"
      ],
      "text/plain": [
       "   key  lval  rval\n",
       "0  foo     1     4\n",
       "1  foo     1     5\n",
       "2  foo     2     4\n",
       "3  foo     2     5"
      ]
     },
     "execution_count": 69,
     "metadata": {},
     "output_type": "execute_result"
    }
   ],
   "source": [
    "pd.merge(left, right, on='key')"
   ]
  },
  {
   "cell_type": "markdown",
   "metadata": {},
   "source": [
    "## Append\n",
    "\n",
    "Append rows to a dataframe. See the [Appending](http://pandas.pydata.org/pandas-docs/stable/merging.html#merging-concatenation)"
   ]
  },
  {
   "cell_type": "code",
   "execution_count": 70,
   "metadata": {
    "collapsed": false
   },
   "outputs": [
    {
     "data": {
      "text/html": [
       "<div>\n",
       "<table border=\"1\" class=\"dataframe\">\n",
       "  <thead>\n",
       "    <tr style=\"text-align: right;\">\n",
       "      <th></th>\n",
       "      <th>A</th>\n",
       "      <th>B</th>\n",
       "      <th>C</th>\n",
       "      <th>D</th>\n",
       "    </tr>\n",
       "  </thead>\n",
       "  <tbody>\n",
       "    <tr>\n",
       "      <th>0</th>\n",
       "      <td>-0.369177</td>\n",
       "      <td>0.994869</td>\n",
       "      <td>0.649943</td>\n",
       "      <td>0.802875</td>\n",
       "    </tr>\n",
       "    <tr>\n",
       "      <th>1</th>\n",
       "      <td>-0.818802</td>\n",
       "      <td>-0.950836</td>\n",
       "      <td>-0.943406</td>\n",
       "      <td>-0.795126</td>\n",
       "    </tr>\n",
       "    <tr>\n",
       "      <th>2</th>\n",
       "      <td>-2.616980</td>\n",
       "      <td>1.310388</td>\n",
       "      <td>-1.651243</td>\n",
       "      <td>-2.010730</td>\n",
       "    </tr>\n",
       "    <tr>\n",
       "      <th>3</th>\n",
       "      <td>1.337582</td>\n",
       "      <td>-0.635927</td>\n",
       "      <td>1.036803</td>\n",
       "      <td>0.529098</td>\n",
       "    </tr>\n",
       "    <tr>\n",
       "      <th>4</th>\n",
       "      <td>-1.281876</td>\n",
       "      <td>-0.897534</td>\n",
       "      <td>-0.258860</td>\n",
       "      <td>-1.285143</td>\n",
       "    </tr>\n",
       "    <tr>\n",
       "      <th>5</th>\n",
       "      <td>-0.839045</td>\n",
       "      <td>0.014163</td>\n",
       "      <td>-0.534749</td>\n",
       "      <td>-1.436989</td>\n",
       "    </tr>\n",
       "    <tr>\n",
       "      <th>6</th>\n",
       "      <td>1.027063</td>\n",
       "      <td>0.576733</td>\n",
       "      <td>1.221615</td>\n",
       "      <td>2.564623</td>\n",
       "    </tr>\n",
       "    <tr>\n",
       "      <th>7</th>\n",
       "      <td>0.809128</td>\n",
       "      <td>-0.687894</td>\n",
       "      <td>0.375006</td>\n",
       "      <td>0.391909</td>\n",
       "    </tr>\n",
       "  </tbody>\n",
       "</table>\n",
       "</div>"
      ],
      "text/plain": [
       "          A         B         C         D\n",
       "0 -0.369177  0.994869  0.649943  0.802875\n",
       "1 -0.818802 -0.950836 -0.943406 -0.795126\n",
       "2 -2.616980  1.310388 -1.651243 -2.010730\n",
       "3  1.337582 -0.635927  1.036803  0.529098\n",
       "4 -1.281876 -0.897534 -0.258860 -1.285143\n",
       "5 -0.839045  0.014163 -0.534749 -1.436989\n",
       "6  1.027063  0.576733  1.221615  2.564623\n",
       "7  0.809128 -0.687894  0.375006  0.391909"
      ]
     },
     "execution_count": 70,
     "metadata": {},
     "output_type": "execute_result"
    }
   ],
   "source": [
    "df = pd.DataFrame(np.random.randn(8, 4), columns=['A','B','C','D'])\n",
    "df"
   ]
  },
  {
   "cell_type": "code",
   "execution_count": 71,
   "metadata": {
    "collapsed": false
   },
   "outputs": [
    {
     "data": {
      "text/html": [
       "<div>\n",
       "<table border=\"1\" class=\"dataframe\">\n",
       "  <thead>\n",
       "    <tr style=\"text-align: right;\">\n",
       "      <th></th>\n",
       "      <th>A</th>\n",
       "      <th>B</th>\n",
       "      <th>C</th>\n",
       "      <th>D</th>\n",
       "    </tr>\n",
       "  </thead>\n",
       "  <tbody>\n",
       "    <tr>\n",
       "      <th>0</th>\n",
       "      <td>-0.369177</td>\n",
       "      <td>0.994869</td>\n",
       "      <td>0.649943</td>\n",
       "      <td>0.802875</td>\n",
       "    </tr>\n",
       "    <tr>\n",
       "      <th>1</th>\n",
       "      <td>-0.818802</td>\n",
       "      <td>-0.950836</td>\n",
       "      <td>-0.943406</td>\n",
       "      <td>-0.795126</td>\n",
       "    </tr>\n",
       "    <tr>\n",
       "      <th>2</th>\n",
       "      <td>-2.616980</td>\n",
       "      <td>1.310388</td>\n",
       "      <td>-1.651243</td>\n",
       "      <td>-2.010730</td>\n",
       "    </tr>\n",
       "    <tr>\n",
       "      <th>3</th>\n",
       "      <td>1.337582</td>\n",
       "      <td>-0.635927</td>\n",
       "      <td>1.036803</td>\n",
       "      <td>0.529098</td>\n",
       "    </tr>\n",
       "    <tr>\n",
       "      <th>4</th>\n",
       "      <td>-1.281876</td>\n",
       "      <td>-0.897534</td>\n",
       "      <td>-0.258860</td>\n",
       "      <td>-1.285143</td>\n",
       "    </tr>\n",
       "    <tr>\n",
       "      <th>5</th>\n",
       "      <td>-0.839045</td>\n",
       "      <td>0.014163</td>\n",
       "      <td>-0.534749</td>\n",
       "      <td>-1.436989</td>\n",
       "    </tr>\n",
       "    <tr>\n",
       "      <th>6</th>\n",
       "      <td>1.027063</td>\n",
       "      <td>0.576733</td>\n",
       "      <td>1.221615</td>\n",
       "      <td>2.564623</td>\n",
       "    </tr>\n",
       "    <tr>\n",
       "      <th>7</th>\n",
       "      <td>0.809128</td>\n",
       "      <td>-0.687894</td>\n",
       "      <td>0.375006</td>\n",
       "      <td>0.391909</td>\n",
       "    </tr>\n",
       "    <tr>\n",
       "      <th>8</th>\n",
       "      <td>1.337582</td>\n",
       "      <td>-0.635927</td>\n",
       "      <td>1.036803</td>\n",
       "      <td>0.529098</td>\n",
       "    </tr>\n",
       "  </tbody>\n",
       "</table>\n",
       "</div>"
      ],
      "text/plain": [
       "          A         B         C         D\n",
       "0 -0.369177  0.994869  0.649943  0.802875\n",
       "1 -0.818802 -0.950836 -0.943406 -0.795126\n",
       "2 -2.616980  1.310388 -1.651243 -2.010730\n",
       "3  1.337582 -0.635927  1.036803  0.529098\n",
       "4 -1.281876 -0.897534 -0.258860 -1.285143\n",
       "5 -0.839045  0.014163 -0.534749 -1.436989\n",
       "6  1.027063  0.576733  1.221615  2.564623\n",
       "7  0.809128 -0.687894  0.375006  0.391909\n",
       "8  1.337582 -0.635927  1.036803  0.529098"
      ]
     },
     "execution_count": 71,
     "metadata": {},
     "output_type": "execute_result"
    }
   ],
   "source": [
    "s = df.iloc[3]\n",
    "df.append(s, ignore_index=True)"
   ]
  },
  {
   "cell_type": "markdown",
   "metadata": {},
   "source": [
    "# Grouping\n",
    "By “group by” we are referring to a process involving one or more of the following steps\n",
    "- Splitting the data into groups based on some criteria\n",
    "- Applying a function to each group independently\n",
    "- Combining the results into a data structure\n",
    "\n",
    "See the [Grouping section](http://pandas.pydata.org/pandas-docs/stable/groupby.html#groupby)"
   ]
  },
  {
   "cell_type": "code",
   "execution_count": 72,
   "metadata": {
    "collapsed": false
   },
   "outputs": [
    {
     "data": {
      "text/html": [
       "<div>\n",
       "<table border=\"1\" class=\"dataframe\">\n",
       "  <thead>\n",
       "    <tr style=\"text-align: right;\">\n",
       "      <th></th>\n",
       "      <th>A</th>\n",
       "      <th>B</th>\n",
       "      <th>C</th>\n",
       "      <th>D</th>\n",
       "    </tr>\n",
       "  </thead>\n",
       "  <tbody>\n",
       "    <tr>\n",
       "      <th>0</th>\n",
       "      <td>foo</td>\n",
       "      <td>one</td>\n",
       "      <td>2.395248</td>\n",
       "      <td>-1.062941</td>\n",
       "    </tr>\n",
       "    <tr>\n",
       "      <th>1</th>\n",
       "      <td>bar</td>\n",
       "      <td>one</td>\n",
       "      <td>-0.190446</td>\n",
       "      <td>0.491997</td>\n",
       "    </tr>\n",
       "    <tr>\n",
       "      <th>2</th>\n",
       "      <td>foo</td>\n",
       "      <td>two</td>\n",
       "      <td>-0.820102</td>\n",
       "      <td>-0.573459</td>\n",
       "    </tr>\n",
       "    <tr>\n",
       "      <th>3</th>\n",
       "      <td>bar</td>\n",
       "      <td>three</td>\n",
       "      <td>1.290957</td>\n",
       "      <td>-1.419106</td>\n",
       "    </tr>\n",
       "    <tr>\n",
       "      <th>4</th>\n",
       "      <td>foo</td>\n",
       "      <td>two</td>\n",
       "      <td>-1.070144</td>\n",
       "      <td>-0.587512</td>\n",
       "    </tr>\n",
       "    <tr>\n",
       "      <th>5</th>\n",
       "      <td>bar</td>\n",
       "      <td>two</td>\n",
       "      <td>-0.253541</td>\n",
       "      <td>0.209104</td>\n",
       "    </tr>\n",
       "    <tr>\n",
       "      <th>6</th>\n",
       "      <td>foo</td>\n",
       "      <td>one</td>\n",
       "      <td>0.761994</td>\n",
       "      <td>2.671207</td>\n",
       "    </tr>\n",
       "    <tr>\n",
       "      <th>7</th>\n",
       "      <td>foo</td>\n",
       "      <td>three</td>\n",
       "      <td>1.382804</td>\n",
       "      <td>-1.117848</td>\n",
       "    </tr>\n",
       "  </tbody>\n",
       "</table>\n",
       "</div>"
      ],
      "text/plain": [
       "     A      B         C         D\n",
       "0  foo    one  2.395248 -1.062941\n",
       "1  bar    one -0.190446  0.491997\n",
       "2  foo    two -0.820102 -0.573459\n",
       "3  bar  three  1.290957 -1.419106\n",
       "4  foo    two -1.070144 -0.587512\n",
       "5  bar    two -0.253541  0.209104\n",
       "6  foo    one  0.761994  2.671207\n",
       "7  foo  three  1.382804 -1.117848"
      ]
     },
     "execution_count": 72,
     "metadata": {},
     "output_type": "execute_result"
    }
   ],
   "source": [
    "df = pd.DataFrame({'A' : ['foo', 'bar', 'foo', 'bar',\n",
    "   ....:                           'foo', 'bar', 'foo', 'foo'],\n",
    "   ....:                    'B' : ['one', 'one', 'two', 'three',\n",
    "   ....:                           'two', 'two', 'one', 'three'],\n",
    "   ....:                    'C' : np.random.randn(8),\n",
    "   ....:                    'D' : np.random.randn(8)})\n",
    "   ....: \n",
    "\n",
    "df"
   ]
  },
  {
   "cell_type": "markdown",
   "metadata": {},
   "source": [
    "Grouping and then applying a function sum to the resulting groups."
   ]
  },
  {
   "cell_type": "code",
   "execution_count": 73,
   "metadata": {
    "collapsed": false
   },
   "outputs": [
    {
     "data": {
      "text/html": [
       "<div>\n",
       "<table border=\"1\" class=\"dataframe\">\n",
       "  <thead>\n",
       "    <tr style=\"text-align: right;\">\n",
       "      <th></th>\n",
       "      <th>C</th>\n",
       "      <th>D</th>\n",
       "    </tr>\n",
       "    <tr>\n",
       "      <th>A</th>\n",
       "      <th></th>\n",
       "      <th></th>\n",
       "    </tr>\n",
       "  </thead>\n",
       "  <tbody>\n",
       "    <tr>\n",
       "      <th>bar</th>\n",
       "      <td>0.84697</td>\n",
       "      <td>-0.718005</td>\n",
       "    </tr>\n",
       "    <tr>\n",
       "      <th>foo</th>\n",
       "      <td>2.64980</td>\n",
       "      <td>-0.670554</td>\n",
       "    </tr>\n",
       "  </tbody>\n",
       "</table>\n",
       "</div>"
      ],
      "text/plain": [
       "           C         D\n",
       "A                     \n",
       "bar  0.84697 -0.718005\n",
       "foo  2.64980 -0.670554"
      ]
     },
     "execution_count": 73,
     "metadata": {},
     "output_type": "execute_result"
    }
   ],
   "source": [
    "df.groupby('A').sum()"
   ]
  },
  {
   "cell_type": "markdown",
   "metadata": {},
   "source": [
    "Grouping by multiple columns forms a hierarchical index, which we then apply the function."
   ]
  },
  {
   "cell_type": "code",
   "execution_count": 74,
   "metadata": {
    "collapsed": false
   },
   "outputs": [
    {
     "data": {
      "text/html": [
       "<div>\n",
       "<table border=\"1\" class=\"dataframe\">\n",
       "  <thead>\n",
       "    <tr style=\"text-align: right;\">\n",
       "      <th></th>\n",
       "      <th></th>\n",
       "      <th>C</th>\n",
       "      <th>D</th>\n",
       "    </tr>\n",
       "    <tr>\n",
       "      <th>A</th>\n",
       "      <th>B</th>\n",
       "      <th></th>\n",
       "      <th></th>\n",
       "    </tr>\n",
       "  </thead>\n",
       "  <tbody>\n",
       "    <tr>\n",
       "      <th rowspan=\"3\" valign=\"top\">bar</th>\n",
       "      <th>one</th>\n",
       "      <td>-0.190446</td>\n",
       "      <td>0.491997</td>\n",
       "    </tr>\n",
       "    <tr>\n",
       "      <th>three</th>\n",
       "      <td>1.290957</td>\n",
       "      <td>-1.419106</td>\n",
       "    </tr>\n",
       "    <tr>\n",
       "      <th>two</th>\n",
       "      <td>-0.253541</td>\n",
       "      <td>0.209104</td>\n",
       "    </tr>\n",
       "    <tr>\n",
       "      <th rowspan=\"3\" valign=\"top\">foo</th>\n",
       "      <th>one</th>\n",
       "      <td>3.157242</td>\n",
       "      <td>1.608266</td>\n",
       "    </tr>\n",
       "    <tr>\n",
       "      <th>three</th>\n",
       "      <td>1.382804</td>\n",
       "      <td>-1.117848</td>\n",
       "    </tr>\n",
       "    <tr>\n",
       "      <th>two</th>\n",
       "      <td>-1.890246</td>\n",
       "      <td>-1.160972</td>\n",
       "    </tr>\n",
       "  </tbody>\n",
       "</table>\n",
       "</div>"
      ],
      "text/plain": [
       "                  C         D\n",
       "A   B                        \n",
       "bar one   -0.190446  0.491997\n",
       "    three  1.290957 -1.419106\n",
       "    two   -0.253541  0.209104\n",
       "foo one    3.157242  1.608266\n",
       "    three  1.382804 -1.117848\n",
       "    two   -1.890246 -1.160972"
      ]
     },
     "execution_count": 74,
     "metadata": {},
     "output_type": "execute_result"
    }
   ],
   "source": [
    "df.groupby(['A','B']).sum()"
   ]
  },
  {
   "cell_type": "markdown",
   "metadata": {},
   "source": [
    "# Reshaping\n",
    "See the sections on [Hierarchical Indexing](http://pandas.pydata.org/pandas-docs/stable/advanced.html#advanced-hierarchical) and [Reshaping](http://pandas.pydata.org/pandas-docs/stable/reshaping.html#reshaping-stacking).\n",
    "\n",
    "## Stack"
   ]
  },
  {
   "cell_type": "code",
   "execution_count": 75,
   "metadata": {
    "collapsed": false
   },
   "outputs": [
    {
     "data": {
      "text/html": [
       "<div>\n",
       "<table border=\"1\" class=\"dataframe\">\n",
       "  <thead>\n",
       "    <tr style=\"text-align: right;\">\n",
       "      <th></th>\n",
       "      <th></th>\n",
       "      <th>A</th>\n",
       "      <th>B</th>\n",
       "    </tr>\n",
       "    <tr>\n",
       "      <th>first</th>\n",
       "      <th>second</th>\n",
       "      <th></th>\n",
       "      <th></th>\n",
       "    </tr>\n",
       "  </thead>\n",
       "  <tbody>\n",
       "    <tr>\n",
       "      <th rowspan=\"2\" valign=\"top\">bar</th>\n",
       "      <th>one</th>\n",
       "      <td>0.076519</td>\n",
       "      <td>-0.278467</td>\n",
       "    </tr>\n",
       "    <tr>\n",
       "      <th>two</th>\n",
       "      <td>-0.830064</td>\n",
       "      <td>0.662039</td>\n",
       "    </tr>\n",
       "    <tr>\n",
       "      <th rowspan=\"2\" valign=\"top\">baz</th>\n",
       "      <th>one</th>\n",
       "      <td>-0.234162</td>\n",
       "      <td>1.528228</td>\n",
       "    </tr>\n",
       "    <tr>\n",
       "      <th>two</th>\n",
       "      <td>0.048042</td>\n",
       "      <td>-0.352204</td>\n",
       "    </tr>\n",
       "  </tbody>\n",
       "</table>\n",
       "</div>"
      ],
      "text/plain": [
       "                     A         B\n",
       "first second                    \n",
       "bar   one     0.076519 -0.278467\n",
       "      two    -0.830064  0.662039\n",
       "baz   one    -0.234162  1.528228\n",
       "      two     0.048042 -0.352204"
      ]
     },
     "execution_count": 75,
     "metadata": {},
     "output_type": "execute_result"
    }
   ],
   "source": [
    "tuples = list(zip(*[['bar', 'bar', 'baz', 'baz',\n",
    "   ....:                      'foo', 'foo', 'qux', 'qux'],\n",
    "   ....:                     ['one', 'two', 'one', 'two',\n",
    "   ....:                      'one', 'two', 'one', 'two']]))\n",
    "   ....: \n",
    "\n",
    "index = pd.MultiIndex.from_tuples(tuples, names=['first', 'second'])\n",
    "\n",
    "df = pd.DataFrame(np.random.randn(8, 2), index=index, columns=['A', 'B'])\n",
    "df2 = df[:4]\n",
    "df2"
   ]
  },
  {
   "cell_type": "markdown",
   "metadata": {},
   "source": [
    "The `stack()` method “compresses” a level in the DataFrame’s columns."
   ]
  },
  {
   "cell_type": "code",
   "execution_count": 76,
   "metadata": {
    "collapsed": false
   },
   "outputs": [
    {
     "data": {
      "text/plain": [
       "first  second   \n",
       "bar    one     A    0.076519\n",
       "               B   -0.278467\n",
       "       two     A   -0.830064\n",
       "               B    0.662039\n",
       "baz    one     A   -0.234162\n",
       "               B    1.528228\n",
       "       two     A    0.048042\n",
       "               B   -0.352204\n",
       "dtype: float64"
      ]
     },
     "execution_count": 76,
     "metadata": {},
     "output_type": "execute_result"
    }
   ],
   "source": [
    "stacked = df2.stack()\n",
    "stacked"
   ]
  },
  {
   "cell_type": "markdown",
   "metadata": {},
   "source": [
    "With a “stacked” DataFrame or Series (having a `MultiIndex` as the index), the inverse operation of `stack()` is `unstack()`, which by default unstacks the ***last level***:"
   ]
  },
  {
   "cell_type": "code",
   "execution_count": 77,
   "metadata": {
    "collapsed": false
   },
   "outputs": [
    {
     "data": {
      "text/html": [
       "<div>\n",
       "<table border=\"1\" class=\"dataframe\">\n",
       "  <thead>\n",
       "    <tr style=\"text-align: right;\">\n",
       "      <th></th>\n",
       "      <th></th>\n",
       "      <th>A</th>\n",
       "      <th>B</th>\n",
       "    </tr>\n",
       "    <tr>\n",
       "      <th>first</th>\n",
       "      <th>second</th>\n",
       "      <th></th>\n",
       "      <th></th>\n",
       "    </tr>\n",
       "  </thead>\n",
       "  <tbody>\n",
       "    <tr>\n",
       "      <th rowspan=\"2\" valign=\"top\">bar</th>\n",
       "      <th>one</th>\n",
       "      <td>0.076519</td>\n",
       "      <td>-0.278467</td>\n",
       "    </tr>\n",
       "    <tr>\n",
       "      <th>two</th>\n",
       "      <td>-0.830064</td>\n",
       "      <td>0.662039</td>\n",
       "    </tr>\n",
       "    <tr>\n",
       "      <th rowspan=\"2\" valign=\"top\">baz</th>\n",
       "      <th>one</th>\n",
       "      <td>-0.234162</td>\n",
       "      <td>1.528228</td>\n",
       "    </tr>\n",
       "    <tr>\n",
       "      <th>two</th>\n",
       "      <td>0.048042</td>\n",
       "      <td>-0.352204</td>\n",
       "    </tr>\n",
       "  </tbody>\n",
       "</table>\n",
       "</div>"
      ],
      "text/plain": [
       "                     A         B\n",
       "first second                    \n",
       "bar   one     0.076519 -0.278467\n",
       "      two    -0.830064  0.662039\n",
       "baz   one    -0.234162  1.528228\n",
       "      two     0.048042 -0.352204"
      ]
     },
     "execution_count": 77,
     "metadata": {},
     "output_type": "execute_result"
    }
   ],
   "source": [
    "stacked.unstack()"
   ]
  },
  {
   "cell_type": "code",
   "execution_count": 78,
   "metadata": {
    "collapsed": false
   },
   "outputs": [
    {
     "data": {
      "text/html": [
       "<div>\n",
       "<table border=\"1\" class=\"dataframe\">\n",
       "  <thead>\n",
       "    <tr style=\"text-align: right;\">\n",
       "      <th></th>\n",
       "      <th>second</th>\n",
       "      <th>one</th>\n",
       "      <th>two</th>\n",
       "    </tr>\n",
       "    <tr>\n",
       "      <th>first</th>\n",
       "      <th></th>\n",
       "      <th></th>\n",
       "      <th></th>\n",
       "    </tr>\n",
       "  </thead>\n",
       "  <tbody>\n",
       "    <tr>\n",
       "      <th rowspan=\"2\" valign=\"top\">bar</th>\n",
       "      <th>A</th>\n",
       "      <td>0.076519</td>\n",
       "      <td>-0.830064</td>\n",
       "    </tr>\n",
       "    <tr>\n",
       "      <th>B</th>\n",
       "      <td>-0.278467</td>\n",
       "      <td>0.662039</td>\n",
       "    </tr>\n",
       "    <tr>\n",
       "      <th rowspan=\"2\" valign=\"top\">baz</th>\n",
       "      <th>A</th>\n",
       "      <td>-0.234162</td>\n",
       "      <td>0.048042</td>\n",
       "    </tr>\n",
       "    <tr>\n",
       "      <th>B</th>\n",
       "      <td>1.528228</td>\n",
       "      <td>-0.352204</td>\n",
       "    </tr>\n",
       "  </tbody>\n",
       "</table>\n",
       "</div>"
      ],
      "text/plain": [
       "second        one       two\n",
       "first                      \n",
       "bar   A  0.076519 -0.830064\n",
       "      B -0.278467  0.662039\n",
       "baz   A -0.234162  0.048042\n",
       "      B  1.528228 -0.352204"
      ]
     },
     "execution_count": 78,
     "metadata": {},
     "output_type": "execute_result"
    }
   ],
   "source": [
    "stacked.unstack(1)"
   ]
  },
  {
   "cell_type": "code",
   "execution_count": 79,
   "metadata": {
    "collapsed": false
   },
   "outputs": [
    {
     "data": {
      "text/html": [
       "<div>\n",
       "<table border=\"1\" class=\"dataframe\">\n",
       "  <thead>\n",
       "    <tr style=\"text-align: right;\">\n",
       "      <th></th>\n",
       "      <th>first</th>\n",
       "      <th>bar</th>\n",
       "      <th>baz</th>\n",
       "    </tr>\n",
       "    <tr>\n",
       "      <th>second</th>\n",
       "      <th></th>\n",
       "      <th></th>\n",
       "      <th></th>\n",
       "    </tr>\n",
       "  </thead>\n",
       "  <tbody>\n",
       "    <tr>\n",
       "      <th rowspan=\"2\" valign=\"top\">one</th>\n",
       "      <th>A</th>\n",
       "      <td>0.076519</td>\n",
       "      <td>-0.234162</td>\n",
       "    </tr>\n",
       "    <tr>\n",
       "      <th>B</th>\n",
       "      <td>-0.278467</td>\n",
       "      <td>1.528228</td>\n",
       "    </tr>\n",
       "    <tr>\n",
       "      <th rowspan=\"2\" valign=\"top\">two</th>\n",
       "      <th>A</th>\n",
       "      <td>-0.830064</td>\n",
       "      <td>0.048042</td>\n",
       "    </tr>\n",
       "    <tr>\n",
       "      <th>B</th>\n",
       "      <td>0.662039</td>\n",
       "      <td>-0.352204</td>\n",
       "    </tr>\n",
       "  </tbody>\n",
       "</table>\n",
       "</div>"
      ],
      "text/plain": [
       "first          bar       baz\n",
       "second                      \n",
       "one    A  0.076519 -0.234162\n",
       "       B -0.278467  1.528228\n",
       "two    A -0.830064  0.048042\n",
       "       B  0.662039 -0.352204"
      ]
     },
     "execution_count": 79,
     "metadata": {},
     "output_type": "execute_result"
    }
   ],
   "source": [
    "stacked.unstack(0)"
   ]
  },
  {
   "cell_type": "markdown",
   "metadata": {},
   "source": [
    "## Pivot Tables\n",
    "\n",
    "See the section on [Pivot Tables](http://pandas.pydata.org/pandas-docs/stable/reshaping.html#reshaping-pivot).\n",
    "\n",
    "In [100]: "
   ]
  },
  {
   "cell_type": "code",
   "execution_count": 80,
   "metadata": {
    "collapsed": false
   },
   "outputs": [
    {
     "data": {
      "text/html": [
       "<div>\n",
       "<table border=\"1\" class=\"dataframe\">\n",
       "  <thead>\n",
       "    <tr style=\"text-align: right;\">\n",
       "      <th></th>\n",
       "      <th>A</th>\n",
       "      <th>B</th>\n",
       "      <th>C</th>\n",
       "      <th>D</th>\n",
       "      <th>E</th>\n",
       "    </tr>\n",
       "  </thead>\n",
       "  <tbody>\n",
       "    <tr>\n",
       "      <th>0</th>\n",
       "      <td>one</td>\n",
       "      <td>A</td>\n",
       "      <td>foo</td>\n",
       "      <td>-1.294399</td>\n",
       "      <td>-0.241741</td>\n",
       "    </tr>\n",
       "    <tr>\n",
       "      <th>1</th>\n",
       "      <td>one</td>\n",
       "      <td>B</td>\n",
       "      <td>foo</td>\n",
       "      <td>0.010086</td>\n",
       "      <td>0.171688</td>\n",
       "    </tr>\n",
       "    <tr>\n",
       "      <th>2</th>\n",
       "      <td>two</td>\n",
       "      <td>C</td>\n",
       "      <td>foo</td>\n",
       "      <td>-0.423877</td>\n",
       "      <td>1.628951</td>\n",
       "    </tr>\n",
       "    <tr>\n",
       "      <th>3</th>\n",
       "      <td>three</td>\n",
       "      <td>A</td>\n",
       "      <td>bar</td>\n",
       "      <td>-1.087732</td>\n",
       "      <td>-1.000740</td>\n",
       "    </tr>\n",
       "    <tr>\n",
       "      <th>4</th>\n",
       "      <td>one</td>\n",
       "      <td>B</td>\n",
       "      <td>bar</td>\n",
       "      <td>1.209228</td>\n",
       "      <td>-0.377405</td>\n",
       "    </tr>\n",
       "    <tr>\n",
       "      <th>5</th>\n",
       "      <td>one</td>\n",
       "      <td>C</td>\n",
       "      <td>bar</td>\n",
       "      <td>1.218430</td>\n",
       "      <td>-0.296314</td>\n",
       "    </tr>\n",
       "    <tr>\n",
       "      <th>6</th>\n",
       "      <td>two</td>\n",
       "      <td>A</td>\n",
       "      <td>foo</td>\n",
       "      <td>0.959033</td>\n",
       "      <td>-0.062337</td>\n",
       "    </tr>\n",
       "    <tr>\n",
       "      <th>7</th>\n",
       "      <td>three</td>\n",
       "      <td>B</td>\n",
       "      <td>foo</td>\n",
       "      <td>1.299052</td>\n",
       "      <td>0.239648</td>\n",
       "    </tr>\n",
       "    <tr>\n",
       "      <th>8</th>\n",
       "      <td>one</td>\n",
       "      <td>C</td>\n",
       "      <td>foo</td>\n",
       "      <td>-0.749884</td>\n",
       "      <td>-0.030572</td>\n",
       "    </tr>\n",
       "    <tr>\n",
       "      <th>9</th>\n",
       "      <td>one</td>\n",
       "      <td>A</td>\n",
       "      <td>bar</td>\n",
       "      <td>-1.135830</td>\n",
       "      <td>-2.236275</td>\n",
       "    </tr>\n",
       "    <tr>\n",
       "      <th>10</th>\n",
       "      <td>two</td>\n",
       "      <td>B</td>\n",
       "      <td>bar</td>\n",
       "      <td>0.572527</td>\n",
       "      <td>0.287787</td>\n",
       "    </tr>\n",
       "    <tr>\n",
       "      <th>11</th>\n",
       "      <td>three</td>\n",
       "      <td>C</td>\n",
       "      <td>bar</td>\n",
       "      <td>0.064824</td>\n",
       "      <td>-1.259742</td>\n",
       "    </tr>\n",
       "  </tbody>\n",
       "</table>\n",
       "</div>"
      ],
      "text/plain": [
       "        A  B    C         D         E\n",
       "0     one  A  foo -1.294399 -0.241741\n",
       "1     one  B  foo  0.010086  0.171688\n",
       "2     two  C  foo -0.423877  1.628951\n",
       "3   three  A  bar -1.087732 -1.000740\n",
       "4     one  B  bar  1.209228 -0.377405\n",
       "5     one  C  bar  1.218430 -0.296314\n",
       "6     two  A  foo  0.959033 -0.062337\n",
       "7   three  B  foo  1.299052  0.239648\n",
       "8     one  C  foo -0.749884 -0.030572\n",
       "9     one  A  bar -1.135830 -2.236275\n",
       "10    two  B  bar  0.572527  0.287787\n",
       "11  three  C  bar  0.064824 -1.259742"
      ]
     },
     "execution_count": 80,
     "metadata": {},
     "output_type": "execute_result"
    }
   ],
   "source": [
    "df = pd.DataFrame({'A' : ['one', 'one', 'two', 'three'] * 3,\n",
    "   .....:                    'B' : ['A', 'B', 'C'] * 4,\n",
    "   .....:                    'C' : ['foo', 'foo', 'foo', 'bar', 'bar', 'bar'] * 2,\n",
    "   .....:                    'D' : np.random.randn(12),\n",
    "   .....:                    'E' : np.random.randn(12)})\n",
    "   .....: \n",
    "\n",
    "df"
   ]
  },
  {
   "cell_type": "markdown",
   "metadata": {},
   "source": [
    "We can produce pivot tables from this data very easily:"
   ]
  },
  {
   "cell_type": "code",
   "execution_count": 81,
   "metadata": {
    "collapsed": false
   },
   "outputs": [
    {
     "data": {
      "text/html": [
       "<div>\n",
       "<table border=\"1\" class=\"dataframe\">\n",
       "  <thead>\n",
       "    <tr style=\"text-align: right;\">\n",
       "      <th></th>\n",
       "      <th>C</th>\n",
       "      <th>bar</th>\n",
       "      <th>foo</th>\n",
       "    </tr>\n",
       "    <tr>\n",
       "      <th>A</th>\n",
       "      <th>B</th>\n",
       "      <th></th>\n",
       "      <th></th>\n",
       "    </tr>\n",
       "  </thead>\n",
       "  <tbody>\n",
       "    <tr>\n",
       "      <th rowspan=\"3\" valign=\"top\">one</th>\n",
       "      <th>A</th>\n",
       "      <td>-1.135830</td>\n",
       "      <td>-1.294399</td>\n",
       "    </tr>\n",
       "    <tr>\n",
       "      <th>B</th>\n",
       "      <td>1.209228</td>\n",
       "      <td>0.010086</td>\n",
       "    </tr>\n",
       "    <tr>\n",
       "      <th>C</th>\n",
       "      <td>1.218430</td>\n",
       "      <td>-0.749884</td>\n",
       "    </tr>\n",
       "    <tr>\n",
       "      <th rowspan=\"3\" valign=\"top\">three</th>\n",
       "      <th>A</th>\n",
       "      <td>-1.087732</td>\n",
       "      <td>NaN</td>\n",
       "    </tr>\n",
       "    <tr>\n",
       "      <th>B</th>\n",
       "      <td>NaN</td>\n",
       "      <td>1.299052</td>\n",
       "    </tr>\n",
       "    <tr>\n",
       "      <th>C</th>\n",
       "      <td>0.064824</td>\n",
       "      <td>NaN</td>\n",
       "    </tr>\n",
       "    <tr>\n",
       "      <th rowspan=\"3\" valign=\"top\">two</th>\n",
       "      <th>A</th>\n",
       "      <td>NaN</td>\n",
       "      <td>0.959033</td>\n",
       "    </tr>\n",
       "    <tr>\n",
       "      <th>B</th>\n",
       "      <td>0.572527</td>\n",
       "      <td>NaN</td>\n",
       "    </tr>\n",
       "    <tr>\n",
       "      <th>C</th>\n",
       "      <td>NaN</td>\n",
       "      <td>-0.423877</td>\n",
       "    </tr>\n",
       "  </tbody>\n",
       "</table>\n",
       "</div>"
      ],
      "text/plain": [
       "C             bar       foo\n",
       "A     B                    \n",
       "one   A -1.135830 -1.294399\n",
       "      B  1.209228  0.010086\n",
       "      C  1.218430 -0.749884\n",
       "three A -1.087732       NaN\n",
       "      B       NaN  1.299052\n",
       "      C  0.064824       NaN\n",
       "two   A       NaN  0.959033\n",
       "      B  0.572527       NaN\n",
       "      C       NaN -0.423877"
      ]
     },
     "execution_count": 81,
     "metadata": {},
     "output_type": "execute_result"
    }
   ],
   "source": [
    "pd.pivot_table(df, values='D', index=['A', 'B'], columns=['C'])"
   ]
  },
  {
   "cell_type": "markdown",
   "metadata": {},
   "source": [
    "# Time Series\n",
    "pandas has simple, powerful, and efficient functionality for performing resampling operations during frequency conversion (e.g., converting secondly data into 5-minutely data). This is extremely common in, but not limited to, financial applications.\n",
    "See the [Time Series section](http://pandas.pydata.org/pandas-docs/stable/timeseries.html#timeseries)"
   ]
  },
  {
   "cell_type": "code",
   "execution_count": 82,
   "metadata": {
    "collapsed": false
   },
   "outputs": [
    {
     "data": {
      "text/plain": [
       "2012-01-01    26408\n",
       "Freq: 5T, dtype: int64"
      ]
     },
     "execution_count": 82,
     "metadata": {},
     "output_type": "execute_result"
    }
   ],
   "source": [
    "rng = pd.date_range('1/1/2012', periods=100, freq='S')\n",
    "ts = pd.Series(np.random.randint(0, 500, len(rng)), index=rng)\n",
    "ts.resample('5Min').sum()"
   ]
  },
  {
   "cell_type": "code",
   "execution_count": null,
   "metadata": {
    "collapsed": true
   },
   "outputs": [],
   "source": [
    "Out[105]: \n",
    "2012-01-01    25083\n",
    "Freq: 5T, dtype: int64"
   ]
  },
  {
   "cell_type": "markdown",
   "metadata": {},
   "source": [
    "Time zone representation"
   ]
  },
  {
   "cell_type": "code",
   "execution_count": 83,
   "metadata": {
    "collapsed": false
   },
   "outputs": [
    {
     "data": {
      "text/plain": [
       "2012-03-06    2.249040\n",
       "2012-03-07    0.578464\n",
       "2012-03-08   -0.771841\n",
       "2012-03-09   -0.612288\n",
       "2012-03-10   -2.828386\n",
       "Freq: D, dtype: float64"
      ]
     },
     "execution_count": 83,
     "metadata": {},
     "output_type": "execute_result"
    }
   ],
   "source": [
    "rng = pd.date_range('3/6/2012 00:00', periods=5, freq='D')\n",
    "ts = pd.Series(np.random.randn(len(rng)), rng)\n",
    "ts"
   ]
  },
  {
   "cell_type": "code",
   "execution_count": 84,
   "metadata": {
    "collapsed": false
   },
   "outputs": [
    {
     "data": {
      "text/plain": [
       "2012-03-06 00:00:00+00:00    2.249040\n",
       "2012-03-07 00:00:00+00:00    0.578464\n",
       "2012-03-08 00:00:00+00:00   -0.771841\n",
       "2012-03-09 00:00:00+00:00   -0.612288\n",
       "2012-03-10 00:00:00+00:00   -2.828386\n",
       "Freq: D, dtype: float64"
      ]
     },
     "execution_count": 84,
     "metadata": {},
     "output_type": "execute_result"
    }
   ],
   "source": [
    "ts_utc = ts.tz_localize('UTC')\n",
    "ts_utc"
   ]
  },
  {
   "cell_type": "markdown",
   "metadata": {},
   "source": [
    "Convert to another time zone"
   ]
  },
  {
   "cell_type": "code",
   "execution_count": 85,
   "metadata": {
    "collapsed": false
   },
   "outputs": [
    {
     "data": {
      "text/plain": [
       "2012-03-05 19:00:00-05:00    2.249040\n",
       "2012-03-06 19:00:00-05:00    0.578464\n",
       "2012-03-07 19:00:00-05:00   -0.771841\n",
       "2012-03-08 19:00:00-05:00   -0.612288\n",
       "2012-03-09 19:00:00-05:00   -2.828386\n",
       "Freq: D, dtype: float64"
      ]
     },
     "execution_count": 85,
     "metadata": {},
     "output_type": "execute_result"
    }
   ],
   "source": [
    "ts_utc.tz_convert('US/Eastern')"
   ]
  },
  {
   "cell_type": "markdown",
   "metadata": {},
   "source": [
    "Converting between time span representations"
   ]
  },
  {
   "cell_type": "code",
   "execution_count": 86,
   "metadata": {
    "collapsed": false
   },
   "outputs": [
    {
     "data": {
      "text/plain": [
       "2012-01-31    1.277739\n",
       "2012-02-29   -1.167027\n",
       "2012-03-31   -2.084887\n",
       "2012-04-30   -0.011380\n",
       "2012-05-31   -1.005091\n",
       "Freq: M, dtype: float64"
      ]
     },
     "execution_count": 86,
     "metadata": {},
     "output_type": "execute_result"
    }
   ],
   "source": [
    "rng = pd.date_range('1/1/2012', periods=5, freq='M')\n",
    "ts = pd.Series(np.random.randn(len(rng)), index=rng)\n",
    "ts"
   ]
  },
  {
   "cell_type": "code",
   "execution_count": 87,
   "metadata": {
    "collapsed": false
   },
   "outputs": [
    {
     "data": {
      "text/plain": [
       "2012-01    1.277739\n",
       "2012-02   -1.167027\n",
       "2012-03   -2.084887\n",
       "2012-04   -0.011380\n",
       "2012-05   -1.005091\n",
       "Freq: M, dtype: float64"
      ]
     },
     "execution_count": 87,
     "metadata": {},
     "output_type": "execute_result"
    }
   ],
   "source": [
    "ps = ts.to_period()\n",
    "ps"
   ]
  },
  {
   "cell_type": "code",
   "execution_count": 88,
   "metadata": {
    "collapsed": false
   },
   "outputs": [
    {
     "data": {
      "text/plain": [
       "2012-01-01    1.277739\n",
       "2012-02-01   -1.167027\n",
       "2012-03-01   -2.084887\n",
       "2012-04-01   -0.011380\n",
       "2012-05-01   -1.005091\n",
       "Freq: MS, dtype: float64"
      ]
     },
     "execution_count": 88,
     "metadata": {},
     "output_type": "execute_result"
    }
   ],
   "source": [
    "ps.to_timestamp()"
   ]
  },
  {
   "cell_type": "markdown",
   "metadata": {},
   "source": [
    "Converting between period and timestamp enables some convenient arithmetic functions to be used. In the following example, we convert a quarterly frequency with year ending in November to 9am of the end of the month following the quarter end:"
   ]
  },
  {
   "cell_type": "code",
   "execution_count": 89,
   "metadata": {
    "collapsed": false
   },
   "outputs": [
    {
     "data": {
      "text/plain": [
       "1990-03-01 09:00    1.144793\n",
       "1990-06-01 09:00    0.725511\n",
       "1990-09-01 09:00    1.466160\n",
       "1990-12-01 09:00   -0.510158\n",
       "1991-03-01 09:00   -0.655797\n",
       "Freq: H, dtype: float64"
      ]
     },
     "execution_count": 89,
     "metadata": {},
     "output_type": "execute_result"
    }
   ],
   "source": [
    "prng = pd.period_range('1990Q1', '2000Q4', freq='Q-NOV')\n",
    "ts = pd.Series(np.random.randn(len(prng)), prng)\n",
    "ts.index = (prng.asfreq('M', 'e') + 1).asfreq('H', 's') + 9\n",
    "ts.head()"
   ]
  },
  {
   "cell_type": "markdown",
   "metadata": {},
   "source": [
    "# Categoricals\n",
    "Since version 0.15, pandas can include categorical data in a DataFrame. For full docs, see the [categorical introduction](http://pandas.pydata.org/pandas-docs/stable/categorical.html#categorical) and the [API documentation](http://pandas.pydata.org/pandas-docs/stable/api.html#api-categorical)."
   ]
  },
  {
   "cell_type": "code",
   "execution_count": 90,
   "metadata": {
    "collapsed": true
   },
   "outputs": [],
   "source": [
    "df = pd.DataFrame({\"id\":[1,2,3,4,5,6], \"raw_grade\":['a', 'b', 'b', 'a', 'a', 'e']})"
   ]
  },
  {
   "cell_type": "markdown",
   "metadata": {},
   "source": [
    "Convert the raw grades to a categorical data type."
   ]
  },
  {
   "cell_type": "code",
   "execution_count": 91,
   "metadata": {
    "collapsed": false
   },
   "outputs": [
    {
     "data": {
      "text/plain": [
       "0    a\n",
       "1    b\n",
       "2    b\n",
       "3    a\n",
       "4    a\n",
       "5    e\n",
       "Name: grade, dtype: category\n",
       "Categories (3, object): [a, b, e]"
      ]
     },
     "execution_count": 91,
     "metadata": {},
     "output_type": "execute_result"
    }
   ],
   "source": [
    "df[\"grade\"] = df[\"raw_grade\"].astype(\"category\")\n",
    "df[\"grade\"]"
   ]
  },
  {
   "cell_type": "code",
   "execution_count": null,
   "metadata": {
    "collapsed": true
   },
   "outputs": [],
   "source": [
    "Out[124]: \n",
    "0    a\n",
    "1    b\n",
    "2    b\n",
    "3    a\n",
    "4    a\n",
    "5    e\n",
    "Name: grade, dtype: category\n",
    "Categories (3, object): [a, b, e]"
   ]
  },
  {
   "cell_type": "markdown",
   "metadata": {},
   "source": [
    "Rename the categories to more meaningful names (assigning to `Series.cat.categories` is inplace!)"
   ]
  },
  {
   "cell_type": "code",
   "execution_count": 92,
   "metadata": {
    "collapsed": true
   },
   "outputs": [],
   "source": [
    "df[\"grade\"].cat.categories = [\"very good\", \"good\", \"very bad\"]"
   ]
  },
  {
   "cell_type": "markdown",
   "metadata": {},
   "source": [
    "Reorder the categories and simultaneously add the missing categories (methods under Series `.cat` return a new Series per default)."
   ]
  },
  {
   "cell_type": "code",
   "execution_count": 93,
   "metadata": {
    "collapsed": false
   },
   "outputs": [
    {
     "data": {
      "text/plain": [
       "0    very good\n",
       "1         good\n",
       "2         good\n",
       "3    very good\n",
       "4    very good\n",
       "5     very bad\n",
       "Name: grade, dtype: category\n",
       "Categories (5, object): [very bad, bad, medium, good, very good]"
      ]
     },
     "execution_count": 93,
     "metadata": {},
     "output_type": "execute_result"
    }
   ],
   "source": [
    "df[\"grade\"] = df[\"grade\"].cat.set_categories([\"very bad\", \"bad\", \"medium\", \"good\", \"very good\"])\n",
    "df[\"grade\"]"
   ]
  },
  {
   "cell_type": "markdown",
   "metadata": {},
   "source": [
    "Sorting is per order in the categories, not lexical order."
   ]
  },
  {
   "cell_type": "code",
   "execution_count": 94,
   "metadata": {
    "collapsed": false
   },
   "outputs": [
    {
     "data": {
      "text/html": [
       "<div>\n",
       "<table border=\"1\" class=\"dataframe\">\n",
       "  <thead>\n",
       "    <tr style=\"text-align: right;\">\n",
       "      <th></th>\n",
       "      <th>id</th>\n",
       "      <th>raw_grade</th>\n",
       "      <th>grade</th>\n",
       "    </tr>\n",
       "  </thead>\n",
       "  <tbody>\n",
       "    <tr>\n",
       "      <th>5</th>\n",
       "      <td>6</td>\n",
       "      <td>e</td>\n",
       "      <td>very bad</td>\n",
       "    </tr>\n",
       "    <tr>\n",
       "      <th>1</th>\n",
       "      <td>2</td>\n",
       "      <td>b</td>\n",
       "      <td>good</td>\n",
       "    </tr>\n",
       "    <tr>\n",
       "      <th>2</th>\n",
       "      <td>3</td>\n",
       "      <td>b</td>\n",
       "      <td>good</td>\n",
       "    </tr>\n",
       "    <tr>\n",
       "      <th>0</th>\n",
       "      <td>1</td>\n",
       "      <td>a</td>\n",
       "      <td>very good</td>\n",
       "    </tr>\n",
       "    <tr>\n",
       "      <th>3</th>\n",
       "      <td>4</td>\n",
       "      <td>a</td>\n",
       "      <td>very good</td>\n",
       "    </tr>\n",
       "    <tr>\n",
       "      <th>4</th>\n",
       "      <td>5</td>\n",
       "      <td>a</td>\n",
       "      <td>very good</td>\n",
       "    </tr>\n",
       "  </tbody>\n",
       "</table>\n",
       "</div>"
      ],
      "text/plain": [
       "   id raw_grade      grade\n",
       "5   6         e   very bad\n",
       "1   2         b       good\n",
       "2   3         b       good\n",
       "0   1         a  very good\n",
       "3   4         a  very good\n",
       "4   5         a  very good"
      ]
     },
     "execution_count": 94,
     "metadata": {},
     "output_type": "execute_result"
    }
   ],
   "source": [
    "df.sort_values(by=\"grade\")"
   ]
  },
  {
   "cell_type": "code",
   "execution_count": null,
   "metadata": {
    "collapsed": true
   },
   "outputs": [],
   "source": [
    "Out[128]: \n",
    "   id raw_grade      grade\n",
    "5   6         e   very bad\n",
    "1   2         b       good\n",
    "2   3         b       good\n",
    "0   1         a  very good\n",
    "3   4         a  very good\n",
    "4   5         a  very good"
   ]
  },
  {
   "cell_type": "markdown",
   "metadata": {},
   "source": [
    "Grouping by a categorical column shows also empty categories."
   ]
  },
  {
   "cell_type": "code",
   "execution_count": 95,
   "metadata": {
    "collapsed": false
   },
   "outputs": [
    {
     "data": {
      "text/plain": [
       "grade\n",
       "very bad     1\n",
       "bad          0\n",
       "medium       0\n",
       "good         2\n",
       "very good    3\n",
       "dtype: int64"
      ]
     },
     "execution_count": 95,
     "metadata": {},
     "output_type": "execute_result"
    }
   ],
   "source": [
    "df.groupby(\"grade\").size()"
   ]
  },
  {
   "cell_type": "markdown",
   "metadata": {},
   "source": [
    "# Plotting\n",
    "[Plotting docs](http://pandas.pydata.org/pandas-docs/stable/visualization.html#visualization)."
   ]
  },
  {
   "cell_type": "code",
   "execution_count": 96,
   "metadata": {
    "collapsed": true
   },
   "outputs": [],
   "source": [
    "ts = pd.Series(np.random.randn(1000), index=pd.date_range('1/1/2000', periods=1000))\n",
    "ts = ts.cumsum()"
   ]
  },
  {
   "cell_type": "code",
   "execution_count": 97,
   "metadata": {
    "collapsed": false
   },
   "outputs": [
    {
     "data": {
      "text/plain": [
       "<matplotlib.axes._subplots.AxesSubplot at 0x7fea60051828>"
      ]
     },
     "execution_count": 97,
     "metadata": {},
     "output_type": "execute_result"
    },
    {
     "data": {
      "image/png": "[encoded data removed]",
      "text/plain": [
       "<matplotlib.figure.Figure at 0x7fea6009c908>"
      ]
     },
     "metadata": {},
     "output_type": "display_data"
    }
   ],
   "source": [
    "%matplotlib inline\n",
    "ts.plot()"
   ]
  },
  {
   "cell_type": "markdown",
   "metadata": {},
   "source": [
    "On DataFrame, `plot()` is a convenience to plot all of the columns with labels:"
   ]
  },
  {
   "cell_type": "code",
   "execution_count": 98,
   "metadata": {
    "collapsed": false
   },
   "outputs": [
    {
     "data": {
      "text/plain": [
       "<matplotlib.legend.Legend at 0x7fea4aa454a8>"
      ]
     },
     "execution_count": 98,
     "metadata": {},
     "output_type": "execute_result"
    },
    {
     "data": {
      "text/plain": [
       "<matplotlib.figure.Figure at 0x7fea4aa4d240>"
      ]
     },
     "metadata": {},
     "output_type": "display_data"
    },
    {
     "data": {
      "image/png": "[encoded data removed]",
      "text/plain": [
       "<matplotlib.figure.Figure at 0x7fea4aa452b0>"
      ]
     },
     "metadata": {},
     "output_type": "display_data"
    }
   ],
   "source": [
    "df = pd.DataFrame(np.random.randn(1000, 4), index=ts.index,\n",
    "   .....:                   columns=['A', 'B', 'C', 'D'])\n",
    "   .....: \n",
    "\n",
    "df = df.cumsum()\n",
    "\n",
    "%matplotlib inline\n",
    "plt.figure(); df.plot(); plt.legend(loc='best')"
   ]
  },
  {
   "cell_type": "markdown",
   "metadata": {},
   "source": [
    "# Getting Data In/Out\n",
    "## CSV\n",
    "\n",
    "[Writing to a csv file](http://pandas.pydata.org/pandas-docs/stable/io.html#io-store-in-csv)"
   ]
  },
  {
   "cell_type": "code",
   "execution_count": 100,
   "metadata": {
    "collapsed": true
   },
   "outputs": [],
   "source": [
    "df.to_csv('foo.csv')"
   ]
  },
  {
   "cell_type": "markdown",
   "metadata": {},
   "source": [
    "[Reading from a csv file](http://pandas.pydata.org/pandas-docs/stable/io.html#io-read-csv-table)"
   ]
  },
  {
   "cell_type": "code",
   "execution_count": 101,
   "metadata": {
    "collapsed": true
   },
   "outputs": [
    {
     "data": {
      "text/html": [
       "<div>\n",
       "<table border=\"1\" class=\"dataframe\">\n",
       "  <thead>\n",
       "    <tr style=\"text-align: right;\">\n",
       "      <th></th>\n",
       "      <th>Unnamed: 0</th>\n",
       "      <th>A</th>\n",
       "      <th>B</th>\n",
       "      <th>C</th>\n",
       "      <th>D</th>\n",
       "    </tr>\n",
       "  </thead>\n",
       "  <tbody>\n",
       "    <tr>\n",
       "      <th>0</th>\n",
       "      <td>2000-01-01</td>\n",
       "      <td>0.006537</td>\n",
       "      <td>0.604631</td>\n",
       "      <td>-0.221758</td>\n",
       "      <td>1.333563</td>\n",
       "    </tr>\n",
       "    <tr>\n",
       "      <th>1</th>\n",
       "      <td>2000-01-02</td>\n",
       "      <td>1.143346</td>\n",
       "      <td>-1.719800</td>\n",
       "      <td>-1.014132</td>\n",
       "      <td>2.698654</td>\n",
       "    </tr>\n",
       "    <tr>\n",
       "      <th>2</th>\n",
       "      <td>2000-01-03</td>\n",
       "      <td>1.210209</td>\n",
       "      <td>-1.192515</td>\n",
       "      <td>-0.152721</td>\n",
       "      <td>2.631419</td>\n",
       "    </tr>\n",
       "    <tr>\n",
       "      <th>3</th>\n",
       "      <td>2000-01-04</td>\n",
       "      <td>1.850952</td>\n",
       "      <td>-1.115365</td>\n",
       "      <td>1.052886</td>\n",
       "      <td>2.418375</td>\n",
       "    </tr>\n",
       "    <tr>\n",
       "      <th>4</th>\n",
       "      <td>2000-01-05</td>\n",
       "      <td>1.264911</td>\n",
       "      <td>1.438899</td>\n",
       "      <td>1.317687</td>\n",
       "      <td>1.412050</td>\n",
       "    </tr>\n",
       "    <tr>\n",
       "      <th>5</th>\n",
       "      <td>2000-01-06</td>\n",
       "      <td>0.677553</td>\n",
       "      <td>1.391657</td>\n",
       "      <td>1.350786</td>\n",
       "      <td>1.364724</td>\n",
       "    </tr>\n",
       "    <tr>\n",
       "      <th>6</th>\n",
       "      <td>2000-01-07</td>\n",
       "      <td>0.485865</td>\n",
       "      <td>0.862524</td>\n",
       "      <td>2.441316</td>\n",
       "      <td>1.412291</td>\n",
       "    </tr>\n",
       "    <tr>\n",
       "      <th>7</th>\n",
       "      <td>2000-01-08</td>\n",
       "      <td>1.544192</td>\n",
       "      <td>2.025094</td>\n",
       "      <td>4.862117</td>\n",
       "      <td>2.361786</td>\n",
       "    </tr>\n",
       "    <tr>\n",
       "      <th>8</th>\n",
       "      <td>2000-01-09</td>\n",
       "      <td>-0.530123</td>\n",
       "      <td>1.711885</td>\n",
       "      <td>2.994446</td>\n",
       "      <td>0.876483</td>\n",
       "    </tr>\n",
       "    <tr>\n",
       "      <th>9</th>\n",
       "      <td>2000-01-10</td>\n",
       "      <td>-0.955006</td>\n",
       "      <td>0.329703</td>\n",
       "      <td>2.935396</td>\n",
       "      <td>2.830649</td>\n",
       "    </tr>\n",
       "    <tr>\n",
       "      <th>10</th>\n",
       "      <td>2000-01-11</td>\n",
       "      <td>-0.065883</td>\n",
       "      <td>0.509870</td>\n",
       "      <td>2.063099</td>\n",
       "      <td>2.029191</td>\n",
       "    </tr>\n",
       "    <tr>\n",
       "      <th>11</th>\n",
       "      <td>2000-01-12</td>\n",
       "      <td>-0.835932</td>\n",
       "      <td>-0.268240</td>\n",
       "      <td>2.388807</td>\n",
       "      <td>1.872921</td>\n",
       "    </tr>\n",
       "    <tr>\n",
       "      <th>12</th>\n",
       "      <td>2000-01-13</td>\n",
       "      <td>0.100862</td>\n",
       "      <td>-0.194691</td>\n",
       "      <td>2.014187</td>\n",
       "      <td>1.551066</td>\n",
       "    </tr>\n",
       "    <tr>\n",
       "      <th>13</th>\n",
       "      <td>2000-01-14</td>\n",
       "      <td>-0.058110</td>\n",
       "      <td>-0.672064</td>\n",
       "      <td>2.848794</td>\n",
       "      <td>2.560001</td>\n",
       "    </tr>\n",
       "    <tr>\n",
       "      <th>14</th>\n",
       "      <td>2000-01-15</td>\n",
       "      <td>0.126671</td>\n",
       "      <td>0.010339</td>\n",
       "      <td>3.406294</td>\n",
       "      <td>3.587795</td>\n",
       "    </tr>\n",
       "    <tr>\n",
       "      <th>15</th>\n",
       "      <td>2000-01-16</td>\n",
       "      <td>0.604127</td>\n",
       "      <td>-0.812145</td>\n",
       "      <td>4.169620</td>\n",
       "      <td>2.757578</td>\n",
       "    </tr>\n",
       "    <tr>\n",
       "      <th>16</th>\n",
       "      <td>2000-01-17</td>\n",
       "      <td>-0.562689</td>\n",
       "      <td>-0.966680</td>\n",
       "      <td>5.195991</td>\n",
       "      <td>2.435496</td>\n",
       "    </tr>\n",
       "    <tr>\n",
       "      <th>17</th>\n",
       "      <td>2000-01-18</td>\n",
       "      <td>-0.890789</td>\n",
       "      <td>0.018358</td>\n",
       "      <td>3.922592</td>\n",
       "      <td>1.232482</td>\n",
       "    </tr>\n",
       "    <tr>\n",
       "      <th>18</th>\n",
       "      <td>2000-01-19</td>\n",
       "      <td>-0.517802</td>\n",
       "      <td>0.676835</td>\n",
       "      <td>4.540512</td>\n",
       "      <td>0.818849</td>\n",
       "    </tr>\n",
       "    <tr>\n",
       "      <th>19</th>\n",
       "      <td>2000-01-20</td>\n",
       "      <td>0.259117</td>\n",
       "      <td>2.839102</td>\n",
       "      <td>6.252233</td>\n",
       "      <td>1.972839</td>\n",
       "    </tr>\n",
       "    <tr>\n",
       "      <th>20</th>\n",
       "      <td>2000-01-21</td>\n",
       "      <td>2.251111</td>\n",
       "      <td>6.111442</td>\n",
       "      <td>4.434976</td>\n",
       "      <td>1.309758</td>\n",
       "    </tr>\n",
       "    <tr>\n",
       "      <th>21</th>\n",
       "      <td>2000-01-22</td>\n",
       "      <td>2.275382</td>\n",
       "      <td>6.622898</td>\n",
       "      <td>4.542538</td>\n",
       "      <td>1.131264</td>\n",
       "    </tr>\n",
       "    <tr>\n",
       "      <th>22</th>\n",
       "      <td>2000-01-23</td>\n",
       "      <td>2.075776</td>\n",
       "      <td>6.732973</td>\n",
       "      <td>6.488453</td>\n",
       "      <td>0.753411</td>\n",
       "    </tr>\n",
       "    <tr>\n",
       "      <th>23</th>\n",
       "      <td>2000-01-24</td>\n",
       "      <td>3.266146</td>\n",
       "      <td>6.207971</td>\n",
       "      <td>4.647033</td>\n",
       "      <td>0.277339</td>\n",
       "    </tr>\n",
       "    <tr>\n",
       "      <th>24</th>\n",
       "      <td>2000-01-25</td>\n",
       "      <td>1.834208</td>\n",
       "      <td>4.355534</td>\n",
       "      <td>3.105806</td>\n",
       "      <td>0.938521</td>\n",
       "    </tr>\n",
       "    <tr>\n",
       "      <th>25</th>\n",
       "      <td>2000-01-26</td>\n",
       "      <td>0.854300</td>\n",
       "      <td>4.429471</td>\n",
       "      <td>1.770258</td>\n",
       "      <td>0.975231</td>\n",
       "    </tr>\n",
       "    <tr>\n",
       "      <th>26</th>\n",
       "      <td>2000-01-27</td>\n",
       "      <td>-0.068761</td>\n",
       "      <td>1.796993</td>\n",
       "      <td>1.650758</td>\n",
       "      <td>0.591127</td>\n",
       "    </tr>\n",
       "    <tr>\n",
       "      <th>27</th>\n",
       "      <td>2000-01-28</td>\n",
       "      <td>0.534330</td>\n",
       "      <td>0.778626</td>\n",
       "      <td>3.304207</td>\n",
       "      <td>2.093019</td>\n",
       "    </tr>\n",
       "    <tr>\n",
       "      <th>28</th>\n",
       "      <td>2000-01-29</td>\n",
       "      <td>0.050847</td>\n",
       "      <td>-0.254729</td>\n",
       "      <td>3.579285</td>\n",
       "      <td>0.561325</td>\n",
       "    </tr>\n",
       "    <tr>\n",
       "      <th>29</th>\n",
       "      <td>2000-01-30</td>\n",
       "      <td>1.523826</td>\n",
       "      <td>-0.215174</td>\n",
       "      <td>2.151175</td>\n",
       "      <td>0.547239</td>\n",
       "    </tr>\n",
       "    <tr>\n",
       "      <th>...</th>\n",
       "      <td>...</td>\n",
       "      <td>...</td>\n",
       "      <td>...</td>\n",
       "      <td>...</td>\n",
       "      <td>...</td>\n",
       "    </tr>\n",
       "    <tr>\n",
       "      <th>970</th>\n",
       "      <td>2002-08-28</td>\n",
       "      <td>-2.031551</td>\n",
       "      <td>-1.506019</td>\n",
       "      <td>-57.814969</td>\n",
       "      <td>51.253389</td>\n",
       "    </tr>\n",
       "    <tr>\n",
       "      <th>971</th>\n",
       "      <td>2002-08-29</td>\n",
       "      <td>-1.591140</td>\n",
       "      <td>-1.512665</td>\n",
       "      <td>-58.860906</td>\n",
       "      <td>49.713203</td>\n",
       "    </tr>\n",
       "    <tr>\n",
       "      <th>972</th>\n",
       "      <td>2002-08-30</td>\n",
       "      <td>-2.454938</td>\n",
       "      <td>-2.726277</td>\n",
       "      <td>-59.231160</td>\n",
       "      <td>48.055560</td>\n",
       "    </tr>\n",
       "    <tr>\n",
       "      <th>973</th>\n",
       "      <td>2002-08-31</td>\n",
       "      <td>-1.945475</td>\n",
       "      <td>-2.967040</td>\n",
       "      <td>-59.430014</td>\n",
       "      <td>47.601945</td>\n",
       "    </tr>\n",
       "    <tr>\n",
       "      <th>974</th>\n",
       "      <td>2002-09-01</td>\n",
       "      <td>-0.994719</td>\n",
       "      <td>-4.740062</td>\n",
       "      <td>-59.868587</td>\n",
       "      <td>49.877191</td>\n",
       "    </tr>\n",
       "    <tr>\n",
       "      <th>975</th>\n",
       "      <td>2002-09-02</td>\n",
       "      <td>-0.219582</td>\n",
       "      <td>-3.968486</td>\n",
       "      <td>-60.048888</td>\n",
       "      <td>48.667069</td>\n",
       "    </tr>\n",
       "    <tr>\n",
       "      <th>976</th>\n",
       "      <td>2002-09-03</td>\n",
       "      <td>-0.732307</td>\n",
       "      <td>-3.802243</td>\n",
       "      <td>-57.694585</td>\n",
       "      <td>48.254749</td>\n",
       "    </tr>\n",
       "    <tr>\n",
       "      <th>977</th>\n",
       "      <td>2002-09-04</td>\n",
       "      <td>-2.579333</td>\n",
       "      <td>-4.059538</td>\n",
       "      <td>-57.703651</td>\n",
       "      <td>46.959005</td>\n",
       "    </tr>\n",
       "    <tr>\n",
       "      <th>978</th>\n",
       "      <td>2002-09-05</td>\n",
       "      <td>-2.435988</td>\n",
       "      <td>-4.635441</td>\n",
       "      <td>-59.206580</td>\n",
       "      <td>46.533622</td>\n",
       "    </tr>\n",
       "    <tr>\n",
       "      <th>979</th>\n",
       "      <td>2002-09-06</td>\n",
       "      <td>-2.741233</td>\n",
       "      <td>-3.311953</td>\n",
       "      <td>-58.197750</td>\n",
       "      <td>49.208707</td>\n",
       "    </tr>\n",
       "    <tr>\n",
       "      <th>980</th>\n",
       "      <td>2002-09-07</td>\n",
       "      <td>-3.397159</td>\n",
       "      <td>-5.385088</td>\n",
       "      <td>-58.007636</td>\n",
       "      <td>49.559496</td>\n",
       "    </tr>\n",
       "    <tr>\n",
       "      <th>981</th>\n",
       "      <td>2002-09-08</td>\n",
       "      <td>-2.769755</td>\n",
       "      <td>-5.611847</td>\n",
       "      <td>-57.993440</td>\n",
       "      <td>51.146565</td>\n",
       "    </tr>\n",
       "    <tr>\n",
       "      <th>982</th>\n",
       "      <td>2002-09-09</td>\n",
       "      <td>-2.197163</td>\n",
       "      <td>-6.919016</td>\n",
       "      <td>-58.460500</td>\n",
       "      <td>50.798383</td>\n",
       "    </tr>\n",
       "    <tr>\n",
       "      <th>983</th>\n",
       "      <td>2002-09-10</td>\n",
       "      <td>-1.925022</td>\n",
       "      <td>-7.275995</td>\n",
       "      <td>-58.763702</td>\n",
       "      <td>50.574081</td>\n",
       "    </tr>\n",
       "    <tr>\n",
       "      <th>984</th>\n",
       "      <td>2002-09-11</td>\n",
       "      <td>-1.352398</td>\n",
       "      <td>-7.711072</td>\n",
       "      <td>-58.063174</td>\n",
       "      <td>49.540142</td>\n",
       "    </tr>\n",
       "    <tr>\n",
       "      <th>985</th>\n",
       "      <td>2002-09-12</td>\n",
       "      <td>-0.612456</td>\n",
       "      <td>-7.244882</td>\n",
       "      <td>-57.891189</td>\n",
       "      <td>49.878709</td>\n",
       "    </tr>\n",
       "    <tr>\n",
       "      <th>986</th>\n",
       "      <td>2002-09-13</td>\n",
       "      <td>-1.185578</td>\n",
       "      <td>-5.668510</td>\n",
       "      <td>-56.893903</td>\n",
       "      <td>50.068952</td>\n",
       "    </tr>\n",
       "    <tr>\n",
       "      <th>987</th>\n",
       "      <td>2002-09-14</td>\n",
       "      <td>-0.862202</td>\n",
       "      <td>-6.482174</td>\n",
       "      <td>-57.104212</td>\n",
       "      <td>49.771477</td>\n",
       "    </tr>\n",
       "    <tr>\n",
       "      <th>988</th>\n",
       "      <td>2002-09-15</td>\n",
       "      <td>-0.525639</td>\n",
       "      <td>-7.199879</td>\n",
       "      <td>-58.758108</td>\n",
       "      <td>50.475655</td>\n",
       "    </tr>\n",
       "    <tr>\n",
       "      <th>989</th>\n",
       "      <td>2002-09-16</td>\n",
       "      <td>-1.071116</td>\n",
       "      <td>-7.505727</td>\n",
       "      <td>-59.704510</td>\n",
       "      <td>49.131626</td>\n",
       "    </tr>\n",
       "    <tr>\n",
       "      <th>990</th>\n",
       "      <td>2002-09-17</td>\n",
       "      <td>-3.166499</td>\n",
       "      <td>-5.481308</td>\n",
       "      <td>-60.098698</td>\n",
       "      <td>49.154804</td>\n",
       "    </tr>\n",
       "    <tr>\n",
       "      <th>991</th>\n",
       "      <td>2002-09-18</td>\n",
       "      <td>-2.760357</td>\n",
       "      <td>-4.255328</td>\n",
       "      <td>-59.336610</td>\n",
       "      <td>48.384694</td>\n",
       "    </tr>\n",
       "    <tr>\n",
       "      <th>992</th>\n",
       "      <td>2002-09-19</td>\n",
       "      <td>-3.017025</td>\n",
       "      <td>-3.350159</td>\n",
       "      <td>-61.696142</td>\n",
       "      <td>48.709867</td>\n",
       "    </tr>\n",
       "    <tr>\n",
       "      <th>993</th>\n",
       "      <td>2002-09-20</td>\n",
       "      <td>-2.427863</td>\n",
       "      <td>-4.113422</td>\n",
       "      <td>-60.693237</td>\n",
       "      <td>48.875865</td>\n",
       "    </tr>\n",
       "    <tr>\n",
       "      <th>994</th>\n",
       "      <td>2002-09-21</td>\n",
       "      <td>-2.582096</td>\n",
       "      <td>-3.478477</td>\n",
       "      <td>-62.044074</td>\n",
       "      <td>49.363861</td>\n",
       "    </tr>\n",
       "    <tr>\n",
       "      <th>995</th>\n",
       "      <td>2002-09-22</td>\n",
       "      <td>-1.484966</td>\n",
       "      <td>-4.906157</td>\n",
       "      <td>-61.730020</td>\n",
       "      <td>49.179880</td>\n",
       "    </tr>\n",
       "    <tr>\n",
       "      <th>996</th>\n",
       "      <td>2002-09-23</td>\n",
       "      <td>-1.079971</td>\n",
       "      <td>-4.812995</td>\n",
       "      <td>-61.308045</td>\n",
       "      <td>49.291269</td>\n",
       "    </tr>\n",
       "    <tr>\n",
       "      <th>997</th>\n",
       "      <td>2002-09-24</td>\n",
       "      <td>0.113979</td>\n",
       "      <td>-5.862399</td>\n",
       "      <td>-62.238550</td>\n",
       "      <td>49.282794</td>\n",
       "    </tr>\n",
       "    <tr>\n",
       "      <th>998</th>\n",
       "      <td>2002-09-25</td>\n",
       "      <td>0.462337</td>\n",
       "      <td>-5.751059</td>\n",
       "      <td>-63.351891</td>\n",
       "      <td>49.937208</td>\n",
       "    </tr>\n",
       "    <tr>\n",
       "      <th>999</th>\n",
       "      <td>2002-09-26</td>\n",
       "      <td>0.308106</td>\n",
       "      <td>-7.280220</td>\n",
       "      <td>-63.163158</td>\n",
       "      <td>50.778458</td>\n",
       "    </tr>\n",
       "  </tbody>\n",
       "</table>\n",
       "<p>1000 rows × 5 columns</p>\n",
       "</div>"
      ],
      "text/plain": [
       "     Unnamed: 0         A         B          C          D\n",
       "0    2000-01-01  0.006537  0.604631  -0.221758   1.333563\n",
       "1    2000-01-02  1.143346 -1.719800  -1.014132   2.698654\n",
       "2    2000-01-03  1.210209 -1.192515  -0.152721   2.631419\n",
       "3    2000-01-04  1.850952 -1.115365   1.052886   2.418375\n",
       "4    2000-01-05  1.264911  1.438899   1.317687   1.412050\n",
       "5    2000-01-06  0.677553  1.391657   1.350786   1.364724\n",
       "6    2000-01-07  0.485865  0.862524   2.441316   1.412291\n",
       "7    2000-01-08  1.544192  2.025094   4.862117   2.361786\n",
       "8    2000-01-09 -0.530123  1.711885   2.994446   0.876483\n",
       "9    2000-01-10 -0.955006  0.329703   2.935396   2.830649\n",
       "10   2000-01-11 -0.065883  0.509870   2.063099   2.029191\n",
       "11   2000-01-12 -0.835932 -0.268240   2.388807   1.872921\n",
       "12   2000-01-13  0.100862 -0.194691   2.014187   1.551066\n",
       "13   2000-01-14 -0.058110 -0.672064   2.848794   2.560001\n",
       "14   2000-01-15  0.126671  0.010339   3.406294   3.587795\n",
       "15   2000-01-16  0.604127 -0.812145   4.169620   2.757578\n",
       "16   2000-01-17 -0.562689 -0.966680   5.195991   2.435496\n",
       "17   2000-01-18 -0.890789  0.018358   3.922592   1.232482\n",
       "18   2000-01-19 -0.517802  0.676835   4.540512   0.818849\n",
       "19   2000-01-20  0.259117  2.839102   6.252233   1.972839\n",
       "20   2000-01-21  2.251111  6.111442   4.434976   1.309758\n",
       "21   2000-01-22  2.275382  6.622898   4.542538   1.131264\n",
       "22   2000-01-23  2.075776  6.732973   6.488453   0.753411\n",
       "23   2000-01-24  3.266146  6.207971   4.647033   0.277339\n",
       "24   2000-01-25  1.834208  4.355534   3.105806   0.938521\n",
       "25   2000-01-26  0.854300  4.429471   1.770258   0.975231\n",
       "26   2000-01-27 -0.068761  1.796993   1.650758   0.591127\n",
       "27   2000-01-28  0.534330  0.778626   3.304207   2.093019\n",
       "28   2000-01-29  0.050847 -0.254729   3.579285   0.561325\n",
       "29   2000-01-30  1.523826 -0.215174   2.151175   0.547239\n",
       "..          ...       ...       ...        ...        ...\n",
       "970  2002-08-28 -2.031551 -1.506019 -57.814969  51.253389\n",
       "971  2002-08-29 -1.591140 -1.512665 -58.860906  49.713203\n",
       "972  2002-08-30 -2.454938 -2.726277 -59.231160  48.055560\n",
       "973  2002-08-31 -1.945475 -2.967040 -59.430014  47.601945\n",
       "974  2002-09-01 -0.994719 -4.740062 -59.868587  49.877191\n",
       "975  2002-09-02 -0.219582 -3.968486 -60.048888  48.667069\n",
       "976  2002-09-03 -0.732307 -3.802243 -57.694585  48.254749\n",
       "977  2002-09-04 -2.579333 -4.059538 -57.703651  46.959005\n",
       "978  2002-09-05 -2.435988 -4.635441 -59.206580  46.533622\n",
       "979  2002-09-06 -2.741233 -3.311953 -58.197750  49.208707\n",
       "980  2002-09-07 -3.397159 -5.385088 -58.007636  49.559496\n",
       "981  2002-09-08 -2.769755 -5.611847 -57.993440  51.146565\n",
       "982  2002-09-09 -2.197163 -6.919016 -58.460500  50.798383\n",
       "983  2002-09-10 -1.925022 -7.275995 -58.763702  50.574081\n",
       "984  2002-09-11 -1.352398 -7.711072 -58.063174  49.540142\n",
       "985  2002-09-12 -0.612456 -7.244882 -57.891189  49.878709\n",
       "986  2002-09-13 -1.185578 -5.668510 -56.893903  50.068952\n",
       "987  2002-09-14 -0.862202 -6.482174 -57.104212  49.771477\n",
       "988  2002-09-15 -0.525639 -7.199879 -58.758108  50.475655\n",
       "989  2002-09-16 -1.071116 -7.505727 -59.704510  49.131626\n",
       "990  2002-09-17 -3.166499 -5.481308 -60.098698  49.154804\n",
       "991  2002-09-18 -2.760357 -4.255328 -59.336610  48.384694\n",
       "992  2002-09-19 -3.017025 -3.350159 -61.696142  48.709867\n",
       "993  2002-09-20 -2.427863 -4.113422 -60.693237  48.875865\n",
       "994  2002-09-21 -2.582096 -3.478477 -62.044074  49.363861\n",
       "995  2002-09-22 -1.484966 -4.906157 -61.730020  49.179880\n",
       "996  2002-09-23 -1.079971 -4.812995 -61.308045  49.291269\n",
       "997  2002-09-24  0.113979 -5.862399 -62.238550  49.282794\n",
       "998  2002-09-25  0.462337 -5.751059 -63.351891  49.937208\n",
       "999  2002-09-26  0.308106 -7.280220 -63.163158  50.778458\n",
       "\n",
       "[1000 rows x 5 columns]"
      ]
     },
     "execution_count": 101,
     "metadata": {},
     "output_type": "execute_result"
    }
   ],
   "source": [
    "pd.read_csv('foo.csv')"
   ]
  },
  {
   "cell_type": "markdown",
   "metadata": {},
   "source": [
    "## HDF5\n",
    "\n",
    "Reading and writing to [HDFStores](http://pandas.pydata.org/pandas-docs/stable/io.html#io-hdf5)\n",
    "\n",
    "Writing to a HDF5 Store"
   ]
  },
  {
   "cell_type": "code",
   "execution_count": 104,
   "metadata": {
    "collapsed": false
   },
   "outputs": [],
   "source": [
    "## df.to_hdf('foo.h5','df')"
   ]
  },
  {
   "cell_type": "markdown",
   "metadata": {},
   "source": [
    "Reading from a HDF5 Store"
   ]
  },
  {
   "cell_type": "code",
   "execution_count": 106,
   "metadata": {
    "collapsed": true
   },
   "outputs": [],
   "source": [
    "## pd.read_hdf('foo.h5','df')"
   ]
  },
  {
   "cell_type": "markdown",
   "metadata": {},
   "source": [
    "## Excel\n",
    "\n",
    "Reading and writing to [MS Excel](http://pandas.pydata.org/pandas-docs/stable/io.html#io-excel)\n",
    "\n",
    "Writing to an excel file"
   ]
  },
  {
   "cell_type": "code",
   "execution_count": 107,
   "metadata": {
    "collapsed": true
   },
   "outputs": [],
   "source": [
    "df.to_excel('foo.xlsx', sheet_name='Sheet1')"
   ]
  },
  {
   "cell_type": "markdown",
   "metadata": {},
   "source": [
    "Reading from an excel file"
   ]
  },
  {
   "cell_type": "code",
   "execution_count": 108,
   "metadata": {
    "collapsed": false,
    "scrolled": true
   },
   "outputs": [
    {
     "data": {
      "text/html": [
       "<div>\n",
       "<table border=\"1\" class=\"dataframe\">\n",
       "  <thead>\n",
       "    <tr style=\"text-align: right;\">\n",
       "      <th></th>\n",
       "      <th>A</th>\n",
       "      <th>B</th>\n",
       "      <th>C</th>\n",
       "      <th>D</th>\n",
       "    </tr>\n",
       "  </thead>\n",
       "  <tbody>\n",
       "    <tr>\n",
       "      <th>2000-01-01</th>\n",
       "      <td>0.006537</td>\n",
       "      <td>0.604631</td>\n",
       "      <td>-0.221758</td>\n",
       "      <td>1.333563</td>\n",
       "    </tr>\n",
       "    <tr>\n",
       "      <th>2000-01-02</th>\n",
       "      <td>1.143346</td>\n",
       "      <td>-1.719800</td>\n",
       "      <td>-1.014132</td>\n",
       "      <td>2.698654</td>\n",
       "    </tr>\n",
       "    <tr>\n",
       "      <th>2000-01-03</th>\n",
       "      <td>1.210209</td>\n",
       "      <td>-1.192515</td>\n",
       "      <td>-0.152721</td>\n",
       "      <td>2.631419</td>\n",
       "    </tr>\n",
       "    <tr>\n",
       "      <th>2000-01-04</th>\n",
       "      <td>1.850952</td>\n",
       "      <td>-1.115365</td>\n",
       "      <td>1.052886</td>\n",
       "      <td>2.418375</td>\n",
       "    </tr>\n",
       "    <tr>\n",
       "      <th>2000-01-05</th>\n",
       "      <td>1.264911</td>\n",
       "      <td>1.438899</td>\n",
       "      <td>1.317687</td>\n",
       "      <td>1.412050</td>\n",
       "    </tr>\n",
       "    <tr>\n",
       "      <th>2000-01-06</th>\n",
       "      <td>0.677553</td>\n",
       "      <td>1.391657</td>\n",
       "      <td>1.350786</td>\n",
       "      <td>1.364724</td>\n",
       "    </tr>\n",
       "    <tr>\n",
       "      <th>2000-01-07</th>\n",
       "      <td>0.485865</td>\n",
       "      <td>0.862524</td>\n",
       "      <td>2.441316</td>\n",
       "      <td>1.412291</td>\n",
       "    </tr>\n",
       "    <tr>\n",
       "      <th>2000-01-08</th>\n",
       "      <td>1.544192</td>\n",
       "      <td>2.025094</td>\n",
       "      <td>4.862117</td>\n",
       "      <td>2.361786</td>\n",
       "    </tr>\n",
       "    <tr>\n",
       "      <th>2000-01-09</th>\n",
       "      <td>-0.530123</td>\n",
       "      <td>1.711885</td>\n",
       "      <td>2.994446</td>\n",
       "      <td>0.876483</td>\n",
       "    </tr>\n",
       "    <tr>\n",
       "      <th>2000-01-10</th>\n",
       "      <td>-0.955006</td>\n",
       "      <td>0.329703</td>\n",
       "      <td>2.935396</td>\n",
       "      <td>2.830649</td>\n",
       "    </tr>\n",
       "    <tr>\n",
       "      <th>2000-01-11</th>\n",
       "      <td>-0.065883</td>\n",
       "      <td>0.509870</td>\n",
       "      <td>2.063099</td>\n",
       "      <td>2.029191</td>\n",
       "    </tr>\n",
       "    <tr>\n",
       "      <th>2000-01-12</th>\n",
       "      <td>-0.835932</td>\n",
       "      <td>-0.268240</td>\n",
       "      <td>2.388807</td>\n",
       "      <td>1.872921</td>\n",
       "    </tr>\n",
       "    <tr>\n",
       "      <th>2000-01-13</th>\n",
       "      <td>0.100862</td>\n",
       "      <td>-0.194691</td>\n",
       "      <td>2.014187</td>\n",
       "      <td>1.551066</td>\n",
       "    </tr>\n",
       "    <tr>\n",
       "      <th>2000-01-14</th>\n",
       "      <td>-0.058110</td>\n",
       "      <td>-0.672064</td>\n",
       "      <td>2.848794</td>\n",
       "      <td>2.560001</td>\n",
       "    </tr>\n",
       "    <tr>\n",
       "      <th>2000-01-15</th>\n",
       "      <td>0.126671</td>\n",
       "      <td>0.010339</td>\n",
       "      <td>3.406294</td>\n",
       "      <td>3.587795</td>\n",
       "    </tr>\n",
       "    <tr>\n",
       "      <th>2000-01-16</th>\n",
       "      <td>0.604127</td>\n",
       "      <td>-0.812145</td>\n",
       "      <td>4.169620</td>\n",
       "      <td>2.757578</td>\n",
       "    </tr>\n",
       "    <tr>\n",
       "      <th>2000-01-17</th>\n",
       "      <td>-0.562689</td>\n",
       "      <td>-0.966680</td>\n",
       "      <td>5.195991</td>\n",
       "      <td>2.435496</td>\n",
       "    </tr>\n",
       "    <tr>\n",
       "      <th>2000-01-18</th>\n",
       "      <td>-0.890789</td>\n",
       "      <td>0.018358</td>\n",
       "      <td>3.922592</td>\n",
       "      <td>1.232482</td>\n",
       "    </tr>\n",
       "    <tr>\n",
       "      <th>2000-01-19</th>\n",
       "      <td>-0.517802</td>\n",
       "      <td>0.676835</td>\n",
       "      <td>4.540512</td>\n",
       "      <td>0.818849</td>\n",
       "    </tr>\n",
       "    <tr>\n",
       "      <th>2000-01-20</th>\n",
       "      <td>0.259117</td>\n",
       "      <td>2.839102</td>\n",
       "      <td>6.252233</td>\n",
       "      <td>1.972839</td>\n",
       "    </tr>\n",
       "    <tr>\n",
       "      <th>2000-01-21</th>\n",
       "      <td>2.251111</td>\n",
       "      <td>6.111442</td>\n",
       "      <td>4.434976</td>\n",
       "      <td>1.309758</td>\n",
       "    </tr>\n",
       "    <tr>\n",
       "      <th>2000-01-22</th>\n",
       "      <td>2.275382</td>\n",
       "      <td>6.622898</td>\n",
       "      <td>4.542538</td>\n",
       "      <td>1.131264</td>\n",
       "    </tr>\n",
       "    <tr>\n",
       "      <th>2000-01-23</th>\n",
       "      <td>2.075776</td>\n",
       "      <td>6.732973</td>\n",
       "      <td>6.488453</td>\n",
       "      <td>0.753411</td>\n",
       "    </tr>\n",
       "    <tr>\n",
       "      <th>2000-01-24</th>\n",
       "      <td>3.266146</td>\n",
       "      <td>6.207971</td>\n",
       "      <td>4.647033</td>\n",
       "      <td>0.277339</td>\n",
       "    </tr>\n",
       "    <tr>\n",
       "      <th>2000-01-25</th>\n",
       "      <td>1.834208</td>\n",
       "      <td>4.355534</td>\n",
       "      <td>3.105806</td>\n",
       "      <td>0.938521</td>\n",
       "    </tr>\n",
       "    <tr>\n",
       "      <th>2000-01-26</th>\n",
       "      <td>0.854300</td>\n",
       "      <td>4.429471</td>\n",
       "      <td>1.770258</td>\n",
       "      <td>0.975231</td>\n",
       "    </tr>\n",
       "    <tr>\n",
       "      <th>2000-01-27</th>\n",
       "      <td>-0.068761</td>\n",
       "      <td>1.796993</td>\n",
       "      <td>1.650758</td>\n",
       "      <td>0.591127</td>\n",
       "    </tr>\n",
       "    <tr>\n",
       "      <th>2000-01-28</th>\n",
       "      <td>0.534330</td>\n",
       "      <td>0.778626</td>\n",
       "      <td>3.304207</td>\n",
       "      <td>2.093019</td>\n",
       "    </tr>\n",
       "    <tr>\n",
       "      <th>2000-01-29</th>\n",
       "      <td>0.050847</td>\n",
       "      <td>-0.254729</td>\n",
       "      <td>3.579285</td>\n",
       "      <td>0.561325</td>\n",
       "    </tr>\n",
       "    <tr>\n",
       "      <th>2000-01-30</th>\n",
       "      <td>1.523826</td>\n",
       "      <td>-0.215174</td>\n",
       "      <td>2.151175</td>\n",
       "      <td>0.547239</td>\n",
       "    </tr>\n",
       "    <tr>\n",
       "      <th>...</th>\n",
       "      <td>...</td>\n",
       "      <td>...</td>\n",
       "      <td>...</td>\n",
       "      <td>...</td>\n",
       "    </tr>\n",
       "    <tr>\n",
       "      <th>2002-08-28</th>\n",
       "      <td>-2.031551</td>\n",
       "      <td>-1.506019</td>\n",
       "      <td>-57.814969</td>\n",
       "      <td>51.253389</td>\n",
       "    </tr>\n",
       "    <tr>\n",
       "      <th>2002-08-29</th>\n",
       "      <td>-1.591140</td>\n",
       "      <td>-1.512665</td>\n",
       "      <td>-58.860906</td>\n",
       "      <td>49.713203</td>\n",
       "    </tr>\n",
       "    <tr>\n",
       "      <th>2002-08-30</th>\n",
       "      <td>-2.454938</td>\n",
       "      <td>-2.726277</td>\n",
       "      <td>-59.231160</td>\n",
       "      <td>48.055560</td>\n",
       "    </tr>\n",
       "    <tr>\n",
       "      <th>2002-08-31</th>\n",
       "      <td>-1.945475</td>\n",
       "      <td>-2.967040</td>\n",
       "      <td>-59.430014</td>\n",
       "      <td>47.601945</td>\n",
       "    </tr>\n",
       "    <tr>\n",
       "      <th>2002-09-01</th>\n",
       "      <td>-0.994719</td>\n",
       "      <td>-4.740062</td>\n",
       "      <td>-59.868587</td>\n",
       "      <td>49.877191</td>\n",
       "    </tr>\n",
       "    <tr>\n",
       "      <th>2002-09-02</th>\n",
       "      <td>-0.219582</td>\n",
       "      <td>-3.968486</td>\n",
       "      <td>-60.048888</td>\n",
       "      <td>48.667069</td>\n",
       "    </tr>\n",
       "    <tr>\n",
       "      <th>2002-09-03</th>\n",
       "      <td>-0.732307</td>\n",
       "      <td>-3.802243</td>\n",
       "      <td>-57.694585</td>\n",
       "      <td>48.254749</td>\n",
       "    </tr>\n",
       "    <tr>\n",
       "      <th>2002-09-04</th>\n",
       "      <td>-2.579333</td>\n",
       "      <td>-4.059538</td>\n",
       "      <td>-57.703651</td>\n",
       "      <td>46.959005</td>\n",
       "    </tr>\n",
       "    <tr>\n",
       "      <th>2002-09-05</th>\n",
       "      <td>-2.435988</td>\n",
       "      <td>-4.635441</td>\n",
       "      <td>-59.206580</td>\n",
       "      <td>46.533622</td>\n",
       "    </tr>\n",
       "    <tr>\n",
       "      <th>2002-09-06</th>\n",
       "      <td>-2.741233</td>\n",
       "      <td>-3.311953</td>\n",
       "      <td>-58.197750</td>\n",
       "      <td>49.208707</td>\n",
       "    </tr>\n",
       "    <tr>\n",
       "      <th>2002-09-07</th>\n",
       "      <td>-3.397159</td>\n",
       "      <td>-5.385088</td>\n",
       "      <td>-58.007636</td>\n",
       "      <td>49.559496</td>\n",
       "    </tr>\n",
       "    <tr>\n",
       "      <th>2002-09-08</th>\n",
       "      <td>-2.769755</td>\n",
       "      <td>-5.611847</td>\n",
       "      <td>-57.993440</td>\n",
       "      <td>51.146565</td>\n",
       "    </tr>\n",
       "    <tr>\n",
       "      <th>2002-09-09</th>\n",
       "      <td>-2.197163</td>\n",
       "      <td>-6.919016</td>\n",
       "      <td>-58.460500</td>\n",
       "      <td>50.798383</td>\n",
       "    </tr>\n",
       "    <tr>\n",
       "      <th>2002-09-10</th>\n",
       "      <td>-1.925022</td>\n",
       "      <td>-7.275995</td>\n",
       "      <td>-58.763702</td>\n",
       "      <td>50.574081</td>\n",
       "    </tr>\n",
       "    <tr>\n",
       "      <th>2002-09-11</th>\n",
       "      <td>-1.352398</td>\n",
       "      <td>-7.711072</td>\n",
       "      <td>-58.063174</td>\n",
       "      <td>49.540142</td>\n",
       "    </tr>\n",
       "    <tr>\n",
       "      <th>2002-09-12</th>\n",
       "      <td>-0.612456</td>\n",
       "      <td>-7.244882</td>\n",
       "      <td>-57.891189</td>\n",
       "      <td>49.878709</td>\n",
       "    </tr>\n",
       "    <tr>\n",
       "      <th>2002-09-13</th>\n",
       "      <td>-1.185578</td>\n",
       "      <td>-5.668510</td>\n",
       "      <td>-56.893903</td>\n",
       "      <td>50.068952</td>\n",
       "    </tr>\n",
       "    <tr>\n",
       "      <th>2002-09-14</th>\n",
       "      <td>-0.862202</td>\n",
       "      <td>-6.482174</td>\n",
       "      <td>-57.104212</td>\n",
       "      <td>49.771477</td>\n",
       "    </tr>\n",
       "    <tr>\n",
       "      <th>2002-09-15</th>\n",
       "      <td>-0.525639</td>\n",
       "      <td>-7.199879</td>\n",
       "      <td>-58.758108</td>\n",
       "      <td>50.475655</td>\n",
       "    </tr>\n",
       "    <tr>\n",
       "      <th>2002-09-16</th>\n",
       "      <td>-1.071116</td>\n",
       "      <td>-7.505727</td>\n",
       "      <td>-59.704510</td>\n",
       "      <td>49.131626</td>\n",
       "    </tr>\n",
       "    <tr>\n",
       "      <th>2002-09-17</th>\n",
       "      <td>-3.166499</td>\n",
       "      <td>-5.481308</td>\n",
       "      <td>-60.098698</td>\n",
       "      <td>49.154804</td>\n",
       "    </tr>\n",
       "    <tr>\n",
       "      <th>2002-09-18</th>\n",
       "      <td>-2.760357</td>\n",
       "      <td>-4.255328</td>\n",
       "      <td>-59.336610</td>\n",
       "      <td>48.384694</td>\n",
       "    </tr>\n",
       "    <tr>\n",
       "      <th>2002-09-19</th>\n",
       "      <td>-3.017025</td>\n",
       "      <td>-3.350159</td>\n",
       "      <td>-61.696142</td>\n",
       "      <td>48.709867</td>\n",
       "    </tr>\n",
       "    <tr>\n",
       "      <th>2002-09-20</th>\n",
       "      <td>-2.427863</td>\n",
       "      <td>-4.113422</td>\n",
       "      <td>-60.693237</td>\n",
       "      <td>48.875865</td>\n",
       "    </tr>\n",
       "    <tr>\n",
       "      <th>2002-09-21</th>\n",
       "      <td>-2.582096</td>\n",
       "      <td>-3.478477</td>\n",
       "      <td>-62.044074</td>\n",
       "      <td>49.363861</td>\n",
       "    </tr>\n",
       "    <tr>\n",
       "      <th>2002-09-22</th>\n",
       "      <td>-1.484966</td>\n",
       "      <td>-4.906157</td>\n",
       "      <td>-61.730020</td>\n",
       "      <td>49.179880</td>\n",
       "    </tr>\n",
       "    <tr>\n",
       "      <th>2002-09-23</th>\n",
       "      <td>-1.079971</td>\n",
       "      <td>-4.812995</td>\n",
       "      <td>-61.308045</td>\n",
       "      <td>49.291269</td>\n",
       "    </tr>\n",
       "    <tr>\n",
       "      <th>2002-09-24</th>\n",
       "      <td>0.113979</td>\n",
       "      <td>-5.862399</td>\n",
       "      <td>-62.238550</td>\n",
       "      <td>49.282794</td>\n",
       "    </tr>\n",
       "    <tr>\n",
       "      <th>2002-09-25</th>\n",
       "      <td>0.462337</td>\n",
       "      <td>-5.751059</td>\n",
       "      <td>-63.351891</td>\n",
       "      <td>49.937208</td>\n",
       "    </tr>\n",
       "    <tr>\n",
       "      <th>2002-09-26</th>\n",
       "      <td>0.308106</td>\n",
       "      <td>-7.280220</td>\n",
       "      <td>-63.163158</td>\n",
       "      <td>50.778458</td>\n",
       "    </tr>\n",
       "  </tbody>\n",
       "</table>\n",
       "<p>1000 rows × 4 columns</p>\n",
       "</div>"
      ],
      "text/plain": [
       "                   A         B          C          D\n",
       "2000-01-01  0.006537  0.604631  -0.221758   1.333563\n",
       "2000-01-02  1.143346 -1.719800  -1.014132   2.698654\n",
       "2000-01-03  1.210209 -1.192515  -0.152721   2.631419\n",
       "2000-01-04  1.850952 -1.115365   1.052886   2.418375\n",
       "2000-01-05  1.264911  1.438899   1.317687   1.412050\n",
       "2000-01-06  0.677553  1.391657   1.350786   1.364724\n",
       "2000-01-07  0.485865  0.862524   2.441316   1.412291\n",
       "2000-01-08  1.544192  2.025094   4.862117   2.361786\n",
       "2000-01-09 -0.530123  1.711885   2.994446   0.876483\n",
       "2000-01-10 -0.955006  0.329703   2.935396   2.830649\n",
       "2000-01-11 -0.065883  0.509870   2.063099   2.029191\n",
       "2000-01-12 -0.835932 -0.268240   2.388807   1.872921\n",
       "2000-01-13  0.100862 -0.194691   2.014187   1.551066\n",
       "2000-01-14 -0.058110 -0.672064   2.848794   2.560001\n",
       "2000-01-15  0.126671  0.010339   3.406294   3.587795\n",
       "2000-01-16  0.604127 -0.812145   4.169620   2.757578\n",
       "2000-01-17 -0.562689 -0.966680   5.195991   2.435496\n",
       "2000-01-18 -0.890789  0.018358   3.922592   1.232482\n",
       "2000-01-19 -0.517802  0.676835   4.540512   0.818849\n",
       "2000-01-20  0.259117  2.839102   6.252233   1.972839\n",
       "2000-01-21  2.251111  6.111442   4.434976   1.309758\n",
       "2000-01-22  2.275382  6.622898   4.542538   1.131264\n",
       "2000-01-23  2.075776  6.732973   6.488453   0.753411\n",
       "2000-01-24  3.266146  6.207971   4.647033   0.277339\n",
       "2000-01-25  1.834208  4.355534   3.105806   0.938521\n",
       "2000-01-26  0.854300  4.429471   1.770258   0.975231\n",
       "2000-01-27 -0.068761  1.796993   1.650758   0.591127\n",
       "2000-01-28  0.534330  0.778626   3.304207   2.093019\n",
       "2000-01-29  0.050847 -0.254729   3.579285   0.561325\n",
       "2000-01-30  1.523826 -0.215174   2.151175   0.547239\n",
       "...              ...       ...        ...        ...\n",
       "2002-08-28 -2.031551 -1.506019 -57.814969  51.253389\n",
       "2002-08-29 -1.591140 -1.512665 -58.860906  49.713203\n",
       "2002-08-30 -2.454938 -2.726277 -59.231160  48.055560\n",
       "2002-08-31 -1.945475 -2.967040 -59.430014  47.601945\n",
       "2002-09-01 -0.994719 -4.740062 -59.868587  49.877191\n",
       "2002-09-02 -0.219582 -3.968486 -60.048888  48.667069\n",
       "2002-09-03 -0.732307 -3.802243 -57.694585  48.254749\n",
       "2002-09-04 -2.579333 -4.059538 -57.703651  46.959005\n",
       "2002-09-05 -2.435988 -4.635441 -59.206580  46.533622\n",
       "2002-09-06 -2.741233 -3.311953 -58.197750  49.208707\n",
       "2002-09-07 -3.397159 -5.385088 -58.007636  49.559496\n",
       "2002-09-08 -2.769755 -5.611847 -57.993440  51.146565\n",
       "2002-09-09 -2.197163 -6.919016 -58.460500  50.798383\n",
       "2002-09-10 -1.925022 -7.275995 -58.763702  50.574081\n",
       "2002-09-11 -1.352398 -7.711072 -58.063174  49.540142\n",
       "2002-09-12 -0.612456 -7.244882 -57.891189  49.878709\n",
       "2002-09-13 -1.185578 -5.668510 -56.893903  50.068952\n",
       "2002-09-14 -0.862202 -6.482174 -57.104212  49.771477\n",
       "2002-09-15 -0.525639 -7.199879 -58.758108  50.475655\n",
       "2002-09-16 -1.071116 -7.505727 -59.704510  49.131626\n",
       "2002-09-17 -3.166499 -5.481308 -60.098698  49.154804\n",
       "2002-09-18 -2.760357 -4.255328 -59.336610  48.384694\n",
       "2002-09-19 -3.017025 -3.350159 -61.696142  48.709867\n",
       "2002-09-20 -2.427863 -4.113422 -60.693237  48.875865\n",
       "2002-09-21 -2.582096 -3.478477 -62.044074  49.363861\n",
       "2002-09-22 -1.484966 -4.906157 -61.730020  49.179880\n",
       "2002-09-23 -1.079971 -4.812995 -61.308045  49.291269\n",
       "2002-09-24  0.113979 -5.862399 -62.238550  49.282794\n",
       "2002-09-25  0.462337 -5.751059 -63.351891  49.937208\n",
       "2002-09-26  0.308106 -7.280220 -63.163158  50.778458\n",
       "\n",
       "[1000 rows x 4 columns]"
      ]
     },
     "execution_count": 108,
     "metadata": {},
     "output_type": "execute_result"
    }
   ],
   "source": [
    "pd.read_excel('foo.xlsx', 'Sheet1', index_col=None, na_values=['NA'])"
   ]
  },
  {
   "cell_type": "markdown",
   "metadata": {},
   "source": [
    "# Gotchas\n",
    "If you are trying an operation and you see an exception like:\n",
    "<pre>    \n",
    "&gt;&gt;&gt; if pd.Series([False, True, False]):\n",
    "    print(\"I was true\")\n",
    "Traceback\n",
    "    ...\n",
    "\n",
    "ValueError: The truth value of an array is ambiguous. Use a.empty, a.any() or a.all().\n",
    "</pre>\n",
    "\n",
    "See [Comparisons](http://pandas.pydata.org/pandas-docs/stable/basics.html#basics-compare) for an explanation and what to do.\n",
    "\n",
    "See [Gotchas](http://pandas.pydata.org/pandas-docs/stable/gotchas.html#gotchas) as well."
   ]
  },
  {
   "cell_type": "code",
   "execution_count": null,
   "metadata": {
    "collapsed": true
   },
   "outputs": [],
   "source": []
  },
  {
   "cell_type": "code",
   "execution_count": null,
   "metadata": {
    "collapsed": true
   },
   "outputs": [],
   "source": []
  },
  {
   "cell_type": "code",
   "execution_count": null,
   "metadata": {
    "collapsed": true
   },
   "outputs": [],
   "source": []
  }
 ],
 "metadata": {
  "kernelspec": {
   "display_name": "Python 3",
   "language": "python",
   "name": "python3"
  },
  "language_info": {
   "codemirror_mode": {
    "name": "ipython",
    "version": 3
   },
   "file_extension": ".py",
   "mimetype": "text/x-python",
   "name": "python",
   "nbconvert_exporter": "python",
   "pygments_lexer": "ipython3",
   "version": "3.4.3"
  }
 },
 "nbformat": 4,
 "nbformat_minor": 0
}
