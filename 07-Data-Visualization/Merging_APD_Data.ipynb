{
 "cells": [
  {
   "cell_type": "markdown",
   "metadata": {},
   "source": [
    "# Atlanta Police Department\n",
    "![APD Logo](https://atlantapd.galls.com/photos/partners/atlantapd/logo.jpg)\n",
    "\n",
    "\n",
    "The Atlanta Police Department provides Part 1 crime data at http://www.atlantapd.org/i-want-to/crime-data-downloads\n",
    "\n",
    "A recent copy of the data file is stored in the cluster. <span style=\"color: red; font-weight: bold;\">Please, do not copy this data file into your home directory!</span>"
   ]
  },
  {
   "cell_type": "markdown",
   "metadata": {},
   "source": [
    "# Introduction\n",
    "\n",
    "\n",
    "- This notebooks leads into an exploration of public crime data provided by the Atlanta Police Department.\n",
    "- The original data set and supplemental information can be found at http://www.atlantapd.org/i-want-to/crime-data-downloads\n",
    "- **The data set is available on ARC, please, don't download into your home directory on ARC!**"
   ]
  },
  {
   "cell_type": "code",
   "execution_count": 1,
   "metadata": {
    "ExecuteTime": {
     "end_time": "2017-10-04T18:11:45.575540",
     "start_time": "2017-10-04T18:11:44.488168"
    },
    "collapsed": true
   },
   "outputs": [],
   "source": [
    "import numpy as np\n",
    "import pandas as pd\n",
    "%matplotlib inline\n",
    "import matplotlib.pyplot as plt"
   ]
  },
  {
   "cell_type": "code",
   "execution_count": 7,
   "metadata": {
    "ExecuteTime": {
     "end_time": "2017-10-04T18:16:03.901469",
     "start_time": "2017-10-04T18:16:03.746426"
    },
    "collapsed": false
   },
   "outputs": [
    {
     "name": "stdout",
     "output_type": "stream",
     "text": [
      "-rw-r--r-- 1 pmolnar data 6113160 Oct  4 17:15 /home/data/APD/COBRA-YTD2009.xlsx\r\n",
      "-rw-r--r-- 1 pmolnar data 5528521 Oct  4 17:15 /home/data/APD/COBRA-YTD2010.xlsx\r\n",
      "-rw-r--r-- 1 pmolnar data 5432924 Oct  4 17:15 /home/data/APD/COBRA-YTD2011.xlsx\r\n",
      "-rw-r--r-- 1 pmolnar data 5128046 Oct  4 17:15 /home/data/APD/COBRA-YTD2012.xlsx\r\n",
      "-rw-r--r-- 1 pmolnar data 4972005 Oct  4 17:15 /home/data/APD/COBRA-YTD2013.xlsx\r\n",
      "-rw-r--r-- 1 pmolnar data 4804222 Oct  4 17:15 /home/data/APD/COBRA-YTD2014.xlsx\r\n",
      "-rw-r--r-- 1 pmolnar data 4640184 Oct  4 17:15 /home/data/APD/COBRA-YTD2015.xlsx\r\n",
      "-rw-r--r-- 1 pmolnar data 3931468 Oct  4 17:15 /home/data/APD/COBRA-YTD2016.xlsx\r\n",
      "-rw-r--r-- 1 pmolnar data 2962620 Oct  4 17:15 /home/data/APD/COBRA-YTD2017.xlsx\r\n"
     ]
    }
   ],
   "source": [
    "ls -l /home/data/APD/COBRA-YTD*.xlsx"
   ]
  },
  {
   "cell_type": "code",
   "execution_count": 15,
   "metadata": {
    "ExecuteTime": {
     "end_time": "2017-10-04T18:29:00.377821",
     "start_time": "2017-10-04T18:23:51.343098"
    },
    "collapsed": false
   },
   "outputs": [
    {
     "name": "stdout",
     "output_type": "stream",
     "text": [
      "9\n",
      "Shape of table:  (39626, 23)\n",
      "82040835 93611412081\n",
      "-----\n",
      "10\n",
      "Shape of table:  (35770, 23)\n",
      "72692336 103601083093\n",
      "-----\n",
      "11\n",
      "Shape of table:  (35174, 23)\n",
      "100020717 113642157089\n",
      "-----\n",
      "12\n",
      "Shape of table:  (33394, 23)\n",
      "110171050 123610998085\n",
      "-----\n",
      "13\n",
      "Shape of table:  (32303, 23)\n",
      "111290429 133641638086\n",
      "-----\n",
      "14\n",
      "Shape of table:  (31166, 23)\n",
      "120140510 143590367094\n",
      "-----\n",
      "15\n",
      "Shape of table:  (30115, 23)\n",
      "140041432 153600498099\n",
      "-----\n",
      "16\n",
      "Shape of table:  (29112, 23)\n",
      "150102493 163660563113\n",
      "-----\n",
      "17\n",
      "Shape of table:  (19073, 23)\n",
      "160821939 172640598057\n",
      "-----\n"
     ]
    }
   ],
   "source": [
    "dfd = dict()\n",
    "for YY in [9, 10, 11, 12, 13, 14, 15, 16, 17]:\n",
    "    dfd[YY] = pd.read_excel('/home/data/APD/COBRA-YTD20%02d.xlsx'%YY, sheetname='Query')\n",
    "    print YY\n",
    "    print \"Shape of table: \", dfd[YY].shape\n",
    "    print dfd[YY].offense_id.min(), dfd[YY].offense_id.max()\n",
    "    print \"-----\""
   ]
  },
  {
   "cell_type": "markdown",
   "metadata": {},
   "source": [
    "Let's look at the structure of this table. We're actually creating some text output that can be used to create a data dictionary."
   ]
  },
  {
   "cell_type": "code",
   "execution_count": 19,
   "metadata": {
    "ExecuteTime": {
     "end_time": "2017-10-04T18:37:14.319475",
     "start_time": "2017-10-04T18:37:14.240191"
    },
    "collapsed": false
   },
   "outputs": [
    {
     "data": {
      "text/plain": [
       "(48185, 23)"
      ]
     },
     "execution_count": 19,
     "metadata": {},
     "output_type": "execute_result"
    }
   ],
   "source": [
    "pd.concat([dfd[17], dfd[16]]).shape"
   ]
  },
  {
   "cell_type": "code",
   "execution_count": 25,
   "metadata": {
    "ExecuteTime": {
     "end_time": "2017-10-04T18:40:55.463511",
     "start_time": "2017-10-04T18:40:55.088665"
    },
    "collapsed": false
   },
   "outputs": [],
   "source": [
    "df = pd.concat([dfd[k] for k in dfd.keys()])"
   ]
  },
  {
   "cell_type": "code",
   "execution_count": 26,
   "metadata": {
    "ExecuteTime": {
     "end_time": "2017-10-04T18:41:32.590529",
     "start_time": "2017-10-04T18:41:08.191202"
    },
    "collapsed": false
   },
   "outputs": [],
   "source": [
    "df.to_csv('/home/data/APD/COBRA-YTD-multiyear.csv.gz', index=None, compression='gzip')"
   ]
  },
  {
   "cell_type": "code",
   "execution_count": null,
   "metadata": {
    "collapsed": true
   },
   "outputs": [],
   "source": []
  },
  {
   "cell_type": "code",
   "execution_count": null,
   "metadata": {
    "collapsed": true
   },
   "outputs": [],
   "source": []
  }
 ],
 "metadata": {
  "hide_input": false,
  "kernelspec": {
   "display_name": "Python 2",
   "language": "python",
   "name": "python2"
  },
  "language_info": {
   "codemirror_mode": {
    "name": "ipython",
    "version": 2
   },
   "file_extension": ".py",
   "mimetype": "text/x-python",
   "name": "python",
   "nbconvert_exporter": "python",
   "pygments_lexer": "ipython2",
   "version": "2.7.5"
  },
  "toc": {
   "nav_menu": {
    "height": "212px",
    "width": "252px"
   },
   "navigate_menu": true,
   "number_sections": true,
   "sideBar": true,
   "threshold": 4,
   "toc_cell": false,
   "toc_section_display": "block",
   "toc_window_display": true
  }
 },
 "nbformat": 4,
 "nbformat_minor": 0
}
