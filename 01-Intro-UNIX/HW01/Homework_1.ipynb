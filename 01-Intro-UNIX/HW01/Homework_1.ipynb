{
 "cells": [
  {
   "cell_type": "markdown",
   "metadata": {},
   "source": [
    "# Homework 1\n",
    "\n",
    "<h1 style=\"color:red\">This hoomework assignment is not complete. Please, check back later. There will be a total of 25 problems.</h1>"
   ]
  },
  {
   "cell_type": "markdown",
   "metadata": {},
   "source": [
    "## 1.1 Create directory for this assignment\n",
    "\n",
    "1. create a directory name `IFI8410F23` in your home directory\n",
    "2. create a sub-directory in `IFI8410F23` named `HW01` (you can also do this in one command). We refere to this directory as **\"assignment directory\"**.\n",
    "3. navigate to this directory, and make sure that your notebooks creates everything in this directory (`~/IFI8410F23/HW01`).\n"
   ]
  },
  {
   "cell_type": "code",
   "execution_count": null,
   "metadata": {},
   "outputs": [],
   "source": [
    "%%sh\n",
    "# add your code here\n"
   ]
  },
  {
   "cell_type": "markdown",
   "metadata": {},
   "source": [
    "### Test 1.1\n",
    "- the directory exists"
   ]
  },
  {
   "cell_type": "markdown",
   "metadata": {},
   "source": [
    "## 1.2 List all files in your home directory, including hidden files\n",
    "1. Apply the `ls` command with the apprpriate option to show *hidden files* on your home directory\n",
    "2. Direct the output to a file named `output_1_2.txt` in your assignment directory "
   ]
  },
  {
   "cell_type": "code",
   "execution_count": null,
   "metadata": {},
   "outputs": [],
   "source": [
    "%%sh"
   ]
  },
  {
   "cell_type": "markdown",
   "metadata": {},
   "source": [
    "### Test 1.2\n",
    "- checking content of the output file"
   ]
  },
  {
   "cell_type": "markdown",
   "metadata": {},
   "source": [
    "## 1.3 List the files and subdirectories in the `/data/IFI8410/` directory\n",
    "1. Use the *recursive* option and the *long* option of the `ls` command to list all the files in the `/data/IFI8410/` folder. You don't need to include hidden files.\n",
    "2. Most of the data for this class will be in this directory. You have only read access to these files.\n",
    "3. Direct the output to a file named output_1_3.txt in your assignment directory"
   ]
  },
  {
   "cell_type": "code",
   "execution_count": null,
   "metadata": {},
   "outputs": [],
   "source": [
    "%%sh\n"
   ]
  },
  {
   "cell_type": "markdown",
   "metadata": {},
   "source": [
    "### Test 1.3\n",
    "- checking content of the output file"
   ]
  },
  {
   "cell_type": "markdown",
   "metadata": {},
   "source": [
    "## 1.4 List the data files with for sentiment analysis in the **data directory**\n",
    "1. There are three text files with labeled sentences for sentiment analysis in the data directory `/data/IFI8410`.\n",
    "2. Find where they are and list those files with their full path, date and file size in **human friendly** form.\n",
    "3. You can use the `-l` option for long format. (Hint: another option is required for human friendly output)\n",
    "4. Only list those three files. Don't include the 'read-me' file.\n",
    "5. Direct the output to a file named `output_1_4.txt` in your assignment directory\n"
   ]
  },
  {
   "cell_type": "code",
   "execution_count": null,
   "metadata": {},
   "outputs": [],
   "source": [
    "%%sh\n"
   ]
  },
  {
   "cell_type": "markdown",
   "metadata": {},
   "source": [
    "### Test 1.4\n",
    "- checking content of the output file `output_1_4.txt`."
   ]
  },
  {
   "cell_type": "markdown",
   "metadata": {},
   "source": [
    "## 1.5 List the first 20 lines of the data file \n",
    "1. List the first 20 lines of the data file `/data/IFI8410/sess01/sentiment_labelled_sentences/amazon_cells_labelled.txt`\n",
    "2. Direct the output to a file named `output_1_5.txt` in your assignment directory"
   ]
  },
  {
   "cell_type": "code",
   "execution_count": null,
   "metadata": {},
   "outputs": [],
   "source": [
    "%%sh\n"
   ]
  },
  {
   "cell_type": "markdown",
   "metadata": {},
   "source": [
    "### Test 1.5\n",
    "- Checking content of `output_1_5.txt`"
   ]
  },
  {
   "cell_type": "markdown",
   "metadata": {},
   "source": [
    "## 1.6 List the last 20 lines of the data file\n",
    "1. List the last 20 lines of the data file `/data/IFI8410/sess01/sentiment_labelled_sentences/amazon_cells_labelled.txt`\n",
    "2. Direct the output to a file named `output_1_6.txt` in your assignment directory"
   ]
  },
  {
   "cell_type": "code",
   "execution_count": null,
   "metadata": {},
   "outputs": [],
   "source": [
    "%%sh\n"
   ]
  },
  {
   "cell_type": "markdown",
   "metadata": {},
   "source": [
    "### Test 1.6\n",
    "- Checking content of `output_1_6.txt`"
   ]
  },
  {
   "cell_type": "markdown",
   "metadata": {},
   "source": [
    "## 1.7 Count lines, words, and characters of each of the three sentiment data files\n",
    "\n",
    "1. Instructions\n",
    "2. Direct the output to a file named `output_1_7.txt` in your assignment directory\n",
    "\n",
    "(Hint: you may have to execute multiple commands; use the *append* operator to add the output to an existing file.)"
   ]
  },
  {
   "cell_type": "code",
   "execution_count": null,
   "metadata": {},
   "outputs": [],
   "source": [
    "%%sh\n"
   ]
  },
  {
   "cell_type": "markdown",
   "metadata": {},
   "source": [
    "### Test 1.7\n",
    "- Checking content of `output_1_7.txt`"
   ]
  },
  {
   "cell_type": "markdown",
   "metadata": {},
   "source": [
    "## 1.8 Create a combined file for to analyze sentiment data\n",
    "1. Combine the three data file (Amazon, IDMB, Yelp) into a single stream, and\n",
    "2. Replace the TAB chacter `\\t` with the \"Pipe\" character '|'. (Data tables may use different characters to separate values with a row. \n",
    "   The \"Pipe\" symbol is a popular alternative to the comma ','. Files that use the pipe symbol often use the file extension `.psv`, pipe-seperated values.) \n",
    "2. Direct the output to a file named `combined_sentiment_data.psv` in your assignment directory"
   ]
  },
  {
   "cell_type": "code",
   "execution_count": null,
   "metadata": {},
   "outputs": [],
   "source": [
    "%%sh\n"
   ]
  },
  {
   "cell_type": "markdown",
   "metadata": {},
   "source": [
    "### Test 1.8\n",
    "- Checking content of `output_1_8.txt`"
   ]
  },
  {
   "cell_type": "markdown",
   "metadata": {},
   "source": [
    "## 1.9 --TBD--\n",
    "1. Instructions\n",
    "2. Direct the output to a file named `output_1_9.txt` in your assignment directory"
   ]
  },
  {
   "cell_type": "code",
   "execution_count": null,
   "metadata": {},
   "outputs": [],
   "source": [
    "%%sh"
   ]
  },
  {
   "cell_type": "markdown",
   "metadata": {},
   "source": [
    "### Test 1.9\n",
    "- Checking content of `output_1_9.txt`"
   ]
  },
  {
   "cell_type": "markdown",
   "metadata": {},
   "source": [
    "## 1.10 --TBD--\n",
    "1. Instructions\n",
    "2. Direct the output to a file named `output_1_10.txt` in your assignment directory"
   ]
  },
  {
   "cell_type": "code",
   "execution_count": null,
   "metadata": {},
   "outputs": [],
   "source": [
    "%%sh"
   ]
  },
  {
   "cell_type": "markdown",
   "metadata": {},
   "source": [
    "### Test 1.10\n",
    "- Checking content of `output_1_10.txt`"
   ]
  },
  {
   "cell_type": "markdown",
   "metadata": {},
   "source": [
    "## 1.11 --TBD--\n",
    "1. Instructions\n",
    "2. Direct the output to a file named `output_1_11.txt` in your assignment directory"
   ]
  },
  {
   "cell_type": "code",
   "execution_count": null,
   "metadata": {},
   "outputs": [],
   "source": [
    "%%sh"
   ]
  },
  {
   "cell_type": "markdown",
   "metadata": {},
   "source": [
    "### Test 1.11\n",
    "- Checking content of `output_1_11.txt`"
   ]
  },
  {
   "cell_type": "markdown",
   "metadata": {},
   "source": [
    "## 1.12 --TBD--\n",
    "1. Instructions\n",
    "2. Direct the output to a file named `output_1_12.txt` in your assignment directory"
   ]
  },
  {
   "cell_type": "code",
   "execution_count": null,
   "metadata": {},
   "outputs": [],
   "source": [
    "%%sh"
   ]
  },
  {
   "cell_type": "markdown",
   "metadata": {},
   "source": [
    "### Test 1.12\n",
    "- Checking content of `output_1_12.txt`"
   ]
  },
  {
   "cell_type": "markdown",
   "metadata": {},
   "source": [
    "## 1.13 --TBD--\n",
    "1. Instructions\n",
    "2. Direct the output to a file named `output_1_13.txt` in your assignment directory"
   ]
  },
  {
   "cell_type": "code",
   "execution_count": null,
   "metadata": {},
   "outputs": [],
   "source": [
    "%%sh"
   ]
  },
  {
   "cell_type": "markdown",
   "metadata": {},
   "source": [
    "### Test 1.13\n",
    "- Checking content of `output_1_13.txt`"
   ]
  },
  {
   "cell_type": "markdown",
   "metadata": {},
   "source": [
    "## 1.141. Instructions2. Direct the output to a file named `output_1_14.txt` in your assignment directory"
   ]
  },
  {
   "cell_type": "code",
   "execution_count": null,
   "metadata": {},
   "outputs": [],
   "source": [
    "%%sh"
   ]
  },
  {
   "cell_type": "markdown",
   "metadata": {},
   "source": [
    "### Test 1.14\n",
    "- Checking content of `output_1_14.txt`"
   ]
  },
  {
   "cell_type": "markdown",
   "metadata": {},
   "source": [
    "## 1.15 --TBD--\n",
    "1. Instructions\n",
    "2. Direct the output to a file named `output_1_15.txt` in your assignment directory"
   ]
  },
  {
   "cell_type": "code",
   "execution_count": null,
   "metadata": {},
   "outputs": [],
   "source": [
    "%%sh"
   ]
  },
  {
   "cell_type": "markdown",
   "metadata": {},
   "source": [
    "### Test 1.15\n",
    "- Checking content of `output_1_15.txt`"
   ]
  },
  {
   "cell_type": "markdown",
   "metadata": {},
   "source": [
    "## 1.16 --TBD--\n",
    "1. Instructions\n",
    "2. Direct the output to a file named `output_1_16.txt` in your assignment directory"
   ]
  },
  {
   "cell_type": "code",
   "execution_count": null,
   "metadata": {},
   "outputs": [],
   "source": [
    "%%sh"
   ]
  },
  {
   "cell_type": "markdown",
   "metadata": {},
   "source": [
    "### Test 1.16\n",
    "- Checking content of `output_1_16.txt`"
   ]
  },
  {
   "cell_type": "markdown",
   "metadata": {},
   "source": [
    "## 1.17 --TBD--\n",
    "1. Instructions\n",
    "2. Direct the output to a file named `output_1_17.txt` in your assignment directory"
   ]
  },
  {
   "cell_type": "code",
   "execution_count": null,
   "metadata": {},
   "outputs": [],
   "source": [
    "%%sh"
   ]
  },
  {
   "cell_type": "markdown",
   "metadata": {},
   "source": [
    "### Test 1.17\n",
    "- Checking content of `output_1_17.txt`"
   ]
  },
  {
   "cell_type": "markdown",
   "metadata": {},
   "source": [
    "## 1.18 --TBD--\n",
    "1. Instructions\n",
    "2. Direct the output to a file named `output_1_18.txt` in your assignment directory"
   ]
  },
  {
   "cell_type": "code",
   "execution_count": null,
   "metadata": {},
   "outputs": [],
   "source": [
    "%%sh"
   ]
  },
  {
   "cell_type": "markdown",
   "metadata": {},
   "source": [
    "### Test 1.18\n",
    "- Checking content of `output_1_18.txt`"
   ]
  },
  {
   "cell_type": "markdown",
   "metadata": {},
   "source": [
    "## 1.19 --TBD--\n",
    "1. Instructions\n",
    "2. Direct the output to a file named `output_1_19.txt` in your assignment directory"
   ]
  },
  {
   "cell_type": "code",
   "execution_count": null,
   "metadata": {},
   "outputs": [],
   "source": [
    "%%sh"
   ]
  },
  {
   "cell_type": "markdown",
   "metadata": {},
   "source": [
    "### Test 1.19\n",
    "- Checking content of `output_1_19.txt`"
   ]
  },
  {
   "cell_type": "markdown",
   "metadata": {},
   "source": [
    "## 1.20 --TBD--\n",
    "1. Instructions\n",
    "2. Direct the output to a file named `output_1_20.txt` in your assignment directory"
   ]
  },
  {
   "cell_type": "code",
   "execution_count": null,
   "metadata": {},
   "outputs": [],
   "source": [
    "%%sh"
   ]
  },
  {
   "cell_type": "markdown",
   "metadata": {},
   "source": [
    "### Test 1.20\n",
    "- Checking content of `output_1_20.txt`"
   ]
  },
  {
   "cell_type": "markdown",
   "metadata": {},
   "source": [
    "## 1.21 --TBD--\n",
    "1. Instructions\n",
    "2. Direct the output to a file named `output_1_21.txt` in your assignment directory"
   ]
  },
  {
   "cell_type": "code",
   "execution_count": null,
   "metadata": {},
   "outputs": [],
   "source": [
    "%%sh"
   ]
  },
  {
   "cell_type": "markdown",
   "metadata": {},
   "source": [
    "### Test 1.21\n",
    "- Checking content of `output_1_21.txt`"
   ]
  },
  {
   "cell_type": "markdown",
   "metadata": {},
   "source": [
    "## 1.22 --TBD--\n",
    "1. Instructions\n",
    "2. Direct the output to a file named `output_1_22.txt` in your assignment directory"
   ]
  },
  {
   "cell_type": "code",
   "execution_count": null,
   "metadata": {},
   "outputs": [],
   "source": [
    "%%sh"
   ]
  },
  {
   "cell_type": "markdown",
   "metadata": {},
   "source": [
    "### Test 1.22\n",
    "- Checking content of `output_1_22.txt`"
   ]
  },
  {
   "cell_type": "markdown",
   "metadata": {},
   "source": [
    "## 1.23 --TBD--\n",
    "1. Instructions\n",
    "2. Direct the output to a file named `output_1_23.txt` in your assignment directory"
   ]
  },
  {
   "cell_type": "code",
   "execution_count": null,
   "metadata": {},
   "outputs": [],
   "source": [
    "%%sh"
   ]
  },
  {
   "cell_type": "markdown",
   "metadata": {},
   "source": [
    "### Test 1.23\n",
    "- Checking content of `output_1_23.txt`"
   ]
  },
  {
   "cell_type": "markdown",
   "metadata": {},
   "source": [
    "## 1.24 --TBD--\n",
    "1. Instructions\n",
    "2. Direct the output to a file named `output_1_24.txt` in your assignment directory"
   ]
  },
  {
   "cell_type": "code",
   "execution_count": null,
   "metadata": {},
   "outputs": [],
   "source": [
    "%%sh"
   ]
  },
  {
   "cell_type": "markdown",
   "metadata": {},
   "source": [
    "### Test 1.24\n",
    "- Checking content of `output_1_24.txt`"
   ]
  },
  {
   "cell_type": "markdown",
   "metadata": {},
   "source": [
    "## 1.25 --TBD--\n",
    "1. Instructions\n",
    "2. Direct the output to a file named `output_1_25.txt` in your assignment directory"
   ]
  },
  {
   "cell_type": "code",
   "execution_count": null,
   "metadata": {},
   "outputs": [],
   "source": [
    "%%sh"
   ]
  },
  {
   "cell_type": "markdown",
   "metadata": {},
   "source": [
    "### Test 1.25\n",
    "- Checking content of `output_1_25.txt`"
   ]
  },
  {
   "cell_type": "code",
   "execution_count": null,
   "metadata": {},
   "outputs": [],
   "source": []
  },
  {
   "cell_type": "markdown",
   "metadata": {},
   "source": [
    "# Testing (TBD)\n",
    "- Instructions on how to check your homework prior to grading will be posted soon\n",
    "\n",
    "# Homework Submission\n",
    "- This homework is due by August 30, 5:30PM (EDT)\n",
    "- Make sure that all your programs and output files are in the exact folder as specified in the instructions.\n",
    "- All file names on this system are case sensitive. Verify if you copy your work from a local computer to your home directory on ARC.\n",
    "- No further action is need to submit your assignment.\n"
   ]
  }
 ],
 "metadata": {
  "kernelspec": {
   "display_name": "Python 3",
   "language": "python",
   "name": "python3"
  },
  "language_info": {
   "codemirror_mode": {
    "name": "ipython",
    "version": 3
   },
   "file_extension": ".py",
   "mimetype": "text/x-python",
   "name": "python",
   "nbconvert_exporter": "python",
   "pygments_lexer": "ipython3",
   "version": "3.8.6"
  }
 },
 "nbformat": 4,
 "nbformat_minor": 4
}
