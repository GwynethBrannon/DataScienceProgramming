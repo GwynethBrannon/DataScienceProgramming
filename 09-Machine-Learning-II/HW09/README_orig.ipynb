{
 "cells": [
  {
   "cell_type": "markdown",
   "metadata": {},
   "source": [
    "# Homework 6"
   ]
  },
  {
   "cell_type": "markdown",
   "metadata": {},
   "source": [
    "Use this notebook to work on your answers and check solutions. You can then submit your functions using \"hw6_submission.ipynb\" or directly write your functions in a file named \"hw6_answers.py\". **Note that \"hw6_answers.py\" will be the only file collected and graded for this assignment.** \n",
    "\n",
    "For questions 1-3, you will use the APD dataset that we have been working with in class. \n",
    "\n",
    "For questions 4-5, you will use data from https://perso.telecom-paristech.fr/eagan/class/igr204/datasets."
   ]
  },
  {
   "cell_type": "code",
   "execution_count": 6,
   "metadata": {
    "ExecuteTime": {
     "end_time": "2017-10-25T18:06:55.439651",
     "start_time": "2017-10-25T18:06:54.288881"
    },
    "collapsed": false
   },
   "outputs": [],
   "source": [
    "# Loading python packages and APD data file (this step does not have to be included in hw6_answers.py)\n",
    "\n",
    "import pandas as pd\n",
    "import numpy as np\n",
    "\n",
    "df = pd.read_csv('/home/data/APD/COBRA-YTD2017.csv.gz')"
   ]
  },
  {
   "cell_type": "markdown",
   "metadata": {
    "ExecuteTime": {
     "end_time": "2017-10-17T21:06:49.446074",
     "start_time": "2017-10-17T21:06:49.440535"
    }
   },
   "source": [
    "## Question 1\n",
    "\n",
    "Write a function called \"variable_helper\" which takes one argument:\n",
    "\n",
    "* df, which is a pandas data frame\n",
    "\n",
    "and returns:\n",
    "\n",
    "* d, a _dictionary_ where keys are the column names of df and values are one of \"numeric\", \"categorical\", \"ordinal\", \"date/time\", or \"text\", corresponding to the feature type of each column. "
   ]
  },
  {
   "cell_type": "code",
   "execution_count": null,
   "metadata": {
    "ExecuteTime": {
     "end_time": "2017-10-17T21:53:22.812162",
     "start_time": "2017-10-17T21:53:22.808170"
    },
    "collapsed": false
   },
   "outputs": [],
   "source": [
    "#### play with code here #####\n",
    "\n",
    "\n",
    "\n",
    "\n"
   ]
  },
  {
   "cell_type": "markdown",
   "metadata": {},
   "source": [
    "### Sample output:\n",
    "\n",
    "```\n",
    "In [1]: variable_helper(df[['offense_id','beat','x','y']])\n",
    "Out[1]: {'beat': 'categorical',\n",
    "         'offense_id': 'ordinal',\n",
    "         'x': 'numeric',\n",
    "         'y': 'numeric'}\n",
    "```\n",
    "\n",
    "Short explanation: _offense_\\__id_ is a number assigned to each offense. There is a natural ordering implied in the id number (based on order of occurrence). Because of this, _offense_\\__id_ is an ordinal feature. The _beat_ uses a numeric label, but refers to a geographic location. There is no natural ordering, so _beat_ is a categorical feature. The location variables (_x_ and _y_) are numeric position coordinates. "
   ]
  },
  {
   "cell_type": "markdown",
   "metadata": {
    "ExecuteTime": {
     "end_time": "2017-10-17T21:39:52.369611",
     "start_time": "2017-10-17T21:39:52.332791"
    }
   },
   "source": [
    "## Question 2\n",
    "\n",
    "Write a function called \"get_categories\" which takes one argument:\n",
    "\n",
    "* df, which is a pandas data frame\n",
    "\n",
    "and returns:\n",
    "\n",
    "* cat, a dictionary where keys are names of columns of df corresponding to categorical features, and values are arrays of all the unique values that the feature can take."
   ]
  },
  {
   "cell_type": "code",
   "execution_count": null,
   "metadata": {
    "ExecuteTime": {
     "end_time": "2017-10-17T21:53:22.812162",
     "start_time": "2017-10-17T21:53:22.808170"
    },
    "collapsed": false
   },
   "outputs": [],
   "source": [
    "#### play with code here #####\n",
    "\n",
    "\n",
    "\n",
    "\n"
   ]
  },
  {
   "cell_type": "markdown",
   "metadata": {},
   "source": [
    "### Sample output:\n",
    "\n",
    "```\n",
    "In [1]: get_categories(df[['offense_id','beat','UC2 Literal']])\n",
    "Out[1]: {'UC2 Literal': array(['AGG ASSAULT', 'AUTO THEFT', 'BURGLARY-NONRES',\n",
    "                'BURGLARY-RESIDENCE', 'HOMICIDE', 'LARCENY-FROM VEHICLE',\n",
    "                'LARCENY-NON VEHICLE', 'RAPE', 'ROBBERY-COMMERCIAL',\n",
    "                'ROBBERY-PEDESTRIAN', 'ROBBERY-RESIDENCE'], dtype=object),\n",
    "         'beat': array([101, 102, 103, 104, 105, 106, 107, 108, 109, 110, 111, 112, 113,\n",
    "                114, 201, 202, 203, 204, 205, 206, 207, 208, 209, 210, 211, 212,\n",
    "                213, 301, 302, 303, 304, 305, 306, 307, 308, 309, 310, 311, 312,\n",
    "                313, 401, 402, 403, 404, 405, 406, 407, 408, 409, 410, 411, 412,\n",
    "                413, 414, 501, 502, 503, 504, 505, 506, 507, 508, 509, 510, 511,\n",
    "                512, 601, 602, 603, 604, 605, 606, 607, 608, 609, 610, 611, 612,\n",
    "                701, 702, 703, 704, 705, 706, 707, 708, 710])}\n",
    "```\n",
    "\n",
    "Short explanation: UC2 Literal and beat are the only categorical variables in the data frame `df[['offense_id','beat','UC2 Literal']]`. "
   ]
  },
  {
   "cell_type": "markdown",
   "metadata": {},
   "source": [
    "## Question 3\n",
    "\n",
    "Write a function called \"code_shift\" which takes one argument:\n",
    "    \n",
    "* df, which is a pandas data frame\n",
    "\n",
    "and returns:\n",
    "\n",
    "* a pandas data frame with columns \"offense_id\", \"Shift\", \"ShiftID\", where ShiftID is 0 if \"Shift\" is \"Unk\", 1 if \"Morn\", 2 if \"Day\", and 3 if \"Eve\"."
   ]
  },
  {
   "cell_type": "code",
   "execution_count": null,
   "metadata": {
    "ExecuteTime": {
     "end_time": "2017-10-17T21:53:22.812162",
     "start_time": "2017-10-17T21:53:22.808170"
    },
    "collapsed": false
   },
   "outputs": [],
   "source": [
    "#### play with code here #####\n",
    "\n",
    "\n",
    "\n",
    "\n"
   ]
  },
  {
   "cell_type": "markdown",
   "metadata": {},
   "source": [
    "### Sample output:\n",
    "\n",
    "```\n",
    "In [1]: code_shift(df[:5])\n",
    "Out[1]:  \toffense_id \tShift \tShiftID\n",
    "        0 \t172490115 \tMorn \t1\n",
    "        1 \t172490265 \tEve  \t3\n",
    "        2 \t172490322 \tMorn \t1\n",
    "        3 \t172490390 \tMorn \t1\n",
    "        4 \t172490401 \tMorn \t1\n",
    "```"
   ]
  },
  {
   "cell_type": "markdown",
   "metadata": {},
   "source": [
    "For the last 2 questions, you will use the cereal data file available from https://perso.telecom-paristech.fr/eagan/class/igr204/datasets. Execute the download and loading instructions below. \n",
    "\n",
    "<p style=\"font-size:20px;font-weight:bold;color:red\">Please note</p>\n",
    "1. download URL has changed!\n",
    "2. Don't download the files if you run your notebook on the cluster! Instead load the file from `/home/data/cereal/cereal.csv`\n"
   ]
  },
  {
   "cell_type": "code",
   "execution_count": 10,
   "metadata": {
    "ExecuteTime": {
     "end_time": "2017-10-25T18:10:17.378727",
     "start_time": "2017-10-25T18:10:17.329047"
    },
    "collapsed": false
   },
   "outputs": [
    {
     "name": "stdout",
     "output_type": "stream",
     "text": [
      "name;mfr;type;calories;protein;fat;sodium;fiber;carbo;sugars;potass;vitamins;shelf;weight;cups;rating\r\n",
      "String;Categorical;Categorical;Int;Int;Int;Int;Float;Float;Int;Int;Int;Int;Float;Float;Float\r\n",
      "100% Bran;N;C;70;4;1;130;10;5;6;280;25;3;1;0.33;68.402973\r\n",
      "100% Natural Bran;Q;C;120;3;5;15;2;8;8;135;0;3;1;1;33.983679\r\n",
      "All-Bran;K;C;70;4;1;260;9;7;5;320;25;3;1;0.33;59.425505\r\n",
      "All-Bran with Extra Fiber;K;C;50;4;0;140;14;8;0;330;25;3;1;0.5;93.704912\r\n",
      "Almond Delight;R;C;110;2;2;200;1;14;8;-1;25;3;1;0.75;34.384843\r\n",
      "Apple Cinnamon Cheerios;G;C;110;2;2;180;1.5;10.5;10;70;25;1;1;0.75;29.509541\r\n",
      "Apple Jacks;K;C;110;2;0;125;1;11;14;30;25;2;1;1;33.174094\r\n",
      "Basic 4;G;C;130;3;2;210;2;18;8;100;25;3;1.33;0.75;37.038562\r\n"
     ]
    }
   ],
   "source": [
    "%%sh \n",
    "## RUN BUT DO NOT EDIT THIS CELL\n",
    "## run this cell to download the cereal dataset into your current directory\n",
    "if [ ! -f cereal.csv ]; then\n",
    "    wget https://perso.telecom-paristech.fr/eagan/class/igr204/data/cereal.csv\n",
    "fi\n",
    "head cereal.csv"
   ]
  },
  {
   "cell_type": "code",
   "execution_count": null,
   "metadata": {
    "collapsed": true
   },
   "outputs": [],
   "source": []
  },
  {
   "cell_type": "code",
   "execution_count": 7,
   "metadata": {
    "ExecuteTime": {
     "end_time": "2017-10-25T18:07:05.735617",
     "start_time": "2017-10-25T18:07:05.645828"
    },
    "collapsed": false
   },
   "outputs": [
    {
     "data": {
      "text/html": [
       "<div>\n",
       "<table border=\"1\" class=\"dataframe\">\n",
       "  <thead>\n",
       "    <tr style=\"text-align: right;\">\n",
       "      <th></th>\n",
       "      <th>name</th>\n",
       "      <th>mfr</th>\n",
       "      <th>type</th>\n",
       "      <th>calories</th>\n",
       "      <th>protein</th>\n",
       "      <th>fat</th>\n",
       "      <th>sodium</th>\n",
       "      <th>fiber</th>\n",
       "      <th>carbo</th>\n",
       "      <th>sugars</th>\n",
       "      <th>potass</th>\n",
       "      <th>vitamins</th>\n",
       "      <th>shelf</th>\n",
       "      <th>weight</th>\n",
       "      <th>cups</th>\n",
       "      <th>rating</th>\n",
       "    </tr>\n",
       "  </thead>\n",
       "  <tbody>\n",
       "    <tr>\n",
       "      <th>0</th>\n",
       "      <td>100% Bran</td>\n",
       "      <td>N</td>\n",
       "      <td>C</td>\n",
       "      <td>70</td>\n",
       "      <td>4</td>\n",
       "      <td>1</td>\n",
       "      <td>130</td>\n",
       "      <td>10.0</td>\n",
       "      <td>5.0</td>\n",
       "      <td>6</td>\n",
       "      <td>280</td>\n",
       "      <td>25</td>\n",
       "      <td>3</td>\n",
       "      <td>1.0</td>\n",
       "      <td>0.33</td>\n",
       "      <td>68.402973</td>\n",
       "    </tr>\n",
       "    <tr>\n",
       "      <th>1</th>\n",
       "      <td>100% Natural Bran</td>\n",
       "      <td>Q</td>\n",
       "      <td>C</td>\n",
       "      <td>120</td>\n",
       "      <td>3</td>\n",
       "      <td>5</td>\n",
       "      <td>15</td>\n",
       "      <td>2.0</td>\n",
       "      <td>8.0</td>\n",
       "      <td>8</td>\n",
       "      <td>135</td>\n",
       "      <td>0</td>\n",
       "      <td>3</td>\n",
       "      <td>1.0</td>\n",
       "      <td>1.00</td>\n",
       "      <td>33.983679</td>\n",
       "    </tr>\n",
       "    <tr>\n",
       "      <th>2</th>\n",
       "      <td>All-Bran</td>\n",
       "      <td>K</td>\n",
       "      <td>C</td>\n",
       "      <td>70</td>\n",
       "      <td>4</td>\n",
       "      <td>1</td>\n",
       "      <td>260</td>\n",
       "      <td>9.0</td>\n",
       "      <td>7.0</td>\n",
       "      <td>5</td>\n",
       "      <td>320</td>\n",
       "      <td>25</td>\n",
       "      <td>3</td>\n",
       "      <td>1.0</td>\n",
       "      <td>0.33</td>\n",
       "      <td>59.425505</td>\n",
       "    </tr>\n",
       "    <tr>\n",
       "      <th>3</th>\n",
       "      <td>All-Bran with Extra Fiber</td>\n",
       "      <td>K</td>\n",
       "      <td>C</td>\n",
       "      <td>50</td>\n",
       "      <td>4</td>\n",
       "      <td>0</td>\n",
       "      <td>140</td>\n",
       "      <td>14.0</td>\n",
       "      <td>8.0</td>\n",
       "      <td>0</td>\n",
       "      <td>330</td>\n",
       "      <td>25</td>\n",
       "      <td>3</td>\n",
       "      <td>1.0</td>\n",
       "      <td>0.50</td>\n",
       "      <td>93.704912</td>\n",
       "    </tr>\n",
       "    <tr>\n",
       "      <th>4</th>\n",
       "      <td>Almond Delight</td>\n",
       "      <td>R</td>\n",
       "      <td>C</td>\n",
       "      <td>110</td>\n",
       "      <td>2</td>\n",
       "      <td>2</td>\n",
       "      <td>200</td>\n",
       "      <td>1.0</td>\n",
       "      <td>14.0</td>\n",
       "      <td>8</td>\n",
       "      <td>-1</td>\n",
       "      <td>25</td>\n",
       "      <td>3</td>\n",
       "      <td>1.0</td>\n",
       "      <td>0.75</td>\n",
       "      <td>34.384843</td>\n",
       "    </tr>\n",
       "  </tbody>\n",
       "</table>\n",
       "</div>"
      ],
      "text/plain": [
       "                        name mfr type  calories  protein  fat  sodium  fiber  \\\n",
       "0                  100% Bran   N    C        70        4    1     130   10.0   \n",
       "1          100% Natural Bran   Q    C       120        3    5      15    2.0   \n",
       "2                   All-Bran   K    C        70        4    1     260    9.0   \n",
       "3  All-Bran with Extra Fiber   K    C        50        4    0     140   14.0   \n",
       "4             Almond Delight   R    C       110        2    2     200    1.0   \n",
       "\n",
       "   carbo  sugars  potass  vitamins  shelf  weight  cups     rating  \n",
       "0    5.0       6     280        25      3     1.0  0.33  68.402973  \n",
       "1    8.0       8     135         0      3     1.0  1.00  33.983679  \n",
       "2    7.0       5     320        25      3     1.0  0.33  59.425505  \n",
       "3    8.0       0     330        25      3     1.0  0.50  93.704912  \n",
       "4   14.0       8      -1        25      3     1.0  0.75  34.384843  "
      ]
     },
     "execution_count": 7,
     "metadata": {},
     "output_type": "execute_result"
    }
   ],
   "source": [
    "## RUN BUT DO NOT EDIT THIS CELL\n",
    "\n",
    "# load the data, define ratingID\n",
    "cer = pd.read_csv('cereal.csv', skiprows=[1], delimiter=';')\n",
    "cer.head()"
   ]
  },
  {
   "cell_type": "code",
   "execution_count": 13,
   "metadata": {
    "ExecuteTime": {
     "end_time": "2017-10-25T18:13:27.163066",
     "start_time": "2017-10-25T18:13:27.157831"
    },
    "collapsed": false
   },
   "outputs": [
    {
     "data": {
      "text/plain": [
       "(77, 77)"
      ]
     },
     "execution_count": 13,
     "metadata": {},
     "output_type": "execute_result"
    }
   ],
   "source": [
    "len(cer), cer.shape[0]"
   ]
  },
  {
   "cell_type": "code",
   "execution_count": 15,
   "metadata": {
    "ExecuteTime": {
     "end_time": "2017-10-25T18:14:22.094391",
     "start_time": "2017-10-25T18:14:21.972896"
    },
    "collapsed": false
   },
   "outputs": [
    {
     "data": {
      "text/html": [
       "<div>\n",
       "<table border=\"1\" class=\"dataframe\">\n",
       "  <thead>\n",
       "    <tr style=\"text-align: right;\">\n",
       "      <th></th>\n",
       "      <th>name</th>\n",
       "      <th>mfr</th>\n",
       "      <th>type</th>\n",
       "      <th>calories</th>\n",
       "      <th>protein</th>\n",
       "      <th>fat</th>\n",
       "      <th>sodium</th>\n",
       "      <th>fiber</th>\n",
       "      <th>carbo</th>\n",
       "      <th>sugars</th>\n",
       "      <th>potass</th>\n",
       "      <th>vitamins</th>\n",
       "      <th>shelf</th>\n",
       "      <th>weight</th>\n",
       "      <th>cups</th>\n",
       "      <th>rating</th>\n",
       "      <th>ratingID</th>\n",
       "      <th>predicted_ratingID</th>\n",
       "    </tr>\n",
       "  </thead>\n",
       "  <tbody>\n",
       "    <tr>\n",
       "      <th>0</th>\n",
       "      <td>100% Bran</td>\n",
       "      <td>N</td>\n",
       "      <td>C</td>\n",
       "      <td>70</td>\n",
       "      <td>4</td>\n",
       "      <td>1</td>\n",
       "      <td>130</td>\n",
       "      <td>10.0</td>\n",
       "      <td>5.0</td>\n",
       "      <td>6</td>\n",
       "      <td>280</td>\n",
       "      <td>25</td>\n",
       "      <td>3</td>\n",
       "      <td>1.0</td>\n",
       "      <td>0.33</td>\n",
       "      <td>68.402973</td>\n",
       "      <td>1</td>\n",
       "      <td>1</td>\n",
       "    </tr>\n",
       "    <tr>\n",
       "      <th>1</th>\n",
       "      <td>100% Natural Bran</td>\n",
       "      <td>Q</td>\n",
       "      <td>C</td>\n",
       "      <td>120</td>\n",
       "      <td>3</td>\n",
       "      <td>5</td>\n",
       "      <td>15</td>\n",
       "      <td>2.0</td>\n",
       "      <td>8.0</td>\n",
       "      <td>8</td>\n",
       "      <td>135</td>\n",
       "      <td>0</td>\n",
       "      <td>3</td>\n",
       "      <td>1.0</td>\n",
       "      <td>1.00</td>\n",
       "      <td>33.983679</td>\n",
       "      <td>0</td>\n",
       "      <td>0</td>\n",
       "    </tr>\n",
       "    <tr>\n",
       "      <th>2</th>\n",
       "      <td>All-Bran</td>\n",
       "      <td>K</td>\n",
       "      <td>C</td>\n",
       "      <td>70</td>\n",
       "      <td>4</td>\n",
       "      <td>1</td>\n",
       "      <td>260</td>\n",
       "      <td>9.0</td>\n",
       "      <td>7.0</td>\n",
       "      <td>5</td>\n",
       "      <td>320</td>\n",
       "      <td>25</td>\n",
       "      <td>3</td>\n",
       "      <td>1.0</td>\n",
       "      <td>0.33</td>\n",
       "      <td>59.425505</td>\n",
       "      <td>0</td>\n",
       "      <td>0</td>\n",
       "    </tr>\n",
       "    <tr>\n",
       "      <th>3</th>\n",
       "      <td>All-Bran with Extra Fiber</td>\n",
       "      <td>K</td>\n",
       "      <td>C</td>\n",
       "      <td>50</td>\n",
       "      <td>4</td>\n",
       "      <td>0</td>\n",
       "      <td>140</td>\n",
       "      <td>14.0</td>\n",
       "      <td>8.0</td>\n",
       "      <td>0</td>\n",
       "      <td>330</td>\n",
       "      <td>25</td>\n",
       "      <td>3</td>\n",
       "      <td>1.0</td>\n",
       "      <td>0.50</td>\n",
       "      <td>93.704912</td>\n",
       "      <td>1</td>\n",
       "      <td>1</td>\n",
       "    </tr>\n",
       "    <tr>\n",
       "      <th>4</th>\n",
       "      <td>Almond Delight</td>\n",
       "      <td>R</td>\n",
       "      <td>C</td>\n",
       "      <td>110</td>\n",
       "      <td>2</td>\n",
       "      <td>2</td>\n",
       "      <td>200</td>\n",
       "      <td>1.0</td>\n",
       "      <td>14.0</td>\n",
       "      <td>8</td>\n",
       "      <td>-1</td>\n",
       "      <td>25</td>\n",
       "      <td>3</td>\n",
       "      <td>1.0</td>\n",
       "      <td>0.75</td>\n",
       "      <td>34.384843</td>\n",
       "      <td>0</td>\n",
       "      <td>1</td>\n",
       "    </tr>\n",
       "  </tbody>\n",
       "</table>\n",
       "</div>"
      ],
      "text/plain": [
       "                        name mfr type  calories  protein  fat  sodium  fiber  \\\n",
       "0                  100% Bran   N    C        70        4    1     130   10.0   \n",
       "1          100% Natural Bran   Q    C       120        3    5      15    2.0   \n",
       "2                   All-Bran   K    C        70        4    1     260    9.0   \n",
       "3  All-Bran with Extra Fiber   K    C        50        4    0     140   14.0   \n",
       "4             Almond Delight   R    C       110        2    2     200    1.0   \n",
       "\n",
       "   carbo  sugars  potass  vitamins  shelf  weight  cups     rating  ratingID  \\\n",
       "0    5.0       6     280        25      3     1.0  0.33  68.402973         1   \n",
       "1    8.0       8     135         0      3     1.0  1.00  33.983679         0   \n",
       "2    7.0       5     320        25      3     1.0  0.33  59.425505         0   \n",
       "3    8.0       0     330        25      3     1.0  0.50  93.704912         1   \n",
       "4   14.0       8      -1        25      3     1.0  0.75  34.384843         0   \n",
       "\n",
       "   predicted_ratingID  \n",
       "0                   1  \n",
       "1                   0  \n",
       "2                   0  \n",
       "3                   1  \n",
       "4                   1  "
      ]
     },
     "execution_count": 15,
     "metadata": {},
     "output_type": "execute_result"
    }
   ],
   "source": [
    "cer['ratingID'] = cer['rating'].apply(lambda x: 0 if x<60 else 1)\n",
    "\n",
    "# define predicted ratingID\n",
    "np.random.seed(12345)\n",
    "cer['predicted_ratingID'] = (cer['rating']+20*np.random.randn(cer.shape[0])).apply(lambda x: 0 if x<60 else 1)\n",
    "cer.head()"
   ]
  },
  {
   "cell_type": "markdown",
   "metadata": {},
   "source": [
    "## Question 4\n",
    "\n",
    "Write a function called \"rating_confusion\" which takes one argument:\n",
    "\n",
    "* cer, which is a pandas data frame\n",
    "\n",
    "and returns:\n",
    "\n",
    "* cf, a confusion matrix where the rows correspond to predicted_ratingID and the columns correspond to ratingID."
   ]
  },
  {
   "cell_type": "code",
   "execution_count": null,
   "metadata": {
    "ExecuteTime": {
     "end_time": "2017-10-17T21:53:22.812162",
     "start_time": "2017-10-17T21:53:22.808170"
    },
    "collapsed": false
   },
   "outputs": [],
   "source": [
    "#### play with code here #####\n",
    "\n",
    "\n",
    "\n",
    "\n",
    "# Hint: look up pandas \"crosstab\""
   ]
  },
  {
   "cell_type": "markdown",
   "metadata": {},
   "source": [
    "### Sample output:\n",
    "\n",
    "\n",
    "```\n",
    "In [1]: rating_confusion(cer[:20])\n",
    "Out[1]: ratingID \t 0 \t1\n",
    "predicted_ratingID \t\t\n",
    "                0 \t15\t0\n",
    "                1 \t3 \t2\n",
    "```"
   ]
  },
  {
   "cell_type": "markdown",
   "metadata": {
    "ExecuteTime": {
     "end_time": "2017-10-18T00:17:09.715906",
     "start_time": "2017-10-18T00:17:09.672366"
    }
   },
   "source": [
    "## Question 5\n",
    "\n",
    "Write a function called \"prediction_metrics\" which takes one argument:\n",
    "\n",
    "* cer, which is a pandas data frame\n",
    "\n",
    "and returns:\n",
    "\n",
    "* metrics_dict, a python dictionary object where the keys are 'precision', 'recall', 'F1' and the values are the numeric values for precision, recall, and F1 score, where ratingID is the prediction target and predicted_ratingID is a model output."
   ]
  },
  {
   "cell_type": "code",
   "execution_count": null,
   "metadata": {
    "ExecuteTime": {
     "end_time": "2017-10-17T21:53:22.812162",
     "start_time": "2017-10-17T21:53:22.808170"
    },
    "collapsed": false
   },
   "outputs": [],
   "source": [
    "#### play with code here #####\n",
    "\n",
    "\n",
    "\n",
    "\n"
   ]
  },
  {
   "cell_type": "markdown",
   "metadata": {},
   "source": [
    "### Sample output:\n",
    "\n",
    "\n",
    "```\n",
    "In [1]: prediction_metrics(cer[:20])\n",
    "Out[1]: {'F1': 0.5714285714285715, 'precision': 0.4, 'recall': 1}\n",
    "```"
   ]
  }
 ],
 "metadata": {
  "hide_input": false,
  "kernelspec": {
   "display_name": "Python 2",
   "language": "python",
   "name": "python2"
  },
  "language_info": {
   "codemirror_mode": {
    "name": "ipython",
    "version": 2
   },
   "file_extension": ".py",
   "mimetype": "text/x-python",
   "name": "python",
   "nbconvert_exporter": "python",
   "pygments_lexer": "ipython2",
   "version": "2.7.5"
  },
  "latex_envs": {
   "bibliofile": "biblio.bib",
   "cite_by": "apalike",
   "current_citInitial": 1,
   "eqLabelWithNumbers": true,
   "eqNumInitial": 0
  },
  "toc": {
   "nav_menu": {
    "height": "216px",
    "width": "252px"
   },
   "navigate_menu": true,
   "number_sections": true,
   "sideBar": true,
   "threshold": 4,
   "toc_cell": false,
   "toc_section_display": "block",
   "toc_window_display": false
  }
 },
 "nbformat": 4,
 "nbformat_minor": 0
}
