{
 "cells": [
  {
   "cell_type": "markdown",
   "metadata": {},
   "source": [
    "# Atlanta Police Department\n",
    "![APD Logo](https://atlantapd.galls.com/photos/partners/atlantapd/logo.jpg)\n",
    "\n",
    "\n",
    "The Atlanta Police Department provides Part 1 crime data at http://www.atlantapd.org/i-want-to/crime-data-downloads\n",
    "\n",
    "A recent copy of the data file is stored in the cluster. <span style=\"color: red; font-weight: bold;\">Please, do not copy this data file into your home directory!</span>"
   ]
  },
  {
   "cell_type": "markdown",
   "metadata": {},
   "source": [
    "# Introduction\n",
    "\n",
    "\n",
    "- This notebooks leads into an exploration of public crime data provided by the Atlanta Police Department.\n",
    "- The original data set and supplemental information can be found at http://www.atlantapd.org/i-want-to/crime-data-downloads\n",
    "- **The data set is available on ARC, please, don't download into your home directory on ARC!**"
   ]
  },
  {
   "cell_type": "code",
   "execution_count": 1,
   "metadata": {
    "ExecuteTime": {
     "end_time": "2017-10-04T19:32:24.772537",
     "start_time": "2017-10-04T19:32:23.430242"
    },
    "collapsed": true
   },
   "outputs": [],
   "source": [
    "import numpy as np\n",
    "import pandas as pd\n",
    "%matplotlib inline\n",
    "import matplotlib.pyplot as plt"
   ]
  },
  {
   "cell_type": "code",
   "execution_count": 2,
   "metadata": {
    "ExecuteTime": {
     "end_time": "2017-10-04T19:32:28.546185",
     "start_time": "2017-10-04T19:32:28.375314"
    },
    "collapsed": false
   },
   "outputs": [
    {
     "name": "stdout",
     "output_type": "stream",
     "text": [
      "-rw-r--r-- 1 pmolnar data   763171 Sep 26 13:13 /home/data/APD/COBRA-YTD2017.csv.gz\r\n",
      "-rw-r--r-- 1 pmolnar data 11253630 Oct  4 18:41 /home/data/APD/COBRA-YTD-multiyear.csv.gz\r\n"
     ]
    }
   ],
   "source": [
    "ls -l /home/data/APD/COBRA-YTD*.csv.gz"
   ]
  },
  {
   "cell_type": "code",
   "execution_count": null,
   "metadata": {
    "collapsed": true
   },
   "outputs": [],
   "source": [
    "df = pd.read_csv('/home/data/APD/COBRA-YTD-multiyear.csv.gz')"
   ]
  },
  {
   "cell_type": "code",
   "execution_count": 13,
   "metadata": {
    "ExecuteTime": {
     "end_time": "2017-10-04T20:55:59.118842",
     "start_time": "2017-10-04T20:55:59.111763"
    },
    "collapsed": false
   },
   "outputs": [
    {
     "data": {
      "text/plain": [
       "(285733, 26)"
      ]
     },
     "execution_count": 13,
     "metadata": {},
     "output_type": "execute_result"
    }
   ],
   "source": [
    "df.shape"
   ]
  },
  {
   "cell_type": "code",
   "execution_count": 14,
   "metadata": {
    "ExecuteTime": {
     "end_time": "2017-10-04T20:56:07.341897",
     "start_time": "2017-10-04T20:56:07.331810"
    },
    "collapsed": true
   },
   "outputs": [
    {
     "data": {
      "text/plain": [
       "MI_PRINX                      int64\n",
       "offense_id                    int64\n",
       "rpt_date                     object\n",
       "occur_date                   object\n",
       "occur_time                   object\n",
       "poss_date                    object\n",
       "poss_time                    object\n",
       "beat                        float64\n",
       "apt_office_prefix            object\n",
       "apt_office_num               object\n",
       "location                     object\n",
       "MinOfucr                      int64\n",
       "MinOfibr_code                object\n",
       "dispo_code                   object\n",
       "MaxOfnum_victims            float64\n",
       "Shift                        object\n",
       "Avg Day                      object\n",
       "loc_type                    float64\n",
       "UC2 Literal                  object\n",
       "neighborhood                 object\n",
       "npu                          object\n",
       "x                           float64\n",
       "y                           float64\n",
       "rpt_dt               datetime64[ns]\n",
       "occur_dt             datetime64[ns]\n",
       "poss_dt              datetime64[ns]\n",
       "dtype: object"
      ]
     },
     "execution_count": 14,
     "metadata": {},
     "output_type": "execute_result"
    }
   ],
   "source": [
    "df.dtypes"
   ]
  },
  {
   "cell_type": "code",
   "execution_count": 15,
   "metadata": {
    "ExecuteTime": {
     "end_time": "2017-10-04T20:56:18.830778",
     "start_time": "2017-10-04T20:56:18.826641"
    },
    "collapsed": false
   },
   "outputs": [],
   "source": [
    "#brdf = pd.read_csv('/home/pmolnar/burglary_residence.csv')\n",
    "#brdf.head()"
   ]
  },
  {
   "cell_type": "code",
   "execution_count": null,
   "metadata": {
    "ExecuteTime": {
     "end_time": "2017-09-27T19:31:56.109330",
     "start_time": "2017-09-27T19:31:56.096815"
    },
    "collapsed": false
   },
   "outputs": [],
   "source": [
    "dataDict = pd.DataFrame({'DataType': df.dtypes.values, 'Description': '', }, index=df.columns.values)"
   ]
  },
  {
   "cell_type": "markdown",
   "metadata": {},
   "source": [
    "We need to enter the descriptions for each entry in our dictionary manually. However, why not just create a the Python code automatically...\n",
    "\n",
    "Run the code below only if you haven't edited the `datadict.py` file in a different way, since it will overwrite what you have so far. (That's why the code is commented-out.)"
   ]
  },
  {
   "cell_type": "code",
   "execution_count": null,
   "metadata": {
    "ExecuteTime": {
     "end_time": "2017-09-27T19:32:54.435736",
     "start_time": "2017-09-27T19:32:54.397500"
    },
    "collapsed": false,
    "scrolled": true
   },
   "outputs": [],
   "source": [
    "dataDict"
   ]
  },
  {
   "cell_type": "code",
   "execution_count": null,
   "metadata": {
    "ExecuteTime": {
     "end_time": "2017-09-27T19:33:20.253656",
     "start_time": "2017-09-27T19:33:20.241674"
    },
    "collapsed": false
   },
   "outputs": [],
   "source": [
    "with open(\"datadict2.py\", \"w\") as io:\n",
    "     for i in dataDict.index:\n",
    "         io.write(\"dataDict.loc['%s'].Description = '' # type: %s\\n\" % (i, str(dataDict.loc[i].DataType)))"
   ]
  },
  {
   "cell_type": "code",
   "execution_count": null,
   "metadata": {
    "ExecuteTime": {
     "end_time": "2017-09-27T19:33:36.014018",
     "start_time": "2017-09-27T19:33:35.872343"
    },
    "collapsed": false
   },
   "outputs": [],
   "source": [
    "ls -l datadict2.py"
   ]
  },
  {
   "cell_type": "code",
   "execution_count": null,
   "metadata": {
    "ExecuteTime": {
     "end_time": "2017-09-26T13:38:16.307484",
     "start_time": "2017-09-26T13:38:16.252211"
    },
    "collapsed": true
   },
   "outputs": [],
   "source": [
    "# %load datadict.py\n",
    "dataDict.loc['MI_PRINX'].Description = '' # type: int64\n",
    "dataDict.loc['offense_id'].Description = 'Unique ID in the format YYDDDNNNN with the year YY, the day of the year DDD and a counter NNNN' # type: int64\n",
    "dataDict.loc['rpt_date'].Description = 'Date the crime was reported' # type: object\n",
    "dataDict.loc['occur_date'].Description = 'Estimated date when the crime occured' # type: object\n",
    "dataDict.loc['occur_time'].Description = 'Estimated time when the crime occured' # type: object\n",
    "dataDict.loc['poss_date'].Description = '' # type: object\n",
    "dataDict.loc['poss_time'].Description = '' # type: object\n",
    "dataDict.loc['beat'].Description = '' # type: int64\n",
    "dataDict.loc['apt_office_prefix'].Description = '' # type: object\n",
    "dataDict.loc['apt_office_num'].Description = '' # type: object\n",
    "dataDict.loc['location'].Description = '' # type: object\n",
    "dataDict.loc['MinOfucr'].Description = '' # type: int64\n",
    "dataDict.loc['MinOfibr_code'].Description = '' # type: object\n",
    "dataDict.loc['dispo_code'].Description = '' # type: object\n",
    "dataDict.loc['MaxOfnum_victims'].Description = '' # type: float64\n",
    "dataDict.loc['Shift'].Description = 'Zones have 8 or 10 hour shifts' # type: object\n",
    "dataDict.loc['Avg Day'].Description = '' # type: object\n",
    "dataDict.loc['loc_type'].Description = '' # type: float64\n",
    "dataDict.loc['UC2 Literal'].Description = '' # type: object\n",
    "dataDict.loc['neighborhood'].Description = '' # type: object\n",
    "dataDict.loc['npu'].Description = '' # type: object\n",
    "dataDict.loc['x'].Description = '' # type: float64\n",
    "dataDict.loc['y'].Description = '' # type: float64\n",
    "dataDict.to_csv(\"COBRA_Data_Dictionary.csv\")"
   ]
  },
  {
   "cell_type": "code",
   "execution_count": null,
   "metadata": {
    "ExecuteTime": {
     "end_time": "2017-09-27T20:01:27.120379",
     "start_time": "2017-09-27T20:01:27.113147"
    },
    "collapsed": false,
    "scrolled": true
   },
   "outputs": [],
   "source": [
    "sorted(df.npu.unique())"
   ]
  },
  {
   "cell_type": "code",
   "execution_count": null,
   "metadata": {
    "ExecuteTime": {
     "end_time": "2017-09-27T20:03:13.544775",
     "start_time": "2017-09-27T20:03:13.536282"
    },
    "collapsed": false
   },
   "outputs": [],
   "source": [
    "len(df.neighborhood.unique())"
   ]
  },
  {
   "cell_type": "markdown",
   "metadata": {},
   "source": [
    "## Fixing Data Types"
   ]
  },
  {
   "cell_type": "markdown",
   "metadata": {},
   "source": [
    "## Date and Time\n",
    "- Working with dates can be tricky. Often dates and times are coded as strings and need to be converted to a date and time data format.\n",
    "- Python provides a module `datetime` to deal with converting parsing and formatting dates and times. See https://docs.python.org/2/library/datetime.html\n",
    "- The `pandas` package provides functionality to convert text fields into date/time fields...given the values adhere to a given format. See http://pandas.pydata.org/pandas-docs/version/0.20/generated/pandas.to_datetime.html"
   ]
  },
  {
   "cell_type": "markdown",
   "metadata": {},
   "source": [
    "### Create a proper text field\n",
    "In order to use the text to date/time converter our text columns need to have the appropriate format."
   ]
  },
  {
   "cell_type": "code",
   "execution_count": 16,
   "metadata": {
    "ExecuteTime": {
     "end_time": "2017-10-04T20:57:17.882772",
     "start_time": "2017-10-04T20:57:17.823985"
    },
    "collapsed": false
   },
   "outputs": [
    {
     "data": {
      "text/html": [
       "<div>\n",
       "<table border=\"1\" class=\"dataframe\">\n",
       "  <thead>\n",
       "    <tr style=\"text-align: right;\">\n",
       "      <th></th>\n",
       "      <th>occur_date</th>\n",
       "      <th>occur_time</th>\n",
       "    </tr>\n",
       "  </thead>\n",
       "  <tbody>\n",
       "    <tr>\n",
       "      <th>0</th>\n",
       "      <td>02/03/2009</td>\n",
       "      <td>13:50:00</td>\n",
       "    </tr>\n",
       "    <tr>\n",
       "      <th>1</th>\n",
       "      <td>02/06/2009</td>\n",
       "      <td>08:50:00</td>\n",
       "    </tr>\n",
       "    <tr>\n",
       "      <th>2</th>\n",
       "      <td>06/17/2009</td>\n",
       "      <td>14:00:00</td>\n",
       "    </tr>\n",
       "    <tr>\n",
       "      <th>3</th>\n",
       "      <td>07/21/2008</td>\n",
       "      <td>18:00:00</td>\n",
       "    </tr>\n",
       "    <tr>\n",
       "      <th>4</th>\n",
       "      <td>10/19/2008</td>\n",
       "      <td>18:30:00</td>\n",
       "    </tr>\n",
       "  </tbody>\n",
       "</table>\n",
       "</div>"
      ],
      "text/plain": [
       "   occur_date occur_time\n",
       "0  02/03/2009   13:50:00\n",
       "1  02/06/2009   08:50:00\n",
       "2  06/17/2009   14:00:00\n",
       "3  07/21/2008   18:00:00\n",
       "4  10/19/2008   18:30:00"
      ]
     },
     "execution_count": 16,
     "metadata": {},
     "output_type": "execute_result"
    }
   ],
   "source": [
    "df[['occur_date', 'occur_time']][0:5]"
   ]
  },
  {
   "cell_type": "code",
   "execution_count": 18,
   "metadata": {
    "ExecuteTime": {
     "end_time": "2017-10-04T20:58:21.458863",
     "start_time": "2017-10-04T20:58:21.451762"
    },
    "collapsed": false,
    "scrolled": false
   },
   "outputs": [],
   "source": [
    "# function currying\n",
    "def fixdatetime(fld):\n",
    "    def _fix(s):\n",
    "        date_col = '%s_date' % fld\n",
    "        time_col = '%s_time' % fld\n",
    "        if time_col in s.index:\n",
    "            return str(s[date_col])+' '+str(s[time_col])\n",
    "        else:\n",
    "            return str(s[date_col])+' 00:00:00'\n",
    "    return _fix\n",
    "\n",
    "##df.apply(fixdatetime('occur'), axis=1)[:10]"
   ]
  },
  {
   "cell_type": "markdown",
   "metadata": {},
   "source": [
    "### Convert Columns"
   ]
  },
  {
   "cell_type": "code",
   "execution_count": 19,
   "metadata": {
    "ExecuteTime": {
     "end_time": "2017-10-04T21:04:31.658705",
     "start_time": "2017-10-04T20:58:35.593160"
    },
    "collapsed": false
   },
   "outputs": [],
   "source": [
    "for col in ['rpt', 'occur', 'poss']:\n",
    "    datser = df.apply(fixdatetime(col), axis=1)\n",
    "    df['%s_dt'%col] = pd.to_datetime(datser, format=\"%m/%d/%Y %H:%M:%S\", errors='coerce')"
   ]
  },
  {
   "cell_type": "code",
   "execution_count": 20,
   "metadata": {
    "ExecuteTime": {
     "end_time": "2017-10-04T21:04:55.891222",
     "start_time": "2017-10-04T21:04:55.754546"
    },
    "collapsed": false,
    "scrolled": true
   },
   "outputs": [
    {
     "data": {
      "text/html": [
       "<div>\n",
       "<table border=\"1\" class=\"dataframe\">\n",
       "  <thead>\n",
       "    <tr style=\"text-align: right;\">\n",
       "      <th></th>\n",
       "      <th>MI_PRINX</th>\n",
       "      <th>offense_id</th>\n",
       "      <th>rpt_date</th>\n",
       "      <th>occur_date</th>\n",
       "      <th>occur_time</th>\n",
       "      <th>poss_date</th>\n",
       "      <th>poss_time</th>\n",
       "      <th>beat</th>\n",
       "      <th>apt_office_prefix</th>\n",
       "      <th>apt_office_num</th>\n",
       "      <th>...</th>\n",
       "      <th>Avg Day</th>\n",
       "      <th>loc_type</th>\n",
       "      <th>UC2 Literal</th>\n",
       "      <th>neighborhood</th>\n",
       "      <th>npu</th>\n",
       "      <th>x</th>\n",
       "      <th>y</th>\n",
       "      <th>rpt_dt</th>\n",
       "      <th>occur_dt</th>\n",
       "      <th>poss_dt</th>\n",
       "    </tr>\n",
       "  </thead>\n",
       "  <tbody>\n",
       "    <tr>\n",
       "      <th>0</th>\n",
       "      <td>1160569</td>\n",
       "      <td>90360664</td>\n",
       "      <td>02/05/2009</td>\n",
       "      <td>02/03/2009</td>\n",
       "      <td>13:50:00</td>\n",
       "      <td>02/03/2009</td>\n",
       "      <td>15:00:00</td>\n",
       "      <td>305.0</td>\n",
       "      <td>NaN</td>\n",
       "      <td>NaN</td>\n",
       "      <td>...</td>\n",
       "      <td>Tue</td>\n",
       "      <td>35.0</td>\n",
       "      <td>LARCENY-NON VEHICLE</td>\n",
       "      <td>South Atlanta</td>\n",
       "      <td>Y</td>\n",
       "      <td>-84.38654</td>\n",
       "      <td>33.72024</td>\n",
       "      <td>2009-02-05</td>\n",
       "      <td>2009-02-03 13:50:00</td>\n",
       "      <td>2009-02-03 15:00:00</td>\n",
       "    </tr>\n",
       "    <tr>\n",
       "      <th>1</th>\n",
       "      <td>1160570</td>\n",
       "      <td>90370891</td>\n",
       "      <td>02/06/2009</td>\n",
       "      <td>02/06/2009</td>\n",
       "      <td>08:50:00</td>\n",
       "      <td>02/06/2009</td>\n",
       "      <td>10:45:00</td>\n",
       "      <td>502.0</td>\n",
       "      <td>NaN</td>\n",
       "      <td>NaN</td>\n",
       "      <td>...</td>\n",
       "      <td>Fri</td>\n",
       "      <td>18.0</td>\n",
       "      <td>LARCENY-FROM VEHICLE</td>\n",
       "      <td>Ansley Park</td>\n",
       "      <td>E</td>\n",
       "      <td>-84.37276</td>\n",
       "      <td>33.79685</td>\n",
       "      <td>2009-02-06</td>\n",
       "      <td>2009-02-06 08:50:00</td>\n",
       "      <td>2009-02-06 10:45:00</td>\n",
       "    </tr>\n",
       "    <tr>\n",
       "      <th>2</th>\n",
       "      <td>1160572</td>\n",
       "      <td>91681984</td>\n",
       "      <td>06/17/2009</td>\n",
       "      <td>06/17/2009</td>\n",
       "      <td>14:00:00</td>\n",
       "      <td>06/17/2009</td>\n",
       "      <td>15:00:00</td>\n",
       "      <td>604.0</td>\n",
       "      <td>NaN</td>\n",
       "      <td>816</td>\n",
       "      <td>...</td>\n",
       "      <td>Wed</td>\n",
       "      <td>NaN</td>\n",
       "      <td>LARCENY-NON VEHICLE</td>\n",
       "      <td>Sweet Auburn</td>\n",
       "      <td>M</td>\n",
       "      <td>-84.37521</td>\n",
       "      <td>33.75540</td>\n",
       "      <td>2009-06-17</td>\n",
       "      <td>2009-06-17 14:00:00</td>\n",
       "      <td>2009-06-17 15:00:00</td>\n",
       "    </tr>\n",
       "    <tr>\n",
       "      <th>3</th>\n",
       "      <td>1160575</td>\n",
       "      <td>82040835</td>\n",
       "      <td>02/27/2009</td>\n",
       "      <td>07/21/2008</td>\n",
       "      <td>18:00:00</td>\n",
       "      <td>07/21/2008</td>\n",
       "      <td>18:00:00</td>\n",
       "      <td>104.0</td>\n",
       "      <td>NaN</td>\n",
       "      <td>NaN</td>\n",
       "      <td>...</td>\n",
       "      <td>Mon</td>\n",
       "      <td>20.0</td>\n",
       "      <td>BURGLARY-RESIDENCE</td>\n",
       "      <td>Mozley Park</td>\n",
       "      <td>K</td>\n",
       "      <td>-84.44342</td>\n",
       "      <td>33.75265</td>\n",
       "      <td>2009-02-27</td>\n",
       "      <td>2008-07-21 18:00:00</td>\n",
       "      <td>2008-07-21 18:00:00</td>\n",
       "    </tr>\n",
       "    <tr>\n",
       "      <th>4</th>\n",
       "      <td>1160576</td>\n",
       "      <td>82922120</td>\n",
       "      <td>01/14/2009</td>\n",
       "      <td>10/19/2008</td>\n",
       "      <td>18:30:00</td>\n",
       "      <td>10/19/2008</td>\n",
       "      <td>19:45:00</td>\n",
       "      <td>210.0</td>\n",
       "      <td>NaN</td>\n",
       "      <td>NaN</td>\n",
       "      <td>...</td>\n",
       "      <td>Sun</td>\n",
       "      <td>18.0</td>\n",
       "      <td>AUTO THEFT</td>\n",
       "      <td>Lenox</td>\n",
       "      <td>B</td>\n",
       "      <td>-84.36212</td>\n",
       "      <td>33.84676</td>\n",
       "      <td>2009-01-14</td>\n",
       "      <td>2008-10-19 18:30:00</td>\n",
       "      <td>2008-10-19 19:45:00</td>\n",
       "    </tr>\n",
       "  </tbody>\n",
       "</table>\n",
       "<p>5 rows × 26 columns</p>\n",
       "</div>"
      ],
      "text/plain": [
       "   MI_PRINX  offense_id    rpt_date  occur_date occur_time   poss_date  \\\n",
       "0   1160569    90360664  02/05/2009  02/03/2009   13:50:00  02/03/2009   \n",
       "1   1160570    90370891  02/06/2009  02/06/2009   08:50:00  02/06/2009   \n",
       "2   1160572    91681984  06/17/2009  06/17/2009   14:00:00  06/17/2009   \n",
       "3   1160575    82040835  02/27/2009  07/21/2008   18:00:00  07/21/2008   \n",
       "4   1160576    82922120  01/14/2009  10/19/2008   18:30:00  10/19/2008   \n",
       "\n",
       "  poss_time   beat apt_office_prefix apt_office_num         ...          \\\n",
       "0  15:00:00  305.0               NaN            NaN         ...           \n",
       "1  10:45:00  502.0               NaN            NaN         ...           \n",
       "2  15:00:00  604.0               NaN            816         ...           \n",
       "3  18:00:00  104.0               NaN            NaN         ...           \n",
       "4  19:45:00  210.0               NaN            NaN         ...           \n",
       "\n",
       "  Avg Day  loc_type           UC2 Literal   neighborhood  npu         x  \\\n",
       "0     Tue      35.0   LARCENY-NON VEHICLE  South Atlanta    Y -84.38654   \n",
       "1     Fri      18.0  LARCENY-FROM VEHICLE    Ansley Park    E -84.37276   \n",
       "2     Wed       NaN   LARCENY-NON VEHICLE   Sweet Auburn    M -84.37521   \n",
       "3     Mon      20.0    BURGLARY-RESIDENCE    Mozley Park    K -84.44342   \n",
       "4     Sun      18.0            AUTO THEFT          Lenox    B -84.36212   \n",
       "\n",
       "          y     rpt_dt            occur_dt             poss_dt  \n",
       "0  33.72024 2009-02-05 2009-02-03 13:50:00 2009-02-03 15:00:00  \n",
       "1  33.79685 2009-02-06 2009-02-06 08:50:00 2009-02-06 10:45:00  \n",
       "2  33.75540 2009-06-17 2009-06-17 14:00:00 2009-06-17 15:00:00  \n",
       "3  33.75265 2009-02-27 2008-07-21 18:00:00 2008-07-21 18:00:00  \n",
       "4  33.84676 2009-01-14 2008-10-19 18:30:00 2008-10-19 19:45:00  \n",
       "\n",
       "[5 rows x 26 columns]"
      ]
     },
     "execution_count": 20,
     "metadata": {},
     "output_type": "execute_result"
    }
   ],
   "source": [
    "df.head()"
   ]
  },
  {
   "cell_type": "code",
   "execution_count": 21,
   "metadata": {
    "ExecuteTime": {
     "end_time": "2017-10-04T21:05:15.819654",
     "start_time": "2017-10-04T21:05:15.806220"
    },
    "collapsed": false
   },
   "outputs": [
    {
     "data": {
      "text/plain": [
       "MI_PRINX                      int64\n",
       "offense_id                    int64\n",
       "rpt_date                     object\n",
       "occur_date                   object\n",
       "occur_time                   object\n",
       "poss_date                    object\n",
       "poss_time                    object\n",
       "beat                        float64\n",
       "apt_office_prefix            object\n",
       "apt_office_num               object\n",
       "location                     object\n",
       "MinOfucr                      int64\n",
       "MinOfibr_code                object\n",
       "dispo_code                   object\n",
       "MaxOfnum_victims            float64\n",
       "Shift                        object\n",
       "Avg Day                      object\n",
       "loc_type                    float64\n",
       "UC2 Literal                  object\n",
       "neighborhood                 object\n",
       "npu                          object\n",
       "x                           float64\n",
       "y                           float64\n",
       "rpt_dt               datetime64[ns]\n",
       "occur_dt             datetime64[ns]\n",
       "poss_dt              datetime64[ns]\n",
       "dtype: object"
      ]
     },
     "execution_count": 21,
     "metadata": {},
     "output_type": "execute_result"
    }
   ],
   "source": [
    "df.dtypes"
   ]
  },
  {
   "cell_type": "markdown",
   "metadata": {},
   "source": [
    "## Beats and Zones\n",
    "The City of Atlanta is divided into 6 zones. Each with 12 to 14 beats. \n",
    "\n",
    "![](https://upload.wikimedia.org/wikipedia/commons/thumb/c/cb/Atlanta_Police_Zones_-_Feb_2013.jpg/588px-Atlanta_Police_Zones_-_Feb_2013.jpg)\n",
    "\n",
    "Let's create a separate column for the zones:"
   ]
  },
  {
   "cell_type": "code",
   "execution_count": null,
   "metadata": {
    "ExecuteTime": {
     "end_time": "2017-09-27T19:54:57.768081",
     "start_time": "2017-09-27T19:54:57.759345"
    },
    "collapsed": false
   },
   "outputs": [],
   "source": [
    "df.beat[:10]"
   ]
  },
  {
   "cell_type": "code",
   "execution_count": null,
   "metadata": {
    "ExecuteTime": {
     "end_time": "2017-09-27T19:55:31.462347",
     "start_time": "2017-09-27T19:55:31.456328"
    },
    "collapsed": false
   },
   "outputs": [],
   "source": [
    "df['Zone'] = df['beat']//100"
   ]
  },
  {
   "cell_type": "code",
   "execution_count": null,
   "metadata": {
    "ExecuteTime": {
     "end_time": "2017-09-27T19:55:47.992192",
     "start_time": "2017-09-27T19:55:47.985483"
    },
    "collapsed": false
   },
   "outputs": [],
   "source": [
    "df.Zone[:4]"
   ]
  },
  {
   "cell_type": "code",
   "execution_count": null,
   "metadata": {
    "ExecuteTime": {
     "end_time": "2017-09-27T20:07:51.381459",
     "start_time": "2017-09-27T20:07:51.366531"
    },
    "collapsed": false
   },
   "outputs": [],
   "source": [
    "df['UC2 Literal'].unique()"
   ]
  },
  {
   "cell_type": "code",
   "execution_count": null,
   "metadata": {
    "ExecuteTime": {
     "end_time": "2017-09-27T12:14:56.033503",
     "start_time": "2017-09-27T12:14:55.387001"
    },
    "collapsed": false
   },
   "outputs": [],
   "source": [
    "##df[df['UC2 Literal']=='LARCENY-FROM VEHICLE']"
   ]
  },
  {
   "cell_type": "code",
   "execution_count": null,
   "metadata": {
    "ExecuteTime": {
     "end_time": "2017-09-27T20:11:58.916398",
     "start_time": "2017-09-27T20:11:58.906489"
    },
    "collapsed": false,
    "scrolled": false
   },
   "outputs": [],
   "source": [
    "df.occur_date.min(), df.occur_date.max()"
   ]
  },
  {
   "cell_type": "code",
   "execution_count": null,
   "metadata": {
    "ExecuteTime": {
     "end_time": "2017-09-27T20:17:17.287565",
     "start_time": "2017-09-27T20:17:17.121010"
    },
    "collapsed": false
   },
   "outputs": [],
   "source": [
    "df['Year'] = df.rpt_dt.map(lambda d: d.year)"
   ]
  },
  {
   "cell_type": "code",
   "execution_count": null,
   "metadata": {
    "ExecuteTime": {
     "end_time": "2017-09-27T20:17:20.627501",
     "start_time": "2017-09-27T20:17:20.612516"
    },
    "collapsed": false
   },
   "outputs": [],
   "source": [
    "df.groupby('Year').offense_id.count()"
   ]
  },
  {
   "cell_type": "code",
   "execution_count": null,
   "metadata": {
    "ExecuteTime": {
     "end_time": "2017-09-27T20:43:24.147005",
     "start_time": "2017-09-27T20:43:24.125212"
    },
    "collapsed": false
   },
   "outputs": [],
   "source": [
    "brdf = df[df['UC2 Literal']=='BURGLARY-RESIDENCE'].copy()"
   ]
  },
  {
   "cell_type": "code",
   "execution_count": null,
   "metadata": {
    "ExecuteTime": {
     "end_time": "2017-09-27T20:21:41.357335",
     "start_time": "2017-09-27T20:21:41.352403"
    },
    "collapsed": false
   },
   "outputs": [],
   "source": [
    "brdf.shape, df.shape"
   ]
  },
  {
   "cell_type": "code",
   "execution_count": null,
   "metadata": {
    "ExecuteTime": {
     "end_time": "2017-09-27T20:26:10.284331",
     "start_time": "2017-09-27T20:26:10.239358"
    },
    "collapsed": true
   },
   "outputs": [],
   "source": [
    "def gethour(d):\n",
    "    return d.hour\n",
    "\n",
    "brdf.occur_dt.map(gethour)\n",
    "##brdf['occur_dt'].map(gethour)\n",
    "\n",
    "\n",
    "##brdf.occur_dt.map(lambda d: d.hour)"
   ]
  },
  {
   "cell_type": "code",
   "execution_count": null,
   "metadata": {
    "ExecuteTime": {
     "end_time": "2017-09-27T20:43:47.852117",
     "start_time": "2017-09-27T20:43:47.833011"
    },
    "collapsed": false
   },
   "outputs": [],
   "source": [
    "print type(brdf.occur_dt)\n",
    "brdf['Hour'] = brdf.occur_dt.apply(gethour)"
   ]
  },
  {
   "cell_type": "code",
   "execution_count": null,
   "metadata": {
    "ExecuteTime": {
     "end_time": "2017-09-27T20:44:03.359154",
     "start_time": "2017-09-27T20:44:03.242581"
    },
    "collapsed": true
   },
   "outputs": [],
   "source": [
    "brdf.head()"
   ]
  },
  {
   "cell_type": "code",
   "execution_count": null,
   "metadata": {
    "ExecuteTime": {
     "end_time": "2017-09-27T20:51:09.519768",
     "start_time": "2017-09-27T20:51:09.513199"
    },
    "collapsed": false
   },
   "outputs": [],
   "source": [
    "br_hr = brdf.groupby(['Hour']).offense_id.count()"
   ]
  },
  {
   "cell_type": "code",
   "execution_count": null,
   "metadata": {
    "ExecuteTime": {
     "end_time": "2017-09-27T20:52:08.409540",
     "start_time": "2017-09-27T20:52:07.990607"
    },
    "collapsed": false
   },
   "outputs": [],
   "source": [
    "plt.step(br_hr.index, br_hr.values)"
   ]
  },
  {
   "cell_type": "code",
   "execution_count": null,
   "metadata": {
    "ExecuteTime": {
     "end_time": "2017-09-27T21:00:22.743543",
     "start_time": "2017-09-27T21:00:19.937529"
    },
    "collapsed": false,
    "scrolled": true
   },
   "outputs": [],
   "source": [
    "plt.figure(figsize=(20,8))\n",
    "for z in range(1,7):\n",
    "    plt.subplot(3,2,z)\n",
    "    plt.title(\"Zone %d\" % z)\n",
    "    #brdf[brdf.Zone==z].hist(column='Hour', bins=24)\n",
    "    plt.hist(brdf[brdf.Zone==z].Hour, bins=24)\n",
    "plt.show()"
   ]
  },
  {
   "cell_type": "code",
   "execution_count": null,
   "metadata": {
    "ExecuteTime": {
     "end_time": "2017-09-27T21:11:27.774057",
     "start_time": "2017-09-27T21:11:18.711856"
    },
    "collapsed": false
   },
   "outputs": [],
   "source": [
    "plt.figure(figsize=(30,15))\n",
    "for h in range(24):\n",
    "    plt.subplot(4,6,h+1)\n",
    "    plt.title(\"Hour %d\" % h)\n",
    "    #brdf[brdf.Zone==z].hist(column='Hour', bins=24)\n",
    "    plt.hist(brdf[brdf.Hour==h].Zone, bins=6)\n",
    "    plt.ylim(0,40) ## sets limit on Y-axis\n",
    "plt.show()"
   ]
  },
  {
   "cell_type": "code",
   "execution_count": null,
   "metadata": {
    "collapsed": true
   },
   "outputs": [],
   "source": []
  },
  {
   "cell_type": "code",
   "execution_count": null,
   "metadata": {
    "ExecuteTime": {
     "end_time": "2017-09-27T21:12:17.144669",
     "start_time": "2017-09-27T21:12:17.138548"
    },
    "collapsed": false
   },
   "outputs": [],
   "source": [
    "df['UC2 Literal'].unique()"
   ]
  },
  {
   "cell_type": "code",
   "execution_count": null,
   "metadata": {
    "ExecuteTime": {
     "end_time": "2017-09-27T21:13:55.615113",
     "start_time": "2017-09-27T21:13:55.589046"
    },
    "collapsed": false
   },
   "outputs": [],
   "source": [
    "df.groupby(['UC2 Literal', 'Zone']).offense_id.count()"
   ]
  },
  {
   "cell_type": "code",
   "execution_count": null,
   "metadata": {
    "ExecuteTime": {
     "end_time": "2017-09-27T21:20:13.991331",
     "start_time": "2017-09-27T21:20:13.822634"
    },
    "collapsed": true
   },
   "outputs": [],
   "source": [
    "df['dayofweek'] = df.occur_dt.map(lambda d: d.dayofweek)"
   ]
  },
  {
   "cell_type": "code",
   "execution_count": null,
   "metadata": {
    "ExecuteTime": {
     "end_time": "2017-09-27T21:22:10.894488",
     "start_time": "2017-09-27T21:22:10.852281"
    },
    "collapsed": false
   },
   "outputs": [],
   "source": [
    "df.groupby(['UC2 Literal','dayofweek']).offense_id.count()"
   ]
  },
  {
   "cell_type": "code",
   "execution_count": null,
   "metadata": {
    "ExecuteTime": {
     "end_time": "2017-09-27T20:38:04.586263",
     "start_time": "2017-09-27T20:38:03.842611"
    },
    "collapsed": true
   },
   "outputs": [],
   "source": [
    "brdf.apply(lambda r: str(r.location)+', '+str(r.npu), axis=1)"
   ]
  },
  {
   "cell_type": "code",
   "execution_count": null,
   "metadata": {
    "ExecuteTime": {
     "end_time": "2017-09-27T20:39:33.453354",
     "start_time": "2017-09-27T20:39:33.368209"
    },
    "collapsed": false
   },
   "outputs": [],
   "source": [
    "brdf.apply(np.min, axis=0)"
   ]
  },
  {
   "cell_type": "code",
   "execution_count": null,
   "metadata": {
    "collapsed": true
   },
   "outputs": [],
   "source": []
  },
  {
   "cell_type": "code",
   "execution_count": null,
   "metadata": {
    "collapsed": true
   },
   "outputs": [],
   "source": []
  },
  {
   "cell_type": "code",
   "execution_count": null,
   "metadata": {
    "collapsed": true
   },
   "outputs": [],
   "source": []
  },
  {
   "cell_type": "code",
   "execution_count": null,
   "metadata": {
    "collapsed": true
   },
   "outputs": [],
   "source": []
  },
  {
   "cell_type": "code",
   "execution_count": null,
   "metadata": {
    "ExecuteTime": {
     "end_time": "2017-09-27T04:19:40.830088",
     "start_time": "2017-09-27T04:19:40.602060"
    },
    "collapsed": false
   },
   "outputs": [],
   "source": [
    "df.occur_dt.map(lambda d: d.year).unique()"
   ]
  },
  {
   "cell_type": "code",
   "execution_count": null,
   "metadata": {
    "ExecuteTime": {
     "end_time": "2017-09-27T12:15:03.938386",
     "start_time": "2017-09-27T12:15:03.758494"
    },
    "collapsed": false
   },
   "outputs": [],
   "source": [
    "df['Year'] = df.occur_dt.map(lambda d: d.year)\n",
    "df2 = df[(df.Year>=2010) & (df.Year<=2017)]\n",
    "df2.shape, df.shape"
   ]
  },
  {
   "cell_type": "markdown",
   "metadata": {},
   "source": [
    "# Descriptive Statistics\n",
    "https://pandas.pydata.org/pandas-docs/stable/basics.html#descriptive-statistics"
   ]
  },
  {
   "cell_type": "code",
   "execution_count": null,
   "metadata": {
    "collapsed": true
   },
   "outputs": [],
   "source": []
  },
  {
   "cell_type": "code",
   "execution_count": null,
   "metadata": {
    "collapsed": true
   },
   "outputs": [],
   "source": []
  },
  {
   "cell_type": "markdown",
   "metadata": {},
   "source": [
    "# Time Series\n",
    "- https://pandas.pydata.org/pandas-docs/stable/timeseries.html\n",
    "- https://pandas.pydata.org/pandas-docs/stable/api.html#id10"
   ]
  },
  {
   "cell_type": "code",
   "execution_count": null,
   "metadata": {
    "ExecuteTime": {
     "end_time": "2017-09-27T12:15:07.929423",
     "start_time": "2017-09-27T12:15:07.830931"
    },
    "collapsed": false
   },
   "outputs": [],
   "source": [
    "df_LarcenyFromVehicle = df2[(df2['UC2 Literal']=='LARCENY-FROM VEHICLE')&(df2.Year==2017)].copy()\n",
    "agr_LarcenyFromVehicle = df_LarcenyFromVehicle.set_index('occur_dt').resample('W').offense_id.count()\n",
    "agr_LarcenyFromVehicle"
   ]
  },
  {
   "cell_type": "code",
   "execution_count": null,
   "metadata": {
    "ExecuteTime": {
     "end_time": "2017-09-27T12:01:24.378436",
     "start_time": "2017-09-27T12:01:24.302632"
    },
    "collapsed": false
   },
   "outputs": [],
   "source": [
    "df_LarcenyFromVehicle[\"Hour\"] = df_LarcenyFromVehicle.occur_dt.map(lambda d: d.hour)"
   ]
  },
  {
   "cell_type": "code",
   "execution_count": null,
   "metadata": {
    "ExecuteTime": {
     "end_time": "2017-09-27T12:02:01.268340",
     "start_time": "2017-09-27T12:02:01.259890"
    },
    "collapsed": false
   },
   "outputs": [],
   "source": [
    "df_LarcenyFromVehicle.groupby(\"Hour\").offense_id.count()"
   ]
  },
  {
   "cell_type": "code",
   "execution_count": null,
   "metadata": {
    "ExecuteTime": {
     "end_time": "2017-09-27T12:20:37.596368",
     "start_time": "2017-09-27T12:20:37.571104"
    },
    "collapsed": false
   },
   "outputs": [],
   "source": [
    "hourly = df_LarcenyFromVehicle.resample('H', on='occur_dt').offense_id.count()"
   ]
  },
  {
   "cell_type": "code",
   "execution_count": null,
   "metadata": {
    "ExecuteTime": {
     "end_time": "2017-09-27T12:39:41.900307",
     "start_time": "2017-09-27T12:39:41.661722"
    },
    "collapsed": false
   },
   "outputs": [],
   "source": [
    "hourly.reset_index().occur_dt.map(lambda d: d.week)"
   ]
  },
  {
   "cell_type": "code",
   "execution_count": null,
   "metadata": {
    "ExecuteTime": {
     "end_time": "2017-09-27T12:37:45.300721",
     "start_time": "2017-09-27T12:37:45.256620"
    },
    "collapsed": false
   },
   "outputs": [],
   "source": [
    "df3 = pd.DataFrame({\"N\": hourly})\n",
    "##df3['Day'] = df3.reset_index().occur_dt ##.map(lambda d: d.day)\n",
    "df3"
   ]
  },
  {
   "cell_type": "code",
   "execution_count": null,
   "metadata": {
    "ExecuteTime": {
     "end_time": "2017-09-27T13:31:55.670065",
     "start_time": "2017-09-27T13:31:55.530416"
    },
    "collapsed": false
   },
   "outputs": [],
   "source": [
    "ls"
   ]
  },
  {
   "cell_type": "markdown",
   "metadata": {},
   "source": [
    "# Plotting\n",
    "The Pandas package provides a number of plotting features. Let's try them out.\n",
    "- https://pandas.pydata.org/pandas-docs/stable/api.html#api-dataframe-plotting\n",
    "- https://pandas.pydata.org/pandas-docs/stable/generated/pandas.DataFrame.boxplot.html\n"
   ]
  },
  {
   "cell_type": "code",
   "execution_count": 22,
   "metadata": {
    "ExecuteTime": {
     "end_time": "2017-10-04T21:05:44.930322",
     "start_time": "2017-10-04T21:05:44.923572"
    },
    "collapsed": false
   },
   "outputs": [
    {
     "data": {
      "text/plain": [
       "Index([u'MI_PRINX', u'offense_id', u'rpt_date', u'occur_date', u'occur_time',\n",
       "       u'poss_date', u'poss_time', u'beat', u'apt_office_prefix',\n",
       "       u'apt_office_num', u'location', u'MinOfucr', u'MinOfibr_code',\n",
       "       u'dispo_code', u'MaxOfnum_victims', u'Shift', u'Avg Day', u'loc_type',\n",
       "       u'UC2 Literal', u'neighborhood', u'npu', u'x', u'y', u'rpt_dt',\n",
       "       u'occur_dt', u'poss_dt'],\n",
       "      dtype='object')"
      ]
     },
     "execution_count": 22,
     "metadata": {},
     "output_type": "execute_result"
    }
   ],
   "source": [
    "df.columns"
   ]
  },
  {
   "cell_type": "code",
   "execution_count": 24,
   "metadata": {
    "ExecuteTime": {
     "end_time": "2017-10-04T21:07:20.715394",
     "start_time": "2017-10-04T21:07:17.763866"
    },
    "collapsed": false
   },
   "outputs": [],
   "source": [
    "df['occur_month'] = df['occur_dt'].map(lambda dt: dt.month)"
   ]
  },
  {
   "cell_type": "code",
   "execution_count": 29,
   "metadata": {
    "ExecuteTime": {
     "end_time": "2017-10-04T21:12:13.984319",
     "start_time": "2017-10-04T21:12:11.682148"
    },
    "collapsed": true
   },
   "outputs": [],
   "source": [
    "df['occur_year'] = df['occur_dt'].map(lambda dt: dt.year)"
   ]
  },
  {
   "cell_type": "code",
   "execution_count": 30,
   "metadata": {
    "ExecuteTime": {
     "end_time": "2017-10-04T21:12:15.518473",
     "start_time": "2017-10-04T21:12:15.367800"
    },
    "collapsed": false,
    "scrolled": true
   },
   "outputs": [
    {
     "data": {
      "text/plain": [
       "UC2 Literal  occur_year  occur_month\n",
       "AGG ASSAULT  2004.0      2.0              1\n",
       "             2007.0      2.0              1\n",
       "                         3.0              1\n",
       "             2008.0      12.0             4\n",
       "             2009.0      1.0            217\n",
       "Name: offense_id, dtype: int64"
      ]
     },
     "execution_count": 30,
     "metadata": {},
     "output_type": "execute_result"
    }
   ],
   "source": [
    "resdf = df.groupby(['UC2 Literal', 'occur_year', 'occur_month']).offense_id.count()\n",
    "resdf.head()"
   ]
  },
  {
   "cell_type": "code",
   "execution_count": 26,
   "metadata": {
    "ExecuteTime": {
     "end_time": "2017-10-04T21:09:53.134061",
     "start_time": "2017-10-04T21:09:53.095440"
    },
    "collapsed": false
   },
   "outputs": [
    {
     "data": {
      "text/html": [
       "<div>\n",
       "<table border=\"1\" class=\"dataframe\">\n",
       "  <thead>\n",
       "    <tr style=\"text-align: right;\">\n",
       "      <th></th>\n",
       "      <th>UC2 Literal</th>\n",
       "      <th>occur_month</th>\n",
       "      <th>offense_id</th>\n",
       "    </tr>\n",
       "  </thead>\n",
       "  <tbody>\n",
       "    <tr>\n",
       "      <th>0</th>\n",
       "      <td>AGG ASSAULT</td>\n",
       "      <td>1.0</td>\n",
       "      <td>1523</td>\n",
       "    </tr>\n",
       "    <tr>\n",
       "      <th>1</th>\n",
       "      <td>AGG ASSAULT</td>\n",
       "      <td>2.0</td>\n",
       "      <td>1383</td>\n",
       "    </tr>\n",
       "    <tr>\n",
       "      <th>2</th>\n",
       "      <td>AGG ASSAULT</td>\n",
       "      <td>3.0</td>\n",
       "      <td>1754</td>\n",
       "    </tr>\n",
       "    <tr>\n",
       "      <th>3</th>\n",
       "      <td>AGG ASSAULT</td>\n",
       "      <td>4.0</td>\n",
       "      <td>1801</td>\n",
       "    </tr>\n",
       "    <tr>\n",
       "      <th>4</th>\n",
       "      <td>AGG ASSAULT</td>\n",
       "      <td>5.0</td>\n",
       "      <td>1979</td>\n",
       "    </tr>\n",
       "  </tbody>\n",
       "</table>\n",
       "</div>"
      ],
      "text/plain": [
       "   UC2 Literal  occur_month  offense_id\n",
       "0  AGG ASSAULT          1.0        1523\n",
       "1  AGG ASSAULT          2.0        1383\n",
       "2  AGG ASSAULT          3.0        1754\n",
       "3  AGG ASSAULT          4.0        1801\n",
       "4  AGG ASSAULT          5.0        1979"
      ]
     },
     "execution_count": 26,
     "metadata": {},
     "output_type": "execute_result"
    }
   ],
   "source": [
    "resdf_tbl = resdf.reset_index()\n",
    "resdf_tbl.head()"
   ]
  },
  {
   "cell_type": "code",
   "execution_count": 38,
   "metadata": {
    "ExecuteTime": {
     "end_time": "2017-10-04T21:16:50.186948",
     "start_time": "2017-10-04T21:16:49.198297"
    },
    "collapsed": false
   },
   "outputs": [
    {
     "data": {
      "text/plain": [
       "''"
      ]
     },
     "execution_count": 38,
     "metadata": {},
     "output_type": "execute_result"
    },
    {
     "data": {
      "image/png": "[encoded data removed]",
      "text/plain": [
       "<matplotlib.figure.Figure at 0x1d656350>"
      ]
     },
     "metadata": {},
     "output_type": "display_data"
    }
   ],
   "source": [
    "fig = plt.figure(figsize=(10,6))\n",
    "for yy in range(2009, 2017):\n",
    "    plt.plot(resdf['BURGLARY-RESIDENCE'][yy].index, resdf['BURGLARY-RESIDENCE'][yy], marker='x', label=str(yy))\n",
    "plt.legend()\n",
    "plt.ylim(0, 1000)\n",
    "plt.title('BURGLARY-RESIDENCE')\n",
    "plt.xticks(range(13), ['', 'Jan', 'Feb', 'Mar', 'Apr', 'May', 'Jun', 'Jul', 'Aug', 'Sep', 'Oct', 'Nov', 'Dec'])\n",
    "##plt.savefig('quiz3-burglary-residence.png')\n",
    ";"
   ]
  },
  {
   "cell_type": "code",
   "execution_count": null,
   "metadata": {
    "collapsed": true
   },
   "outputs": [],
   "source": [
    "fig = plt.figure(figsize=(10,6)) # 10inx10in\n",
    "#plt.plot(resdf['BURGLARY-RESIDENCE'].index, resdf['BURGLARY-RESIDENCE'])\n",
    "plt.scatter(resdf['BURGLARY-RESIDENCE'].index, resdf['BURGLARY-RESIDENCE'], marker='x')\n",
    "plt.scatter(resdf['BURGLARY-NONRES'].index, resdf['BURGLARY-NONRES'], marker='o')\n",
    "\n",
    "plt.ylim(0, 500)\n",
    "plt.title('BURGLARY-RESIDENCE')\n",
    "plt.xticks(range(13), ['', 'Jan', 'Feb', 'Mar', 'Apr', 'May', 'Jun', 'Jul', 'Aug', 'Sep', 'Oct', 'Nov', 'Dec'])\n",
    "fig.savefig('BurglaryResidence_over_month.svg')\n",
    "x = 1"
   ]
  },
  {
   "cell_type": "markdown",
   "metadata": {},
   "source": [
    "# Seasonal Model"
   ]
  },
  {
   "cell_type": "code",
   "execution_count": null,
   "metadata": {
    "collapsed": true
   },
   "outputs": [],
   "source": [
    "fig = plt.figure(figsize=(40,30))\n",
    "crime_types = crime_year.index.levels[0]\n",
    "years = crime_year.index.levels[1]\n",
    "for c in range(len(crime_types)):\n",
    "    y_max = max(crime_year.loc[crime_types[c]])\n",
    "    \n",
    "    plt.subplot(4,3,c+1)\n",
    "    plt.hlines(crime_year.loc[crime_types[c]].iloc[-1]*100/y_max, years[0], years[-1], linestyles=\"dashed\", color=\"r\")\n",
    "    plt.bar(crime_year.loc[crime_types[c]].index, crime_year.loc[crime_types[c]]*100/y_max, label=crime_types[c], alpha=0.5)\n",
    "    ##plt.legend()\n",
    "    plt.ylim(0, 100)\n",
    "    plt.xticks(years+0.4, [str(int(y)) for y in years], rotation=0, fontsize=24)\n",
    "    plt.yticks([0,20,40,60,80,100], ['0%','20%','40%','60%','80%','100%'], fontsize=24)\n",
    "    plt.title(crime_types[c], fontsize=30)\n",
    "    None"
   ]
  },
  {
   "cell_type": "code",
   "execution_count": null,
   "metadata": {
    "collapsed": true
   },
   "outputs": [],
   "source": [
    "c = 3 ## 'BURGLARY-RESIDENCE'\n",
    "resburglaries = crime_year_month.loc[crime_types[c]]\n",
    "fig = plt.figure(figsize=(20,10))\n",
    "for y in years:\n",
    "    plt.plot(resburglaries.loc[y].index, resburglaries.loc[y], label=(\"%4.0f\"%y))\n",
    "plt.legend()\n",
    "plt.title(\"Seasonal Trends - %s\"%crime_types[c], fontsize=20)\n",
    "plt.xticks(range(13), ['', 'Jan', 'Feb', 'Mar', 'Apr', 'May', 'Jun', 'Jul', 'Aug', 'Sep', 'Oct', 'Nov', 'Dec'])\n",
    "plt.xlim(0,13)\n",
    "None"
   ]
  },
  {
   "cell_type": "code",
   "execution_count": null,
   "metadata": {
    "collapsed": true
   },
   "outputs": [],
   "source": [
    "c = 3 ## 'BURGLARY-RESIDENCE'\n",
    "fig = plt.figure(figsize=(20,10))\n",
    "for y in years:\n",
    "    avg = resburglaries.loc[y].mean()\n",
    "    std = resburglaries.loc[y].std()\n",
    "    ##plt.hlines(avg, 1, 13, linestyle='dashed')\n",
    "    plt.plot(resburglaries.loc[y].index, (resburglaries.loc[y]-avg)/std, label=(\"%4.0f\"%y))\n",
    "plt.legend()\n",
    "plt.title(\"Seasonal Trends - %s (normalized)\"%crime_types[c], fontsize=20)\n",
    "plt.xticks(list(range(1,13)), ['Jan', 'Feb', 'Mar', 'Apr', 'May', 'Jun', 'Jul', 'Aug', 'Sep', 'Oct', 'Nov', 'Dec'])\n",
    "plt.xlim(0,13)\n",
    "plt.ylabel(\"Standard deviations $\\sigma_y$\")\n",
    "None"
   ]
  },
  {
   "cell_type": "code",
   "execution_count": null,
   "metadata": {
    "collapsed": true
   },
   "outputs": [],
   "source": []
  },
  {
   "cell_type": "code",
   "execution_count": null,
   "metadata": {
    "collapsed": true
   },
   "outputs": [],
   "source": []
  },
  {
   "cell_type": "code",
   "execution_count": null,
   "metadata": {
    "collapsed": true
   },
   "outputs": [],
   "source": []
  }
 ],
 "metadata": {
  "hide_input": false,
  "kernelspec": {
   "display_name": "Python 2",
   "language": "python",
   "name": "python2"
  },
  "language_info": {
   "codemirror_mode": {
    "name": "ipython",
    "version": 2
   },
   "file_extension": ".py",
   "mimetype": "text/x-python",
   "name": "python",
   "nbconvert_exporter": "python",
   "pygments_lexer": "ipython2",
   "version": "2.7.5"
  },
  "toc": {
   "nav_menu": {
    "height": "212px",
    "width": "252px"
   },
   "navigate_menu": true,
   "number_sections": true,
   "sideBar": true,
   "threshold": 4,
   "toc_cell": false,
   "toc_section_display": "block",
   "toc_window_display": true
  }
 },
 "nbformat": 4,
 "nbformat_minor": 0
}
