{
 "cells": [
  {
   "cell_type": "markdown",
   "metadata": {},
   "source": [
    "We're going to check the quality of the a new data set...\n",
    "\n",
    "Download the data file from `/home/data/kelleher/MotorInsuranceFraudClaimABTFull.csv`"
   ]
  },
  {
   "cell_type": "code",
   "execution_count": 2,
   "metadata": {
    "ExecuteTime": {
     "end_time": "2017-10-18T19:56:16.788478",
     "start_time": "2017-10-18T19:56:15.685590"
    },
    "collapsed": true
   },
   "outputs": [],
   "source": [
    "import os, sys\n",
    "import numpy as np\n",
    "import pandas as pd\n",
    "%matplotlib inline\n",
    "import matplotlib.pyplot as plt"
   ]
  },
  {
   "cell_type": "code",
   "execution_count": 3,
   "metadata": {
    "ExecuteTime": {
     "end_time": "2017-10-18T19:56:18.699828",
     "start_time": "2017-10-18T19:56:18.638092"
    },
    "collapsed": false,
    "scrolled": true
   },
   "outputs": [
    {
     "data": {
      "text/html": [
       "<div>\n",
       "<table border=\"1\" class=\"dataframe\">\n",
       "  <thead>\n",
       "    <tr style=\"text-align: right;\">\n",
       "      <th></th>\n",
       "      <th>ID</th>\n",
       "      <th>Insurance Type</th>\n",
       "      <th>Income of Policy Holder</th>\n",
       "      <th>Marital Status</th>\n",
       "      <th>Num Claimants</th>\n",
       "      <th>Injury Type</th>\n",
       "      <th>Overnight Hospital Stay</th>\n",
       "      <th>Claim Amount</th>\n",
       "      <th>Total Claimed</th>\n",
       "      <th>Num Claims</th>\n",
       "      <th>Num Soft Tissue</th>\n",
       "      <th>% Soft Tissue</th>\n",
       "      <th>Claim Amount Received</th>\n",
       "      <th>Fraud Flag</th>\n",
       "    </tr>\n",
       "  </thead>\n",
       "  <tbody>\n",
       "    <tr>\n",
       "      <th>0</th>\n",
       "      <td>1</td>\n",
       "      <td>CI</td>\n",
       "      <td>0</td>\n",
       "      <td>NaN</td>\n",
       "      <td>2</td>\n",
       "      <td>Soft Tissue</td>\n",
       "      <td>No</td>\n",
       "      <td>1625</td>\n",
       "      <td>3250</td>\n",
       "      <td>2</td>\n",
       "      <td>2.0</td>\n",
       "      <td>1.0</td>\n",
       "      <td>0</td>\n",
       "      <td>1</td>\n",
       "    </tr>\n",
       "    <tr>\n",
       "      <th>1</th>\n",
       "      <td>2</td>\n",
       "      <td>CI</td>\n",
       "      <td>0</td>\n",
       "      <td>NaN</td>\n",
       "      <td>2</td>\n",
       "      <td>Back</td>\n",
       "      <td>Yes</td>\n",
       "      <td>15028</td>\n",
       "      <td>60112</td>\n",
       "      <td>1</td>\n",
       "      <td>0.0</td>\n",
       "      <td>0.0</td>\n",
       "      <td>15028</td>\n",
       "      <td>0</td>\n",
       "    </tr>\n",
       "    <tr>\n",
       "      <th>2</th>\n",
       "      <td>3</td>\n",
       "      <td>CI</td>\n",
       "      <td>54613</td>\n",
       "      <td>Married</td>\n",
       "      <td>1</td>\n",
       "      <td>Broken Limb</td>\n",
       "      <td>No</td>\n",
       "      <td>-99999</td>\n",
       "      <td>0</td>\n",
       "      <td>0</td>\n",
       "      <td>0.0</td>\n",
       "      <td>0.0</td>\n",
       "      <td>572</td>\n",
       "      <td>0</td>\n",
       "    </tr>\n",
       "    <tr>\n",
       "      <th>3</th>\n",
       "      <td>4</td>\n",
       "      <td>CI</td>\n",
       "      <td>0</td>\n",
       "      <td>NaN</td>\n",
       "      <td>3</td>\n",
       "      <td>Serious</td>\n",
       "      <td>Yes</td>\n",
       "      <td>270200</td>\n",
       "      <td>0</td>\n",
       "      <td>0</td>\n",
       "      <td>0.0</td>\n",
       "      <td>0.0</td>\n",
       "      <td>270200</td>\n",
       "      <td>0</td>\n",
       "    </tr>\n",
       "    <tr>\n",
       "      <th>4</th>\n",
       "      <td>5</td>\n",
       "      <td>CI</td>\n",
       "      <td>0</td>\n",
       "      <td>NaN</td>\n",
       "      <td>4</td>\n",
       "      <td>Soft Tissue</td>\n",
       "      <td>No</td>\n",
       "      <td>8869</td>\n",
       "      <td>0</td>\n",
       "      <td>0</td>\n",
       "      <td>0.0</td>\n",
       "      <td>0.0</td>\n",
       "      <td>0</td>\n",
       "      <td>1</td>\n",
       "    </tr>\n",
       "  </tbody>\n",
       "</table>\n",
       "</div>"
      ],
      "text/plain": [
       "   ID Insurance Type   Income of Policy Holder Marital Status  Num Claimants  \\\n",
       "0   1              CI                        0            NaN              2   \n",
       "1   2              CI                        0            NaN              2   \n",
       "2   3              CI                    54613        Married              1   \n",
       "3   4              CI                        0            NaN              3   \n",
       "4   5              CI                        0            NaN              4   \n",
       "\n",
       "   Injury Type Overnight Hospital Stay  Claim Amount  Total Claimed  \\\n",
       "0  Soft Tissue                      No          1625           3250   \n",
       "1         Back                     Yes         15028          60112   \n",
       "2  Broken Limb                      No        -99999              0   \n",
       "3      Serious                     Yes        270200              0   \n",
       "4  Soft Tissue                      No          8869              0   \n",
       "\n",
       "   Num Claims  Num Soft Tissue  % Soft Tissue  Claim Amount Received  \\\n",
       "0           2              2.0            1.0                      0   \n",
       "1           1              0.0            0.0                  15028   \n",
       "2           0              0.0            0.0                    572   \n",
       "3           0              0.0            0.0                 270200   \n",
       "4           0              0.0            0.0                      0   \n",
       "\n",
       "   Fraud Flag  \n",
       "0           1  \n",
       "1           0  \n",
       "2           0  \n",
       "3           0  \n",
       "4           1  "
      ]
     },
     "execution_count": 3,
     "metadata": {},
     "output_type": "execute_result"
    }
   ],
   "source": [
    "df = pd.read_csv('/home/data/kelleher/MotorInsuranceFraudClaimABTFull.csv')\n",
    "df.head()"
   ]
  },
  {
   "cell_type": "code",
   "execution_count": 4,
   "metadata": {
    "ExecuteTime": {
     "end_time": "2017-10-18T19:56:23.389349",
     "start_time": "2017-10-18T19:56:23.383799"
    },
    "collapsed": false
   },
   "outputs": [
    {
     "data": {
      "text/plain": [
       "(500, 14)"
      ]
     },
     "execution_count": 4,
     "metadata": {},
     "output_type": "execute_result"
    }
   ],
   "source": [
    "df.shape"
   ]
  },
  {
   "cell_type": "code",
   "execution_count": null,
   "metadata": {
    "collapsed": true
   },
   "outputs": [],
   "source": []
  },
  {
   "cell_type": "code",
   "execution_count": null,
   "metadata": {
    "collapsed": true
   },
   "outputs": [],
   "source": []
  },
  {
   "cell_type": "code",
   "execution_count": null,
   "metadata": {
    "collapsed": true
   },
   "outputs": [],
   "source": []
  },
  {
   "cell_type": "code",
   "execution_count": null,
   "metadata": {
    "collapsed": true
   },
   "outputs": [],
   "source": []
  },
  {
   "cell_type": "code",
   "execution_count": 4,
   "metadata": {
    "ExecuteTime": {
     "end_time": "2017-10-18T18:12:47.043350",
     "start_time": "2017-10-18T18:12:46.927235"
    },
    "collapsed": false,
    "scrolled": true
   },
   "outputs": [
    {
     "data": {
      "text/html": [
       "<div>\n",
       "<table border=\"1\" class=\"dataframe\">\n",
       "  <thead>\n",
       "    <tr style=\"text-align: right;\">\n",
       "      <th></th>\n",
       "      <th>ID</th>\n",
       "      <th>Income of Policy Holder</th>\n",
       "      <th>Num Claimants</th>\n",
       "      <th>Claim Amount</th>\n",
       "      <th>Total Claimed</th>\n",
       "      <th>Num Claims</th>\n",
       "      <th>Num Soft Tissue</th>\n",
       "      <th>% Soft Tissue</th>\n",
       "      <th>Claim Amount Received</th>\n",
       "      <th>Fraud Flag</th>\n",
       "    </tr>\n",
       "  </thead>\n",
       "  <tbody>\n",
       "    <tr>\n",
       "      <th>count</th>\n",
       "      <td>500.000000</td>\n",
       "      <td>500.000000</td>\n",
       "      <td>500.000000</td>\n",
       "      <td>500.00000</td>\n",
       "      <td>500.00000</td>\n",
       "      <td>500.000000</td>\n",
       "      <td>490.000000</td>\n",
       "      <td>500.000000</td>\n",
       "      <td>500.000000</td>\n",
       "      <td>500.000000</td>\n",
       "    </tr>\n",
       "    <tr>\n",
       "      <th>mean</th>\n",
       "      <td>250.500000</td>\n",
       "      <td>13739.994000</td>\n",
       "      <td>1.908000</td>\n",
       "      <td>16373.20400</td>\n",
       "      <td>9597.18600</td>\n",
       "      <td>0.798000</td>\n",
       "      <td>0.234694</td>\n",
       "      <td>0.172012</td>\n",
       "      <td>13051.942000</td>\n",
       "      <td>0.336000</td>\n",
       "    </tr>\n",
       "    <tr>\n",
       "      <th>std</th>\n",
       "      <td>144.481833</td>\n",
       "      <td>20081.535489</td>\n",
       "      <td>1.012713</td>\n",
       "      <td>29426.27696</td>\n",
       "      <td>35655.68622</td>\n",
       "      <td>2.666724</td>\n",
       "      <td>0.589635</td>\n",
       "      <td>0.428015</td>\n",
       "      <td>30547.194864</td>\n",
       "      <td>0.472812</td>\n",
       "    </tr>\n",
       "    <tr>\n",
       "      <th>min</th>\n",
       "      <td>1.000000</td>\n",
       "      <td>0.000000</td>\n",
       "      <td>1.000000</td>\n",
       "      <td>-99999.00000</td>\n",
       "      <td>0.00000</td>\n",
       "      <td>0.000000</td>\n",
       "      <td>0.000000</td>\n",
       "      <td>0.000000</td>\n",
       "      <td>0.000000</td>\n",
       "      <td>0.000000</td>\n",
       "    </tr>\n",
       "    <tr>\n",
       "      <th>25%</th>\n",
       "      <td>125.750000</td>\n",
       "      <td>0.000000</td>\n",
       "      <td>1.000000</td>\n",
       "      <td>3322.25000</td>\n",
       "      <td>0.00000</td>\n",
       "      <td>0.000000</td>\n",
       "      <td>0.000000</td>\n",
       "      <td>0.000000</td>\n",
       "      <td>0.000000</td>\n",
       "      <td>0.000000</td>\n",
       "    </tr>\n",
       "    <tr>\n",
       "      <th>50%</th>\n",
       "      <td>250.500000</td>\n",
       "      <td>0.000000</td>\n",
       "      <td>2.000000</td>\n",
       "      <td>5663.00000</td>\n",
       "      <td>0.00000</td>\n",
       "      <td>0.000000</td>\n",
       "      <td>0.000000</td>\n",
       "      <td>0.000000</td>\n",
       "      <td>3253.500000</td>\n",
       "      <td>0.000000</td>\n",
       "    </tr>\n",
       "    <tr>\n",
       "      <th>75%</th>\n",
       "      <td>375.250000</td>\n",
       "      <td>33918.500000</td>\n",
       "      <td>3.000000</td>\n",
       "      <td>12245.50000</td>\n",
       "      <td>11282.75000</td>\n",
       "      <td>1.000000</td>\n",
       "      <td>0.000000</td>\n",
       "      <td>0.000000</td>\n",
       "      <td>8191.750000</td>\n",
       "      <td>1.000000</td>\n",
       "    </tr>\n",
       "    <tr>\n",
       "      <th>max</th>\n",
       "      <td>500.000000</td>\n",
       "      <td>71284.000000</td>\n",
       "      <td>4.000000</td>\n",
       "      <td>270200.00000</td>\n",
       "      <td>729792.00000</td>\n",
       "      <td>56.000000</td>\n",
       "      <td>5.000000</td>\n",
       "      <td>2.000000</td>\n",
       "      <td>295303.000000</td>\n",
       "      <td>1.000000</td>\n",
       "    </tr>\n",
       "  </tbody>\n",
       "</table>\n",
       "</div>"
      ],
      "text/plain": [
       "               ID  Income of Policy Holder  Num Claimants  Claim Amount  \\\n",
       "count  500.000000               500.000000     500.000000     500.00000   \n",
       "mean   250.500000             13739.994000       1.908000   16373.20400   \n",
       "std    144.481833             20081.535489       1.012713   29426.27696   \n",
       "min      1.000000                 0.000000       1.000000  -99999.00000   \n",
       "25%    125.750000                 0.000000       1.000000    3322.25000   \n",
       "50%    250.500000                 0.000000       2.000000    5663.00000   \n",
       "75%    375.250000             33918.500000       3.000000   12245.50000   \n",
       "max    500.000000             71284.000000       4.000000  270200.00000   \n",
       "\n",
       "       Total Claimed  Num Claims  Num Soft Tissue  % Soft Tissue  \\\n",
       "count      500.00000  500.000000       490.000000     500.000000   \n",
       "mean      9597.18600    0.798000         0.234694       0.172012   \n",
       "std      35655.68622    2.666724         0.589635       0.428015   \n",
       "min          0.00000    0.000000         0.000000       0.000000   \n",
       "25%          0.00000    0.000000         0.000000       0.000000   \n",
       "50%          0.00000    0.000000         0.000000       0.000000   \n",
       "75%      11282.75000    1.000000         0.000000       0.000000   \n",
       "max     729792.00000   56.000000         5.000000       2.000000   \n",
       "\n",
       "       Claim Amount Received  Fraud Flag  \n",
       "count             500.000000  500.000000  \n",
       "mean            13051.942000    0.336000  \n",
       "std             30547.194864    0.472812  \n",
       "min                 0.000000    0.000000  \n",
       "25%                 0.000000    0.000000  \n",
       "50%              3253.500000    0.000000  \n",
       "75%              8191.750000    1.000000  \n",
       "max            295303.000000    1.000000  "
      ]
     },
     "execution_count": 4,
     "metadata": {},
     "output_type": "execute_result"
    }
   ],
   "source": [
    "df.describe()"
   ]
  },
  {
   "cell_type": "code",
   "execution_count": null,
   "metadata": {
    "collapsed": true
   },
   "outputs": [],
   "source": []
  },
  {
   "cell_type": "code",
   "execution_count": null,
   "metadata": {
    "collapsed": true
   },
   "outputs": [],
   "source": []
  },
  {
   "cell_type": "code",
   "execution_count": null,
   "metadata": {
    "collapsed": true
   },
   "outputs": [],
   "source": []
  },
  {
   "cell_type": "code",
   "execution_count": null,
   "metadata": {
    "collapsed": true
   },
   "outputs": [],
   "source": []
  },
  {
   "cell_type": "code",
   "execution_count": null,
   "metadata": {
    "collapsed": true
   },
   "outputs": [],
   "source": []
  },
  {
   "cell_type": "code",
   "execution_count": null,
   "metadata": {
    "collapsed": true
   },
   "outputs": [],
   "source": []
  },
  {
   "cell_type": "code",
   "execution_count": 5,
   "metadata": {
    "ExecuteTime": {
     "end_time": "2017-10-18T18:13:46.822790",
     "start_time": "2017-10-18T18:13:46.086916"
    },
    "collapsed": false
   },
   "outputs": [
    {
     "data": {
      "text/plain": [
       "<matplotlib.axes._subplots.AxesSubplot at 0x3bfb150>"
      ]
     },
     "execution_count": 5,
     "metadata": {},
     "output_type": "execute_result"
    },
    {
     "data": {
      "image/png": "[encoded data removed]",
      "text/plain": [
       "<matplotlib.figure.Figure at 0x60db590>"
      ]
     },
     "metadata": {},
     "output_type": "display_data"
    }
   ],
   "source": [
    "df.boxplot(column='Claim Amount', by='Injury Type')"
   ]
  }
 ],
 "metadata": {
  "hide_input": false,
  "kernelspec": {
   "display_name": "Python 2",
   "language": "python",
   "name": "python2"
  },
  "language_info": {
   "codemirror_mode": {
    "name": "ipython",
    "version": 2
   },
   "file_extension": ".py",
   "mimetype": "text/x-python",
   "name": "python",
   "nbconvert_exporter": "python",
   "pygments_lexer": "ipython2",
   "version": "2.7.5"
  },
  "toc": {
   "nav_menu": {
    "height": "12px",
    "width": "252px"
   },
   "navigate_menu": true,
   "number_sections": true,
   "sideBar": true,
   "threshold": 4,
   "toc_cell": false,
   "toc_section_display": "block",
   "toc_window_display": false
  }
 },
 "nbformat": 4,
 "nbformat_minor": 0
}
