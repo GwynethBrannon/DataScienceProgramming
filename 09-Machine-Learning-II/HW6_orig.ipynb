{
 "cells": [
  {
   "cell_type": "markdown",
   "metadata": {},
   "source": [
    "<div style=\"float: right; color: red;\">Please, rename this file to <code style=\"color:red\">HW6.ipynb</code> and save it in <code style=\"color:red\">MSA8010F16/HW6</code>\n",
    "</div>\n",
    "\n",
    "# Homework 6: Preprocessing Data\n",
    "We use a data set from the UCI Machine Learning Repository\n",
    "https://archive.ics.uci.edu/ml/datasets/Bank+Marketing \n",
    "to experiment with a Decision Tree classifier http://www.saedsayad.com/decision_tree.htm\n",
    "\n",
    "Scikit-Learn: http://scikit-learn.org/stable/modules/tree.html#tree\n",
    "\n",
    "Book slides:\n",
    "- http://131.96.197.204/~pmolnar/mlbook/BookSlides_4A_Information-based_Learning.pdf\n",
    "- http://131.96.197.204/~pmolnar/mlbook/BookSlides_4B_Information-based_Learning.pdf\n",
    "\n",
    "\n",
    "\n",
    "### Bank Marketing Data Set \n",
    "The data is related with direct marketing campaigns (phone calls) of a Portuguese banking institution. The classification goal is to predict if the client will subscribe a term deposit (variable y).\n",
    "\n",
    "Data Set Information:\n",
    "\n",
    "The data is related with direct marketing campaigns of a Portuguese banking institution. The marketing campaigns were based on phone calls. Often, more than one contact to the same client was required, in order to access if the product (bank term deposit) would be ('yes') or not ('no') subscribed. \n",
    "\n",
    "There are four datasets: \n",
    "1) bank-additional-full.csv with all examples (41188) and 20 inputs, ordered by date (from May 2008 to November 2010), very close to the data analyzed in [Moro et al., 2014]\n",
    "2) bank-additional.csv with 10% of the examples (4119), randomly selected from 1), and 20 inputs.\n",
    "3) bank-full.csv with all examples and 17 inputs, ordered by date (older version of this dataset with less inputs). \n",
    "4) bank.csv with 10% of the examples and 17 inputs, randomly selected from 3 (older version of this dataset with less inputs). \n",
    "The smallest datasets are provided to test more computationally demanding machine learning algorithms (e.g., SVM). \n",
    "\n",
    "The classification goal is to predict if the client will subscribe (yes/no) a term deposit (variable y).\n",
    "\n",
    "\n",
    "Attribute Information:\n",
    "\n",
    "Input variables:\n",
    "- *bank client data:*\n",
    "        1 age (numeric)\n",
    "        2 job : type of job (categorical: 'admin.','blue-collar','entrepreneur','housemaid','management','retired','self-employed','services','student','technician','unemployed','unknown')\n",
    "        3 marital : marital status (categorical: 'divorced','married','single','unknown'; note: 'divorced' means divorced or widowed)\n",
    "        4 education (categorical: 'basic.4y','basic.6y','basic.9y','high.school','illiterate','professional.course','university.degree','unknown')\n",
    "        5 default: has credit in default? (categorical: 'no','yes','unknown')\n",
    "        6 housing: has housing loan? (categorical: 'no','yes','unknown')\n",
    "        7 loan: has personal loan? (categorical: 'no','yes','unknown')\n",
    "- *related with the last contact of the current campaign:*\n",
    "        8 contact: contact communication type (categorical: 'cellular','telephone') \n",
    "        9 month: last contact month of year (categorical: 'jan', 'feb', 'mar', ..., 'nov', 'dec')\n",
    "        10 day_of_week: last contact day of the week (categorical: 'mon','tue','wed','thu','fri')\n",
    "        11 duration: last contact duration, in seconds (numeric). Important note: this attribute highly affects the output target (e.g., if duration=0 then y='no'). Yet, the duration is not known before a call is performed. Also, after the end of the call y is obviously known. Thus, this input should only be included for benchmark purposes and should be discarded if the intention is to have a realistic predictive model.\n",
    "- *other attributes:*\n",
    "        12 campaign: number of contacts performed during this campaign and for this client (numeric, includes last contact)\n",
    "        13 pdays: number of days that passed by after the client was last contacted from a previous campaign (numeric; 999 means client was not previously contacted)\n",
    "        14 previous: number of contacts performed before this campaign and for this client (numeric)\n",
    "        15 poutcome: outcome of the previous marketing campaign (categorical: 'failure','nonexistent','success')\n",
    "- *social and economic context attributes*\n",
    "        16 emp.var.rate: employment variation rate - quarterly indicator (numeric)\n",
    "        17 cons.price.idx: consumer price index - monthly indicator (numeric) \n",
    "        18 cons.conf.idx: consumer confidence index - monthly indicator (numeric) \n",
    "        19 euribor3m: euribor 3 month rate - daily indicator (numeric)\n",
    "        20 nr.employed: number of employees - quarterly indicator (numeric)\n",
    "\n",
    "Output variable (desired target):\n",
    "    21 y - has the client subscribed a term deposit? (binary: 'yes','no')"
   ]
  },
  {
   "cell_type": "code",
   "execution_count": 1,
   "metadata": {
    "collapsed": false
   },
   "outputs": [],
   "source": [
    "import numpy as np\n",
    "import pandas as pd\n",
    "import matplotlib.pyplot as plt"
   ]
  },
  {
   "cell_type": "code",
   "execution_count": 2,
   "metadata": {
    "collapsed": true
   },
   "outputs": [],
   "source": [
    "DATAFILE = '/home/data/archive.ics.uci.edu/BankMarketing/bank.csv'\n",
    "###DATAFILE = 'data/bank.csv'  ### using locally"
   ]
  },
  {
   "cell_type": "code",
   "execution_count": 22,
   "metadata": {
    "collapsed": false
   },
   "outputs": [
    {
     "data": {
      "text/plain": [
       "Index(['age', 'job', 'marital', 'education', 'default', 'balance', 'housing',\n",
       "       'loan', 'contact', 'day', 'month', 'duration', 'campaign', 'pdays',\n",
       "       'previous', 'poutcome', 'y'],\n",
       "      dtype='object')"
      ]
     },
     "execution_count": 22,
     "metadata": {},
     "output_type": "execute_result"
    }
   ],
   "source": [
    "df = pd.read_csv(DATAFILE, sep=';')\n",
    "df\n",
    "df.columns"
   ]
  },
  {
   "cell_type": "code",
   "execution_count": null,
   "metadata": {
    "collapsed": true
   },
   "outputs": [],
   "source": [
    "catcols = ['job', 'marital', 'education', 'default', 'housing',\n",
    "       'loan', 'contact', 'poutcome']"
   ]
  },
  {
   "cell_type": "markdown",
   "metadata": {},
   "source": [
    "## Step 1: Investigate Data Set\n",
    "- We have a number of categorical data: What's their cardinality? How are the levels distributed?\n",
    "- What's the distribution on numeric values? Do we see any correlations?"
   ]
  },
  {
   "cell_type": "code",
   "execution_count": 16,
   "metadata": {
    "collapsed": false
   },
   "outputs": [
    {
     "data": {
      "image/png": "[encoded data removed]",
      "text/plain": [
       "<matplotlib.figure.Figure at 0x10c2c2358>"
      ]
     },
     "metadata": {},
     "output_type": "display_data"
    }
   ],
   "source": [
    "%matplotlib inline\n",
    "fig = plt.figure()\n",
    "hst = plt.hist(df.age)"
   ]
  },
  {
   "cell_type": "code",
   "execution_count": 4,
   "metadata": {
    "collapsed": false
   },
   "outputs": [
    {
     "data": {
      "text/html": [
       "<div>\n",
       "<table border=\"1\" class=\"dataframe\">\n",
       "  <thead>\n",
       "    <tr style=\"text-align: right;\">\n",
       "      <th></th>\n",
       "      <th>age</th>\n",
       "      <th>job</th>\n",
       "      <th>marital</th>\n",
       "      <th>education</th>\n",
       "      <th>default</th>\n",
       "      <th>balance</th>\n",
       "      <th>housing</th>\n",
       "      <th>loan</th>\n",
       "      <th>day</th>\n",
       "      <th>month</th>\n",
       "      <th>duration</th>\n",
       "      <th>campaign</th>\n",
       "      <th>pdays</th>\n",
       "      <th>previous</th>\n",
       "      <th>poutcome</th>\n",
       "      <th>y</th>\n",
       "    </tr>\n",
       "    <tr>\n",
       "      <th>contact</th>\n",
       "      <th></th>\n",
       "      <th></th>\n",
       "      <th></th>\n",
       "      <th></th>\n",
       "      <th></th>\n",
       "      <th></th>\n",
       "      <th></th>\n",
       "      <th></th>\n",
       "      <th></th>\n",
       "      <th></th>\n",
       "      <th></th>\n",
       "      <th></th>\n",
       "      <th></th>\n",
       "      <th></th>\n",
       "      <th></th>\n",
       "      <th></th>\n",
       "    </tr>\n",
       "  </thead>\n",
       "  <tbody>\n",
       "    <tr>\n",
       "      <th>cellular</th>\n",
       "      <td>2896</td>\n",
       "      <td>2896</td>\n",
       "      <td>2896</td>\n",
       "      <td>2896</td>\n",
       "      <td>2896</td>\n",
       "      <td>2896</td>\n",
       "      <td>2896</td>\n",
       "      <td>2896</td>\n",
       "      <td>2896</td>\n",
       "      <td>2896</td>\n",
       "      <td>2896</td>\n",
       "      <td>2896</td>\n",
       "      <td>2896</td>\n",
       "      <td>2896</td>\n",
       "      <td>2896</td>\n",
       "      <td>2896</td>\n",
       "    </tr>\n",
       "    <tr>\n",
       "      <th>telephone</th>\n",
       "      <td>301</td>\n",
       "      <td>301</td>\n",
       "      <td>301</td>\n",
       "      <td>301</td>\n",
       "      <td>301</td>\n",
       "      <td>301</td>\n",
       "      <td>301</td>\n",
       "      <td>301</td>\n",
       "      <td>301</td>\n",
       "      <td>301</td>\n",
       "      <td>301</td>\n",
       "      <td>301</td>\n",
       "      <td>301</td>\n",
       "      <td>301</td>\n",
       "      <td>301</td>\n",
       "      <td>301</td>\n",
       "    </tr>\n",
       "    <tr>\n",
       "      <th>unknown</th>\n",
       "      <td>1324</td>\n",
       "      <td>1324</td>\n",
       "      <td>1324</td>\n",
       "      <td>1324</td>\n",
       "      <td>1324</td>\n",
       "      <td>1324</td>\n",
       "      <td>1324</td>\n",
       "      <td>1324</td>\n",
       "      <td>1324</td>\n",
       "      <td>1324</td>\n",
       "      <td>1324</td>\n",
       "      <td>1324</td>\n",
       "      <td>1324</td>\n",
       "      <td>1324</td>\n",
       "      <td>1324</td>\n",
       "      <td>1324</td>\n",
       "    </tr>\n",
       "  </tbody>\n",
       "</table>\n",
       "</div>"
      ],
      "text/plain": [
       "            age   job  marital  education  default  balance  housing  loan  \\\n",
       "contact                                                                      \n",
       "cellular   2896  2896     2896       2896     2896     2896     2896  2896   \n",
       "telephone   301   301      301        301      301      301      301   301   \n",
       "unknown    1324  1324     1324       1324     1324     1324     1324  1324   \n",
       "\n",
       "            day  month  duration  campaign  pdays  previous  poutcome     y  \n",
       "contact                                                                      \n",
       "cellular   2896   2896      2896      2896   2896      2896      2896  2896  \n",
       "telephone   301    301       301       301    301       301       301   301  \n",
       "unknown    1324   1324      1324      1324   1324      1324      1324  1324  "
      ]
     },
     "execution_count": 4,
     "metadata": {},
     "output_type": "execute_result"
    }
   ],
   "source": [
    "df.groupby('contact').count()"
   ]
  },
  {
   "cell_type": "markdown",
   "metadata": {},
   "source": [
    "## Step 2: Prepare for ML algorithm\n",
    "The ML algorithms in Scikit-Learn use Matrices (with numeric values). We need to convert our data-frame into a feature matrix `X` and a target vector `y`."
   ]
  },
  {
   "cell_type": "code",
   "execution_count": 10,
   "metadata": {
    "collapsed": true
   },
   "outputs": [],
   "source": [
    "?pd.DataFrame.as_matrix"
   ]
  },
  {
   "cell_type": "code",
   "execution_count": null,
   "metadata": {
    "collapsed": true
   },
   "outputs": [],
   "source": []
  },
  {
   "cell_type": "code",
   "execution_count": null,
   "metadata": {
    "collapsed": true
   },
   "outputs": [],
   "source": []
  },
  {
   "cell_type": "code",
   "execution_count": null,
   "metadata": {
    "collapsed": true
   },
   "outputs": [],
   "source": [
    "catcols = ['job', 'marital', 'education', 'default', 'housing', 'loan', 'contact', 'poutcome']\n",
    "for c in catcols:\n",
    "    c_dict = {}\n",
    "    c_levels = df[c].unique()\n",
    "    for i in range(len(c_levels)):\n",
    "        c_dict[c_levels[i]] = i\n",
    "    df[c].replace(c_dict, inplace=True)"
   ]
  },
  {
   "cell_type": "code",
   "execution_count": 29,
   "metadata": {
    "collapsed": false,
    "scrolled": false
   },
   "outputs": [
    {
     "data": {
      "text/plain": [
       "array([[ 30,   0,   0,   0,  79],\n",
       "       [ 33,   0,   1,   1, 220],\n",
       "       [ 35,   1,   2,   1, 185],\n",
       "       ..., \n",
       "       [ 57,   0,   1,   0, 151],\n",
       "       [ 28,   0,   1,   0, 129],\n",
       "       [ 44,   1,   2,   1, 345]])"
      ]
     },
     "execution_count": 29,
     "metadata": {},
     "output_type": "execute_result"
    }
   ],
   "source": [
    "features = ['age', 'marital', 'education', 'housing', 'duration' ]\n",
    "X = df[features].as_matrix()\n",
    "X"
   ]
  },
  {
   "cell_type": "code",
   "execution_count": 34,
   "metadata": {
    "collapsed": false
   },
   "outputs": [],
   "source": [
    "y = df.y.replace({'no':0, 'yes':1}).as_matrix()"
   ]
  },
  {
   "cell_type": "code",
   "execution_count": 37,
   "metadata": {
    "collapsed": false
   },
   "outputs": [],
   "source": [
    "from sklearn.model_selection import train_test_split\n",
    "X_train, X_test, y_train, y_test = train_test_split(X, y, test_size=.4, random_state=42)"
   ]
  },
  {
   "cell_type": "code",
   "execution_count": 38,
   "metadata": {
    "collapsed": false
   },
   "outputs": [
    {
     "data": {
      "text/plain": [
       "(array([[ 48,   0,   0,   0, 348],\n",
       "        [ 32,   0,   1,   1, 171],\n",
       "        [ 26,   1,   1,   1,  95],\n",
       "        ..., \n",
       "        [ 46,   0,   2,   1, 105],\n",
       "        [ 47,   1,   2,   0,  71],\n",
       "        [ 58,   0,   0,   0, 156]]), array([[ 51,   0,   1,   0, 123],\n",
       "        [ 50,   0,   2,   0, 510],\n",
       "        [ 50,   0,   1,   0, 131],\n",
       "        ..., \n",
       "        [ 36,   1,   0,   0, 217],\n",
       "        [ 57,   0,   1,   1,  73],\n",
       "        [ 52,   0,   1,   0,  82]]), array([0, 0, 0, ..., 0, 0, 0]), array([0, 0, 0, ..., 0, 0, 0]))"
      ]
     },
     "execution_count": 38,
     "metadata": {},
     "output_type": "execute_result"
    }
   ],
   "source": [
    "X_train, X_test, y_train, y_test"
   ]
  },
  {
   "cell_type": "code",
   "execution_count": null,
   "metadata": {
    "collapsed": true
   },
   "outputs": [],
   "source": []
  },
  {
   "cell_type": "code",
   "execution_count": null,
   "metadata": {
    "collapsed": true
   },
   "outputs": [],
   "source": []
  },
  {
   "cell_type": "code",
   "execution_count": 9,
   "metadata": {
    "collapsed": false
   },
   "outputs": [
    {
     "data": {
      "text/plain": [
       "array(['married', 'single', 'divorced'], dtype=object)"
      ]
     },
     "execution_count": 9,
     "metadata": {},
     "output_type": "execute_result"
    }
   ],
   "source": [
    "df.marital.unique()"
   ]
  },
  {
   "cell_type": "markdown",
   "metadata": {},
   "source": [
    "## Step 3: Training\n",
    "1. split data into **training** and **test** sets\n",
    "2. fit the model"
   ]
  },
  {
   "cell_type": "code",
   "execution_count": 8,
   "metadata": {
    "collapsed": true
   },
   "outputs": [],
   "source": [
    "#from sklearn.tree import DecisionTreeClassifier\n",
    "#from sklearn.model_selection import train_test_split"
   ]
  },
  {
   "cell_type": "code",
   "execution_count": 39,
   "metadata": {
    "collapsed": true
   },
   "outputs": [],
   "source": [
    "from sklearn.tree import DecisionTreeClassifier\n",
    "clf = DecisionTreeClassifier(max_depth=5)"
   ]
  },
  {
   "cell_type": "code",
   "execution_count": 40,
   "metadata": {
    "collapsed": true
   },
   "outputs": [],
   "source": [
    "clf.fit(X_train, y_train)\n",
    "score = clf.score(X_test, y_test)"
   ]
  },
  {
   "cell_type": "code",
   "execution_count": 41,
   "metadata": {
    "collapsed": false
   },
   "outputs": [
    {
     "data": {
      "text/plain": [
       "0.89220563847429524"
      ]
     },
     "execution_count": 41,
     "metadata": {},
     "output_type": "execute_result"
    }
   ],
   "source": [
    "score"
   ]
  },
  {
   "cell_type": "code",
   "execution_count": null,
   "metadata": {
    "collapsed": true
   },
   "outputs": [],
   "source": []
  },
  {
   "cell_type": "markdown",
   "metadata": {},
   "source": [
    "## Step 4: Evaluate Model\n",
    "1. predict $\\hat y$ for your model on **test set**\n",
    "2. calculate confusion matrix and derive measures\n",
    "3. visualize if suitable"
   ]
  },
  {
   "cell_type": "code",
   "execution_count": 43,
   "metadata": {
    "collapsed": false
   },
   "outputs": [],
   "source": [
    "ŷ = clf.predict(X_test)"
   ]
  },
  {
   "cell_type": "code",
   "execution_count": 56,
   "metadata": {
    "collapsed": false
   },
   "outputs": [
    {
     "data": {
      "text/plain": [
       "[[51, 138], [57, 1563]]"
      ]
     },
     "execution_count": 56,
     "metadata": {},
     "output_type": "execute_result"
    }
   ],
   "source": [
    "TP = ((y_test+ŷ)== 2).sum()\n",
    "TN = ((y_test+ŷ)== 0).sum()\n",
    "FP = ((y_test-ŷ)== -1).sum()\n",
    "FN = ((y_test-ŷ)== 1).sum()\n",
    "[[TP, FN], [FP, TN]] \n",
    "##np.abs(y_test-ŷ).sum()"
   ]
  },
  {
   "cell_type": "code",
   "execution_count": null,
   "metadata": {
    "collapsed": true
   },
   "outputs": [],
   "source": []
  },
  {
   "cell_type": "markdown",
   "metadata": {},
   "source": [
    "## Step 5: Figure out how to improve and go back to Step 2 or 3\n",
    "This is an experiemnt. What can we change to improve the performance of the model?\n",
    "- Include or exclude certain features\n",
    "- Scale or transform values of feature vectors\n",
    "- Identify outliers (noise) and remove them\n",
    "- Adjust parameters of the ML algorithm "
   ]
  },
  {
   "cell_type": "code",
   "execution_count": null,
   "metadata": {
    "collapsed": true
   },
   "outputs": [],
   "source": []
  }
 ],
 "metadata": {
  "kernelspec": {
   "display_name": "Python 3",
   "language": "python",
   "name": "python3"
  },
  "language_info": {
   "codemirror_mode": {
    "name": "ipython",
    "version": 3
   },
   "file_extension": ".py",
   "mimetype": "text/x-python",
   "name": "python",
   "nbconvert_exporter": "python",
   "pygments_lexer": "ipython3",
   "version": "3.4.3"
  }
 },
 "nbformat": 4,
 "nbformat_minor": 0
}
