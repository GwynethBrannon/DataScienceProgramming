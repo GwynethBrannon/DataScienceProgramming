{
 "cells": [
  {
   "cell_type": "markdown",
   "metadata": {},
   "source": [
    "# Spark Skeleton\n",
    "This is the skeleton for using Spark within Jupyter Notebook. Currently only Python 2 is supported. For running Python Spark programs use `spark-submit` from the command line.\n",
    "\n",
    "## Initialization"
   ]
  },
  {
   "cell_type": "code",
   "execution_count": 1,
   "metadata": {
    "ExecuteTime": {
     "end_time": "2016-11-06T19:43:47.968229",
     "start_time": "2016-11-06T19:43:42.828358"
    },
    "collapsed": false
   },
   "outputs": [
    {
     "name": "stdout",
     "output_type": "stream",
     "text": [
      "Welcome to\n",
      "      ____              __\n",
      "     / __/__  ___ _____/ /__\n",
      "    _\\ \\/ _ \\/ _ `/ __/  '_/\n",
      "   /__ / .__/\\_,_/_/ /_/\\_\\   version 1.6.1\n",
      "      /_/\n",
      "\n"
     ]
    }
   ],
   "source": [
    "\"\"\"\n",
    "Load packages and create context objects...\n",
    "\"\"\"\n",
    "import os\n",
    "import platform\n",
    "import sys\n",
    "sys.path.append('/usr/hdp/2.4.2.0-258/spark/python')\n",
    "os.environ[\"SPARK_HOME\"] = '/usr/hdp/2.4.2.0-258/spark'\n",
    "os.environ['PYSPARK_SUBMIT_ARGS'] = '--packages com.databricks:spark-csv_2.11:1.2.0 pyspark-shell'\n",
    "import py4j\n",
    "import pyspark\n",
    "from pyspark.context import SparkContext, SparkConf\n",
    "from pyspark.sql import SQLContext, HiveContext\n",
    "from pyspark.storagelevel import StorageLevel\n",
    "sc = SparkContext()\n",
    "import atexit\n",
    "atexit.register(lambda: sc.stop())\n",
    "print(\"\"\"Welcome to\n",
    "      ____              __\n",
    "     / __/__  ___ _____/ /__\n",
    "    _\\ \\/ _ \\/ _ `/ __/  '_/\n",
    "   /__ / .__/\\_,_/_/ /_/\\_\\   version %s\n",
    "      /_/\n",
    "\"\"\" % sc.version)"
   ]
  },
  {
   "cell_type": "markdown",
   "metadata": {
    "collapsed": true
   },
   "source": [
    "Now, the Spark context is initialized. "
   ]
  },
  {
   "cell_type": "markdown",
   "metadata": {},
   "source": [
    "### Best Paractice:\n",
    "Close and halt Jupyter notebooks after you worked on them. The processes and resource allocations of notebooks persist even if you close the browser window.\n"
   ]
  },
  {
   "cell_type": "markdown",
   "metadata": {
    "collapsed": false,
    "heading_collapsed": true
   },
   "source": [
    "## Example: Loading Data Files\n",
    "This Spark implementation reads data files from the Hadoop File System (HDFS). Larger files are usually broken up in many smaller chunks so that multiple processes can read them without interference. In addition most Hadoop components unzip compressed files on the fly.\n",
    "\n",
    "In this example we load a text file and create a Spark Resilient Distributued Data (RDD) set where each row holds a line from the text file. Our data file is a collection of Twitter status records: one JSON encoded record per line."
   ]
  },
  {
   "cell_type": "code",
   "execution_count": 2,
   "metadata": {
    "collapsed": false,
    "hidden": true
   },
   "outputs": [],
   "source": [
    "tweets = sc.textFile(\"/user/molnar/data/election2012/cache-117000000.json.gz\")"
   ]
  },
  {
   "cell_type": "markdown",
   "metadata": {
    "hidden": true
   },
   "source": [
    "Let's look at the first record. We're going to decode the data string and encode it back to text for nicer formatting:"
   ]
  },
  {
   "cell_type": "code",
   "execution_count": 3,
   "metadata": {
    "collapsed": false,
    "hidden": true
   },
   "outputs": [
    {
     "data": {
      "text/plain": [
       "pyspark.rdd.RDD"
      ]
     },
     "execution_count": 3,
     "metadata": {},
     "output_type": "execute_result"
    }
   ],
   "source": [
    "type(tweets)"
   ]
  },
  {
   "cell_type": "code",
   "execution_count": 4,
   "metadata": {
    "collapsed": false,
    "hidden": true,
    "scrolled": false
   },
   "outputs": [
    {
     "name": "stdout",
     "output_type": "stream",
     "text": [
      "{\n",
      "    \"contributors\": null, \n",
      "    \"coordinates\": null, \n",
      "    \"created_at\": \"Sun Nov 11 17:24:37 +0000 2012\", \n",
      "    \"entities\": {\n",
      "        \"hashtags\": [\n",
      "            {\n",
      "                \"indices\": [\n",
      "                    111, \n",
      "                    133\n",
      "                ], \n",
      "                \"text\": \"HAPPYBIRTHDAYAVALANNA\"\n",
      "            }\n",
      "        ], \n",
      "        \"urls\": [], \n",
      "        \"user_mentions\": [\n",
      "            {\n",
      "                \"id\": 307879426, \n",
      "                \"id_str\": \"307879426\", \n",
      "                \"indices\": [\n",
      "                    3, \n",
      "                    17\n",
      "                ], \n",
      "                \"name\": \"Kidrauhl \\u221e\", \n",
      "                \"screen_name\": \"xBieberHoodie\"\n",
      "            }\n",
      "        ]\n",
      "    }, \n",
      "    \"favorited\": false, \n",
      "    \"geo\": null, \n",
      "    \"id\": 267679234212888576, \n",
      "    \"id_str\": \"267679234212888576\", \n",
      "    \"in_reply_to_screen_name\": null, \n",
      "    \"in_reply_to_status_id\": null, \n",
      "    \"in_reply_to_status_id_str\": null, \n",
      "    \"in_reply_to_user_id\": null, \n",
      "    \"in_reply_to_user_id_str\": null, \n",
      "    \"place\": null, \n",
      "    \"retweet_count\": 165, \n",
      "    \"retweeted\": false, \n",
      "    \"retweeted_status\": {\n",
      "        \"contributors\": null, \n",
      "        \"coordinates\": null, \n",
      "        \"created_at\": \"Thu Oct 25 15:53:50 +0000 2012\", \n",
      "        \"entities\": {\n",
      "            \"hashtags\": [\n",
      "                {\n",
      "                    \"indices\": [\n",
      "                        92, \n",
      "                        114\n",
      "                    ], \n",
      "                    \"text\": \"HAPPYBIRTHDAYAVALANNA\"\n",
      "                }\n",
      "            ], \n",
      "            \"urls\": [\n",
      "                {\n",
      "                    \"display_url\": \"24.media.tumblr.com/tumblr_m6lbzb5\\u2026\", \n",
      "                    \"expanded_url\": \"http://24.media.tumblr.com/tumblr_m6lbzb5PON1rqlo9eo1_400.jpg\", \n",
      "                    \"indices\": [\n",
      "                        115, \n",
      "                        135\n",
      "                    ], \n",
      "                    \"url\": \"http://t.co/rAyTFawu\"\n",
      "                }\n",
      "            ], \n",
      "            \"user_mentions\": []\n",
      "        }, \n",
      "        \"favorited\": false, \n",
      "        \"geo\": null, \n",
      "        \"id\": 261495794870407169, \n",
      "        \"id_str\": \"261495794870407169\", \n",
      "        \"in_reply_to_screen_name\": null, \n",
      "        \"in_reply_to_status_id\": null, \n",
      "        \"in_reply_to_status_id_str\": null, \n",
      "        \"in_reply_to_user_id\": null, \n",
      "        \"in_reply_to_user_id_str\": null, \n",
      "        \"place\": null, \n",
      "        \"possibly_sensitive\": false, \n",
      "        \"possibly_sensitive_editable\": true, \n",
      "        \"retweet_count\": 165, \n",
      "        \"retweeted\": false, \n",
      "        \"source\": \"web\", \n",
      "        \"text\": \"You had a special place in our fanbase, and now you\\u2019ll have a special place in our hearts ! #HAPPYBIRTHDAYAVALANNA http://t.co/rAyTFawu\", \n",
      "        \"truncated\": false, \n",
      "        \"user\": {\n",
      "            \"contributors_enabled\": false, \n",
      "            \"created_at\": \"Mon May 30 13:11:31 +0000 2011\", \n",
      "            \"default_profile\": false, \n",
      "            \"default_profile_image\": false, \n",
      "            \"description\": \"I support Justin through all the good & tough times. I\\u00b4m a belieber & surely here to stay.   #ApartOfBelieberTicket\", \n",
      "            \"favourites_count\": 109, \n",
      "            \"follow_request_sent\": null, \n",
      "            \"followers_count\": 7152, \n",
      "            \"following\": null, \n",
      "            \"friends_count\": 4046, \n",
      "            \"geo_enabled\": true, \n",
      "            \"id\": 307879426, \n",
      "            \"id_str\": \"307879426\", \n",
      "            \"is_translator\": false, \n",
      "            \"lang\": \"de\", \n",
      "            \"listed_count\": 115, \n",
      "            \"location\": \"with Juju. \", \n",
      "            \"name\": \"Kidrauhl \\u221e\", \n",
      "            \"notifications\": null, \n",
      "            \"profile_background_color\": \"F5EEE5\", \n",
      "            \"profile_background_image_url\": \"http://a0.twimg.com/profile_background_images/611503770/pzxa29khcpnwhfwughu2.gif\", \n",
      "            \"profile_background_image_url_https\": \"https://si0.twimg.com/profile_background_images/611503770/pzxa29khcpnwhfwughu2.gif\", \n",
      "            \"profile_background_tile\": false, \n",
      "            \"profile_banner_url\": \"https://si0.twimg.com/profile_banners/307879426/1350215057\", \n",
      "            \"profile_image_url\": \"http://a0.twimg.com/profile_images/2745445177/4341073d91af63ac95953849649a07c6_normal.jpeg\", \n",
      "            \"profile_image_url_https\": \"https://si0.twimg.com/profile_images/2745445177/4341073d91af63ac95953849649a07c6_normal.jpeg\", \n",
      "            \"profile_link_color\": \"DD68F2\", \n",
      "            \"profile_sidebar_border_color\": \"020E1A\", \n",
      "            \"profile_sidebar_fill_color\": \"DDEEF6\", \n",
      "            \"profile_text_color\": \"D173C4\", \n",
      "            \"profile_use_background_image\": true, \n",
      "            \"protected\": false, \n",
      "            \"screen_name\": \"xBieberHoodie\", \n",
      "            \"statuses_count\": 80112, \n",
      "            \"time_zone\": \"Greenland\", \n",
      "            \"url\": \"http://belieberticket.tumblr.com/donate\", \n",
      "            \"utc_offset\": -10800, \n",
      "            \"verified\": false\n",
      "        }\n",
      "    }, \n",
      "    \"source\": \"web\", \n",
      "    \"text\": \"RT @xBieberHoodie: You had a special place in our fanbase, and now you\\u2019ll have a special place in our hearts ! #HAPPYBIRTHDAYAVALANNA ht ...\", \n",
      "    \"truncated\": false, \n",
      "    \"user\": {\n",
      "        \"contributors_enabled\": false, \n",
      "        \"created_at\": \"Wed Jan 20 18:35:58 +0000 2010\", \n",
      "        \"default_profile\": false, \n",
      "        \"default_profile_image\": false, \n",
      "        \"description\": \"i had a threesome with Austin and Justin and like... so yeaah, be jelly bitches ;)\\u2665 || i love her -- @Biebszy  :')\", \n",
      "        \"favourites_count\": 48, \n",
      "        \"follow_request_sent\": null, \n",
      "        \"followers_count\": 4473, \n",
      "        \"following\": null, \n",
      "        \"friends_count\": 1741, \n",
      "        \"geo_enabled\": true, \n",
      "        \"id\": 106797197, \n",
      "        \"id_str\": \"106797197\", \n",
      "        \"is_translator\": false, \n",
      "        \"lang\": \"en\", \n",
      "        \"listed_count\": 6, \n",
      "        \"location\": \"#TeamBieber \\u2665 #TeamMahone\", \n",
      "        \"name\": \"sh\\u03c3\\u03c3tusd\\u03c3wn \\u2665\", \n",
      "        \"notifications\": null, \n",
      "        \"profile_background_color\": \"FFFFFF\", \n",
      "        \"profile_background_image_url\": \"http://a0.twimg.com/profile_background_images/707138372/3bd6fc902b3c16aebae200146633be35.png\", \n",
      "        \"profile_background_image_url_https\": \"https://si0.twimg.com/profile_background_images/707138372/3bd6fc902b3c16aebae200146633be35.png\", \n",
      "        \"profile_background_tile\": true, \n",
      "        \"profile_banner_url\": \"https://si0.twimg.com/profile_banners/106797197/1352063957\", \n",
      "        \"profile_image_url\": \"http://a0.twimg.com/profile_images/2798106863/86ca4befe88f0e8d5111c08b8f07d197_normal.png\", \n",
      "        \"profile_image_url_https\": \"https://si0.twimg.com/profile_images/2798106863/86ca4befe88f0e8d5111c08b8f07d197_normal.png\", \n",
      "        \"profile_link_color\": \"EB3F64\", \n",
      "        \"profile_sidebar_border_color\": \"FFFFFF\", \n",
      "        \"profile_sidebar_fill_color\": \"050005\", \n",
      "        \"profile_text_color\": \"F208A8\", \n",
      "        \"profile_use_background_image\": true, \n",
      "        \"protected\": false, \n",
      "        \"screen_name\": \"OurBiebahRauhl\", \n",
      "        \"statuses_count\": 25261, \n",
      "        \"time_zone\": \"London\", \n",
      "        \"url\": \"http://www.Iszzeybelieber.tumblr.com\", \n",
      "        \"utc_offset\": 0, \n",
      "        \"verified\": false\n",
      "    }\n",
      "}\n"
     ]
    }
   ],
   "source": [
    "the_very_first_tweet = tweets.take(1)[0]  # `take()` always returns an array, even if there's just one row\n",
    "\n",
    "import json\n",
    "print json.dumps(json.loads(the_very_first_tweet), indent=4, sort_keys=True)"
   ]
  },
  {
   "cell_type": "markdown",
   "metadata": {
    "collapsed": false,
    "hidden": true
   },
   "source": [
    "Let's extract hash tags. In this case there's only one hashtag, but still the data structure treats it as a list."
   ]
  },
  {
   "cell_type": "code",
   "execution_count": 5,
   "metadata": {
    "collapsed": false,
    "hidden": true,
    "scrolled": true
   },
   "outputs": [
    {
     "data": {
      "text/plain": [
       "u'HAPPYBIRTHDAYAVALANNA'"
      ]
     },
     "execution_count": 5,
     "metadata": {},
     "output_type": "execute_result"
    }
   ],
   "source": [
    "json.loads(the_very_first_tweet)['entities']['hashtags'][0]['text']"
   ]
  },
  {
   "cell_type": "markdown",
   "metadata": {
    "hidden": true
   },
   "source": [
    "The extraction process is a bit more complicated that what can written in the $\\lambda$-function format. We, therefore, define a function that deals with cases that do not include hashtags.\n",
    "\n",
    "Conventionally, programmers test assumptions before they execute. I.e. checking first if hashtags exist. However, if we anticipate that these are only a few exceptions using the try-except structure make for cleaner code."
   ]
  },
  {
   "cell_type": "code",
   "execution_count": 7,
   "metadata": {
    "collapsed": false,
    "hidden": true
   },
   "outputs": [],
   "source": [
    "# easier to ask for forgiveness than permission\n",
    "def extract_hash_EAFP(tw):\n",
    "    try:\n",
    "        return json.loads(tw)['entities']['hashtags']\n",
    "    except:\n",
    "        return []\n",
    "\n",
    "# look before you leap\n",
    "def extract_hash_LBYL(tw):\n",
    "    t = json.loads(tw)\n",
    "    if 'entities' in -t.keys():\n",
    "        ent = t['entities']\n",
    "        if 'hashtags' in ent.keys():\n",
    "            return ent['hashtags']\n",
    "    return []\n",
    "\n",
    "hashtags = tweets.flatMap(extract_hash_EAFP).map(lambda x: (x['text'], 1))"
   ]
  },
  {
   "cell_type": "code",
   "execution_count": 10,
   "metadata": {
    "collapsed": false,
    "hidden": true
   },
   "outputs": [
    {
     "data": {
      "text/plain": [
       "[{u'indices': [111, 133], u'text': u'HAPPYBIRTHDAYAVALANNA'},\n",
       " {u'indices': [117, 125], u'text': u'badgers'},\n",
       " {u'indices': [129, 135], u'text': u'WHUFC'},\n",
       " {u'indices': [19, 24], u'text': u'OOMF'},\n",
       " {u'indices': [0, 18], u'text': u'UnFilmQuiMaMarqu\\xe9'},\n",
       " {u'indices': [92, 97], u'text': u'brfc'},\n",
       " {u'indices': [107, 112], u'text': u'lufc'},\n",
       " {u'indices': [122, 127], u'text': u'bcfc'},\n",
       " {u'indices': [131, 140], u'text': u'Panthers'},\n",
       " {u'indices': [98, 103], u'text': u'jobs'}]"
      ]
     },
     "execution_count": 10,
     "metadata": {},
     "output_type": "execute_result"
    }
   ],
   "source": [
    "tweets.flatMap(extract_hash_EAFP).take(10)"
   ]
  },
  {
   "cell_type": "code",
   "execution_count": 11,
   "metadata": {
    "collapsed": false,
    "hidden": true,
    "scrolled": false
   },
   "outputs": [
    {
     "name": "stdout",
     "output_type": "stream",
     "text": [
      "CPU times: user 6.79 ms, sys: 3.38 ms, total: 10.2 ms\n",
      "Wall time: 80.5 ms\n"
     ]
    },
    {
     "data": {
      "text/plain": [
       "[(u'HAPPYBIRTHDAYAVALANNA', 1),\n",
       " (u'badgers', 1),\n",
       " (u'WHUFC', 1),\n",
       " (u'OOMF', 1),\n",
       " (u'UnFilmQuiMaMarqu\\xe9', 1),\n",
       " (u'brfc', 1),\n",
       " (u'lufc', 1),\n",
       " (u'bcfc', 1),\n",
       " (u'Panthers', 1),\n",
       " (u'jobs', 1)]"
      ]
     },
     "execution_count": 11,
     "metadata": {},
     "output_type": "execute_result"
    }
   ],
   "source": [
    "%%time\n",
    "hashtags.take(10)"
   ]
  },
  {
   "cell_type": "markdown",
   "metadata": {
    "hidden": true
   },
   "source": [
    "We added a secend element of 1 to each hashtag so that we can count them in the \"good old-fashion map-reduce\" way."
   ]
  },
  {
   "cell_type": "code",
   "execution_count": 12,
   "metadata": {
    "collapsed": false,
    "hidden": true
   },
   "outputs": [
    {
     "name": "stdout",
     "output_type": "stream",
     "text": [
      "CPU times: user 10.8 ms, sys: 5.92 ms, total: 16.7 ms\n",
      "Wall time: 45.8 ms\n"
     ]
    }
   ],
   "source": [
    "%%time\n",
    "tagcounts = hashtags.reduceByKey(lambda a, b: a+b)    # the first element of the tuple is the key"
   ]
  },
  {
   "cell_type": "code",
   "execution_count": 13,
   "metadata": {
    "collapsed": false,
    "hidden": true
   },
   "outputs": [
    {
     "name": "stdout",
     "output_type": "stream",
     "text": [
      "CPU times: user 13.4 ms, sys: 7.34 ms, total: 20.8 ms\n",
      "Wall time: 1min 33s\n"
     ]
    },
    {
     "data": {
      "text/plain": [
       "[(u'ImFeelingHim', 1),\n",
       " (u'Northindians', 1),\n",
       " (u'feelsorryforhim', 2),\n",
       " (u'Debts', 16),\n",
       " (u'Poetry', 1),\n",
       " (u'woods', 1),\n",
       " (u'hanging', 3),\n",
       " (u'areyoukiddingme', 2),\n",
       " (u'closecalls', 1),\n",
       " (u'EconomicCollapse', 1)]"
      ]
     },
     "execution_count": 13,
     "metadata": {},
     "output_type": "execute_result"
    }
   ],
   "source": [
    "%%time\n",
    "tagcounts.take(10)"
   ]
  },
  {
   "cell_type": "markdown",
   "metadata": {
    "hidden": true
   },
   "source": [
    "Now, let's just see them in order. For that we need to swap elements in the tuples: the count result becomes the key. Then we can sort."
   ]
  },
  {
   "cell_type": "code",
   "execution_count": 15,
   "metadata": {
    "collapsed": false,
    "hidden": true,
    "scrolled": false
   },
   "outputs": [
    {
     "name": "stdout",
     "output_type": "stream",
     "text": [
      "CPU times: user 3.64 ms, sys: 0 ns, total: 3.64 ms\n",
      "Wall time: 2.83 ms\n"
     ]
    }
   ],
   "source": [
    "%%time\n",
    "sorted_tagcounts = tagcounts.map(lambda (a,b): (b, a)).sortByKey(False)"
   ]
  },
  {
   "cell_type": "code",
   "execution_count": 16,
   "metadata": {
    "collapsed": false,
    "hidden": true
   },
   "outputs": [
    {
     "name": "stdout",
     "output_type": "stream",
     "text": [
      "CPU times: user 8.09 ms, sys: 2.63 ms, total: 10.7 ms\n",
      "Wall time: 251 ms\n"
     ]
    },
    {
     "data": {
      "text/plain": [
       "[(8854, u'Iran'),\n",
       " (6283, u'tcot'),\n",
       " (6197, u'ReligiousFreedom'),\n",
       " (6196, u'Nadarkhani'),\n",
       " (4890, u'Israel'),\n",
       " (3647, u'Obama'),\n",
       " (2436, u'ImACeleb'),\n",
       " (2392, u'EMAVoteOneDirection'),\n",
       " (2374, u'Gaza'),\n",
       " (2361, u'Pakistan')]"
      ]
     },
     "execution_count": 16,
     "metadata": {},
     "output_type": "execute_result"
    }
   ],
   "source": [
    "%%time\n",
    "sorted_tagcounts.take(10)"
   ]
  },
  {
   "cell_type": "markdown",
   "metadata": {
    "heading_collapsed": true
   },
   "source": [
    "## Example: Loading CSV Files\n",
    "Data files in CSV format can be treated in similar fashion to JSON files. One can either read them into RDDs and then create a table by splitting the text line into column values per row, or use the SparkSQL package to create Spark DataFrames.\n",
    "\n",
    "First we need to create a SQLContext, the use that new object to read a CSV file."
   ]
  },
  {
   "cell_type": "code",
   "execution_count": 30,
   "metadata": {
    "collapsed": true,
    "hidden": true
   },
   "outputs": [],
   "source": [
    "sqlctx = SQLContext(sc)\n",
    "import pandas as pd\n",
    "import numpy as np"
   ]
  },
  {
   "cell_type": "code",
   "execution_count": 9,
   "metadata": {
    "collapsed": false,
    "hidden": true
   },
   "outputs": [
    {
     "name": "stdout",
     "output_type": "stream",
     "text": [
      "CPU times: user 2.4 ms, sys: 1.04 ms, total: 3.44 ms\n",
      "Wall time: 80.2 ms\n"
     ]
    }
   ],
   "source": [
    "%%time\n",
    "df_donorsummary = sqlctx.read.format('com.databricks.spark.csv')\\\n",
    "    .options(header=True, inferschema=False)\\\n",
    "    .load('/user/mgrace/red_cross/donor_summary912016.csv')"
   ]
  },
  {
   "cell_type": "markdown",
   "metadata": {
    "hidden": true
   },
   "source": [
    "Spark can infer the type of each column to some degree, however, this may take significantly longer and often leads to crashes. Therefore, it's usually better to load the data as string values and then perform the data transformation on each column."
   ]
  },
  {
   "cell_type": "code",
   "execution_count": 5,
   "metadata": {
    "collapsed": false,
    "hidden": true
   },
   "outputs": [
    {
     "name": "stdout",
     "output_type": "stream",
     "text": [
      "root\n",
      " |-- bzd_assessedhomevalue: string (nullable = true)\n",
      " |-- bzd_avg_bank_credit6: string (nullable = true)\n",
      " |-- bzd_avg_inq_all12: string (nullable = true)\n",
      " |-- bzd_avg_maxcred_install6: string (nullable = true)\n",
      " |-- bzd_avg_mos_autopay: string (nullable = true)\n",
      " |-- bzd_avg_numauto12: string (nullable = true)\n",
      " |-- bzd_descretionary_spend: string (nullable = true)\n",
      " |-- bzd_income: string (nullable = true)\n",
      " |-- bzd_lengthofresidence: string (nullable = true)\n",
      " |-- bzd_mortg_equity: string (nullable = true)\n",
      " |-- bzd_numberadultsinhh: string (nullable = true)\n",
      " |-- bzd_numberofchildrenhh: string (nullable = true)\n",
      " |-- bzd_realty_mortgremain: string (nullable = true)\n",
      " |-- bzd_realty_mospay: string (nullable = true)\n",
      " |-- bzd_tt_all_in_name: string (nullable = true)\n",
      " |-- bzd_tt_buy_am: string (nullable = true)\n",
      " |-- bzd_tt_go_flow: string (nullable = true)\n",
      " |-- bzd_tt_look_now: string (nullable = true)\n",
      " |-- bzd_tt_nsueh: string (nullable = true)\n",
      " |-- bzd_tt_penny: string (nullable = true)\n",
      " |-- bzd_tt_road_again: string (nullable = true)\n",
      " |-- bzd_tt_show_money: string (nullable = true)\n",
      " |-- bzd_tt_smell_roses: string (nullable = true)\n",
      " |-- bzd_tt_time_like_pres: string (nullable = true)\n",
      " |-- bzd_tt_whph: string (nullable = true)\n",
      " |-- bzd_bb_affinity_ind: string (nullable = true)\n",
      " |-- bzd_bb_aff_demparty: string (nullable = true)\n",
      " |-- bzd_bb_aff_ind: string (nullable = true)\n",
      " |-- bzd_bb_aff_republican: string (nullable = true)\n",
      " |-- bzd_bb_cause_animal: string (nullable = true)\n",
      " |-- bzd_bb_cause_children: string (nullable = true)\n",
      " |-- bzd_bb_cause_env: string (nullable = true)\n",
      " |-- bzd_bb_cause_health: string (nullable = true)\n",
      " |-- bzd_bb_cause_polcons: string (nullable = true)\n",
      " |-- bzd_bb_cause_pollib: string (nullable = true)\n",
      " |-- bzd_bb_cause_rel: string (nullable = true)\n",
      " |-- bzd_bb_cause_vet: string (nullable = true)\n",
      " |-- bzd_bb_cause_volunt: string (nullable = true)\n",
      " |-- bzd_bb_cont_animal: string (nullable = true)\n",
      " |-- bzd_bb_cont_childwel: string (nullable = true)\n",
      " |-- bzd_bb_cont_conspoli: string (nullable = true)\n",
      " |-- bzd_bb_cont_culture: string (nullable = true)\n",
      " |-- bzd_bb_cont_env: string (nullable = true)\n",
      " |-- bzd_bb_cont_health: string (nullable = true)\n",
      " |-- bzd_bb_cont_humanitarian: string (nullable = true)\n",
      " |-- bzd_bb_cont_liberal: string (nullable = true)\n",
      " |-- bzd_bb_cont_pol: string (nullable = true)\n",
      " |-- bzd_bb_cont_relcont: string (nullable = true)\n",
      " |-- bzd_bb_cont_social: string (nullable = true)\n",
      " |-- bzd_bb_fin_ira: string (nullable = true)\n",
      " |-- bzd_bb_fin_lifeins: string (nullable = true)\n",
      " |-- bzd_bb_fin_monetmkt: string (nullable = true)\n",
      " |-- bzd_bb_fin_mutual: string (nullable = true)\n",
      " |-- bzd_bb_fin_real: string (nullable = true)\n",
      " |-- bzd_bb_fin_stock: string (nullable = true)\n",
      " |-- bzd_bb_inactivemil: string (nullable = true)\n",
      " |-- bzd_bb_activemil: string (nullable = true)\n",
      " |-- bzd_bb_int_affluence: string (nullable = true)\n",
      " |-- bzd_bb_int_politics: string (nullable = true)\n",
      " |-- bzd_bb_int_relig: string (nullable = true)\n",
      " |-- bzd_childrenage0_18: string (nullable = true)\n",
      " |-- bzd_homeowner: string (nullable = true)\n",
      " |-- bzd_householdoccupation1: string (nullable = true)\n",
      " |-- bzd_maritalstatus1: string (nullable = true)\n",
      " |-- bzd_mosaic_hh: string (nullable = true)\n",
      " |-- bzd_occ_model1: string (nullable = true)\n",
      " |-- bzd_person_type1: string (nullable = true)\n",
      " |-- bzd_political: string (nullable = true)\n",
      " |-- bzd_religion: string (nullable = true)\n",
      " |-- bzd_education: string (nullable = true)\n",
      " |-- blood_type: string (nullable = true)\n",
      " |-- no_show_cnt: string (nullable = true)\n",
      " |-- last_no_show_dt: string (nullable = true)\n",
      " |-- fst_no_show_dt: string (nullable = true)\n",
      " |-- arc_id: string (nullable = true)\n",
      " |-- birth_dt: string (nullable = true)\n",
      " |-- fr_fst_dntn_dt: string (nullable = true)\n",
      " |-- fr_last_dntn_dt: string (nullable = true)\n",
      " |-- fr_lftm_dntn_amt: string (nullable = true)\n",
      " |-- fr_lftm_dntn_cnt: string (nullable = true)\n",
      " |-- fr_lftm_max_dntn_amt: string (nullable = true)\n",
      " |-- fr_lftm_min_dntn_amt: string (nullable = true)\n",
      " |-- lftm_crs_complt_cnt: string (nullable = true)\n",
      " |-- fst_crs_cmptn_dt: string (nullable = true)\n",
      " |-- last_crs_cmptn_dt: string (nullable = true)\n",
      " |-- lftm_hrs_vol_cnt: string (nullable = true)\n",
      " |-- last_vol_dt: string (nullable = true)\n",
      " |-- first_vol_dt: string (nullable = true)\n",
      " |-- zip5: string (nullable = true)\n",
      " |-- zip4: string (nullable = true)\n",
      " |-- gender: string (nullable = true)\n",
      " |-- race: string (nullable = true)\n",
      " |-- zip5c: string (nullable = true)\n",
      "\n"
     ]
    }
   ],
   "source": [
    "df_donorsummary.printSchema()"
   ]
  },
  {
   "cell_type": "code",
   "execution_count": 31,
   "metadata": {
    "collapsed": false,
    "hidden": true,
    "scrolled": true
   },
   "outputs": [
    {
     "name": "stdout",
     "output_type": "stream",
     "text": [
      "+---------------------+--------------------+-----------------+------------------------+-------------------+-----------------+-----------------------+----------+---------------------+----------------+--------------------+----------------------+----------------------+-----------------+------------------+-------------+--------------+---------------+------------+------------+-----------------+-----------------+------------------+---------------------+-----------+-------------------+-------------------+--------------+---------------------+-------------------+---------------------+----------------+-------------------+--------------------+-------------------+----------------+----------------+-------------------+------------------+--------------------+--------------------+-------------------+---------------+------------------+------------------------+-------------------+---------------+-------------------+------------------+--------------+------------------+-------------------+-----------------+---------------+----------------+------------------+----------------+--------------------+-------------------+----------------+-------------------+-------------+------------------------+------------------+-------------+--------------+----------------+-------------+------------+-------------+--------------------+-----------+---------------+--------------+--------+----------+--------------+---------------+----------------+----------------+--------------------+--------------------+-------------------+----------------+-----------------+----------------+-----------+------------+-----+----+------+--------------------+-----+\n",
      "|bzd_assessedhomevalue|bzd_avg_bank_credit6|bzd_avg_inq_all12|bzd_avg_maxcred_install6|bzd_avg_mos_autopay|bzd_avg_numauto12|bzd_descretionary_spend|bzd_income|bzd_lengthofresidence|bzd_mortg_equity|bzd_numberadultsinhh|bzd_numberofchildrenhh|bzd_realty_mortgremain|bzd_realty_mospay|bzd_tt_all_in_name|bzd_tt_buy_am|bzd_tt_go_flow|bzd_tt_look_now|bzd_tt_nsueh|bzd_tt_penny|bzd_tt_road_again|bzd_tt_show_money|bzd_tt_smell_roses|bzd_tt_time_like_pres|bzd_tt_whph|bzd_bb_affinity_ind|bzd_bb_aff_demparty|bzd_bb_aff_ind|bzd_bb_aff_republican|bzd_bb_cause_animal|bzd_bb_cause_children|bzd_bb_cause_env|bzd_bb_cause_health|bzd_bb_cause_polcons|bzd_bb_cause_pollib|bzd_bb_cause_rel|bzd_bb_cause_vet|bzd_bb_cause_volunt|bzd_bb_cont_animal|bzd_bb_cont_childwel|bzd_bb_cont_conspoli|bzd_bb_cont_culture|bzd_bb_cont_env|bzd_bb_cont_health|bzd_bb_cont_humanitarian|bzd_bb_cont_liberal|bzd_bb_cont_pol|bzd_bb_cont_relcont|bzd_bb_cont_social|bzd_bb_fin_ira|bzd_bb_fin_lifeins|bzd_bb_fin_monetmkt|bzd_bb_fin_mutual|bzd_bb_fin_real|bzd_bb_fin_stock|bzd_bb_inactivemil|bzd_bb_activemil|bzd_bb_int_affluence|bzd_bb_int_politics|bzd_bb_int_relig|bzd_childrenage0_18|bzd_homeowner|bzd_householdoccupation1|bzd_maritalstatus1|bzd_mosaic_hh|bzd_occ_model1|bzd_person_type1|bzd_political|bzd_religion|bzd_education|          blood_type|no_show_cnt|last_no_show_dt|fst_no_show_dt|  arc_id|  birth_dt|fr_fst_dntn_dt|fr_last_dntn_dt|fr_lftm_dntn_amt|fr_lftm_dntn_cnt|fr_lftm_max_dntn_amt|fr_lftm_min_dntn_amt|lftm_crs_complt_cnt|fst_crs_cmptn_dt|last_crs_cmptn_dt|lftm_hrs_vol_cnt|last_vol_dt|first_vol_dt| zip5|zip4|gender|                race|zip5c|\n",
      "+---------------------+--------------------+-----------------+------------------------+-------------------+-----------------+-----------------------+----------+---------------------+----------------+--------------------+----------------------+----------------------+-----------------+------------------+-------------+--------------+---------------+------------+------------+-----------------+-----------------+------------------+---------------------+-----------+-------------------+-------------------+--------------+---------------------+-------------------+---------------------+----------------+-------------------+--------------------+-------------------+----------------+----------------+-------------------+------------------+--------------------+--------------------+-------------------+---------------+------------------+------------------------+-------------------+---------------+-------------------+------------------+--------------+------------------+-------------------+-----------------+---------------+----------------+------------------+----------------+--------------------+-------------------+----------------+-------------------+-------------+------------------------+------------------+-------------+--------------+----------------+-------------+------------+-------------+--------------------+-----------+---------------+--------------+--------+----------+--------------+---------------+----------------+----------------+--------------------+--------------------+-------------------+----------------+-----------------+----------------+-----------+------------+-----+----+------+--------------------+-----+\n",
      "|                   NA|                  NA|               NA|                      NA|                 NA|               NA|                     NA|        NA|                   NA|              NA|                  NA|                    NA|                    NA|               NA|                NA|           NA|            NA|             NA|          NA|          NA|               NA|               NA|                NA|                   NA|         NA|                 NA|                 NA|            NA|                   NA|                 NA|                   NA|              NA|                 NA|                  NA|                 NA|              NA|              NA|                 NA|                NA|                  NA|                  NA|                 NA|             NA|                NA|                      NA|                 NA|             NA|                 NA|                NA|            NA|                NA|                 NA|               NA|             NA|              NA|                NA|              NA|                  NA|                 NA|              NA|                 NA|           NA|                      NA|                  |             |            NA|                |           NA|            |           NA|Group A  - Rh Pos...|          0|               |              |44701261|1976/02/01|              |               |              NA|              NA|                  NA|                  NA|                 NA|                |                 |              NA|           |            |68516|2357|     F|                    |68516|\n",
      "|                   NA|               11815|             1.18|                17573.67|             558.83|            0.071|                     NA|        NA|                   NA|              NA|                  NA|                    NA|                    NA|               NA|                NA|           NA|            NA|             NA|          NA|          NA|               NA|               NA|                NA|                   NA|         NA|                 NA|                 NA|            NA|                   NA|                 NA|                   NA|              NA|                 NA|                  NA|                 NA|              NA|              NA|                 NA|                NA|                  NA|                  NA|                 NA|             NA|                NA|                      NA|                 NA|             NA|                 NA|                NA|            NA|                NA|                 NA|               NA|             NA|              NA|                NA|              NA|                  NA|                 NA|              NA|                 NA|           NA|                      NA|                  |             |            NA|                |           NA|            |           NA|Unknown          ...|          0|               |              |72246992|1985/08/30|              |               |              NA|              NA|                  NA|                  NA|                 NA|                |                 |              NA|           |            |90040|1224|     F|Hispanic         ...|90040|\n",
      "|                   NA|                  NA|               NA|                      NA|                 NA|               NA|                     NA|        NA|                   NA|              NA|                  NA|                    NA|                    NA|               NA|                NA|           NA|            NA|             NA|          NA|          NA|               NA|               NA|                NA|                   NA|         NA|                 NA|                 NA|            NA|                   NA|                 NA|                   NA|              NA|                 NA|                  NA|                 NA|              NA|              NA|                 NA|                NA|                  NA|                  NA|                 NA|             NA|                NA|                      NA|                 NA|             NA|                 NA|                NA|            NA|                NA|                 NA|               NA|             NA|              NA|                NA|              NA|                  NA|                 NA|              NA|                 NA|           NA|                      NA|                  |             |            NA|                |           NA|            |           NA|Unknown          ...|          0|               |              |67739049|1972/01/19|              |               |              NA|              NA|                  NA|                  NA|                 NA|                |                 |              NA|           |            |34981|3406|     F|Caucasian        ...|34981|\n",
      "|                   NA|            40069.75|             0.62|                 12974.4|             331.29|            0.133|                     NA|        NA|                   NA|              NA|                  NA|                    NA|                    NA|               NA|                NA|           NA|            NA|             NA|          NA|          NA|               NA|               NA|                NA|                   NA|         NA|                 14|                 NA|            NA|                   NA|                 NA|                   NA|              NA|                 NA|                  NA|                 NA|              NA|              NA|                 NA|                NA|                  NA|                  NA|                 NA|             NA|                NA|                      NA|                 NA|             NA|                 NA|                NA|            NA|                NA|                 NA|               NA|             NA|              NA|                NA|              NA|                  NA|                 NA|              NA|                 NA|           NA|                      NA|                  |             |            NA|                |           NA|            |           NA|Group O  - Rh Neg...|          0|               |              |69407721|1982/05/07|              |               |              NA|              NA|                  NA|                  NA|                 NA|                |                 |              NA|           |            |91340|2420|     F|Caucasian        ...|91340|\n",
      "|                   NA|                   0|                0|                       0|                  0|                0|                     NA|        NA|                   NA|              NA|                  NA|                    NA|                    NA|               NA|                NA|           NA|            NA|             NA|          NA|          NA|               NA|               NA|                NA|                   NA|         NA|                 NA|                 NA|            NA|                   NA|                 NA|                   NA|              NA|                 NA|                  NA|                 NA|              NA|              NA|                 NA|                NA|                  NA|                  NA|                 NA|             NA|                NA|                      NA|                 NA|             NA|                 NA|                NA|            NA|                NA|                 NA|               NA|             NA|              NA|                NA|              NA|                  NA|                 NA|              NA|                 NA|           NA|                      NA|                  |             |            NA|                |           NA|            |           NA|Group O  - Rh Pos...|          0|               |              |86268894|1984/11/24|              |               |              NA|              NA|                  NA|                  NA|                 NA|                |                 |              NA|           |            |37917|3546|     F|Caucasian        ...|37917|\n",
      "|                   NA|                7178|             1.38|                 20290.5|                497|                0|                     NA|        NA|                   NA|              NA|                  NA|                    NA|                    NA|               NA|                NA|           NA|            NA|             NA|          NA|          NA|               NA|               NA|                NA|                   NA|         NA|                 NA|                 NA|            NA|                   NA|                 NA|                   NA|              NA|                 NA|                  NA|                 NA|              NA|              NA|                 NA|                NA|                  NA|                  NA|                 NA|             NA|                NA|                      NA|                 NA|             NA|                 NA|                NA|            NA|                NA|                 NA|               NA|             NA|              NA|                NA|              NA|                  NA|                 NA|              NA|                 NA|           NA|                      NA|                  |             |            NA|                |           NA|            |           NA|Group A  - Rh Pos...|          0|               |              |81760951|1973/08/11|              |               |              NA|              NA|                  NA|                  NA|                 NA|                |                 |              NA|           |            |33033|7138|     M|Hispanic         ...|33033|\n",
      "|                   NA|                6000|             0.69|                 19558.5|              758.5|                0|                     NA|        NA|                   NA|              NA|                  NA|                    NA|                    NA|               NA|                NA|           NA|            NA|             NA|          NA|          NA|               NA|               NA|                NA|                   NA|         NA|                 NA|                 NA|            NA|                   NA|                 NA|                   NA|              NA|                 NA|                  NA|                 NA|              NA|              NA|                 NA|                NA|                  NA|                  NA|                 NA|             NA|                NA|                      NA|                 NA|             NA|                 NA|                NA|            NA|                NA|                 NA|               NA|             NA|              NA|                NA|              NA|                  NA|                 NA|              NA|                 NA|           NA|                      NA|                  |             |            NA|                |           NA|            |           NA|Group O  - Rh Pos...|          0|               |              |71076393|1989/03/03|              |               |              NA|              NA|                  NA|                  NA|                 NA|                |                 |              NA|           |            |33407|1801|     M|                    |33407|\n",
      "|                   NA|                  NA|               NA|                      NA|                 NA|               NA|                     NA|        NA|                   NA|              NA|                  NA|                    NA|                    NA|               NA|                NA|           NA|            NA|             NA|          NA|          NA|               NA|               NA|                NA|                   NA|         NA|                 NA|                 NA|            NA|                   NA|                 NA|                   NA|              NA|                 NA|                  NA|                 NA|              NA|              NA|                 NA|                NA|                  NA|                  NA|                 NA|             NA|                NA|                      NA|                 NA|             NA|                 NA|                NA|            NA|                NA|                 NA|               NA|             NA|              NA|                NA|              NA|                  NA|                 NA|              NA|                 NA|           NA|                      NA|                  |             |            NA|                |           NA|            |           NA|Group O  - Rh Pos...|          0|               |              |60391835|1989/02/27|              |               |              NA|              NA|                  NA|                  NA|                 NA|                |                 |              NA|           |            |90012|2165|     M|Asian            ...|90012|\n",
      "|                   NA|                  NA|               NA|                      NA|                 NA|               NA|                     NA|        NA|                   NA|              NA|                  NA|                    NA|                    NA|               NA|                NA|           NA|            NA|             NA|          NA|          NA|               NA|               NA|                NA|                   NA|         NA|                 NA|                 NA|            NA|                   NA|                 NA|                   NA|              NA|                 NA|                  NA|                 NA|              NA|              NA|                 NA|                NA|                  NA|                  NA|                 NA|             NA|                NA|                      NA|                 NA|             NA|                 NA|                NA|            NA|                NA|                 NA|               NA|             NA|              NA|                NA|              NA|                  NA|                 NA|              NA|                 NA|           NA|                      NA|                  |             |            NA|                |           NA|            |           NA|Group A  - Rh Neg...|          0|               |              |62060507|1984/03/19|              |               |              NA|              NA|                  NA|                  NA|                 NA|                |                 |              NA|           |            |39507|2224|     M|Caucasian        ...|39507|\n",
      "|               136729|            34437.14|             0.56|                13407.25|                266|                0|                  11311|         5|                   NA|               0|                   2|                     2|                     6|              604|                 2|            3|             5|              6|           9|           2|                5|                7|                 9|                    4|          6|                 NA|                  0|             0|                    0|                  0|                    0|               0|                  0|                   0|                  0|               0|               0|                  0|                 0|                   0|                   0|                  0|              0|                 0|                       0|                  0|              0|                  0|                 0|             0|                 0|                  0|                0|              0|               0|                 0|               0|                   0|                  0|               0|                  1|            1|                       5|                 M|          M44|             2|               P|           10|           P|            1|Group A  - Rh Pos...|          0|               |              |78921680|1990/02/15|              |               |              NA|              NA|                  NA|                  NA|                 NA|                |                 |              NA|           |            |49203|5975|     F|Caucasian        ...|49203|\n",
      "|               153068|            22478.56|             0.62|                   15388|                314|            0.267|                     NA|         6|                   NA|               0|                   2|                    NA|                    NA|                0|                NA|           NA|            NA|             NA|          NA|          NA|               NA|               NA|                NA|                   NA|         NA|                 NA|                 NA|            NA|                   NA|                 NA|                   NA|              NA|                 NA|                  NA|                 NA|              NA|              NA|                 NA|                NA|                  NA|                  NA|                 NA|             NA|                NA|                      NA|                 NA|             NA|                 NA|                NA|            NA|                NA|                 NA|               NA|             NA|              NA|                NA|              NA|                  NA|                 NA|              NA|                 NA|           NA|                       0|                 U|             |             2|               O|           NA|           P|            2|Unknown          ...|          4|     2013/04/30|    2012/06/28|85098295|1993/02/19|              |               |              NA|              NA|                  NA|                  NA|                 NA|                |                 |              NA|           |            |62269|1027|     F|African American ...|62269|\n",
      "|               148685|               15300|             0.33|                       0|                  0|                0|                  18428|         7|                    3|               0|                   2|                     0|                     8|              715|                 2|            7|             4|              2|           8|           3|                3|                5|                 7|                    7|          9|                 NA|                  0|             0|                    0|                  0|                    0|               0|                  0|                   0|                  0|               0|               0|                  0|                 0|                   0|                   0|                  0|              0|                 0|                       0|                  0|              0|                  0|                 0|             0|                 0|                  0|                0|              0|               0|                 0|               0|                   0|                  0|               0|                  1|            1|                       0|                 M|          F22|            NA|               P|           10|           P|            4|Group AB - Rh Neg...|          0|               |              |69506785|1982/06/27|              |               |              NA|              NA|                  NA|                  NA|                 NA|                |                 |              NA|           |            |39705|8807|     M|Caucasian        ...|39705|\n",
      "|                   NA|                  NA|               NA|                      NA|                 NA|               NA|                     NA|        NA|                   NA|              NA|                  NA|                    NA|                    NA|               NA|                NA|           NA|            NA|             NA|          NA|          NA|               NA|               NA|                NA|                   NA|         NA|                 NA|                 NA|            NA|                   NA|                 NA|                   NA|              NA|                 NA|                  NA|                 NA|              NA|              NA|                 NA|                NA|                  NA|                  NA|                 NA|             NA|                NA|                      NA|                 NA|             NA|                 NA|                NA|            NA|                NA|                 NA|               NA|             NA|              NA|                NA|              NA|                  NA|                 NA|              NA|                 NA|           NA|                      NA|                  |             |            NA|                |           NA|            |           NA|Unknown          ...|          1|     2013/04/24|    2013/04/24|81860015|1991/04/15|              |               |              NA|              NA|                  NA|                  NA|                 NA|                |                 |              NA|           |            | 6013|1526|     M|Caucasian        ...|06013|\n",
      "|                   NA|                  NA|               NA|                      NA|                 NA|               NA|                     NA|        NA|                   NA|              NA|                  NA|                    NA|                    NA|               NA|                NA|           NA|            NA|             NA|          NA|          NA|               NA|               NA|                NA|                   NA|         NA|                 NA|                 NA|            NA|                   NA|                 NA|                   NA|              NA|                 NA|                  NA|                 NA|              NA|              NA|                 NA|                NA|                  NA|                  NA|                 NA|             NA|                NA|                      NA|                 NA|             NA|                 NA|                NA|            NA|                NA|                 NA|               NA|             NA|              NA|                NA|              NA|                  NA|                 NA|              NA|                 NA|           NA|                      NA|                  |             |            NA|                |           NA|            |           NA|Unknown          ...|          0|               |              |43629726|1978/07/01|              |               |              NA|              NA|                  NA|                  NA|                 NA|                |                 |              NA|           |            |59412|  19|     F|                    |59412|\n",
      "|                   NA|                  NA|               NA|                      NA|                 NA|               NA|                     NA|        NA|                   NA|              NA|                  NA|                    NA|                    NA|               NA|                NA|           NA|            NA|             NA|          NA|          NA|               NA|               NA|                NA|                   NA|         NA|                 NA|                 NA|            NA|                   NA|                 NA|                   NA|              NA|                 NA|                  NA|                 NA|              NA|              NA|                 NA|                NA|                  NA|                  NA|                 NA|             NA|                NA|                      NA|                 NA|             NA|                 NA|                NA|            NA|                NA|                 NA|               NA|             NA|              NA|                NA|              NA|                  NA|                 NA|              NA|                 NA|           NA|                      NA|                  |             |            NA|                |           NA|            |           NA|No Type Determine...|          0|               |              |71175457|1993/09/14|              |               |              NA|              NA|                  NA|                  NA|                 NA|                |                 |              NA|           |            |31419|1832|     F|Caucasian        ...|31419|\n",
      "|                   NA|                  NA|               NA|                      NA|                 NA|               NA|                     NA|        NA|                   NA|              NA|                  NA|                    NA|                    NA|               NA|                NA|           NA|            NA|             NA|          NA|          NA|               NA|               NA|                NA|                   NA|         NA|                 NA|                 NA|            NA|                   NA|                 NA|                   NA|              NA|                 NA|                  NA|                 NA|              NA|              NA|                 NA|                NA|                  NA|                  NA|                 NA|             NA|                NA|                      NA|                 NA|             NA|                 NA|                NA|            NA|                NA|                 NA|               NA|             NA|              NA|                NA|              NA|                  NA|                 NA|              NA|                 NA|           NA|                      NA|                  |             |            NA|                |           NA|            |           NA|Group A  - Rh Pos...|          0|               |              |60490899|1985/02/18|              |               |              NA|              NA|                  NA|                  NA|                 NA|                |                 |              NA|           |            |48125|3330|     F|Caucasian        ...|48125|\n",
      "|               376660|            30685.14|             1.46|                14989.33|             506.67|            0.167|                  20909|         1|                    3|               0|                   2|                     0|                    12|             1635|                 2|            9|             6|              2|           8|           4|                2|                5|                 5|                    1|          8|                 NA|                  0|             0|                    0|                  0|                    0|               0|                  0|                   0|                  0|               0|               0|                  0|                 0|                   0|                   0|                  0|              0|                 0|                       0|                  0|              0|                  0|                 0|             0|                 0|                  0|                0|              0|               0|                 0|               0|                   0|                  0|               0|                  1|            1|                       0|                 M|          H26|            NA|               P|            7|           C|            2|Unknown          ...|          1|     2012/02/11|    2012/02/11|77352072|1989/10/14|              |               |              NA|              NA|                  NA|                  NA|                 NA|                |                 |              NA|           |            |92805|5629|     F|Caucasian        ...|92805|\n",
      "|                92263|                1000|             0.38|                  8351.5|                220|              0.5|                   7595|         3|                   NA|               0|                   1|                    NA|                    NA|                0|                 1|            7|             1|              9|           2|           5|                5|                1|                 8|                    5|          9|                 NA|                 NA|            NA|                   NA|                 NA|                   NA|              NA|                 NA|                  NA|                 NA|              NA|              NA|                 NA|                NA|                  NA|                  NA|                 NA|             NA|                NA|                      NA|                 NA|             NA|                 NA|                NA|            NA|                NA|                 NA|               NA|             NA|              NA|                NA|              NA|                  NA|                 NA|              NA|                 NA|           NA|                       0|                 S|             |             2|               P|            2|           P|            1|Unknown          ...|          0|               |              |66667514|1975/09/26|              |               |              NA|              NA|                  NA|                  NA|                 NA|                |                 |              NA|           |            |83605|5454|     F|Caucasian        ...|83605|\n",
      "|                   NA|                2310|             0.88|                  7480.5|                277|             0.25|                     NA|        NA|                   NA|              NA|                  NA|                    NA|                    NA|               NA|                NA|           NA|            NA|             NA|          NA|          NA|               NA|               NA|                NA|                   NA|         NA|                 NA|                 NA|            NA|                   NA|                 NA|                   NA|              NA|                 NA|                  NA|                 NA|              NA|              NA|                 NA|                NA|                  NA|                  NA|                 NA|             NA|                NA|                      NA|                 NA|             NA|                 NA|                NA|            NA|                NA|                 NA|               NA|             NA|              NA|                NA|              NA|                  NA|                 NA|              NA|                 NA|           NA|                      NA|                  |             |            NA|                |           NA|            |           NA|Group O  - Rh Neg...|          0|               |              |72844129|1982/04/01|              |               |              NA|              NA|                  NA|                  NA|                 NA|                |                 |              NA|           |            |15618|1013|     F|Caucasian        ...|15618|\n",
      "|                   NA|                  NA|               NA|                      NA|                 NA|               NA|                     NA|        NA|                   NA|              NA|                  NA|                    NA|                    NA|               NA|                NA|           NA|            NA|             NA|          NA|          NA|               NA|               NA|                NA|                   NA|         NA|                 NA|                 NA|            NA|                   NA|                 NA|                   NA|              NA|                 NA|                  NA|                 NA|              NA|              NA|                 NA|                NA|                  NA|                  NA|                 NA|             NA|                NA|                      NA|                 NA|             NA|                 NA|                NA|            NA|                NA|                 NA|               NA|             NA|              NA|                NA|              NA|                  NA|                 NA|              NA|                 NA|           NA|                      NA|                  |             |            NA|                |           NA|            |           NA|Group O  - Rh Pos...|          0|               |              |62159571|1975/08/18|              |               |              NA|              NA|                  NA|                  NA|                 NA|                |                 |              NA|           |            |80457| 445|     M|                    |80457|\n",
      "+---------------------+--------------------+-----------------+------------------------+-------------------+-----------------+-----------------------+----------+---------------------+----------------+--------------------+----------------------+----------------------+-----------------+------------------+-------------+--------------+---------------+------------+------------+-----------------+-----------------+------------------+---------------------+-----------+-------------------+-------------------+--------------+---------------------+-------------------+---------------------+----------------+-------------------+--------------------+-------------------+----------------+----------------+-------------------+------------------+--------------------+--------------------+-------------------+---------------+------------------+------------------------+-------------------+---------------+-------------------+------------------+--------------+------------------+-------------------+-----------------+---------------+----------------+------------------+----------------+--------------------+-------------------+----------------+-------------------+-------------+------------------------+------------------+-------------+--------------+----------------+-------------+------------+-------------+--------------------+-----------+---------------+--------------+--------+----------+--------------+---------------+----------------+----------------+--------------------+--------------------+-------------------+----------------+-----------------+----------------+-----------+------------+-----+----+------+--------------------+-----+\n",
      "only showing top 20 rows\n",
      "\n"
     ]
    }
   ],
   "source": [
    "df_donorsummary.show(20)"
   ]
  },
  {
   "cell_type": "code",
   "execution_count": 47,
   "metadata": {
    "collapsed": true,
    "hidden": true
   },
   "outputs": [],
   "source": []
  },
  {
   "cell_type": "code",
   "execution_count": 55,
   "metadata": {
    "collapsed": false,
    "hidden": true
   },
   "outputs": [
    {
     "data": {
      "text/plain": [
       "<_sre.SRE_Match at 0x3a716b0>"
      ]
     },
     "execution_count": 55,
     "metadata": {},
     "output_type": "execute_result"
    }
   ],
   "source": [
    "re.match(r'^\\s*NA\\s*$', '  NA  ')"
   ]
  },
  {
   "cell_type": "markdown",
   "metadata": {
    "collapsed": true,
    "hidden": true
   },
   "source": [
    "The following code should replace `'NA'` strings with `None` values to properly deal with NAs."
   ]
  },
  {
   "cell_type": "code",
   "execution_count": 61,
   "metadata": {
    "collapsed": false,
    "hidden": true
   },
   "outputs": [
    {
     "ename": "TypeError",
     "evalue": "'Column' object is not callable",
     "output_type": "error",
     "traceback": [
      "\u001b[0;31m---------------------------------------------------------------------------\u001b[0m",
      "\u001b[0;31mTypeError\u001b[0m                                 Traceback (most recent call last)",
      "\u001b[0;32m<ipython-input-61-2952d768896a>\u001b[0m in \u001b[0;36m<module>\u001b[0;34m()\u001b[0m\n\u001b[1;32m      5\u001b[0m \u001b[0;31m##newdf = sqlctx.createDataFrame()\u001b[0m\u001b[0;34m\u001b[0m\u001b[0;34m\u001b[0m\u001b[0m\n\u001b[1;32m      6\u001b[0m \u001b[0;32mfor\u001b[0m \u001b[0mc\u001b[0m \u001b[0;32min\u001b[0m \u001b[0mdf_donorsummary\u001b[0m\u001b[0;34m.\u001b[0m\u001b[0mcolumns\u001b[0m\u001b[0;34m:\u001b[0m\u001b[0;34m\u001b[0m\u001b[0m\n\u001b[0;32m----> 7\u001b[0;31m     \u001b[0mdfna\u001b[0m \u001b[0;34m=\u001b[0m \u001b[0mdf_donorsummary\u001b[0m\u001b[0;34m.\u001b[0m\u001b[0mwithColumn\u001b[0m\u001b[0;34m(\u001b[0m\u001b[0mc\u001b[0m\u001b[0;34m,\u001b[0m \u001b[0mNA_as_null\u001b[0m\u001b[0;34m(\u001b[0m\u001b[0mc\u001b[0m\u001b[0;34m)\u001b[0m\u001b[0;34m)\u001b[0m\u001b[0;34m\u001b[0m\u001b[0m\n\u001b[0m\u001b[1;32m      8\u001b[0m \u001b[0;34m\u001b[0m\u001b[0m\n\u001b[1;32m      9\u001b[0m \u001b[0mdfna\u001b[0m\u001b[0;34m.\u001b[0m\u001b[0mprintSchema\u001b[0m\u001b[0;34m(\u001b[0m\u001b[0;34m)\u001b[0m\u001b[0;34m\u001b[0m\u001b[0m\n",
      "\u001b[0;32m<ipython-input-61-2952d768896a>\u001b[0m in \u001b[0;36mNA_as_null\u001b[0;34m(x)\u001b[0m\n\u001b[1;32m      1\u001b[0m \u001b[0;32mfrom\u001b[0m \u001b[0mpyspark\u001b[0m\u001b[0;34m.\u001b[0m\u001b[0msql\u001b[0m\u001b[0;34m.\u001b[0m\u001b[0mfunctions\u001b[0m \u001b[0;32mimport\u001b[0m \u001b[0mcol\u001b[0m\u001b[0;34m,\u001b[0m \u001b[0mwhen\u001b[0m\u001b[0;34m\u001b[0m\u001b[0m\n\u001b[1;32m      2\u001b[0m \u001b[0;32mdef\u001b[0m \u001b[0mNA_as_null\u001b[0m\u001b[0;34m(\u001b[0m\u001b[0mx\u001b[0m\u001b[0;34m)\u001b[0m\u001b[0;34m:\u001b[0m\u001b[0;34m\u001b[0m\u001b[0m\n\u001b[0;32m----> 3\u001b[0;31m     \u001b[0;32mreturn\u001b[0m \u001b[0mwhen\u001b[0m\u001b[0;34m(\u001b[0m\u001b[0mcol\u001b[0m\u001b[0;34m(\u001b[0m\u001b[0mx\u001b[0m\u001b[0;34m)\u001b[0m\u001b[0;34m.\u001b[0m\u001b[0mmap\u001b[0m\u001b[0;34m(\u001b[0m\u001b[0;32mlambda\u001b[0m \u001b[0mv\u001b[0m\u001b[0;34m:\u001b[0m \u001b[0mre\u001b[0m\u001b[0;34m.\u001b[0m\u001b[0mmatch\u001b[0m\u001b[0;34m(\u001b[0m\u001b[0;34mr'^\\s*NA\\s*$'\u001b[0m\u001b[0;34m,\u001b[0m \u001b[0mv\u001b[0m\u001b[0;34m)\u001b[0m \u001b[0;34m==\u001b[0m \u001b[0mNone\u001b[0m\u001b[0;34m)\u001b[0m\u001b[0;34m,\u001b[0m \u001b[0mcol\u001b[0m\u001b[0;34m(\u001b[0m\u001b[0mx\u001b[0m\u001b[0;34m)\u001b[0m\u001b[0;34m)\u001b[0m\u001b[0;34m.\u001b[0m\u001b[0motherwise\u001b[0m\u001b[0;34m(\u001b[0m\u001b[0mNone\u001b[0m\u001b[0;34m)\u001b[0m\u001b[0;34m\u001b[0m\u001b[0m\n\u001b[0m\u001b[1;32m      4\u001b[0m \u001b[0;34m\u001b[0m\u001b[0m\n\u001b[1;32m      5\u001b[0m \u001b[0;31m##newdf = sqlctx.createDataFrame()\u001b[0m\u001b[0;34m\u001b[0m\u001b[0;34m\u001b[0m\u001b[0m\n",
      "\u001b[0;31mTypeError\u001b[0m: 'Column' object is not callable"
     ]
    }
   ],
   "source": [
    "from pyspark.sql.functions import col, when\n",
    "import re\n",
    "\n",
    "def NA_as_null(x):\n",
    "    return when(col(x).map(lambda v: re.match(r'^\\s*NA\\s*$', v) == None), col(x)).otherwise(None)\n",
    "\n",
    "##newdf = sqlctx.createDataFrame()\n",
    "for c in df_donorsummary.columns:\n",
    "    dfna = df_donorsummary.withColumn(c, NA_as_null(c))\n",
    "\n",
    "dfna.printSchema()"
   ]
  },
  {
   "cell_type": "code",
   "execution_count": 46,
   "metadata": {
    "collapsed": false,
    "hidden": true
   },
   "outputs": [
    {
     "name": "stdout",
     "output_type": "stream",
     "text": [
      "+---------------------+--------------------+-----------------+------------------------+-------------------+-----------------+-----------------------+----------+---------------------+----------------+--------------------+----------------------+----------------------+-----------------+------------------+-------------+--------------+---------------+------------+------------+-----------------+-----------------+------------------+---------------------+-----------+-------------------+-------------------+--------------+---------------------+-------------------+---------------------+----------------+-------------------+--------------------+-------------------+----------------+----------------+-------------------+------------------+--------------------+--------------------+-------------------+---------------+------------------+------------------------+-------------------+---------------+-------------------+------------------+--------------+------------------+-------------------+-----------------+---------------+----------------+------------------+----------------+--------------------+-------------------+----------------+-------------------+-------------+------------------------+------------------+-------------+--------------+----------------+-------------+------------+-------------+--------------------+-----------+---------------+--------------+--------+----------+--------------+---------------+----------------+----------------+--------------------+--------------------+-------------------+----------------+-----------------+----------------+-----------+------------+-----+----+------+--------------------+-----+\n",
      "|bzd_assessedhomevalue|bzd_avg_bank_credit6|bzd_avg_inq_all12|bzd_avg_maxcred_install6|bzd_avg_mos_autopay|bzd_avg_numauto12|bzd_descretionary_spend|bzd_income|bzd_lengthofresidence|bzd_mortg_equity|bzd_numberadultsinhh|bzd_numberofchildrenhh|bzd_realty_mortgremain|bzd_realty_mospay|bzd_tt_all_in_name|bzd_tt_buy_am|bzd_tt_go_flow|bzd_tt_look_now|bzd_tt_nsueh|bzd_tt_penny|bzd_tt_road_again|bzd_tt_show_money|bzd_tt_smell_roses|bzd_tt_time_like_pres|bzd_tt_whph|bzd_bb_affinity_ind|bzd_bb_aff_demparty|bzd_bb_aff_ind|bzd_bb_aff_republican|bzd_bb_cause_animal|bzd_bb_cause_children|bzd_bb_cause_env|bzd_bb_cause_health|bzd_bb_cause_polcons|bzd_bb_cause_pollib|bzd_bb_cause_rel|bzd_bb_cause_vet|bzd_bb_cause_volunt|bzd_bb_cont_animal|bzd_bb_cont_childwel|bzd_bb_cont_conspoli|bzd_bb_cont_culture|bzd_bb_cont_env|bzd_bb_cont_health|bzd_bb_cont_humanitarian|bzd_bb_cont_liberal|bzd_bb_cont_pol|bzd_bb_cont_relcont|bzd_bb_cont_social|bzd_bb_fin_ira|bzd_bb_fin_lifeins|bzd_bb_fin_monetmkt|bzd_bb_fin_mutual|bzd_bb_fin_real|bzd_bb_fin_stock|bzd_bb_inactivemil|bzd_bb_activemil|bzd_bb_int_affluence|bzd_bb_int_politics|bzd_bb_int_relig|bzd_childrenage0_18|bzd_homeowner|bzd_householdoccupation1|bzd_maritalstatus1|bzd_mosaic_hh|bzd_occ_model1|bzd_person_type1|bzd_political|bzd_religion|bzd_education|          blood_type|no_show_cnt|last_no_show_dt|fst_no_show_dt|  arc_id|  birth_dt|fr_fst_dntn_dt|fr_last_dntn_dt|fr_lftm_dntn_amt|fr_lftm_dntn_cnt|fr_lftm_max_dntn_amt|fr_lftm_min_dntn_amt|lftm_crs_complt_cnt|fst_crs_cmptn_dt|last_crs_cmptn_dt|lftm_hrs_vol_cnt|last_vol_dt|first_vol_dt| zip5|zip4|gender|                race|zip5c|\n",
      "+---------------------+--------------------+-----------------+------------------------+-------------------+-----------------+-----------------------+----------+---------------------+----------------+--------------------+----------------------+----------------------+-----------------+------------------+-------------+--------------+---------------+------------+------------+-----------------+-----------------+------------------+---------------------+-----------+-------------------+-------------------+--------------+---------------------+-------------------+---------------------+----------------+-------------------+--------------------+-------------------+----------------+----------------+-------------------+------------------+--------------------+--------------------+-------------------+---------------+------------------+------------------------+-------------------+---------------+-------------------+------------------+--------------+------------------+-------------------+-----------------+---------------+----------------+------------------+----------------+--------------------+-------------------+----------------+-------------------+-------------+------------------------+------------------+-------------+--------------+----------------+-------------+------------+-------------+--------------------+-----------+---------------+--------------+--------+----------+--------------+---------------+----------------+----------------+--------------------+--------------------+-------------------+----------------+-----------------+----------------+-----------+------------+-----+----+------+--------------------+-----+\n",
      "|                   NA|                  NA|               NA|                      NA|                 NA|               NA|                     NA|        NA|                   NA|              NA|                  NA|                    NA|                    NA|               NA|                NA|           NA|            NA|             NA|          NA|          NA|               NA|               NA|                NA|                   NA|         NA|                 NA|                 NA|            NA|                   NA|                 NA|                   NA|              NA|                 NA|                  NA|                 NA|              NA|              NA|                 NA|                NA|                  NA|                  NA|                 NA|             NA|                NA|                      NA|                 NA|             NA|                 NA|                NA|            NA|                NA|                 NA|               NA|             NA|              NA|                NA|              NA|                  NA|                 NA|              NA|                 NA|           NA|                      NA|                  |             |            NA|                |           NA|            |           NA|Group A  - Rh Pos...|          0|               |              |44701261|1976/02/01|              |               |              NA|              NA|                  NA|                  NA|                 NA|                |                 |              NA|           |            |68516|2357|     F|                    |68516|\n",
      "|                   NA|               11815|             1.18|                17573.67|             558.83|            0.071|                     NA|        NA|                   NA|              NA|                  NA|                    NA|                    NA|               NA|                NA|           NA|            NA|             NA|          NA|          NA|               NA|               NA|                NA|                   NA|         NA|                 NA|                 NA|            NA|                   NA|                 NA|                   NA|              NA|                 NA|                  NA|                 NA|              NA|              NA|                 NA|                NA|                  NA|                  NA|                 NA|             NA|                NA|                      NA|                 NA|             NA|                 NA|                NA|            NA|                NA|                 NA|               NA|             NA|              NA|                NA|              NA|                  NA|                 NA|              NA|                 NA|           NA|                      NA|                  |             |            NA|                |           NA|            |           NA|Unknown          ...|          0|               |              |72246992|1985/08/30|              |               |              NA|              NA|                  NA|                  NA|                 NA|                |                 |              NA|           |            |90040|1224|     F|Hispanic         ...|90040|\n",
      "|                   NA|                  NA|               NA|                      NA|                 NA|               NA|                     NA|        NA|                   NA|              NA|                  NA|                    NA|                    NA|               NA|                NA|           NA|            NA|             NA|          NA|          NA|               NA|               NA|                NA|                   NA|         NA|                 NA|                 NA|            NA|                   NA|                 NA|                   NA|              NA|                 NA|                  NA|                 NA|              NA|              NA|                 NA|                NA|                  NA|                  NA|                 NA|             NA|                NA|                      NA|                 NA|             NA|                 NA|                NA|            NA|                NA|                 NA|               NA|             NA|              NA|                NA|              NA|                  NA|                 NA|              NA|                 NA|           NA|                      NA|                  |             |            NA|                |           NA|            |           NA|Unknown          ...|          0|               |              |67739049|1972/01/19|              |               |              NA|              NA|                  NA|                  NA|                 NA|                |                 |              NA|           |            |34981|3406|     F|Caucasian        ...|34981|\n",
      "|                   NA|            40069.75|             0.62|                 12974.4|             331.29|            0.133|                     NA|        NA|                   NA|              NA|                  NA|                    NA|                    NA|               NA|                NA|           NA|            NA|             NA|          NA|          NA|               NA|               NA|                NA|                   NA|         NA|                 14|                 NA|            NA|                   NA|                 NA|                   NA|              NA|                 NA|                  NA|                 NA|              NA|              NA|                 NA|                NA|                  NA|                  NA|                 NA|             NA|                NA|                      NA|                 NA|             NA|                 NA|                NA|            NA|                NA|                 NA|               NA|             NA|              NA|                NA|              NA|                  NA|                 NA|              NA|                 NA|           NA|                      NA|                  |             |            NA|                |           NA|            |           NA|Group O  - Rh Neg...|          0|               |              |69407721|1982/05/07|              |               |              NA|              NA|                  NA|                  NA|                 NA|                |                 |              NA|           |            |91340|2420|     F|Caucasian        ...|91340|\n",
      "|                   NA|                   0|                0|                       0|                  0|                0|                     NA|        NA|                   NA|              NA|                  NA|                    NA|                    NA|               NA|                NA|           NA|            NA|             NA|          NA|          NA|               NA|               NA|                NA|                   NA|         NA|                 NA|                 NA|            NA|                   NA|                 NA|                   NA|              NA|                 NA|                  NA|                 NA|              NA|              NA|                 NA|                NA|                  NA|                  NA|                 NA|             NA|                NA|                      NA|                 NA|             NA|                 NA|                NA|            NA|                NA|                 NA|               NA|             NA|              NA|                NA|              NA|                  NA|                 NA|              NA|                 NA|           NA|                      NA|                  |             |            NA|                |           NA|            |           NA|Group O  - Rh Pos...|          0|               |              |86268894|1984/11/24|              |               |              NA|              NA|                  NA|                  NA|                 NA|                |                 |              NA|           |            |37917|3546|     F|Caucasian        ...|37917|\n",
      "|                   NA|                7178|             1.38|                 20290.5|                497|                0|                     NA|        NA|                   NA|              NA|                  NA|                    NA|                    NA|               NA|                NA|           NA|            NA|             NA|          NA|          NA|               NA|               NA|                NA|                   NA|         NA|                 NA|                 NA|            NA|                   NA|                 NA|                   NA|              NA|                 NA|                  NA|                 NA|              NA|              NA|                 NA|                NA|                  NA|                  NA|                 NA|             NA|                NA|                      NA|                 NA|             NA|                 NA|                NA|            NA|                NA|                 NA|               NA|             NA|              NA|                NA|              NA|                  NA|                 NA|              NA|                 NA|           NA|                      NA|                  |             |            NA|                |           NA|            |           NA|Group A  - Rh Pos...|          0|               |              |81760951|1973/08/11|              |               |              NA|              NA|                  NA|                  NA|                 NA|                |                 |              NA|           |            |33033|7138|     M|Hispanic         ...|33033|\n",
      "|                   NA|                6000|             0.69|                 19558.5|              758.5|                0|                     NA|        NA|                   NA|              NA|                  NA|                    NA|                    NA|               NA|                NA|           NA|            NA|             NA|          NA|          NA|               NA|               NA|                NA|                   NA|         NA|                 NA|                 NA|            NA|                   NA|                 NA|                   NA|              NA|                 NA|                  NA|                 NA|              NA|              NA|                 NA|                NA|                  NA|                  NA|                 NA|             NA|                NA|                      NA|                 NA|             NA|                 NA|                NA|            NA|                NA|                 NA|               NA|             NA|              NA|                NA|              NA|                  NA|                 NA|              NA|                 NA|           NA|                      NA|                  |             |            NA|                |           NA|            |           NA|Group O  - Rh Pos...|          0|               |              |71076393|1989/03/03|              |               |              NA|              NA|                  NA|                  NA|                 NA|                |                 |              NA|           |            |33407|1801|     M|                    |33407|\n",
      "|                   NA|                  NA|               NA|                      NA|                 NA|               NA|                     NA|        NA|                   NA|              NA|                  NA|                    NA|                    NA|               NA|                NA|           NA|            NA|             NA|          NA|          NA|               NA|               NA|                NA|                   NA|         NA|                 NA|                 NA|            NA|                   NA|                 NA|                   NA|              NA|                 NA|                  NA|                 NA|              NA|              NA|                 NA|                NA|                  NA|                  NA|                 NA|             NA|                NA|                      NA|                 NA|             NA|                 NA|                NA|            NA|                NA|                 NA|               NA|             NA|              NA|                NA|              NA|                  NA|                 NA|              NA|                 NA|           NA|                      NA|                  |             |            NA|                |           NA|            |           NA|Group O  - Rh Pos...|          0|               |              |60391835|1989/02/27|              |               |              NA|              NA|                  NA|                  NA|                 NA|                |                 |              NA|           |            |90012|2165|     M|Asian            ...|90012|\n",
      "|                   NA|                  NA|               NA|                      NA|                 NA|               NA|                     NA|        NA|                   NA|              NA|                  NA|                    NA|                    NA|               NA|                NA|           NA|            NA|             NA|          NA|          NA|               NA|               NA|                NA|                   NA|         NA|                 NA|                 NA|            NA|                   NA|                 NA|                   NA|              NA|                 NA|                  NA|                 NA|              NA|              NA|                 NA|                NA|                  NA|                  NA|                 NA|             NA|                NA|                      NA|                 NA|             NA|                 NA|                NA|            NA|                NA|                 NA|               NA|             NA|              NA|                NA|              NA|                  NA|                 NA|              NA|                 NA|           NA|                      NA|                  |             |            NA|                |           NA|            |           NA|Group A  - Rh Neg...|          0|               |              |62060507|1984/03/19|              |               |              NA|              NA|                  NA|                  NA|                 NA|                |                 |              NA|           |            |39507|2224|     M|Caucasian        ...|39507|\n",
      "|               136729|            34437.14|             0.56|                13407.25|                266|                0|                  11311|         5|                   NA|               0|                   2|                     2|                     6|              604|                 2|            3|             5|              6|           9|           2|                5|                7|                 9|                    4|          6|                 NA|                  0|             0|                    0|                  0|                    0|               0|                  0|                   0|                  0|               0|               0|                  0|                 0|                   0|                   0|                  0|              0|                 0|                       0|                  0|              0|                  0|                 0|             0|                 0|                  0|                0|              0|               0|                 0|               0|                   0|                  0|               0|                  1|            1|                       5|                 M|          M44|             2|               P|           10|           P|            1|Group A  - Rh Pos...|          0|               |              |78921680|1990/02/15|              |               |              NA|              NA|                  NA|                  NA|                 NA|                |                 |              NA|           |            |49203|5975|     F|Caucasian        ...|49203|\n",
      "+---------------------+--------------------+-----------------+------------------------+-------------------+-----------------+-----------------------+----------+---------------------+----------------+--------------------+----------------------+----------------------+-----------------+------------------+-------------+--------------+---------------+------------+------------+-----------------+-----------------+------------------+---------------------+-----------+-------------------+-------------------+--------------+---------------------+-------------------+---------------------+----------------+-------------------+--------------------+-------------------+----------------+----------------+-------------------+------------------+--------------------+--------------------+-------------------+---------------+------------------+------------------------+-------------------+---------------+-------------------+------------------+--------------+------------------+-------------------+-----------------+---------------+----------------+------------------+----------------+--------------------+-------------------+----------------+-------------------+-------------+------------------------+------------------+-------------+--------------+----------------+-------------+------------+-------------+--------------------+-----------+---------------+--------------+--------+----------+--------------+---------------+----------------+----------------+--------------------+--------------------+-------------------+----------------+-----------------+----------------+-----------+------------+-----+----+------+--------------------+-----+\n",
      "only showing top 10 rows\n",
      "\n"
     ]
    }
   ],
   "source": [
    "dfna.show(10)"
   ]
  },
  {
   "cell_type": "markdown",
   "metadata": {
    "collapsed": true
   },
   "source": [
    "## Example: Hive Database\n",
    "An example to create a Hive DataFrame and save it into Hive.\n",
    "\n",
    "### Best Practice:\n",
    "Preprocess and clean your raw data files (in JSON or CSV) and save them for further use into a Hive database."
   ]
  },
  {
   "cell_type": "code",
   "execution_count": 2,
   "metadata": {
    "ExecuteTime": {
     "end_time": "2016-11-06T19:44:37.183820",
     "start_time": "2016-11-06T19:44:37.179603"
    },
    "collapsed": true
   },
   "outputs": [],
   "source": [
    "hctx = HiveContext(sc)"
   ]
  },
  {
   "cell_type": "code",
   "execution_count": 22,
   "metadata": {
    "collapsed": true
   },
   "outputs": [],
   "source": [
    "tpdf = hctx.createDataFrame(tagcounts)"
   ]
  },
  {
   "cell_type": "code",
   "execution_count": 23,
   "metadata": {
    "collapsed": false
   },
   "outputs": [
    {
     "name": "stdout",
     "output_type": "stream",
     "text": [
      "root\n",
      " |-- _1: string (nullable = true)\n",
      " |-- _2: long (nullable = true)\n",
      "\n"
     ]
    }
   ],
   "source": [
    "tpdf.printSchema()"
   ]
  },
  {
   "cell_type": "code",
   "execution_count": 45,
   "metadata": {
    "collapsed": false
   },
   "outputs": [],
   "source": [
    "tpdf.write.mode('overwrite').saveAsTable('elections2012_hashtags_ranked')"
   ]
  },
  {
   "cell_type": "code",
   "execution_count": null,
   "metadata": {
    "collapsed": false
   },
   "outputs": [],
   "source": [
    "tagcntsdf = sqlctx.createDataFrame(tagcounts)\n",
    "tagcntsdf.printSchema()"
   ]
  },
  {
   "cell_type": "code",
   "execution_count": null,
   "metadata": {
    "collapsed": false
   },
   "outputs": [],
   "source": [
    "tagcntsdf.write.json(\"/user/molnar/data/election2012/top_hashtag_counts\")"
   ]
  },
  {
   "cell_type": "markdown",
   "metadata": {},
   "source": [
    "### Query Table"
   ]
  },
  {
   "cell_type": "code",
   "execution_count": 3,
   "metadata": {
    "ExecuteTime": {
     "end_time": "2016-11-06T19:46:29.692212",
     "start_time": "2016-11-06T19:46:23.060399"
    },
    "collapsed": true
   },
   "outputs": [],
   "source": [
    "df = hctx.sql(\"select * from elections2012_hashtags_ranked order by `_2` desc limit 100\")"
   ]
  },
  {
   "cell_type": "code",
   "execution_count": 5,
   "metadata": {
    "ExecuteTime": {
     "end_time": "2016-11-06T19:47:32.149116",
     "start_time": "2016-11-06T19:47:31.941666"
    },
    "collapsed": false
   },
   "outputs": [],
   "source": [
    "pandas_df = df.toPandas()"
   ]
  },
  {
   "cell_type": "code",
   "execution_count": 6,
   "metadata": {
    "ExecuteTime": {
     "end_time": "2016-11-06T19:47:52.933069",
     "start_time": "2016-11-06T19:47:52.914661"
    },
    "collapsed": false
   },
   "outputs": [
    {
     "data": {
      "text/plain": [
       "pandas.core.frame.DataFrame"
      ]
     },
     "execution_count": 6,
     "metadata": {},
     "output_type": "execute_result"
    }
   ],
   "source": [
    "type(pandas_df)"
   ]
  },
  {
   "cell_type": "code",
   "execution_count": 7,
   "metadata": {
    "ExecuteTime": {
     "end_time": "2016-11-06T19:47:56.140588",
     "start_time": "2016-11-06T19:47:56.085058"
    },
    "collapsed": false
   },
   "outputs": [
    {
     "data": {
      "text/html": [
       "<div>\n",
       "<table border=\"1\" class=\"dataframe\">\n",
       "  <thead>\n",
       "    <tr style=\"text-align: right;\">\n",
       "      <th></th>\n",
       "      <th>_1</th>\n",
       "      <th>_2</th>\n",
       "    </tr>\n",
       "  </thead>\n",
       "  <tbody>\n",
       "    <tr>\n",
       "      <th>0</th>\n",
       "      <td>Iran</td>\n",
       "      <td>8854</td>\n",
       "    </tr>\n",
       "    <tr>\n",
       "      <th>1</th>\n",
       "      <td>tcot</td>\n",
       "      <td>6283</td>\n",
       "    </tr>\n",
       "    <tr>\n",
       "      <th>2</th>\n",
       "      <td>ReligiousFreedom</td>\n",
       "      <td>6197</td>\n",
       "    </tr>\n",
       "    <tr>\n",
       "      <th>3</th>\n",
       "      <td>Nadarkhani</td>\n",
       "      <td>6196</td>\n",
       "    </tr>\n",
       "    <tr>\n",
       "      <th>4</th>\n",
       "      <td>Israel</td>\n",
       "      <td>4890</td>\n",
       "    </tr>\n",
       "    <tr>\n",
       "      <th>5</th>\n",
       "      <td>Obama</td>\n",
       "      <td>3647</td>\n",
       "    </tr>\n",
       "    <tr>\n",
       "      <th>6</th>\n",
       "      <td>ImACeleb</td>\n",
       "      <td>2436</td>\n",
       "    </tr>\n",
       "    <tr>\n",
       "      <th>7</th>\n",
       "      <td>EMAVoteOneDirection</td>\n",
       "      <td>2392</td>\n",
       "    </tr>\n",
       "    <tr>\n",
       "      <th>8</th>\n",
       "      <td>Gaza</td>\n",
       "      <td>2374</td>\n",
       "    </tr>\n",
       "    <tr>\n",
       "      <th>9</th>\n",
       "      <td>Pakistan</td>\n",
       "      <td>2361</td>\n",
       "    </tr>\n",
       "    <tr>\n",
       "      <th>10</th>\n",
       "      <td>teaparty</td>\n",
       "      <td>2045</td>\n",
       "    </tr>\n",
       "    <tr>\n",
       "      <th>11</th>\n",
       "      <td>p2</td>\n",
       "      <td>2028</td>\n",
       "    </tr>\n",
       "    <tr>\n",
       "      <th>12</th>\n",
       "      <td>sales</td>\n",
       "      <td>1878</td>\n",
       "    </tr>\n",
       "    <tr>\n",
       "      <th>13</th>\n",
       "      <td>black</td>\n",
       "      <td>1662</td>\n",
       "    </tr>\n",
       "    <tr>\n",
       "      <th>14</th>\n",
       "      <td>TuitUtil</td>\n",
       "      <td>1613</td>\n",
       "    </tr>\n",
       "    <tr>\n",
       "      <th>15</th>\n",
       "      <td>xfactor</td>\n",
       "      <td>1555</td>\n",
       "    </tr>\n",
       "    <tr>\n",
       "      <th>16</th>\n",
       "      <td>Virgo</td>\n",
       "      <td>1377</td>\n",
       "    </tr>\n",
       "    <tr>\n",
       "      <th>17</th>\n",
       "      <td>EMA</td>\n",
       "      <td>1341</td>\n",
       "    </tr>\n",
       "    <tr>\n",
       "      <th>18</th>\n",
       "      <td>4NewIran</td>\n",
       "      <td>1340</td>\n",
       "    </tr>\n",
       "    <tr>\n",
       "      <th>19</th>\n",
       "      <td>JustinBieber</td>\n",
       "      <td>1261</td>\n",
       "    </tr>\n",
       "    <tr>\n",
       "      <th>20</th>\n",
       "      <td>ILA</td>\n",
       "      <td>1259</td>\n",
       "    </tr>\n",
       "    <tr>\n",
       "      <th>21</th>\n",
       "      <td>Imagine</td>\n",
       "      <td>1215</td>\n",
       "    </tr>\n",
       "    <tr>\n",
       "      <th>22</th>\n",
       "      <td>GOP</td>\n",
       "      <td>1045</td>\n",
       "    </tr>\n",
       "    <tr>\n",
       "      <th>23</th>\n",
       "      <td>EMAWinBieber</td>\n",
       "      <td>1044</td>\n",
       "    </tr>\n",
       "    <tr>\n",
       "      <th>24</th>\n",
       "      <td>news</td>\n",
       "      <td>1043</td>\n",
       "    </tr>\n",
       "    <tr>\n",
       "      <th>25</th>\n",
       "      <td>MTVEMA</td>\n",
       "      <td>1038</td>\n",
       "    </tr>\n",
       "    <tr>\n",
       "      <th>26</th>\n",
       "      <td>imagine</td>\n",
       "      <td>998</td>\n",
       "    </tr>\n",
       "    <tr>\n",
       "      <th>27</th>\n",
       "      <td>Sandy</td>\n",
       "      <td>986</td>\n",
       "    </tr>\n",
       "    <tr>\n",
       "      <th>28</th>\n",
       "      <td>gop</td>\n",
       "      <td>927</td>\n",
       "    </tr>\n",
       "    <tr>\n",
       "      <th>29</th>\n",
       "      <td>media</td>\n",
       "      <td>925</td>\n",
       "    </tr>\n",
       "    <tr>\n",
       "      <th>...</th>\n",
       "      <td>...</td>\n",
       "      <td>...</td>\n",
       "    </tr>\n",
       "    <tr>\n",
       "      <th>70</th>\n",
       "      <td>USA</td>\n",
       "      <td>407</td>\n",
       "    </tr>\n",
       "    <tr>\n",
       "      <th>71</th>\n",
       "      <td>energy</td>\n",
       "      <td>405</td>\n",
       "    </tr>\n",
       "    <tr>\n",
       "      <th>72</th>\n",
       "      <td>yemen</td>\n",
       "      <td>398</td>\n",
       "    </tr>\n",
       "    <tr>\n",
       "      <th>73</th>\n",
       "      <td>nw</td>\n",
       "      <td>395</td>\n",
       "    </tr>\n",
       "    <tr>\n",
       "      <th>74</th>\n",
       "      <td>NP</td>\n",
       "      <td>382</td>\n",
       "    </tr>\n",
       "    <tr>\n",
       "      <th>75</th>\n",
       "      <td>np</td>\n",
       "      <td>382</td>\n",
       "    </tr>\n",
       "    <tr>\n",
       "      <th>76</th>\n",
       "      <td>pakistan</td>\n",
       "      <td>377</td>\n",
       "    </tr>\n",
       "    <tr>\n",
       "      <th>77</th>\n",
       "      <td>Ajak_teman</td>\n",
       "      <td>374</td>\n",
       "    </tr>\n",
       "    <tr>\n",
       "      <th>78</th>\n",
       "      <td>COYI</td>\n",
       "      <td>370</td>\n",
       "    </tr>\n",
       "    <tr>\n",
       "      <th>79</th>\n",
       "      <td>economy</td>\n",
       "      <td>355</td>\n",
       "    </tr>\n",
       "    <tr>\n",
       "      <th>80</th>\n",
       "      <td>fb</td>\n",
       "      <td>349</td>\n",
       "    </tr>\n",
       "    <tr>\n",
       "      <th>81</th>\n",
       "      <td>XFactor</td>\n",
       "      <td>349</td>\n",
       "    </tr>\n",
       "    <tr>\n",
       "      <th>82</th>\n",
       "      <td>StoptheRockets</td>\n",
       "      <td>348</td>\n",
       "    </tr>\n",
       "    <tr>\n",
       "      <th>83</th>\n",
       "      <td>NFL</td>\n",
       "      <td>344</td>\n",
       "    </tr>\n",
       "    <tr>\n",
       "      <th>84</th>\n",
       "      <td>SocialMedia</td>\n",
       "      <td>342</td>\n",
       "    </tr>\n",
       "    <tr>\n",
       "      <th>85</th>\n",
       "      <td>white</td>\n",
       "      <td>342</td>\n",
       "    </tr>\n",
       "    <tr>\n",
       "      <th>86</th>\n",
       "      <td>nowplaying</td>\n",
       "      <td>341</td>\n",
       "    </tr>\n",
       "    <tr>\n",
       "      <th>87</th>\n",
       "      <td>sgp</td>\n",
       "      <td>337</td>\n",
       "    </tr>\n",
       "    <tr>\n",
       "      <th>88</th>\n",
       "      <td>twisters</td>\n",
       "      <td>335</td>\n",
       "    </tr>\n",
       "    <tr>\n",
       "      <th>89</th>\n",
       "      <td>BlackOps2</td>\n",
       "      <td>333</td>\n",
       "    </tr>\n",
       "    <tr>\n",
       "      <th>90</th>\n",
       "      <td>EMAs</td>\n",
       "      <td>331</td>\n",
       "    </tr>\n",
       "    <tr>\n",
       "      <th>91</th>\n",
       "      <td>androidgames</td>\n",
       "      <td>327</td>\n",
       "    </tr>\n",
       "    <tr>\n",
       "      <th>92</th>\n",
       "      <td>teamhugo</td>\n",
       "      <td>325</td>\n",
       "    </tr>\n",
       "    <tr>\n",
       "      <th>93</th>\n",
       "      <td>jobs</td>\n",
       "      <td>317</td>\n",
       "    </tr>\n",
       "    <tr>\n",
       "      <th>94</th>\n",
       "      <td>love</td>\n",
       "      <td>311</td>\n",
       "    </tr>\n",
       "    <tr>\n",
       "      <th>95</th>\n",
       "      <td>EMAVoteJustinBieber</td>\n",
       "      <td>309</td>\n",
       "    </tr>\n",
       "    <tr>\n",
       "      <th>96</th>\n",
       "      <td>RetweetTheSongs</td>\n",
       "      <td>299</td>\n",
       "    </tr>\n",
       "    <tr>\n",
       "      <th>97</th>\n",
       "      <td>Jobs</td>\n",
       "      <td>298</td>\n",
       "    </tr>\n",
       "    <tr>\n",
       "      <th>98</th>\n",
       "      <td>US</td>\n",
       "      <td>294</td>\n",
       "    </tr>\n",
       "    <tr>\n",
       "      <th>99</th>\n",
       "      <td>politics</td>\n",
       "      <td>294</td>\n",
       "    </tr>\n",
       "  </tbody>\n",
       "</table>\n",
       "<p>100 rows × 2 columns</p>\n",
       "</div>"
      ],
      "text/plain": [
       "                     _1    _2\n",
       "0                  Iran  8854\n",
       "1                  tcot  6283\n",
       "2      ReligiousFreedom  6197\n",
       "3            Nadarkhani  6196\n",
       "4                Israel  4890\n",
       "5                 Obama  3647\n",
       "6              ImACeleb  2436\n",
       "7   EMAVoteOneDirection  2392\n",
       "8                  Gaza  2374\n",
       "9              Pakistan  2361\n",
       "10             teaparty  2045\n",
       "11                   p2  2028\n",
       "12                sales  1878\n",
       "13                black  1662\n",
       "14             TuitUtil  1613\n",
       "15              xfactor  1555\n",
       "16                Virgo  1377\n",
       "17                  EMA  1341\n",
       "18             4NewIran  1340\n",
       "19         JustinBieber  1261\n",
       "20                  ILA  1259\n",
       "21              Imagine  1215\n",
       "22                  GOP  1045\n",
       "23         EMAWinBieber  1044\n",
       "24                 news  1043\n",
       "25               MTVEMA  1038\n",
       "26              imagine   998\n",
       "27                Sandy   986\n",
       "28                  gop   927\n",
       "29                media   925\n",
       "..                  ...   ...\n",
       "70                  USA   407\n",
       "71               energy   405\n",
       "72                yemen   398\n",
       "73                   nw   395\n",
       "74                   NP   382\n",
       "75                   np   382\n",
       "76             pakistan   377\n",
       "77           Ajak_teman   374\n",
       "78                 COYI   370\n",
       "79              economy   355\n",
       "80                   fb   349\n",
       "81              XFactor   349\n",
       "82       StoptheRockets   348\n",
       "83                  NFL   344\n",
       "84          SocialMedia   342\n",
       "85                white   342\n",
       "86           nowplaying   341\n",
       "87                  sgp   337\n",
       "88             twisters   335\n",
       "89            BlackOps2   333\n",
       "90                 EMAs   331\n",
       "91         androidgames   327\n",
       "92             teamhugo   325\n",
       "93                 jobs   317\n",
       "94                 love   311\n",
       "95  EMAVoteJustinBieber   309\n",
       "96      RetweetTheSongs   299\n",
       "97                 Jobs   298\n",
       "98                   US   294\n",
       "99             politics   294\n",
       "\n",
       "[100 rows x 2 columns]"
      ]
     },
     "execution_count": 7,
     "metadata": {},
     "output_type": "execute_result"
    }
   ],
   "source": [
    "pandas_df"
   ]
  },
  {
   "cell_type": "code",
   "execution_count": null,
   "metadata": {
    "collapsed": true
   },
   "outputs": [],
   "source": []
  },
  {
   "cell_type": "code",
   "execution_count": null,
   "metadata": {
    "collapsed": true
   },
   "outputs": [],
   "source": []
  }
 ],
 "metadata": {
  "kernelspec": {
   "display_name": "Python 2",
   "language": "python",
   "name": "python2"
  },
  "language_info": {
   "codemirror_mode": {
    "name": "ipython",
    "version": 2
   },
   "file_extension": ".py",
   "mimetype": "text/x-python",
   "name": "python",
   "nbconvert_exporter": "python",
   "pygments_lexer": "ipython2",
   "version": "2.7.5"
  },
  "toc": {
   "nav_menu": {
    "height": "156px",
    "width": "252px"
   },
   "navigate_menu": true,
   "number_sections": true,
   "sideBar": true,
   "threshold": 4,
   "toc_cell": false,
   "toc_section_display": "block",
   "toc_window_display": false
  }
 },
 "nbformat": 4,
 "nbformat_minor": 0
}
