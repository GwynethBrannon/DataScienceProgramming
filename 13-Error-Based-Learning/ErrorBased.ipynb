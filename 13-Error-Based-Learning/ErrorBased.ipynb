{
 "cells": [
  {
   "cell_type": "markdown",
   "metadata": {},
   "source": [
    "# Error-based Learning\n",
    "\n",
    "In error-based machine learning, we perform a search for a set of parameters for a parameterized model that minimizes \n",
    "the total error across the predictions mase by that model with respect to as set of training instances. The session in\n",
    "troduces key ideas of a **parameterized model**, measuring **error** and an **error surface**."
   ]
  },
  {
   "cell_type": "markdown",
   "metadata": {},
   "source": [
    "## Reading\n",
    "1. Chapter 7 of [Fundamentals of Machine Learning for Predictive Data Analytics](https://mitpress.mit.edu/books/fundam\n",
    "entals-machine-learning-predictive-data-analytics)\n",
    "1. [Chapter 7 Slides 'A'](http://131.96.197.204/~pmolnar/mlbook/BookSlides_7A_Error-based_Learning.pdf) (internal)\n",
    "1. [Chapter 7 Slides 'B'](http://131.96.197.204/~pmolnar/mlbook/BookSlides_7B_Error-based-Learning.pdf) (internal)"
   ]
  },
  {
   "cell_type": "code",
   "execution_count": null,
   "metadata": {
    "collapsed": true
   },
   "outputs": [],
   "source": []
  }
 ],
 "metadata": {
  "hide_input": false,
  "kernelspec": {
   "display_name": "Python 3",
   "language": "python",
   "name": "python3"
  },
  "language_info": {
   "codemirror_mode": {
    "name": "ipython",
    "version": 3
   },
   "file_extension": ".py",
   "mimetype": "text/x-python",
   "name": "python",
   "nbconvert_exporter": "python",
   "pygments_lexer": "ipython3",
   "version": "3.4.3"
  },
  "toc": {
   "nav_menu": {
    "height": "49px",
    "width": "252px"
   },
   "navigate_menu": true,
   "number_sections": true,
   "sideBar": true,
   "threshold": 4,
   "toc_cell": false,
   "toc_section_display": "block",
   "toc_window_display": true
  }
 },
 "nbformat": 4,
 "nbformat_minor": 0
}
